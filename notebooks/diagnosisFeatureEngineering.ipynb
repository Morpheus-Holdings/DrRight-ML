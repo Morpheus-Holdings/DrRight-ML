{
 "cells": [
  {
   "cell_type": "markdown",
   "metadata": {
    "application/vnd.databricks.v1+cell": {
     "cellMetadata": {
      "byteLimit": 2048000,
      "rowLimit": 10000
     },
     "inputWidgets": {},
     "nuid": "c7bfa36e-027f-4990-a4bd-2fa6f5f53558",
     "showTitle": false,
     "title": ""
    }
   },
   "source": [
    "## Doctor Right\n"
   ]
  },
  {
   "cell_type": "markdown",
   "metadata": {
    "application/vnd.databricks.v1+cell": {
     "cellMetadata": {
      "byteLimit": 2048000,
      "rowLimit": 10000
     },
     "inputWidgets": {},
     "nuid": "a8ace5d2-9b90-4f86-abdc-0cc7a322de52",
     "showTitle": false,
     "title": ""
    }
   },
   "source": [
    "#### Import Library"
   ]
  },
  {
   "cell_type": "code",
   "execution_count": 0,
   "metadata": {
    "application/vnd.databricks.v1+cell": {
     "cellMetadata": {
      "byteLimit": 2048000,
      "rowLimit": 10000
     },
     "inputWidgets": {},
     "nuid": "ce3fac5f-53b7-4614-8162-8db8192e5352",
     "showTitle": false,
     "title": ""
    },
    "jupyter": {
     "outputs_hidden": true
    }
   },
   "outputs": [],
   "source": [
    "%pip install keras\n",
    "%pip install optree\n",
    "%pip install tensorflow\n",
    "%restart_python"
   ]
  },
  {
   "cell_type": "code",
   "execution_count": 0,
   "metadata": {
    "application/vnd.databricks.v1+cell": {
     "cellMetadata": {
      "byteLimit": 2048000,
      "rowLimit": 10000
     },
     "inputWidgets": {},
     "nuid": "6305d615-904e-43bf-aac8-e1146941473b",
     "showTitle": false,
     "title": ""
    },
    "jupyter": {
     "outputs_hidden": true
    }
   },
   "outputs": [],
   "source": [
    "import sys\n",
    "sys.path.append(\"../modules\")\n",
    "from eda import EDAAnalyzer\n",
    "from spark_session import SparkManager\n",
    "from feature_engineering import FeatureEngineer"
   ]
  },
  {
   "cell_type": "code",
   "execution_count": 0,
   "metadata": {
    "application/vnd.databricks.v1+cell": {
     "cellMetadata": {
      "byteLimit": 2048000,
      "rowLimit": 10000
     },
     "inputWidgets": {},
     "nuid": "26568100-4274-4041-99e5-d4bd409ae8bd",
     "showTitle": false,
     "title": ""
    }
   },
   "outputs": [],
   "source": [
    "# Load autoreload extension\n",
    "%load_ext autoreload\n",
    "%autoreload 2"
   ]
  },
  {
   "cell_type": "markdown",
   "metadata": {
    "application/vnd.databricks.v1+cell": {
     "cellMetadata": {
      "byteLimit": 2048000,
      "rowLimit": 10000
     },
     "inputWidgets": {},
     "nuid": "886c99cf-88a0-42a0-8d27-2806326d088c",
     "showTitle": false,
     "title": ""
    }
   },
   "source": [
    "#### Constants and config"
   ]
  },
  {
   "cell_type": "code",
   "execution_count": 0,
   "metadata": {
    "application/vnd.databricks.v1+cell": {
     "cellMetadata": {
      "byteLimit": 2048000,
      "rowLimit": 10000
     },
     "inputWidgets": {},
     "nuid": "3206c05f-a3f9-4782-84bc-18d7212e45e6",
     "showTitle": false,
     "title": ""
    }
   },
   "outputs": [],
   "source": [
    "mx_submits_path = \"../data_sample/mx_submits.parquet/\"\n",
    "mx_submits_line_path = \"../data_sample/mx_submitsline.parquet/\"\n",
    "cohort_key=\"767ef4cac69e8a0c77384f6e1414364b\"\n",
    "\n",
    "sample_patient_id = \"8aad41f612a7095449888c8050abaeb05fdee65643caa3033542610421d8bd1daaa2c4ce1757401003a1bbcd60948a7aa13eba507a676dea80e0cf76b77dbc95\"\n",
    "features_cols = [\n",
    "'secondary_payer_state',\n",
    "'facility_provider_address_region',\n",
    "'patient_gender',\n",
    "'patient_location_residential_region',\n",
    "'principal_diagnosis_body_part',\n",
    "'principal_diagnosis_category',\n",
    "'claim_all_diagnosis_codes',\n",
    "'claim_total_charge_amount',\n",
    "'previous_diagnosis_ohe']\n",
    "exclude_cols = ['patient_id']\n",
    "\n",
    "most_reapeated_diagnosis_5char = [    'Z0000', 'Z1211', 'R0602', 'Z1231', 'R5383', 'R0789', 'K5900', 'G8929', 'G4733', 'I2510',    'E7800', 'R0981', 'Z7189', 'J0190', 'Z1159', 'K5730', 'Z7182', 'Z1389', 'Z0001', 'R9431',    'E6601', 'R1013', 'M6281', 'R1084', 'R7989', 'Z6852', 'Z1331', 'H5213', 'M5450', 'R0600',    'G4700', 'H2513', 'M1990', 'M7989', 'E1165', 'R1110', 'M5416', 'Z7982', 'R4182', 'I4891',    'M5136', 'R0989', 'R1310', 'R1031', 'R7303', 'R6889', 'M1711', 'K2970', 'R1011', 'H5203',    'R1032', 'Z7901', '25000', 'Z8249', 'R5381', 'M1712', 'R1030', 'G8918', 'R0902', 'J0100',    'R7309', 'R2689', 'J3089', 'H6123', 'Z6841', 'Z7984', 'Z0100', 'M5412', 'J3489', 'Z5181',    'J4520', 'Z9181', 'J9601', 'Z1152', 'M2550', 'Z3202', 'Z1151', 'G4730', 'Z6830', 'H6691',    'Z0110', 'Z6829', 'Z6831', 'J9811', 'Z6828', 'H2512', 'Z6827', 'H6692', 'R0683', 'Z1329',    'H2511', 'M9903', 'K3189', 'Z7689', 'Z6854', 'N3000', 'Z1239', 'R7301', 'M9902', 'V7231',    'Z6825', 'Z6832', 'Z6826', 'M5126', 'M9901', 'M7910', 'Z3009', 'K8020', '53081', 'E1122',    'K2950', 'Z0189', 'Z9049', 'B9689', '78079', 'V7612', 'Z6833', 'R0609', 'F0390', 'V5869',    'E6609', 'Z6853', 'Z6834', 'M8580', 'H6693', 'Z8673', 'Z6835', 'M4802', '78650', 'Z6824',    'Z6823', 'E1142', 'R0781', 'Z4789', 'R0982', 'F4310', 'I6523', 'D1801', 'B9789', 'E1169',    'Z8719', 'Z3A39', 'E1140', 'Z3800', 'Z6836', 'F1120', 'K6389', '30000', 'J0390', 'K5909',    'M5441', 'H9202', 'H9201', 'R2681', 'F1010', '78900', 'R3915', 'Z6837', 'R9720', 'Z8616',    '78605', 'Z3201', 'N3001', 'Z2821', 'Z0389', 'Z9989', '49390', 'N1830', 'E8342', 'M5442',    'R1012', 'R5382', 'F4323', 'H6121', 'K2100', 'Z3483', 'R8290', '27800', 'R0689', 'Z6822',    'M5137', 'Z6842', 'H6690', 'Z1388', 'L0390', 'M7918', 'K7689', 'Z6838', 'K5790', 'M4316',    'I5032', '71946', 'H1033', 'M5116', 'Z3A36', 'M1611', 'G5601', 'Z3A37', 'F1020', 'Z8679',    '32723', 'H9203', 'Z4802', 'Z3A38', 'Z3A01', 'E7849', 'Z8619', 'N1831', 'K4090', 'Z4682',    'G9340', '78060', 'M5417', 'E1151', 'K2900', 'R9389', 'J4530', 'G9341', 'Z9981', 'R1010',    'V0481', 'Z1212', 'R3129', 'H6122', 'K6289', 'M1612', 'J0110', 'K0889', 'Z6839', 'M7541',    'R1033', 'M8589', 'Z6821', 'Z3482', 'M5030', 'F4321', 'H6983', 'N6489', 'M4726', 'H1013',    'Z0289', 'Z5189', 'Z7951', 'Z3A00', 'J9600', 'Z7902', 'Z9189', 'J4540', 'M5459', 'Z0101',    'F4320', 'F5101', 'Z3041', 'N1330', 'Z3A35', 'L0100', 'Z3481', 'I5022', '41401', 'G2581',    'H9190', 'G5602', 'M9904', 'N3941', 'H9313', 'Z1283', 'V0382', 'I2720', 'H1045', 'N2889',    'M9905', 'Z1339', 'M8588', 'N3281', 'Z4889', 'M5127', 'V7651', 'E8352', 'Z1321', 'M4806',    'H9193', 'J3081', 'N1832', 'Z3490', 'Z3689', 'J9801', 'G9389', '41400', 'Z3A32', 'Z0130',    'Z6820', 'R1312', 'F1210', 'M5431', 'Z8669', 'Z3A20', '71941', 'G5603', 'F4322', 'R7401',    'Z3A34', 'R6883', 'I4510', 'E1159', 'I2699', 'Z6843', '78609', 'M7542', '42731', 'Z7251',    '56400', 'G4710', 'R7881', 'F1290', 'J9690', 'H9209', '78791', 'K5901']\n",
    "\n"
   ]
  },
  {
   "cell_type": "markdown",
   "metadata": {
    "application/vnd.databricks.v1+cell": {
     "cellMetadata": {
      "byteLimit": 2048000,
      "rowLimit": 10000
     },
     "inputWidgets": {},
     "nuid": "444fac48-836f-4dce-a82e-d9eb9655d126",
     "showTitle": false,
     "title": ""
    }
   },
   "source": [
    "### Spark Session"
   ]
  },
  {
   "cell_type": "code",
   "execution_count": 0,
   "metadata": {
    "application/vnd.databricks.v1+cell": {
     "cellMetadata": {
      "byteLimit": 2048000,
      "rowLimit": 10000
     },
     "inputWidgets": {},
     "nuid": "b0450219-0a52-404c-949e-babee9237edc",
     "showTitle": false,
     "title": ""
    }
   },
   "outputs": [],
   "source": [
    "# mx_submits_spark_manager = SparkManager(mx_submits_path)\n",
    "mx_submits_spark_manager = SparkManager(cohort_key=cohort_key)\n",
    "# mx_submits_line_spark_manager = SparkManager(mx_submits_line_path)"
   ]
  },
  {
   "cell_type": "markdown",
   "metadata": {
    "application/vnd.databricks.v1+cell": {
     "cellMetadata": {
      "byteLimit": 2048000,
      "rowLimit": 10000
     },
     "inputWidgets": {},
     "nuid": "36df01f9-473f-4099-b4fb-15a49a5233af",
     "showTitle": false,
     "title": ""
    }
   },
   "source": [
    "### MX SUBMITS"
   ]
  },
  {
   "cell_type": "markdown",
   "metadata": {
    "application/vnd.databricks.v1+cell": {
     "cellMetadata": {
      "byteLimit": 2048000,
      "rowLimit": 10000
     },
     "inputWidgets": {},
     "nuid": "796db89f-30b3-4e7d-9cf7-501b0241160e",
     "showTitle": false,
     "title": ""
    }
   },
   "source": [
    "#### EDA"
   ]
  },
  {
   "cell_type": "code",
   "execution_count": 0,
   "metadata": {
    "application/vnd.databricks.v1+cell": {
     "cellMetadata": {
      "byteLimit": 2048000,
      "rowLimit": 10000
     },
     "inputWidgets": {},
     "nuid": "298710ee-47dd-41ac-ba9f-c60a598623f8",
     "showTitle": false,
     "title": ""
    }
   },
   "outputs": [],
   "source": [
    "mx_submits_eda = EDAAnalyzer(mx_submits_spark_manager)"
   ]
  },
  {
   "cell_type": "code",
   "execution_count": 0,
   "metadata": {
    "application/vnd.databricks.v1+cell": {
     "cellMetadata": {
      "byteLimit": 2048000,
      "rowLimit": 10000
     },
     "inputWidgets": {},
     "nuid": "45eb199b-8e18-4fd2-9c64-6e6ad7cda5a5",
     "showTitle": false,
     "title": ""
    }
   },
   "outputs": [],
   "source": [
    "mx_submits_eda.display_head()"
   ]
  },
  {
   "cell_type": "code",
   "execution_count": 0,
   "metadata": {
    "application/vnd.databricks.v1+cell": {
     "cellMetadata": {
      "byteLimit": 2048000,
      "rowLimit": 10000
     },
     "inputWidgets": {},
     "nuid": "6d6b4861-9b4b-446d-a8fa-ca38e820e431",
     "showTitle": false,
     "title": ""
    }
   },
   "outputs": [],
   "source": [
    "mx_submits_eda.display_shape()"
   ]
  },
  {
   "cell_type": "markdown",
   "metadata": {
    "application/vnd.databricks.v1+cell": {
     "cellMetadata": {
      "byteLimit": 2048000,
      "rowLimit": 10000
     },
     "inputWidgets": {},
     "nuid": "56a79553-718d-472d-9074-f3b6502aa847",
     "showTitle": false,
     "title": ""
    }
   },
   "source": [
    "#### Type conversion"
   ]
  },
  {
   "cell_type": "code",
   "execution_count": 0,
   "metadata": {
    "application/vnd.databricks.v1+cell": {
     "cellMetadata": {
      "byteLimit": 2048000,
      "rowLimit": 10000
     },
     "inputWidgets": {},
     "nuid": "f1f7bb4d-23c9-4162-94a1-b9cd928b7431",
     "showTitle": false,
     "title": ""
    }
   },
   "outputs": [],
   "source": [
    "mx_submits_eda.convert_columns_to_float([\"claim_total_charge_amount\"])"
   ]
  },
  {
   "cell_type": "code",
   "execution_count": 0,
   "metadata": {
    "application/vnd.databricks.v1+cell": {
     "cellMetadata": {
      "byteLimit": 2048000,
      "rowLimit": 10000
     },
     "inputWidgets": {},
     "nuid": "b7073edd-d31f-48b2-832a-627e8e3ac5ae",
     "showTitle": false,
     "title": ""
    }
   },
   "outputs": [],
   "source": [
    "column_info_submits = mx_submits_eda.display_column_info()\n",
    "column_info_submits.to_csv(\"../output/column_info_submits.csv\")\n",
    "column_info_submits"
   ]
  },
  {
   "cell_type": "code",
   "execution_count": 0,
   "metadata": {
    "application/vnd.databricks.v1+cell": {
     "cellMetadata": {
      "byteLimit": 2048000,
      "rowLimit": 10000
     },
     "inputWidgets": {},
     "nuid": "4e8e214f-621e-44e7-8b90-9bd285e751d4",
     "showTitle": false,
     "title": ""
    }
   },
   "outputs": [],
   "source": [
    "mx_submits_eda.plot_percentile_based_cutoff(\"claim_all_diagnosis_codes\",90,cutoff_length=5, per_patient= True)"
   ]
  },
  {
   "cell_type": "code",
   "execution_count": 0,
   "metadata": {
    "application/vnd.databricks.v1+cell": {
     "cellMetadata": {
      "byteLimit": 2048000,
      "rowLimit": 10000
     },
     "inputWidgets": {},
     "nuid": "c568d4c9-3b6f-4c84-abb1-7a4329e67c4e",
     "showTitle": false,
     "title": ""
    }
   },
   "outputs": [],
   "source": [
    "mx_submits_claim_all_diagnosis_codes_repeat_count = mx_submits_eda.get_top_n_repeated_values_unique_per_patient(\"claim_all_diagnosis_codes\")\n",
    "mx_submits_claim_all_diagnosis_codes_repeat_count"
   ]
  },
  {
   "cell_type": "code",
   "execution_count": 0,
   "metadata": {
    "application/vnd.databricks.v1+cell": {
     "cellMetadata": {
      "byteLimit": 2048000,
      "rowLimit": 10000
     },
     "inputWidgets": {},
     "nuid": "c61585e4-549b-40a6-85e6-d0fe9b3e2bb3",
     "showTitle": false,
     "title": ""
    }
   },
   "outputs": [],
   "source": [
    "most_repeated_diagnosis = mx_submits_claim_all_diagnosis_codes_repeat_count[\n",
    "    (mx_submits_claim_all_diagnosis_codes_repeat_count[\"diagnosis_code_length\"] == 5) & \n",
    "    (mx_submits_claim_all_diagnosis_codes_repeat_count[\"count\"] > 248)\n",
    "]\n",
    "most_reapeated_diagnosis_5char = most_repeated_diagnosis['diagnosis_code'].tolist()\n",
    "most_repeated_diagnosis"
   ]
  },
  {
   "cell_type": "code",
   "execution_count": 0,
   "metadata": {
    "application/vnd.databricks.v1+cell": {
     "cellMetadata": {
      "byteLimit": 2048000,
      "rowLimit": 10000
     },
     "inputWidgets": {},
     "nuid": "56bae7e0-5ee2-45f6-8295-73b124355327",
     "showTitle": false,
     "title": ""
    }
   },
   "outputs": [],
   "source": [
    "most_reapeated_diagnosis_5char"
   ]
  },
  {
   "cell_type": "markdown",
   "metadata": {
    "application/vnd.databricks.v1+cell": {
     "cellMetadata": {
      "byteLimit": 2048000,
      "rowLimit": 10000
     },
     "inputWidgets": {},
     "nuid": "f9f9e709-0d6b-4ff6-8880-4626b89c245a",
     "showTitle": false,
     "title": ""
    }
   },
   "source": [
    " - (ICD10, Z0001, 1): Encounter for general adult medical examination with abnormal findings\n",
    " - (ICD10, F4323, 1): Adjustment disorder with depressed mood\n",
    " - (ICD10, Z452, 1)\t: Pneumonia, unspecified organism\n",
    " - (ICD10, J441, 1)\t: Chronic obstructive pulmonary disease with acute exacerbation"
   ]
  },
  {
   "cell_type": "code",
   "execution_count": 0,
   "metadata": {
    "application/vnd.databricks.v1+cell": {
     "cellMetadata": {
      "byteLimit": 2048000,
      "rowLimit": 10000
     },
     "inputWidgets": {},
     "nuid": "ee4498b3-5093-49c3-b55a-934702cf2fcd",
     "showTitle": false,
     "title": ""
    }
   },
   "outputs": [],
   "source": [
    "mx_submits_eda.get_top_n_repeated_values(\"claim_all_diagnosis_codes\",5)"
   ]
  },
  {
   "cell_type": "markdown",
   "metadata": {
    "application/vnd.databricks.v1+cell": {
     "cellMetadata": {
      "byteLimit": 2048000,
      "rowLimit": 10000
     },
     "inputWidgets": {},
     "nuid": "fc875fde-573b-4d68-ae76-cdcb41222c02",
     "showTitle": false,
     "title": ""
    }
   },
   "source": [
    "### Feature Engineering"
   ]
  },
  {
   "cell_type": "code",
   "execution_count": 0,
   "metadata": {
    "application/vnd.databricks.v1+cell": {
     "cellMetadata": {
      "byteLimit": 2048000,
      "rowLimit": 10000
     },
     "inputWidgets": {},
     "nuid": "bbf2338f-8865-472c-a195-e20edd7ff65b",
     "showTitle": false,
     "title": ""
    }
   },
   "outputs": [],
   "source": [
    "mx_submits_fe=FeatureEngineer(mx_submits_spark_manager)"
   ]
  },
  {
   "cell_type": "code",
   "execution_count": 0,
   "metadata": {
    "application/vnd.databricks.v1+cell": {
     "cellMetadata": {
      "byteLimit": 2048000,
      "rowLimit": 10000
     },
     "inputWidgets": {},
     "nuid": "57662fcd-5b7f-46df-a0eb-9d9971a00273",
     "showTitle": false,
     "title": ""
    }
   },
   "outputs": [],
   "source": [
    "mx_submits_fe.transform_claim_all_diagnosis_codes()"
   ]
  },
  {
   "cell_type": "code",
   "execution_count": 0,
   "metadata": {
    "application/vnd.databricks.v1+cell": {
     "cellMetadata": {
      "byteLimit": 2048000,
      "rowLimit": 10000
     },
     "inputWidgets": {},
     "nuid": "924eb880-a2e2-473c-a2aa-caeaed7796e3",
     "showTitle": false,
     "title": ""
    }
   },
   "outputs": [],
   "source": [
    "mx_submits_fe.add_comorbidities_with_exponential_decay_sparse_vector()"
   ]
  },
  {
   "cell_type": "code",
   "execution_count": 0,
   "metadata": {
    "application/vnd.databricks.v1+cell": {
     "cellMetadata": {
      "byteLimit": 2048000,
      "rowLimit": 10000
     },
     "inputWidgets": {},
     "nuid": "0cc07049-5c5b-4834-9c03-7f1eb21084e4",
     "showTitle": false,
     "title": ""
    }
   },
   "outputs": [],
   "source": [
    "mx_submits_fe.remove_diagnosis_codes(most_reapeated_diagnosis_5char)"
   ]
  },
  {
   "cell_type": "code",
   "execution_count": 0,
   "metadata": {
    "application/vnd.databricks.v1+cell": {
     "cellMetadata": {
      "byteLimit": 2048000,
      "rowLimit": 10000
     },
     "inputWidgets": {},
     "nuid": "a02e7a3d-c0f7-46b0-ba27-996554550993",
     "showTitle": false,
     "title": ""
    }
   },
   "outputs": [],
   "source": [
    "mx_submits_fe.retain_columns(features_cols)"
   ]
  },
  {
   "cell_type": "code",
   "execution_count": 0,
   "metadata": {
    "application/vnd.databricks.v1+cell": {
     "cellMetadata": {
      "byteLimit": 2048000,
      "rowLimit": 10000
     },
     "inputWidgets": {},
     "nuid": "17d33af2-e77f-40d5-bab2-1b199b49f25a",
     "showTitle": false,
     "title": ""
    }
   },
   "outputs": [],
   "source": [
    "mx_submits_fe.convert_columns_to_float([\"claim_total_charge_amount\"])\n",
    "preprocess_data = mx_submits_fe.preprocess_data(features_cols)\n",
    "preprocess_data"
   ]
  },
  {
   "cell_type": "code",
   "execution_count": 0,
   "metadata": {
    "application/vnd.databricks.v1+cell": {
     "cellMetadata": {},
     "inputWidgets": {},
     "nuid": "771770d8-ea46-45bd-83dd-7b3b18be4065",
     "showTitle": false,
     "title": ""
    }
   },
   "outputs": [],
   "source": [
    "# mx_submits_fe.reduce_dataframe_size()\n",
    "mx_submits_fe.train_autoencoder()\n",
    "mx_submits_fe.save_autoencoder(\"../output/model\")"
   ]
  },
  {
   "cell_type": "code",
   "execution_count": 0,
   "metadata": {
    "application/vnd.databricks.v1+cell": {
     "cellMetadata": {
      "byteLimit": 2048000,
      "rowLimit": 10000
     },
     "inputWidgets": {},
     "nuid": "ef6cfa67-25d6-4601-8fc6-1d0d2ba6dd67",
     "showTitle": false,
     "title": ""
    }
   },
   "outputs": [],
   "source": [
    "mx_submits_fe.load_autoencoder(\"../output/model\")"
   ]
  },
  {
   "cell_type": "code",
   "execution_count": 0,
   "metadata": {
    "application/vnd.databricks.v1+cell": {
     "cellMetadata": {
      "byteLimit": 2048000,
      "rowLimit": 10000
     },
     "inputWidgets": {},
     "nuid": "8b45978d-8b1a-40b9-9e62-d45b7be15f63",
     "showTitle": false,
     "title": ""
    }
   },
   "outputs": [],
   "source": [
    "mx_submits_fe.create_feature_name_map()"
   ]
  },
  {
   "cell_type": "code",
   "execution_count": 0,
   "metadata": {
    "application/vnd.databricks.v1+cell": {
     "cellMetadata": {
      "byteLimit": 2048000,
      "rowLimit": 10000
     },
     "inputWidgets": {},
     "nuid": "85ade266-204c-4b14-a25d-2aad13484377",
     "showTitle": false,
     "title": ""
    }
   },
   "outputs": [],
   "source": [
    "feature_impact = mx_submits_fe.evaluate_feature_impact()\n",
    "feature_impact"
   ]
  },
  {
   "cell_type": "code",
   "execution_count": 0,
   "metadata": {
    "application/vnd.databricks.v1+cell": {
     "cellMetadata": {
      "byteLimit": 2048000,
      "rowLimit": 10000
     },
     "inputWidgets": {},
     "nuid": "23b605b8-088f-4edb-a633-98ba79bd2650",
     "showTitle": false,
     "title": ""
    }
   },
   "outputs": [],
   "source": [
    "feature_impact[\"Feature Name\"].to_list()[:300]"
   ]
  }
 ],
 "metadata": {
  "application/vnd.databricks.v1+notebook": {
   "dashboards": [],
   "environmentMetadata": {
    "base_environment": "",
    "client": "1"
   },
   "language": "python",
   "notebookMetadata": {
    "pythonIndentUnit": 4
   },
   "notebookName": "diagnosisFeatureEngineering",
   "widgets": {}
  },
  "kernelspec": {
   "display_name": "Python 3 (ipykernel)",
   "language": "python",
   "name": "python3"
  },
  "language_info": {
   "codemirror_mode": {
    "name": "ipython",
    "version": 3
   },
   "file_extension": ".py",
   "mimetype": "text/x-python",
   "name": "python",
   "nbconvert_exporter": "python",
   "pygments_lexer": "ipython3",
   "version": "3.11.4"
  }
 },
 "nbformat": 4,
 "nbformat_minor": 0
}
