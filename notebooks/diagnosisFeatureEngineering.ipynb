{
 "cells": [
  {
   "cell_type": "markdown",
   "id": "460ff0d0-14ad-40a2-9ee5-3014245234ee",
   "metadata": {},
   "source": [
    "## Doctor Right\n"
   ]
  },
  {
   "cell_type": "markdown",
   "id": "e92044fc-4ea3-4159-82ad-8a18295959d7",
   "metadata": {},
   "source": [
    "#### Import Library"
   ]
  },
  {
   "cell_type": "code",
   "execution_count": 1,
   "id": "6de45f20-dc96-4837-a6d1-cca54d802643",
   "metadata": {},
   "outputs": [],
   "source": [
    "import sys\n",
    "sys.path.append(\"../modules\")\n",
    "from eda import EDAAnalyzer\n",
    "from spark_session import SparkManager\n",
    "from feature_engineering import FeatureEngineer"
   ]
  },
  {
   "cell_type": "code",
   "execution_count": 2,
   "id": "cb2b8c66-9329-476e-b7a1-59ca9acdf719",
   "metadata": {},
   "outputs": [],
   "source": [
    "# Load autoreload extension\n",
    "%load_ext autoreload\n",
    "%autoreload 2"
   ]
  },
  {
   "cell_type": "markdown",
   "id": "0176b509-6e37-4134-86e8-6016d3b957a6",
   "metadata": {},
   "source": [
    "#### Constants and config"
   ]
  },
  {
   "cell_type": "code",
   "execution_count": 3,
   "id": "4ae7ff30-64b2-4973-9487-f63f5ac3f312",
   "metadata": {},
   "outputs": [],
   "source": [
    "mx_submits_path = \"../data_sample/mx_submits.parquet/\"\n",
    "mx_submits_line_path = \"../data_sample/mx_submitsline.parquet/\"\n",
    "cohort_key=\"767ef4cac69e8a0c77384f6e1414364b\"\n",
    "\n",
    "sample_patient_id = \"8aad41f612a7095449888c8050abaeb05fdee65643caa3033542610421d8bd1daaa2c4ce1757401003a1bbcd60948a7aa13eba507a676dea80e0cf76b77dbc95\"\n",
    "features_cols = [\n",
    "'facility_provider_address_region',\n",
    "'patient_gender',\n",
    "'principal_diagnosis_body_part',\n",
    "'principal_diagnosis_category',\n",
    "'claim_all_diagnosis_codes',\n",
    "'claim_total_charge_amount',\n",
    "'previous_diagnosis_ohe']\n",
    "exclude_cols = ['patient_id']\n",
    "\n",
    "most_reapeated_diagnosis_5char = ['Z0000', 'Z1211', 'R0602', 'Z1231', 'R5383', 'R0789', 'K5900', 'G4733', 'Z1159', 'G8929', 'I2510', \n",
    "              'R0981', 'J0190', 'Z7189', 'K5730', 'E7800', 'Z7182', 'R9431', 'R1013', 'R1084', 'Z0001', 'Z1389', \n",
    "              'M6281', 'E6601', 'G4700', 'Z6852', 'H5213', 'R7989']\n"
   ]
  },
  {
   "cell_type": "markdown",
   "id": "fba8fd95-d85c-4e71-836a-f0bb33c00ca2",
   "metadata": {},
   "source": [
    "### Spark Session"
   ]
  },
  {
   "cell_type": "code",
   "execution_count": 4,
   "id": "9b54dfbf-1276-4f46-8fd3-7e3b43bfc747",
   "metadata": {},
   "outputs": [
    {
     "name": "stderr",
     "output_type": "stream",
     "text": [
      "24/10/17 01:15:18 WARN Utils: Your hostname, Sureshs-MacBook-Air.local resolves to a loopback address: 127.0.0.1; using 172.20.9.214 instead (on interface en0)\n",
      "24/10/17 01:15:18 WARN Utils: Set SPARK_LOCAL_IP if you need to bind to another address\n",
      "Setting default log level to \"WARN\".\n",
      "To adjust logging level use sc.setLogLevel(newLevel). For SparkR, use setLogLevel(newLevel).\n",
      "24/10/17 01:15:19 WARN NativeCodeLoader: Unable to load native-hadoop library for your platform... using builtin-java classes where applicable\n"
     ]
    }
   ],
   "source": [
    "mx_submits_spark_manager = SparkManager(mx_submits_path)\n",
    "# mx_submits_spark_manager = SparkManager(cohort_key=cohort_key)\n",
    "# mx_submits_line_spark_manager = SparkManager(mx_submits_line_path)"
   ]
  },
  {
   "cell_type": "markdown",
   "id": "8f44dbd4-52aa-43b2-a40a-70fd69c8d74d",
   "metadata": {},
   "source": [
    "### MX SUBMITS"
   ]
  },
  {
   "cell_type": "markdown",
   "id": "7a692ca3-6d85-47df-928f-ebfc185fd5e6",
   "metadata": {},
   "source": [
    "#### EDA"
   ]
  },
  {
   "cell_type": "code",
   "execution_count": 5,
   "id": "8a6ca8c1-1c8e-47a4-b7e0-6ee96c39295c",
   "metadata": {},
   "outputs": [],
   "source": [
    "mx_submits_eda = EDAAnalyzer(mx_submits_spark_manager)"
   ]
  },
  {
   "cell_type": "code",
   "execution_count": 6,
   "id": "8d3ed671-cf84-4236-b0d1-f044eb5c0ded",
   "metadata": {},
   "outputs": [
    {
     "name": "stderr",
     "output_type": "stream",
     "text": [
      "24/10/10 15:18:11 WARN SparkStringUtils: Truncated the string representation of a plan since it was too large. This behavior can be adjusted by setting 'spark.sql.debug.maxToStringFields'.\n",
      "                                                                                \r"
     ]
    },
    {
     "data": {
      "text/html": [
       "<div>\n",
       "<style scoped>\n",
       "    .dataframe tbody tr th:only-of-type {\n",
       "        vertical-align: middle;\n",
       "    }\n",
       "\n",
       "    .dataframe tbody tr th {\n",
       "        vertical-align: top;\n",
       "    }\n",
       "\n",
       "    .dataframe thead th {\n",
       "        text-align: right;\n",
       "    }\n",
       "</style>\n",
       "<table border=\"1\" class=\"dataframe\">\n",
       "  <thead>\n",
       "    <tr style=\"text-align: right;\">\n",
       "      <th></th>\n",
       "      <th>claim_number</th>\n",
       "      <th>cohort_key</th>\n",
       "      <th>cohort_record_id</th>\n",
       "      <th>attending_provider_npi</th>\n",
       "      <th>billing_provider_address_cbsa_name</th>\n",
       "      <th>billing_provider_address_city</th>\n",
       "      <th>billing_provider_address_county</th>\n",
       "      <th>billing_provider_address_key</th>\n",
       "      <th>billing_provider_address_latitude</th>\n",
       "      <th>billing_provider_address_longitude</th>\n",
       "      <th>...</th>\n",
       "      <th>type_of_bill_frequency_description</th>\n",
       "      <th>vendorname</th>\n",
       "      <th>cycle_id</th>\n",
       "      <th>patient_birth_year</th>\n",
       "      <th>patient_gender</th>\n",
       "      <th>patient_id</th>\n",
       "      <th>patient_location_preferred_latitude</th>\n",
       "      <th>patient_location_preferred_longitude</th>\n",
       "      <th>patient_location_preferred_zipcode</th>\n",
       "      <th>patient_location_preferred_type</th>\n",
       "    </tr>\n",
       "  </thead>\n",
       "  <tbody>\n",
       "    <tr>\n",
       "      <th>0</th>\n",
       "      <td>a6db914db401522b72e75765b0c8915a</td>\n",
       "      <td>f74909ace68e51891440e4da0b65a70c</td>\n",
       "      <td>323f1fff09390aad4c11c4e3c3d694fe</td>\n",
       "      <td>None</td>\n",
       "      <td>LAS VEGAS-HENDERSON-PARADISE, NV</td>\n",
       "      <td>Henderson</td>\n",
       "      <td>Clark</td>\n",
       "      <td>3005WHORIZONRIDGEPKWYHENDERSONNV89052</td>\n",
       "      <td>35.998154</td>\n",
       "      <td>-115.119797</td>\n",
       "      <td>...</td>\n",
       "      <td>None</td>\n",
       "      <td>cyan</td>\n",
       "      <td>full_20240611</td>\n",
       "      <td>1944</td>\n",
       "      <td>M</td>\n",
       "      <td>e0e2f2ab3660008f963219f5da377d1e16b302a936951c...</td>\n",
       "      <td>None</td>\n",
       "      <td>None</td>\n",
       "      <td>None</td>\n",
       "      <td>NaN</td>\n",
       "    </tr>\n",
       "    <tr>\n",
       "      <th>1</th>\n",
       "      <td>28cd641bca90ccc956666d3d427208f2</td>\n",
       "      <td>6e116682aeba6cd8a5341a9bc3b6f020</td>\n",
       "      <td>da4a4cff3fb363e215eca0779812b117</td>\n",
       "      <td>None</td>\n",
       "      <td>PARSONS, KS</td>\n",
       "      <td>Parsons</td>\n",
       "      <td>Labette</td>\n",
       "      <td>1902SUSHIGHWAY59PARSONSKS67357</td>\n",
       "      <td>37.320053</td>\n",
       "      <td>-95.264801</td>\n",
       "      <td>...</td>\n",
       "      <td>Admit Through Discharge Claim</td>\n",
       "      <td>cyan</td>\n",
       "      <td>full_20240611</td>\n",
       "      <td>1943</td>\n",
       "      <td>F</td>\n",
       "      <td>64bf854d4bc6350af1c5edc74fe816d23d9d9ecc965cae...</td>\n",
       "      <td>37.676598</td>\n",
       "      <td>-95.472107</td>\n",
       "      <td>66720</td>\n",
       "      <td>1.0</td>\n",
       "    </tr>\n",
       "    <tr>\n",
       "      <th>2</th>\n",
       "      <td>7c2a727611dca1435166631a665b7f21</td>\n",
       "      <td>767ef4cac69e8a0c77384f6e1414364b</td>\n",
       "      <td>f4048466449529193e43c6231c6b4f80</td>\n",
       "      <td>None</td>\n",
       "      <td>PHILADELPHIA-CAMDEN-WILMINGTON, PA-NJ-DE-MD</td>\n",
       "      <td>Woodbury</td>\n",
       "      <td>Gloucester</td>\n",
       "      <td>26EREDBANKAVEWOODBURYNJ08096</td>\n",
       "      <td>39.843605</td>\n",
       "      <td>-75.148361</td>\n",
       "      <td>...</td>\n",
       "      <td>Admit Through Discharge Claim</td>\n",
       "      <td>cyan</td>\n",
       "      <td>full_20240611</td>\n",
       "      <td>1971</td>\n",
       "      <td>M</td>\n",
       "      <td>be3296ca5e261d0300048ece4a74ce6d775f3449a77702...</td>\n",
       "      <td>40.227833</td>\n",
       "      <td>-75.240562</td>\n",
       "      <td>19454</td>\n",
       "      <td>1.0</td>\n",
       "    </tr>\n",
       "    <tr>\n",
       "      <th>3</th>\n",
       "      <td>6d014626abbddd193950839be7859c43</td>\n",
       "      <td>0e6b9e4a0d9103c5a9c4f1332d38ef53</td>\n",
       "      <td>781bac90c394b3566e29c81dc925ed3d</td>\n",
       "      <td>None</td>\n",
       "      <td>MONTGOMERY, AL</td>\n",
       "      <td>Montgomery</td>\n",
       "      <td>Montgomery</td>\n",
       "      <td>2055NORMANDIEDRMONTGOMERYAL36111</td>\n",
       "      <td>32.328972</td>\n",
       "      <td>-86.27977</td>\n",
       "      <td>...</td>\n",
       "      <td>Admit Through Discharge Claim</td>\n",
       "      <td>cyan</td>\n",
       "      <td>full_20240611</td>\n",
       "      <td>1946</td>\n",
       "      <td>F</td>\n",
       "      <td>0025ac2b4ff09bd1505307140b30a7c7f53f9645efa5f4...</td>\n",
       "      <td>32.902707</td>\n",
       "      <td>-85.382338</td>\n",
       "      <td>36855</td>\n",
       "      <td>2.0</td>\n",
       "    </tr>\n",
       "    <tr>\n",
       "      <th>4</th>\n",
       "      <td>dfd62d19b9ec0891cf714d5d486736d</td>\n",
       "      <td>767ef4cac69e8a0c77384f6e1414364b</td>\n",
       "      <td>adf9dafa1dc75bec5f501c724d275b46</td>\n",
       "      <td>None</td>\n",
       "      <td>AUSTIN-ROUND ROCK-GEORGETOWN, TX</td>\n",
       "      <td>Austin</td>\n",
       "      <td>Travis</td>\n",
       "      <td>2170WOODWARDSTAUSTINTX78744</td>\n",
       "      <td>30.212395</td>\n",
       "      <td>-97.745186</td>\n",
       "      <td>...</td>\n",
       "      <td>None</td>\n",
       "      <td>cyan</td>\n",
       "      <td>full_20240611</td>\n",
       "      <td>1996</td>\n",
       "      <td>M</td>\n",
       "      <td>59baeef7b06d85ab2f180a860201c2c1e8c931d48b614c...</td>\n",
       "      <td>40.742847</td>\n",
       "      <td>-82.530979</td>\n",
       "      <td>44903</td>\n",
       "      <td>1.0</td>\n",
       "    </tr>\n",
       "  </tbody>\n",
       "</table>\n",
       "<p>5 rows × 127 columns</p>\n",
       "</div>"
      ],
      "text/plain": [
       "                       claim_number                        cohort_key  \\\n",
       "0  a6db914db401522b72e75765b0c8915a  f74909ace68e51891440e4da0b65a70c   \n",
       "1  28cd641bca90ccc956666d3d427208f2  6e116682aeba6cd8a5341a9bc3b6f020   \n",
       "2  7c2a727611dca1435166631a665b7f21  767ef4cac69e8a0c77384f6e1414364b   \n",
       "3  6d014626abbddd193950839be7859c43  0e6b9e4a0d9103c5a9c4f1332d38ef53   \n",
       "4   dfd62d19b9ec0891cf714d5d486736d  767ef4cac69e8a0c77384f6e1414364b   \n",
       "\n",
       "                   cohort_record_id attending_provider_npi  \\\n",
       "0  323f1fff09390aad4c11c4e3c3d694fe                   None   \n",
       "1  da4a4cff3fb363e215eca0779812b117                   None   \n",
       "2  f4048466449529193e43c6231c6b4f80                   None   \n",
       "3  781bac90c394b3566e29c81dc925ed3d                   None   \n",
       "4  adf9dafa1dc75bec5f501c724d275b46                   None   \n",
       "\n",
       "            billing_provider_address_cbsa_name billing_provider_address_city  \\\n",
       "0             LAS VEGAS-HENDERSON-PARADISE, NV                     Henderson   \n",
       "1                                  PARSONS, KS                       Parsons   \n",
       "2  PHILADELPHIA-CAMDEN-WILMINGTON, PA-NJ-DE-MD                      Woodbury   \n",
       "3                               MONTGOMERY, AL                    Montgomery   \n",
       "4             AUSTIN-ROUND ROCK-GEORGETOWN, TX                        Austin   \n",
       "\n",
       "  billing_provider_address_county           billing_provider_address_key  \\\n",
       "0                           Clark  3005WHORIZONRIDGEPKWYHENDERSONNV89052   \n",
       "1                         Labette         1902SUSHIGHWAY59PARSONSKS67357   \n",
       "2                      Gloucester           26EREDBANKAVEWOODBURYNJ08096   \n",
       "3                      Montgomery       2055NORMANDIEDRMONTGOMERYAL36111   \n",
       "4                          Travis            2170WOODWARDSTAUSTINTX78744   \n",
       "\n",
       "  billing_provider_address_latitude billing_provider_address_longitude  ...  \\\n",
       "0                         35.998154                        -115.119797  ...   \n",
       "1                         37.320053                         -95.264801  ...   \n",
       "2                         39.843605                         -75.148361  ...   \n",
       "3                         32.328972                          -86.27977  ...   \n",
       "4                         30.212395                         -97.745186  ...   \n",
       "\n",
       "  type_of_bill_frequency_description vendorname       cycle_id  \\\n",
       "0                               None       cyan  full_20240611   \n",
       "1      Admit Through Discharge Claim       cyan  full_20240611   \n",
       "2      Admit Through Discharge Claim       cyan  full_20240611   \n",
       "3      Admit Through Discharge Claim       cyan  full_20240611   \n",
       "4                               None       cyan  full_20240611   \n",
       "\n",
       "  patient_birth_year patient_gender  \\\n",
       "0               1944              M   \n",
       "1               1943              F   \n",
       "2               1971              M   \n",
       "3               1946              F   \n",
       "4               1996              M   \n",
       "\n",
       "                                          patient_id  \\\n",
       "0  e0e2f2ab3660008f963219f5da377d1e16b302a936951c...   \n",
       "1  64bf854d4bc6350af1c5edc74fe816d23d9d9ecc965cae...   \n",
       "2  be3296ca5e261d0300048ece4a74ce6d775f3449a77702...   \n",
       "3  0025ac2b4ff09bd1505307140b30a7c7f53f9645efa5f4...   \n",
       "4  59baeef7b06d85ab2f180a860201c2c1e8c931d48b614c...   \n",
       "\n",
       "  patient_location_preferred_latitude patient_location_preferred_longitude  \\\n",
       "0                                None                                 None   \n",
       "1                           37.676598                           -95.472107   \n",
       "2                           40.227833                           -75.240562   \n",
       "3                           32.902707                           -85.382338   \n",
       "4                           40.742847                           -82.530979   \n",
       "\n",
       "  patient_location_preferred_zipcode patient_location_preferred_type  \n",
       "0                               None                             NaN  \n",
       "1                              66720                             1.0  \n",
       "2                              19454                             1.0  \n",
       "3                              36855                             2.0  \n",
       "4                              44903                             1.0  \n",
       "\n",
       "[5 rows x 127 columns]"
      ]
     },
     "execution_count": 6,
     "metadata": {},
     "output_type": "execute_result"
    }
   ],
   "source": [
    "mx_submits_eda.display_head()"
   ]
  },
  {
   "cell_type": "code",
   "execution_count": 7,
   "id": "ff677125-7173-4c16-8ada-f24963de8c42",
   "metadata": {},
   "outputs": [
    {
     "data": {
      "text/plain": [
       "'Shape of data: rows: 247334, cols: 127'"
      ]
     },
     "execution_count": 7,
     "metadata": {},
     "output_type": "execute_result"
    }
   ],
   "source": [
    "mx_submits_eda.display_shape()"
   ]
  },
  {
   "cell_type": "markdown",
   "id": "550fe50c-9dc2-4e55-8f1c-b880412f021f",
   "metadata": {},
   "source": [
    "#### Type conversion"
   ]
  },
  {
   "cell_type": "code",
   "execution_count": 8,
   "id": "0d91f3bc-5f15-4d27-b16e-f9953a610c9d",
   "metadata": {},
   "outputs": [
    {
     "name": "stdout",
     "output_type": "stream",
     "text": [
      "Casted claim_total_charge_amount to float\n"
     ]
    }
   ],
   "source": [
    "mx_submits_eda.convert_columns_to_float([\"claim_total_charge_amount\"])"
   ]
  },
  {
   "cell_type": "code",
   "execution_count": 9,
   "id": "e8d9d066-ff51-427c-892b-d72adaa14481",
   "metadata": {},
   "outputs": [],
   "source": [
    "# column_info_submits = mx_submits_eda.display_column_info()\n",
    "# column_info_submits.to_csv(\"../output/column_info_submits.csv\")\n",
    "# column_info_submits"
   ]
  },
  {
   "cell_type": "code",
   "execution_count": 10,
   "id": "1d9cf75f-069a-43db-9cb9-3785a3920c06",
   "metadata": {},
   "outputs": [
    {
     "name": "stderr",
     "output_type": "stream",
     "text": [
      "                                                                                \r"
     ]
    },
    {
     "data": {
      "image/png": "[encoded data removed]",
      "text/plain": [
       "<Figure size 1000x600 with 1 Axes>"
      ]
     },
     "metadata": {},
     "output_type": "display_data"
    }
   ],
   "source": [
    "mx_submits_eda.plot_percentile_based_cutoff(\"claim_all_diagnosis_codes\",90,cutoff_length=5, per_patient= True)"
   ]
  },
  {
   "cell_type": "code",
   "execution_count": 11,
   "id": "8bf354c7-c025-4547-84fa-0a15819df784",
   "metadata": {},
   "outputs": [
    {
     "name": "stderr",
     "output_type": "stream",
     "text": [
      "                                                                                \r"
     ]
    },
    {
     "data": {
      "text/html": [
       "<div>\n",
       "<style scoped>\n",
       "    .dataframe tbody tr th:only-of-type {\n",
       "        vertical-align: middle;\n",
       "    }\n",
       "\n",
       "    .dataframe tbody tr th {\n",
       "        vertical-align: top;\n",
       "    }\n",
       "\n",
       "    .dataframe thead th {\n",
       "        text-align: right;\n",
       "    }\n",
       "</style>\n",
       "<table border=\"1\" class=\"dataframe\">\n",
       "  <thead>\n",
       "    <tr style=\"text-align: right;\">\n",
       "      <th></th>\n",
       "      <th>diagnosis_code</th>\n",
       "      <th>count</th>\n",
       "      <th>diagnosis_code_length</th>\n",
       "    </tr>\n",
       "  </thead>\n",
       "  <tbody>\n",
       "    <tr>\n",
       "      <th>0</th>\n",
       "      <td>Z23</td>\n",
       "      <td>2001</td>\n",
       "      <td>3.0</td>\n",
       "    </tr>\n",
       "    <tr>\n",
       "      <th>1</th>\n",
       "      <td>I10</td>\n",
       "      <td>1396</td>\n",
       "      <td>3.0</td>\n",
       "    </tr>\n",
       "    <tr>\n",
       "      <th>2</th>\n",
       "      <td>Z0000</td>\n",
       "      <td>1302</td>\n",
       "      <td>5.0</td>\n",
       "    </tr>\n",
       "    <tr>\n",
       "      <th>3</th>\n",
       "      <td>Z20822</td>\n",
       "      <td>1033</td>\n",
       "      <td>6.0</td>\n",
       "    </tr>\n",
       "    <tr>\n",
       "      <th>4</th>\n",
       "      <td>J069</td>\n",
       "      <td>929</td>\n",
       "      <td>4.0</td>\n",
       "    </tr>\n",
       "    <tr>\n",
       "      <th>...</th>\n",
       "      <td>...</td>\n",
       "      <td>...</td>\n",
       "      <td>...</td>\n",
       "    </tr>\n",
       "    <tr>\n",
       "      <th>13654</th>\n",
       "      <td>82321</td>\n",
       "      <td>1</td>\n",
       "      <td>5.0</td>\n",
       "    </tr>\n",
       "    <tr>\n",
       "      <th>13655</th>\n",
       "      <td>N86</td>\n",
       "      <td>1</td>\n",
       "      <td>3.0</td>\n",
       "    </tr>\n",
       "    <tr>\n",
       "      <th>13656</th>\n",
       "      <td>S62337A</td>\n",
       "      <td>1</td>\n",
       "      <td>7.0</td>\n",
       "    </tr>\n",
       "    <tr>\n",
       "      <th>13657</th>\n",
       "      <td>92232</td>\n",
       "      <td>1</td>\n",
       "      <td>5.0</td>\n",
       "    </tr>\n",
       "    <tr>\n",
       "      <th>13658</th>\n",
       "      <td>M71342</td>\n",
       "      <td>1</td>\n",
       "      <td>6.0</td>\n",
       "    </tr>\n",
       "  </tbody>\n",
       "</table>\n",
       "<p>13659 rows × 3 columns</p>\n",
       "</div>"
      ],
      "text/plain": [
       "      diagnosis_code  count  diagnosis_code_length\n",
       "0                Z23   2001                    3.0\n",
       "1                I10   1396                    3.0\n",
       "2              Z0000   1302                    5.0\n",
       "3             Z20822   1033                    6.0\n",
       "4               J069    929                    4.0\n",
       "...              ...    ...                    ...\n",
       "13654          82321      1                    5.0\n",
       "13655            N86      1                    3.0\n",
       "13656        S62337A      1                    7.0\n",
       "13657          92232      1                    5.0\n",
       "13658         M71342      1                    6.0\n",
       "\n",
       "[13659 rows x 3 columns]"
      ]
     },
     "execution_count": 11,
     "metadata": {},
     "output_type": "execute_result"
    }
   ],
   "source": [
    "mx_submits_claim_all_diagnosis_codes_repeat_count = mx_submits_eda.get_top_n_repeated_values_unique_per_patient(\"claim_all_diagnosis_codes\")\n",
    "mx_submits_claim_all_diagnosis_codes_repeat_count"
   ]
  },
  {
   "cell_type": "code",
   "execution_count": 12,
   "id": "ff7aaef8-e9de-487d-98e0-4c110f787e27",
   "metadata": {},
   "outputs": [
    {
     "data": {
      "text/html": [
       "<div>\n",
       "<style scoped>\n",
       "    .dataframe tbody tr th:only-of-type {\n",
       "        vertical-align: middle;\n",
       "    }\n",
       "\n",
       "    .dataframe tbody tr th {\n",
       "        vertical-align: top;\n",
       "    }\n",
       "\n",
       "    .dataframe thead th {\n",
       "        text-align: right;\n",
       "    }\n",
       "</style>\n",
       "<table border=\"1\" class=\"dataframe\">\n",
       "  <thead>\n",
       "    <tr style=\"text-align: right;\">\n",
       "      <th></th>\n",
       "      <th>diagnosis_code</th>\n",
       "      <th>count</th>\n",
       "      <th>diagnosis_code_length</th>\n",
       "    </tr>\n",
       "  </thead>\n",
       "  <tbody>\n",
       "    <tr>\n",
       "      <th>2</th>\n",
       "      <td>Z0000</td>\n",
       "      <td>1302</td>\n",
       "      <td>5.0</td>\n",
       "    </tr>\n",
       "    <tr>\n",
       "      <th>11</th>\n",
       "      <td>Z1211</td>\n",
       "      <td>708</td>\n",
       "      <td>5.0</td>\n",
       "    </tr>\n",
       "    <tr>\n",
       "      <th>16</th>\n",
       "      <td>R0602</td>\n",
       "      <td>617</td>\n",
       "      <td>5.0</td>\n",
       "    </tr>\n",
       "    <tr>\n",
       "      <th>17</th>\n",
       "      <td>Z1231</td>\n",
       "      <td>614</td>\n",
       "      <td>5.0</td>\n",
       "    </tr>\n",
       "    <tr>\n",
       "      <th>19</th>\n",
       "      <td>R5383</td>\n",
       "      <td>609</td>\n",
       "      <td>5.0</td>\n",
       "    </tr>\n",
       "    <tr>\n",
       "      <th>33</th>\n",
       "      <td>R0789</td>\n",
       "      <td>434</td>\n",
       "      <td>5.0</td>\n",
       "    </tr>\n",
       "    <tr>\n",
       "      <th>35</th>\n",
       "      <td>K5900</td>\n",
       "      <td>405</td>\n",
       "      <td>5.0</td>\n",
       "    </tr>\n",
       "    <tr>\n",
       "      <th>39</th>\n",
       "      <td>G4733</td>\n",
       "      <td>390</td>\n",
       "      <td>5.0</td>\n",
       "    </tr>\n",
       "    <tr>\n",
       "      <th>42</th>\n",
       "      <td>Z1159</td>\n",
       "      <td>374</td>\n",
       "      <td>5.0</td>\n",
       "    </tr>\n",
       "    <tr>\n",
       "      <th>43</th>\n",
       "      <td>G8929</td>\n",
       "      <td>373</td>\n",
       "      <td>5.0</td>\n",
       "    </tr>\n",
       "    <tr>\n",
       "      <th>47</th>\n",
       "      <td>I2510</td>\n",
       "      <td>359</td>\n",
       "      <td>5.0</td>\n",
       "    </tr>\n",
       "    <tr>\n",
       "      <th>51</th>\n",
       "      <td>R0981</td>\n",
       "      <td>349</td>\n",
       "      <td>5.0</td>\n",
       "    </tr>\n",
       "    <tr>\n",
       "      <th>55</th>\n",
       "      <td>J0190</td>\n",
       "      <td>345</td>\n",
       "      <td>5.0</td>\n",
       "    </tr>\n",
       "    <tr>\n",
       "      <th>56</th>\n",
       "      <td>Z7189</td>\n",
       "      <td>336</td>\n",
       "      <td>5.0</td>\n",
       "    </tr>\n",
       "    <tr>\n",
       "      <th>57</th>\n",
       "      <td>K5730</td>\n",
       "      <td>327</td>\n",
       "      <td>5.0</td>\n",
       "    </tr>\n",
       "    <tr>\n",
       "      <th>58</th>\n",
       "      <td>E7800</td>\n",
       "      <td>322</td>\n",
       "      <td>5.0</td>\n",
       "    </tr>\n",
       "    <tr>\n",
       "      <th>62</th>\n",
       "      <td>Z7182</td>\n",
       "      <td>303</td>\n",
       "      <td>5.0</td>\n",
       "    </tr>\n",
       "    <tr>\n",
       "      <th>64</th>\n",
       "      <td>R9431</td>\n",
       "      <td>300</td>\n",
       "      <td>5.0</td>\n",
       "    </tr>\n",
       "    <tr>\n",
       "      <th>66</th>\n",
       "      <td>R1013</td>\n",
       "      <td>295</td>\n",
       "      <td>5.0</td>\n",
       "    </tr>\n",
       "    <tr>\n",
       "      <th>67</th>\n",
       "      <td>R1084</td>\n",
       "      <td>294</td>\n",
       "      <td>5.0</td>\n",
       "    </tr>\n",
       "    <tr>\n",
       "      <th>68</th>\n",
       "      <td>Z0001</td>\n",
       "      <td>294</td>\n",
       "      <td>5.0</td>\n",
       "    </tr>\n",
       "    <tr>\n",
       "      <th>71</th>\n",
       "      <td>Z1389</td>\n",
       "      <td>292</td>\n",
       "      <td>5.0</td>\n",
       "    </tr>\n",
       "    <tr>\n",
       "      <th>79</th>\n",
       "      <td>M6281</td>\n",
       "      <td>265</td>\n",
       "      <td>5.0</td>\n",
       "    </tr>\n",
       "    <tr>\n",
       "      <th>82</th>\n",
       "      <td>E6601</td>\n",
       "      <td>264</td>\n",
       "      <td>5.0</td>\n",
       "    </tr>\n",
       "    <tr>\n",
       "      <th>85</th>\n",
       "      <td>G4700</td>\n",
       "      <td>263</td>\n",
       "      <td>5.0</td>\n",
       "    </tr>\n",
       "    <tr>\n",
       "      <th>86</th>\n",
       "      <td>Z6852</td>\n",
       "      <td>258</td>\n",
       "      <td>5.0</td>\n",
       "    </tr>\n",
       "    <tr>\n",
       "      <th>87</th>\n",
       "      <td>H5213</td>\n",
       "      <td>257</td>\n",
       "      <td>5.0</td>\n",
       "    </tr>\n",
       "    <tr>\n",
       "      <th>92</th>\n",
       "      <td>R7989</td>\n",
       "      <td>249</td>\n",
       "      <td>5.0</td>\n",
       "    </tr>\n",
       "  </tbody>\n",
       "</table>\n",
       "</div>"
      ],
      "text/plain": [
       "   diagnosis_code  count  diagnosis_code_length\n",
       "2           Z0000   1302                    5.0\n",
       "11          Z1211    708                    5.0\n",
       "16          R0602    617                    5.0\n",
       "17          Z1231    614                    5.0\n",
       "19          R5383    609                    5.0\n",
       "33          R0789    434                    5.0\n",
       "35          K5900    405                    5.0\n",
       "39          G4733    390                    5.0\n",
       "42          Z1159    374                    5.0\n",
       "43          G8929    373                    5.0\n",
       "47          I2510    359                    5.0\n",
       "51          R0981    349                    5.0\n",
       "55          J0190    345                    5.0\n",
       "56          Z7189    336                    5.0\n",
       "57          K5730    327                    5.0\n",
       "58          E7800    322                    5.0\n",
       "62          Z7182    303                    5.0\n",
       "64          R9431    300                    5.0\n",
       "66          R1013    295                    5.0\n",
       "67          R1084    294                    5.0\n",
       "68          Z0001    294                    5.0\n",
       "71          Z1389    292                    5.0\n",
       "79          M6281    265                    5.0\n",
       "82          E6601    264                    5.0\n",
       "85          G4700    263                    5.0\n",
       "86          Z6852    258                    5.0\n",
       "87          H5213    257                    5.0\n",
       "92          R7989    249                    5.0"
      ]
     },
     "execution_count": 12,
     "metadata": {},
     "output_type": "execute_result"
    }
   ],
   "source": [
    "most_repeated_diagnosis = mx_submits_claim_all_diagnosis_codes_repeat_count[\n",
    "    (mx_submits_claim_all_diagnosis_codes_repeat_count[\"diagnosis_code_length\"] == 5) & \n",
    "    (mx_submits_claim_all_diagnosis_codes_repeat_count[\"count\"] > 248)\n",
    "]\n",
    "most_repeated_diagnosis_list = most_repeated_diagnosis['diagnosis_code'].tolist()\n",
    "most_repeated_diagnosis"
   ]
  },
  {
   "cell_type": "code",
   "execution_count": 13,
   "id": "029a56ce-e9ef-40a1-a252-92c4b3cae1a2",
   "metadata": {},
   "outputs": [
    {
     "data": {
      "text/plain": [
       "['Z0000',\n",
       " 'Z1211',\n",
       " 'R0602',\n",
       " 'Z1231',\n",
       " 'R5383',\n",
       " 'R0789',\n",
       " 'K5900',\n",
       " 'G4733',\n",
       " 'Z1159',\n",
       " 'G8929',\n",
       " 'I2510',\n",
       " 'R0981',\n",
       " 'J0190',\n",
       " 'Z7189',\n",
       " 'K5730',\n",
       " 'E7800',\n",
       " 'Z7182',\n",
       " 'R9431',\n",
       " 'R1013',\n",
       " 'R1084',\n",
       " 'Z0001',\n",
       " 'Z1389',\n",
       " 'M6281',\n",
       " 'E6601',\n",
       " 'G4700',\n",
       " 'Z6852',\n",
       " 'H5213',\n",
       " 'R7989']"
      ]
     },
     "execution_count": 13,
     "metadata": {},
     "output_type": "execute_result"
    }
   ],
   "source": [
    "most_repeated_diagnosis_list"
   ]
  },
  {
   "cell_type": "markdown",
   "id": "99b771eb-5d8d-48b9-9019-0dc6ef1b5fed",
   "metadata": {},
   "source": [
    " - (ICD10, Z0001, 1): Encounter for general adult medical examination with abnormal findings\n",
    " - (ICD10, F4323, 1): Adjustment disorder with depressed mood\n",
    " - (ICD10, Z452, 1)\t: Pneumonia, unspecified organism\n",
    " - (ICD10, J441, 1)\t: Chronic obstructive pulmonary disease with acute exacerbation"
   ]
  },
  {
   "cell_type": "code",
   "execution_count": 14,
   "id": "c80035aa-ab5f-481b-9889-e656b0ab5629",
   "metadata": {},
   "outputs": [
    {
     "data": {
      "text/html": [
       "<div>\n",
       "<style scoped>\n",
       "    .dataframe tbody tr th:only-of-type {\n",
       "        vertical-align: middle;\n",
       "    }\n",
       "\n",
       "    .dataframe tbody tr th {\n",
       "        vertical-align: top;\n",
       "    }\n",
       "\n",
       "    .dataframe thead th {\n",
       "        text-align: right;\n",
       "    }\n",
       "</style>\n",
       "<table border=\"1\" class=\"dataframe\">\n",
       "  <thead>\n",
       "    <tr style=\"text-align: right;\">\n",
       "      <th></th>\n",
       "      <th>claim_all_diagnosis_codes</th>\n",
       "      <th>count</th>\n",
       "      <th>diagnosis_code</th>\n",
       "      <th>diagnosis_code_length</th>\n",
       "    </tr>\n",
       "  </thead>\n",
       "  <tbody>\n",
       "    <tr>\n",
       "      <th>0</th>\n",
       "      <td>(ICD10, G4733, 1)</td>\n",
       "      <td>4880</td>\n",
       "      <td>G4733</td>\n",
       "      <td>5</td>\n",
       "    </tr>\n",
       "    <tr>\n",
       "      <th>1</th>\n",
       "      <td>(ICD10, I10, 1)</td>\n",
       "      <td>4651</td>\n",
       "      <td>I10</td>\n",
       "      <td>3</td>\n",
       "    </tr>\n",
       "    <tr>\n",
       "      <th>2</th>\n",
       "      <td>(ICD10, I10, 2)</td>\n",
       "      <td>4584</td>\n",
       "      <td>I10</td>\n",
       "      <td>3</td>\n",
       "    </tr>\n",
       "    <tr>\n",
       "      <th>3</th>\n",
       "      <td>(ICD10, Z0000, 1)</td>\n",
       "      <td>3802</td>\n",
       "      <td>Z0000</td>\n",
       "      <td>5</td>\n",
       "    </tr>\n",
       "    <tr>\n",
       "      <th>4</th>\n",
       "      <td>(ICD10, I10, 3)</td>\n",
       "      <td>3740</td>\n",
       "      <td>I10</td>\n",
       "      <td>3</td>\n",
       "    </tr>\n",
       "  </tbody>\n",
       "</table>\n",
       "</div>"
      ],
      "text/plain": [
       "  claim_all_diagnosis_codes  count diagnosis_code  diagnosis_code_length\n",
       "0         (ICD10, G4733, 1)   4880          G4733                      5\n",
       "1           (ICD10, I10, 1)   4651            I10                      3\n",
       "2           (ICD10, I10, 2)   4584            I10                      3\n",
       "3         (ICD10, Z0000, 1)   3802          Z0000                      5\n",
       "4           (ICD10, I10, 3)   3740            I10                      3"
      ]
     },
     "execution_count": 14,
     "metadata": {},
     "output_type": "execute_result"
    }
   ],
   "source": [
    "mx_submits_eda.get_top_n_repeated_values(\"claim_all_diagnosis_codes\",5)"
   ]
  },
  {
   "cell_type": "markdown",
   "id": "96a1d402-ba46-4874-b516-5dbe21385f62",
   "metadata": {},
   "source": [
    "### Feature Engineering"
   ]
  },
  {
   "cell_type": "code",
   "execution_count": 5,
   "id": "ef5ae469-0056-4677-b2cc-714b13e71f81",
   "metadata": {},
   "outputs": [],
   "source": [
    "mx_submits_fe=FeatureEngineer(mx_submits_spark_manager)"
   ]
  },
  {
   "cell_type": "code",
   "execution_count": 6,
   "id": "63397024-8523-46d3-ba36-0b197b04cf16",
   "metadata": {},
   "outputs": [
    {
     "name": "stderr",
     "output_type": "stream",
     "text": [
      "                                                                                \r"
     ]
    },
    {
     "data": {
      "text/html": [
       "<div>\n",
       "<style scoped>\n",
       "    .dataframe tbody tr th:only-of-type {\n",
       "        vertical-align: middle;\n",
       "    }\n",
       "\n",
       "    .dataframe tbody tr th {\n",
       "        vertical-align: top;\n",
       "    }\n",
       "\n",
       "    .dataframe thead th {\n",
       "        text-align: right;\n",
       "    }\n",
       "</style>\n",
       "<table border=\"1\" class=\"dataframe\">\n",
       "  <thead>\n",
       "    <tr style=\"text-align: right;\">\n",
       "      <th></th>\n",
       "      <th>claim_all_diagnosis_ohe</th>\n",
       "    </tr>\n",
       "  </thead>\n",
       "  <tbody>\n",
       "    <tr>\n",
       "      <th>0</th>\n",
       "      <td>(0.0, 0.0, 0.0, 0.0, 0.0, 0.0, 0.0, 0.0, 0.0, ...</td>\n",
       "    </tr>\n",
       "    <tr>\n",
       "      <th>1</th>\n",
       "      <td>(0.0, 0.0, 0.0, 0.0, 0.0, 0.0, 0.0, 0.0, 0.0, ...</td>\n",
       "    </tr>\n",
       "    <tr>\n",
       "      <th>2</th>\n",
       "      <td>(0.0, 0.0, 0.0, 0.0, 0.0, 0.0, 0.0, 0.0, 0.0, ...</td>\n",
       "    </tr>\n",
       "    <tr>\n",
       "      <th>3</th>\n",
       "      <td>(0.0, 0.0, 0.0, 0.0, 0.0, 0.0, 0.0, 0.0, 0.0, ...</td>\n",
       "    </tr>\n",
       "    <tr>\n",
       "      <th>4</th>\n",
       "      <td>(1.0, 1.0, 0.0, 0.0, 0.0, 0.0, 0.0, 0.0, 0.0, ...</td>\n",
       "    </tr>\n",
       "  </tbody>\n",
       "</table>\n",
       "</div>"
      ],
      "text/plain": [
       "                             claim_all_diagnosis_ohe\n",
       "0  (0.0, 0.0, 0.0, 0.0, 0.0, 0.0, 0.0, 0.0, 0.0, ...\n",
       "1  (0.0, 0.0, 0.0, 0.0, 0.0, 0.0, 0.0, 0.0, 0.0, ...\n",
       "2  (0.0, 0.0, 0.0, 0.0, 0.0, 0.0, 0.0, 0.0, 0.0, ...\n",
       "3  (0.0, 0.0, 0.0, 0.0, 0.0, 0.0, 0.0, 0.0, 0.0, ...\n",
       "4  (1.0, 1.0, 0.0, 0.0, 0.0, 0.0, 0.0, 0.0, 0.0, ..."
      ]
     },
     "execution_count": 6,
     "metadata": {},
     "output_type": "execute_result"
    }
   ],
   "source": [
    "mx_submits_fe.transform_claim_all_diagnosis_codes()"
   ]
  },
  {
   "cell_type": "code",
   "execution_count": 7,
   "id": "477490e0-f3a8-45e3-9849-0ac51e3b6424",
   "metadata": {},
   "outputs": [
    {
     "name": "stderr",
     "output_type": "stream",
     "text": [
      "                                                                                \r"
     ]
    },
    {
     "data": {
      "text/html": [
       "<div>\n",
       "<style scoped>\n",
       "    .dataframe tbody tr th:only-of-type {\n",
       "        vertical-align: middle;\n",
       "    }\n",
       "\n",
       "    .dataframe tbody tr th {\n",
       "        vertical-align: top;\n",
       "    }\n",
       "\n",
       "    .dataframe thead th {\n",
       "        text-align: right;\n",
       "    }\n",
       "</style>\n",
       "<table border=\"1\" class=\"dataframe\">\n",
       "  <thead>\n",
       "    <tr style=\"text-align: right;\">\n",
       "      <th></th>\n",
       "      <th>previous_diagnosis_ohe</th>\n",
       "    </tr>\n",
       "  </thead>\n",
       "  <tbody>\n",
       "    <tr>\n",
       "      <th>0</th>\n",
       "      <td>(0.0, 0.0, 0.0, 0.0, 0.0, 0.0, 0.0, 0.0, 0.0, ...</td>\n",
       "    </tr>\n",
       "    <tr>\n",
       "      <th>1</th>\n",
       "      <td>(0.0, 0.0, 0.0, 0.0, 0.0, 0.0, 0.0, 0.0, 0.0, ...</td>\n",
       "    </tr>\n",
       "    <tr>\n",
       "      <th>2</th>\n",
       "      <td>(0.0, 0.0, 0.0, 0.0, 0.0, 0.0, 0.0, 0.0, 0.0, ...</td>\n",
       "    </tr>\n",
       "    <tr>\n",
       "      <th>3</th>\n",
       "      <td>(0.0, 0.0, 0.0, 0.0, 0.0, 0.0, 0.0, 0.0, 0.0, ...</td>\n",
       "    </tr>\n",
       "    <tr>\n",
       "      <th>4</th>\n",
       "      <td>(0.0, 0.0, 0.0, 0.0, 0.0, 0.0, 0.0, 0.0, 0.0, ...</td>\n",
       "    </tr>\n",
       "  </tbody>\n",
       "</table>\n",
       "</div>"
      ],
      "text/plain": [
       "                              previous_diagnosis_ohe\n",
       "0  (0.0, 0.0, 0.0, 0.0, 0.0, 0.0, 0.0, 0.0, 0.0, ...\n",
       "1  (0.0, 0.0, 0.0, 0.0, 0.0, 0.0, 0.0, 0.0, 0.0, ...\n",
       "2  (0.0, 0.0, 0.0, 0.0, 0.0, 0.0, 0.0, 0.0, 0.0, ...\n",
       "3  (0.0, 0.0, 0.0, 0.0, 0.0, 0.0, 0.0, 0.0, 0.0, ...\n",
       "4  (0.0, 0.0, 0.0, 0.0, 0.0, 0.0, 0.0, 0.0, 0.0, ..."
      ]
     },
     "execution_count": 7,
     "metadata": {},
     "output_type": "execute_result"
    }
   ],
   "source": [
    "mx_submits_fe.add_comorbidities_with_exponential_decay_sparse_vector()"
   ]
  },
  {
   "cell_type": "code",
   "execution_count": 9,
   "id": "561c1cd4-4ffe-4442-b8ce-e11af25e4d9a",
   "metadata": {},
   "outputs": [],
   "source": [
    "# mx_submits_fe.remove_diagnosis_codes(most_repeated_diagnosis_list)"
   ]
  },
  {
   "cell_type": "code",
   "execution_count": 10,
   "id": "9bbe9522-5198-42ee-be39-1b27c94f5cf9",
   "metadata": {},
   "outputs": [],
   "source": [
    "mx_submits_fe.retain_columns(features_cols)"
   ]
  },
  {
   "cell_type": "code",
   "execution_count": 11,
   "id": "ca80b70f-cedf-444c-a466-d033056054be",
   "metadata": {},
   "outputs": [
    {
     "name": "stdout",
     "output_type": "stream",
     "text": [
      "Casted claim_total_charge_amount to float\n"
     ]
    },
    {
     "name": "stderr",
     "output_type": "stream",
     "text": [
      "                                                                                \r"
     ]
    },
    {
     "name": "stdout",
     "output_type": "stream",
     "text": [
      "One-Hot Encoding applied successfully to column: facility_provider_address_region\n",
      "One-Hot Encoding applied successfully to column: patient_gender\n",
      "One-Hot Encoding applied successfully to column: principal_diagnosis_body_part\n",
      "One-Hot Encoding applied successfully to column: principal_diagnosis_category\n",
      "Assembling all features into a vector with 6 columns.\n"
     ]
    },
    {
     "name": "stderr",
     "output_type": "stream",
     "text": [
      "[Stage 54:================================================>     (180 + 9) / 200]\r"
     ]
    },
    {
     "name": "stdout",
     "output_type": "stream",
     "text": [
      "Preprocessing complete. Feature vector created.\n"
     ]
    },
    {
     "name": "stderr",
     "output_type": "stream",
     "text": [
      "                                                                                \r"
     ]
    }
   ],
   "source": [
    "mx_submits_fe.convert_columns_to_float([\"claim_total_charge_amount\"])\n",
    "preprocess_data = mx_submits_fe.preprocess_data(exclude_cols=exclude_cols)\n",
    "preprocess_data"
   ]
  },
  {
   "cell_type": "code",
   "execution_count": 19,
   "id": "21180b23-2685-4add-a33c-2aa68ee426be",
   "metadata": {},
   "outputs": [
    {
     "name": "stderr",
     "output_type": "stream",
     "text": [
      "                                                                                \r"
     ]
    },
    {
     "data": {
      "text/plain": [
       "13723"
      ]
     },
     "execution_count": 19,
     "metadata": {},
     "output_type": "execute_result"
    }
   ],
   "source": [
    "mx_submits_fe.dataframe.select(\"features\").take(1)[0][\"features\"].size"
   ]
  },
  {
   "cell_type": "code",
   "execution_count": null,
   "id": "145a18c7-e130-4694-b10d-68c24fb2f5cb",
   "metadata": {},
   "outputs": [],
   "source": [
    "# # mx_submits_fe.reduce_dataframe_size()\n",
    "# mx_submits_fe.train_autoencoder()\n",
    "# mx_submits_fe.save_autoencoder(\"../output/model\")"
   ]
  },
  {
   "cell_type": "code",
   "execution_count": null,
   "id": "3b414d41-c0d5-44e3-b53b-1dbd6b05587b",
   "metadata": {},
   "outputs": [],
   "source": [
    "mx_submits_fe.load_autoencoder(\"../output/model\")"
   ]
  },
  {
   "cell_type": "code",
   "execution_count": null,
   "id": "1a45122e-6caa-47c8-8b7d-d158e5c25199",
   "metadata": {},
   "outputs": [],
   "source": [
    "mx_submits_fe.create_feature_name_map()"
   ]
  },
  {
   "cell_type": "code",
   "execution_count": null,
   "id": "1292ff47-cf41-4373-8c91-3647f14c00ea",
   "metadata": {},
   "outputs": [],
   "source": [
    "feature_impact = mx_submits_fe.evaluate_feature_impact()\n",
    "feature_impact"
   ]
  },
  {
   "cell_type": "code",
   "execution_count": null,
   "id": "ff9aea62-3ebd-474c-af54-d7e15f41b0b1",
   "metadata": {},
   "outputs": [],
   "source": [
    "feature_impact[\"Feature Name\"].to_list()[:300]"
   ]
  }
 ],
 "metadata": {
  "kernelspec": {
   "display_name": "Python 3 (ipykernel)",
   "language": "python",
   "name": "python3"
  },
  "language_info": {
   "codemirror_mode": {
    "name": "ipython",
    "version": 3
   },
   "file_extension": ".py",
   "mimetype": "text/x-python",
   "name": "python",
   "nbconvert_exporter": "python",
   "pygments_lexer": "ipython3",
   "version": "3.11.4"
  }
 },
 "nbformat": 4,
 "nbformat_minor": 5
}
