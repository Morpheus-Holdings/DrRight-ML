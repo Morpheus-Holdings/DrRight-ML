{
 "cells": [
  {
   "cell_type": "markdown",
   "id": "460ff0d0-14ad-40a2-9ee5-3014245234ee",
   "metadata": {},
   "source": [
    "## Doctor Right\n"
   ]
  },
  {
   "cell_type": "markdown",
   "id": "e92044fc-4ea3-4159-82ad-8a18295959d7",
   "metadata": {},
   "source": [
    "#### Import Library"
   ]
  },
  {
   "cell_type": "code",
   "execution_count": 1,
   "id": "6de45f20-dc96-4837-a6d1-cca54d802643",
   "metadata": {},
   "outputs": [],
   "source": [
    "import sys\n",
    "sys.path.append(\"../modules\")\n",
    "from eda import EDAAnalyzer\n",
    "from spark_session import SparkManager\n",
    "from feature_engineering import FeatureEngineer"
   ]
  },
  {
   "cell_type": "code",
   "execution_count": 2,
   "id": "cb2b8c66-9329-476e-b7a1-59ca9acdf719",
   "metadata": {},
   "outputs": [],
   "source": [
    "# Load autoreload extension\n",
    "%load_ext autoreload\n",
    "%autoreload 2"
   ]
  },
  {
   "cell_type": "markdown",
   "id": "0176b509-6e37-4134-86e8-6016d3b957a6",
   "metadata": {},
   "source": [
    "#### Constants and config"
   ]
  },
  {
   "cell_type": "code",
   "execution_count": 3,
   "id": "4ae7ff30-64b2-4973-9487-f63f5ac3f312",
   "metadata": {},
   "outputs": [],
   "source": [
    "mx_submits_path = \"../data_sample/mx_submits.parquet/\"\n",
    "mx_submits_line_path = \"../data_sample/mx_submitsline.parquet/\"\n",
    "\n",
    "\n",
    "sample_patient_id = \"8aad41f612a7095449888c8050abaeb05fdee65643caa3033542610421d8bd1daaa2c4ce1757401003a1bbcd60948a7aa13eba507a676dea80e0cf76b77dbc95\"\n",
    "features_cols = ['secondary_payer_state',\n",
    "'billing_provider_address_precision',\n",
    "'billing_provider_address_region',\n",
    "'claim_filing_indicator_pay_type',\n",
    "'claim_institutional_or_professional',\n",
    "'facility_provider_address_precision',\n",
    "'facility_provider_address_region',\n",
    "'inpatient_discharge_status_code',\n",
    "'organization_npi_type_code',\n",
    "'organization_sourced_from',\n",
    "'organization_taxonomy_group',\n",
    "'patient_gender',\n",
    "'patient_id',\n",
    "'patient_location_residential_region',\n",
    "'primary_payer_pay_type',\n",
    "'primary_payer_plan_type',\n",
    "'principal_diagnosis_body_part',\n",
    "'principal_diagnosis_category',\n",
    "'principal_diagnosis_code_set',\n",
    "'principal_procedure_code_set',\n",
    "'referring_provider_taxonomy_group',\n",
    "'rendering_provider_npi_type_code',\n",
    "'rendering_provider_taxonomy_group',\n",
    "'secondary_payer_claim_filing_indicator_code',\n",
    "'secondary_payer_pay_type',\n",
    "'secondary_payer_plan_type',\n",
    "'claim_all_diagnosis_codes',\n",
    "'claim_total_charge_amount',\n",
    "'previous_diagnosis_ohe',\n",
    "'claim_all_diagnosis_ohe']\n",
    "exclude_cols = ['patient_id']\n",
    "most_repeated_diagnosis_list = [] "
   ]
  },
  {
   "cell_type": "markdown",
   "id": "fba8fd95-d85c-4e71-836a-f0bb33c00ca2",
   "metadata": {},
   "source": [
    "### Spark Session"
   ]
  },
  {
   "cell_type": "code",
   "execution_count": 4,
   "id": "9b54dfbf-1276-4f46-8fd3-7e3b43bfc747",
   "metadata": {},
   "outputs": [
    {
     "name": "stderr",
     "output_type": "stream",
     "text": [
      "24/10/04 01:37:57 WARN Utils: Your hostname, Sureshs-MacBook-Air.local resolves to a loopback address: 127.0.0.1; using 172.20.9.214 instead (on interface en0)\n",
      "24/10/04 01:37:57 WARN Utils: Set SPARK_LOCAL_IP if you need to bind to another address\n",
      "Setting default log level to \"WARN\".\n",
      "To adjust logging level use sc.setLogLevel(newLevel). For SparkR, use setLogLevel(newLevel).\n",
      "24/10/04 01:37:58 WARN NativeCodeLoader: Unable to load native-hadoop library for your platform... using builtin-java classes where applicable\n"
     ]
    }
   ],
   "source": [
    "mx_submits_spark_manager = SparkManager(mx_submits_path)\n",
    "# mx_submits_line_spark_manager = SparkManager(mx_submits_line_path)"
   ]
  },
  {
   "cell_type": "markdown",
   "id": "8f44dbd4-52aa-43b2-a40a-70fd69c8d74d",
   "metadata": {},
   "source": [
    "### MX SUBMITS"
   ]
  },
  {
   "cell_type": "markdown",
   "id": "7a692ca3-6d85-47df-928f-ebfc185fd5e6",
   "metadata": {},
   "source": [
    "#### EDA"
   ]
  },
  {
   "cell_type": "code",
   "execution_count": 5,
   "id": "8a6ca8c1-1c8e-47a4-b7e0-6ee96c39295c",
   "metadata": {},
   "outputs": [],
   "source": [
    "mx_submits_eda = EDAAnalyzer(mx_submits_spark_manager)"
   ]
  },
  {
   "cell_type": "code",
   "execution_count": 6,
   "id": "8d3ed671-cf84-4236-b0d1-f044eb5c0ded",
   "metadata": {},
   "outputs": [
    {
     "name": "stderr",
     "output_type": "stream",
     "text": [
      "24/10/01 22:30:35 WARN SparkStringUtils: Truncated the string representation of a plan since it was too large. This behavior can be adjusted by setting 'spark.sql.debug.maxToStringFields'.\n",
      "                                                                                \r"
     ]
    },
    {
     "data": {
      "text/html": [
       "<div>\n",
       "<style scoped>\n",
       "    .dataframe tbody tr th:only-of-type {\n",
       "        vertical-align: middle;\n",
       "    }\n",
       "\n",
       "    .dataframe tbody tr th {\n",
       "        vertical-align: top;\n",
       "    }\n",
       "\n",
       "    .dataframe thead th {\n",
       "        text-align: right;\n",
       "    }\n",
       "</style>\n",
       "<table border=\"1\" class=\"dataframe\">\n",
       "  <thead>\n",
       "    <tr style=\"text-align: right;\">\n",
       "      <th></th>\n",
       "      <th>claim_number</th>\n",
       "      <th>cohort_key</th>\n",
       "      <th>cohort_record_id</th>\n",
       "      <th>attending_provider_npi</th>\n",
       "      <th>billing_provider_address_cbsa_name</th>\n",
       "      <th>billing_provider_address_city</th>\n",
       "      <th>billing_provider_address_county</th>\n",
       "      <th>billing_provider_address_key</th>\n",
       "      <th>billing_provider_address_latitude</th>\n",
       "      <th>billing_provider_address_longitude</th>\n",
       "      <th>...</th>\n",
       "      <th>type_of_bill_frequency_description</th>\n",
       "      <th>vendorname</th>\n",
       "      <th>cycle_id</th>\n",
       "      <th>patient_birth_year</th>\n",
       "      <th>patient_gender</th>\n",
       "      <th>patient_id</th>\n",
       "      <th>patient_location_preferred_latitude</th>\n",
       "      <th>patient_location_preferred_longitude</th>\n",
       "      <th>patient_location_preferred_zipcode</th>\n",
       "      <th>patient_location_preferred_type</th>\n",
       "    </tr>\n",
       "  </thead>\n",
       "  <tbody>\n",
       "    <tr>\n",
       "      <th>0</th>\n",
       "      <td>a6db914db401522b72e75765b0c8915a</td>\n",
       "      <td>f74909ace68e51891440e4da0b65a70c</td>\n",
       "      <td>323f1fff09390aad4c11c4e3c3d694fe</td>\n",
       "      <td>None</td>\n",
       "      <td>LAS VEGAS-HENDERSON-PARADISE, NV</td>\n",
       "      <td>Henderson</td>\n",
       "      <td>Clark</td>\n",
       "      <td>3005WHORIZONRIDGEPKWYHENDERSONNV89052</td>\n",
       "      <td>35.998154</td>\n",
       "      <td>-115.119797</td>\n",
       "      <td>...</td>\n",
       "      <td>None</td>\n",
       "      <td>cyan</td>\n",
       "      <td>full_20240611</td>\n",
       "      <td>1944</td>\n",
       "      <td>M</td>\n",
       "      <td>e0e2f2ab3660008f963219f5da377d1e16b302a936951c...</td>\n",
       "      <td>None</td>\n",
       "      <td>None</td>\n",
       "      <td>None</td>\n",
       "      <td>NaN</td>\n",
       "    </tr>\n",
       "    <tr>\n",
       "      <th>1</th>\n",
       "      <td>28cd641bca90ccc956666d3d427208f2</td>\n",
       "      <td>6e116682aeba6cd8a5341a9bc3b6f020</td>\n",
       "      <td>da4a4cff3fb363e215eca0779812b117</td>\n",
       "      <td>None</td>\n",
       "      <td>PARSONS, KS</td>\n",
       "      <td>Parsons</td>\n",
       "      <td>Labette</td>\n",
       "      <td>1902SUSHIGHWAY59PARSONSKS67357</td>\n",
       "      <td>37.320053</td>\n",
       "      <td>-95.264801</td>\n",
       "      <td>...</td>\n",
       "      <td>Admit Through Discharge Claim</td>\n",
       "      <td>cyan</td>\n",
       "      <td>full_20240611</td>\n",
       "      <td>1943</td>\n",
       "      <td>F</td>\n",
       "      <td>64bf854d4bc6350af1c5edc74fe816d23d9d9ecc965cae...</td>\n",
       "      <td>37.676598</td>\n",
       "      <td>-95.472107</td>\n",
       "      <td>66720</td>\n",
       "      <td>1.0</td>\n",
       "    </tr>\n",
       "    <tr>\n",
       "      <th>2</th>\n",
       "      <td>7c2a727611dca1435166631a665b7f21</td>\n",
       "      <td>767ef4cac69e8a0c77384f6e1414364b</td>\n",
       "      <td>f4048466449529193e43c6231c6b4f80</td>\n",
       "      <td>None</td>\n",
       "      <td>PHILADELPHIA-CAMDEN-WILMINGTON, PA-NJ-DE-MD</td>\n",
       "      <td>Woodbury</td>\n",
       "      <td>Gloucester</td>\n",
       "      <td>26EREDBANKAVEWOODBURYNJ08096</td>\n",
       "      <td>39.843605</td>\n",
       "      <td>-75.148361</td>\n",
       "      <td>...</td>\n",
       "      <td>Admit Through Discharge Claim</td>\n",
       "      <td>cyan</td>\n",
       "      <td>full_20240611</td>\n",
       "      <td>1971</td>\n",
       "      <td>M</td>\n",
       "      <td>be3296ca5e261d0300048ece4a74ce6d775f3449a77702...</td>\n",
       "      <td>40.227833</td>\n",
       "      <td>-75.240562</td>\n",
       "      <td>19454</td>\n",
       "      <td>1.0</td>\n",
       "    </tr>\n",
       "    <tr>\n",
       "      <th>3</th>\n",
       "      <td>6d014626abbddd193950839be7859c43</td>\n",
       "      <td>0e6b9e4a0d9103c5a9c4f1332d38ef53</td>\n",
       "      <td>781bac90c394b3566e29c81dc925ed3d</td>\n",
       "      <td>None</td>\n",
       "      <td>MONTGOMERY, AL</td>\n",
       "      <td>Montgomery</td>\n",
       "      <td>Montgomery</td>\n",
       "      <td>2055NORMANDIEDRMONTGOMERYAL36111</td>\n",
       "      <td>32.328972</td>\n",
       "      <td>-86.27977</td>\n",
       "      <td>...</td>\n",
       "      <td>Admit Through Discharge Claim</td>\n",
       "      <td>cyan</td>\n",
       "      <td>full_20240611</td>\n",
       "      <td>1946</td>\n",
       "      <td>F</td>\n",
       "      <td>0025ac2b4ff09bd1505307140b30a7c7f53f9645efa5f4...</td>\n",
       "      <td>32.902707</td>\n",
       "      <td>-85.382338</td>\n",
       "      <td>36855</td>\n",
       "      <td>2.0</td>\n",
       "    </tr>\n",
       "    <tr>\n",
       "      <th>4</th>\n",
       "      <td>dfd62d19b9ec0891cf714d5d486736d</td>\n",
       "      <td>767ef4cac69e8a0c77384f6e1414364b</td>\n",
       "      <td>adf9dafa1dc75bec5f501c724d275b46</td>\n",
       "      <td>None</td>\n",
       "      <td>AUSTIN-ROUND ROCK-GEORGETOWN, TX</td>\n",
       "      <td>Austin</td>\n",
       "      <td>Travis</td>\n",
       "      <td>2170WOODWARDSTAUSTINTX78744</td>\n",
       "      <td>30.212395</td>\n",
       "      <td>-97.745186</td>\n",
       "      <td>...</td>\n",
       "      <td>None</td>\n",
       "      <td>cyan</td>\n",
       "      <td>full_20240611</td>\n",
       "      <td>1996</td>\n",
       "      <td>M</td>\n",
       "      <td>59baeef7b06d85ab2f180a860201c2c1e8c931d48b614c...</td>\n",
       "      <td>40.742847</td>\n",
       "      <td>-82.530979</td>\n",
       "      <td>44903</td>\n",
       "      <td>1.0</td>\n",
       "    </tr>\n",
       "  </tbody>\n",
       "</table>\n",
       "<p>5 rows × 127 columns</p>\n",
       "</div>"
      ],
      "text/plain": [
       "                       claim_number                        cohort_key  \\\n",
       "0  a6db914db401522b72e75765b0c8915a  f74909ace68e51891440e4da0b65a70c   \n",
       "1  28cd641bca90ccc956666d3d427208f2  6e116682aeba6cd8a5341a9bc3b6f020   \n",
       "2  7c2a727611dca1435166631a665b7f21  767ef4cac69e8a0c77384f6e1414364b   \n",
       "3  6d014626abbddd193950839be7859c43  0e6b9e4a0d9103c5a9c4f1332d38ef53   \n",
       "4   dfd62d19b9ec0891cf714d5d486736d  767ef4cac69e8a0c77384f6e1414364b   \n",
       "\n",
       "                   cohort_record_id attending_provider_npi  \\\n",
       "0  323f1fff09390aad4c11c4e3c3d694fe                   None   \n",
       "1  da4a4cff3fb363e215eca0779812b117                   None   \n",
       "2  f4048466449529193e43c6231c6b4f80                   None   \n",
       "3  781bac90c394b3566e29c81dc925ed3d                   None   \n",
       "4  adf9dafa1dc75bec5f501c724d275b46                   None   \n",
       "\n",
       "            billing_provider_address_cbsa_name billing_provider_address_city  \\\n",
       "0             LAS VEGAS-HENDERSON-PARADISE, NV                     Henderson   \n",
       "1                                  PARSONS, KS                       Parsons   \n",
       "2  PHILADELPHIA-CAMDEN-WILMINGTON, PA-NJ-DE-MD                      Woodbury   \n",
       "3                               MONTGOMERY, AL                    Montgomery   \n",
       "4             AUSTIN-ROUND ROCK-GEORGETOWN, TX                        Austin   \n",
       "\n",
       "  billing_provider_address_county           billing_provider_address_key  \\\n",
       "0                           Clark  3005WHORIZONRIDGEPKWYHENDERSONNV89052   \n",
       "1                         Labette         1902SUSHIGHWAY59PARSONSKS67357   \n",
       "2                      Gloucester           26EREDBANKAVEWOODBURYNJ08096   \n",
       "3                      Montgomery       2055NORMANDIEDRMONTGOMERYAL36111   \n",
       "4                          Travis            2170WOODWARDSTAUSTINTX78744   \n",
       "\n",
       "  billing_provider_address_latitude billing_provider_address_longitude  ...  \\\n",
       "0                         35.998154                        -115.119797  ...   \n",
       "1                         37.320053                         -95.264801  ...   \n",
       "2                         39.843605                         -75.148361  ...   \n",
       "3                         32.328972                          -86.27977  ...   \n",
       "4                         30.212395                         -97.745186  ...   \n",
       "\n",
       "  type_of_bill_frequency_description vendorname       cycle_id  \\\n",
       "0                               None       cyan  full_20240611   \n",
       "1      Admit Through Discharge Claim       cyan  full_20240611   \n",
       "2      Admit Through Discharge Claim       cyan  full_20240611   \n",
       "3      Admit Through Discharge Claim       cyan  full_20240611   \n",
       "4                               None       cyan  full_20240611   \n",
       "\n",
       "  patient_birth_year patient_gender  \\\n",
       "0               1944              M   \n",
       "1               1943              F   \n",
       "2               1971              M   \n",
       "3               1946              F   \n",
       "4               1996              M   \n",
       "\n",
       "                                          patient_id  \\\n",
       "0  e0e2f2ab3660008f963219f5da377d1e16b302a936951c...   \n",
       "1  64bf854d4bc6350af1c5edc74fe816d23d9d9ecc965cae...   \n",
       "2  be3296ca5e261d0300048ece4a74ce6d775f3449a77702...   \n",
       "3  0025ac2b4ff09bd1505307140b30a7c7f53f9645efa5f4...   \n",
       "4  59baeef7b06d85ab2f180a860201c2c1e8c931d48b614c...   \n",
       "\n",
       "  patient_location_preferred_latitude patient_location_preferred_longitude  \\\n",
       "0                                None                                 None   \n",
       "1                           37.676598                           -95.472107   \n",
       "2                           40.227833                           -75.240562   \n",
       "3                           32.902707                           -85.382338   \n",
       "4                           40.742847                           -82.530979   \n",
       "\n",
       "  patient_location_preferred_zipcode patient_location_preferred_type  \n",
       "0                               None                             NaN  \n",
       "1                              66720                             1.0  \n",
       "2                              19454                             1.0  \n",
       "3                              36855                             2.0  \n",
       "4                              44903                             1.0  \n",
       "\n",
       "[5 rows x 127 columns]"
      ]
     },
     "execution_count": 6,
     "metadata": {},
     "output_type": "execute_result"
    }
   ],
   "source": [
    "mx_submits_eda.display_head()"
   ]
  },
  {
   "cell_type": "code",
   "execution_count": 7,
   "id": "ff677125-7173-4c16-8ada-f24963de8c42",
   "metadata": {},
   "outputs": [
    {
     "data": {
      "text/plain": [
       "'Shape of data: rows: 247334, cols: 127'"
      ]
     },
     "execution_count": 7,
     "metadata": {},
     "output_type": "execute_result"
    }
   ],
   "source": [
    "mx_submits_eda.display_shape()"
   ]
  },
  {
   "cell_type": "markdown",
   "id": "550fe50c-9dc2-4e55-8f1c-b880412f021f",
   "metadata": {},
   "source": [
    "#### Type conversion"
   ]
  },
  {
   "cell_type": "code",
   "execution_count": 8,
   "id": "0d91f3bc-5f15-4d27-b16e-f9953a610c9d",
   "metadata": {},
   "outputs": [
    {
     "name": "stdout",
     "output_type": "stream",
     "text": [
      "Casted claim_total_charge_amount to float\n"
     ]
    }
   ],
   "source": [
    "mx_submits_eda.convert_columns_to_float([\"claim_total_charge_amount\"])"
   ]
  },
  {
   "cell_type": "code",
   "execution_count": 6,
   "id": "e8d9d066-ff51-427c-892b-d72adaa14481",
   "metadata": {},
   "outputs": [
    {
     "name": "stderr",
     "output_type": "stream",
     "text": [
      "24/09/29 17:51:08 WARN SparkStringUtils: Truncated the string representation of a plan since it was too large. This behavior can be adjusted by setting 'spark.sql.debug.maxToStringFields'.\n",
      "                                                                                \r"
     ]
    },
    {
     "data": {
      "text/html": [
       "<div>\n",
       "<style scoped>\n",
       "    .dataframe tbody tr th:only-of-type {\n",
       "        vertical-align: middle;\n",
       "    }\n",
       "\n",
       "    .dataframe tbody tr th {\n",
       "        vertical-align: top;\n",
       "    }\n",
       "\n",
       "    .dataframe thead th {\n",
       "        text-align: right;\n",
       "    }\n",
       "</style>\n",
       "<table border=\"1\" class=\"dataframe\">\n",
       "  <thead>\n",
       "    <tr style=\"text-align: right;\">\n",
       "      <th></th>\n",
       "      <th>Column Name</th>\n",
       "      <th>Non-null Count</th>\n",
       "      <th>Percent Non-null</th>\n",
       "      <th>Min Value</th>\n",
       "      <th>Max Value</th>\n",
       "      <th>Max Repeats</th>\n",
       "      <th>Sample</th>\n",
       "      <th>Data Type</th>\n",
       "      <th>most_frequent_value</th>\n",
       "      <th>max_repeats</th>\n",
       "      <th>distinct_count</th>\n",
       "    </tr>\n",
       "  </thead>\n",
       "  <tbody>\n",
       "    <tr>\n",
       "      <th>0</th>\n",
       "      <td>claim_number</td>\n",
       "      <td>247334</td>\n",
       "      <td>100.000000</td>\n",
       "      <td>28</td>\n",
       "      <td>32</td>\n",
       "      <td>1.0</td>\n",
       "      <td>a6db914db401522b72e75765b0c8915a</td>\n",
       "      <td>string</td>\n",
       "      <td>4182b93e71c2c46d88683dd749d3cc04</td>\n",
       "      <td>1.0</td>\n",
       "      <td>247334</td>\n",
       "    </tr>\n",
       "    <tr>\n",
       "      <th>1</th>\n",
       "      <td>vendorname</td>\n",
       "      <td>247334</td>\n",
       "      <td>100.000000</td>\n",
       "      <td>4</td>\n",
       "      <td>4</td>\n",
       "      <td>247334.0</td>\n",
       "      <td>cyan</td>\n",
       "      <td>string</td>\n",
       "      <td>cyan</td>\n",
       "      <td>247334.0</td>\n",
       "      <td>1</td>\n",
       "    </tr>\n",
       "    <tr>\n",
       "      <th>2</th>\n",
       "      <td>clearinghouse_received_date</td>\n",
       "      <td>247334</td>\n",
       "      <td>100.000000</td>\n",
       "      <td>2015-01-02</td>\n",
       "      <td>2024-09-06</td>\n",
       "      <td>4037.0</td>\n",
       "      <td>2019-09-05</td>\n",
       "      <td>date</td>\n",
       "      <td>2018-02-03</td>\n",
       "      <td>4037.0</td>\n",
       "      <td>3531</td>\n",
       "    </tr>\n",
       "    <tr>\n",
       "      <th>3</th>\n",
       "      <td>cohort_key</td>\n",
       "      <td>247334</td>\n",
       "      <td>100.000000</td>\n",
       "      <td>32</td>\n",
       "      <td>32</td>\n",
       "      <td>62351.0</td>\n",
       "      <td>f74909ace68e51891440e4da0b65a70c</td>\n",
       "      <td>string</td>\n",
       "      <td>f74909ace68e51891440e4da0b65a70c</td>\n",
       "      <td>62351.0</td>\n",
       "      <td>4</td>\n",
       "    </tr>\n",
       "    <tr>\n",
       "      <th>4</th>\n",
       "      <td>claim_id</td>\n",
       "      <td>247334</td>\n",
       "      <td>100.000000</td>\n",
       "      <td>28</td>\n",
       "      <td>32</td>\n",
       "      <td>1.0</td>\n",
       "      <td>a6db914db401522b72e75765b0c8915a</td>\n",
       "      <td>string</td>\n",
       "      <td>a34f778795a121c257567fd41ffe839e</td>\n",
       "      <td>1.0</td>\n",
       "      <td>247334</td>\n",
       "    </tr>\n",
       "    <tr>\n",
       "      <th>...</th>\n",
       "      <td>...</td>\n",
       "      <td>...</td>\n",
       "      <td>...</td>\n",
       "      <td>...</td>\n",
       "      <td>...</td>\n",
       "      <td>...</td>\n",
       "      <td>...</td>\n",
       "      <td>...</td>\n",
       "      <td>...</td>\n",
       "      <td>...</td>\n",
       "      <td>...</td>\n",
       "    </tr>\n",
       "    <tr>\n",
       "      <th>122</th>\n",
       "      <td>secondary_payer_plan_type</td>\n",
       "      <td>2542</td>\n",
       "      <td>1.027760</td>\n",
       "      <td>7</td>\n",
       "      <td>20</td>\n",
       "      <td>244792.0</td>\n",
       "      <td>None</td>\n",
       "      <td>string</td>\n",
       "      <td>None</td>\n",
       "      <td>244792.0</td>\n",
       "      <td>8</td>\n",
       "    </tr>\n",
       "    <tr>\n",
       "      <th>123</th>\n",
       "      <td>operating_provider_npi</td>\n",
       "      <td>2026</td>\n",
       "      <td>0.819135</td>\n",
       "      <td>10</td>\n",
       "      <td>10</td>\n",
       "      <td>245308.0</td>\n",
       "      <td>None</td>\n",
       "      <td>string</td>\n",
       "      <td>None</td>\n",
       "      <td>245308.0</td>\n",
       "      <td>1100</td>\n",
       "    </tr>\n",
       "    <tr>\n",
       "      <th>124</th>\n",
       "      <td>inpatient_admitting_diagnosis_code</td>\n",
       "      <td>1828</td>\n",
       "      <td>0.739082</td>\n",
       "      <td>2</td>\n",
       "      <td>7</td>\n",
       "      <td>245506.0</td>\n",
       "      <td>None</td>\n",
       "      <td>string</td>\n",
       "      <td>None</td>\n",
       "      <td>245506.0</td>\n",
       "      <td>526</td>\n",
       "    </tr>\n",
       "    <tr>\n",
       "      <th>125</th>\n",
       "      <td>drg_code</td>\n",
       "      <td>777</td>\n",
       "      <td>0.314150</td>\n",
       "      <td>3</td>\n",
       "      <td>9</td>\n",
       "      <td>246557.0</td>\n",
       "      <td>None</td>\n",
       "      <td>string</td>\n",
       "      <td>None</td>\n",
       "      <td>246557.0</td>\n",
       "      <td>295</td>\n",
       "    </tr>\n",
       "    <tr>\n",
       "      <th>126</th>\n",
       "      <td>principal_diagnosis_classification</td>\n",
       "      <td>509</td>\n",
       "      <td>0.205795</td>\n",
       "      <td>11</td>\n",
       "      <td>16</td>\n",
       "      <td>246825.0</td>\n",
       "      <td>None</td>\n",
       "      <td>string</td>\n",
       "      <td>None</td>\n",
       "      <td>246825.0</td>\n",
       "      <td>3</td>\n",
       "    </tr>\n",
       "  </tbody>\n",
       "</table>\n",
       "<p>127 rows × 11 columns</p>\n",
       "</div>"
      ],
      "text/plain": [
       "                            Column Name  Non-null Count  Percent Non-null  \\\n",
       "0                          claim_number          247334        100.000000   \n",
       "1                            vendorname          247334        100.000000   \n",
       "2           clearinghouse_received_date          247334        100.000000   \n",
       "3                            cohort_key          247334        100.000000   \n",
       "4                              claim_id          247334        100.000000   \n",
       "..                                  ...             ...               ...   \n",
       "122           secondary_payer_plan_type            2542          1.027760   \n",
       "123              operating_provider_npi            2026          0.819135   \n",
       "124  inpatient_admitting_diagnosis_code            1828          0.739082   \n",
       "125                            drg_code             777          0.314150   \n",
       "126  principal_diagnosis_classification             509          0.205795   \n",
       "\n",
       "      Min Value   Max Value  Max Repeats                            Sample  \\\n",
       "0            28          32          1.0  a6db914db401522b72e75765b0c8915a   \n",
       "1             4           4     247334.0                              cyan   \n",
       "2    2015-01-02  2024-09-06       4037.0                        2019-09-05   \n",
       "3            32          32      62351.0  f74909ace68e51891440e4da0b65a70c   \n",
       "4            28          32          1.0  a6db914db401522b72e75765b0c8915a   \n",
       "..          ...         ...          ...                               ...   \n",
       "122           7          20     244792.0                              None   \n",
       "123          10          10     245308.0                              None   \n",
       "124           2           7     245506.0                              None   \n",
       "125           3           9     246557.0                              None   \n",
       "126          11          16     246825.0                              None   \n",
       "\n",
       "    Data Type               most_frequent_value  max_repeats  distinct_count  \n",
       "0      string  4182b93e71c2c46d88683dd749d3cc04          1.0          247334  \n",
       "1      string                              cyan     247334.0               1  \n",
       "2        date                        2018-02-03       4037.0            3531  \n",
       "3      string  f74909ace68e51891440e4da0b65a70c      62351.0               4  \n",
       "4      string  a34f778795a121c257567fd41ffe839e          1.0          247334  \n",
       "..        ...                               ...          ...             ...  \n",
       "122    string                              None     244792.0               8  \n",
       "123    string                              None     245308.0            1100  \n",
       "124    string                              None     245506.0             526  \n",
       "125    string                              None     246557.0             295  \n",
       "126    string                              None     246825.0               3  \n",
       "\n",
       "[127 rows x 11 columns]"
      ]
     },
     "execution_count": 6,
     "metadata": {},
     "output_type": "execute_result"
    }
   ],
   "source": [
    "column_info_submits = mx_submits_eda.display_column_info()\n",
    "column_info_submits.to_csv(\"../output/column_info_submits.csv\")\n",
    "column_info_submits"
   ]
  },
  {
   "cell_type": "code",
   "execution_count": 10,
   "id": "3dd59b1c-5c41-4509-8e80-a28d545024e2",
   "metadata": {},
   "outputs": [
    {
     "data": {
      "text/html": [
       "<div>\n",
       "<style scoped>\n",
       "    .dataframe tbody tr th:only-of-type {\n",
       "        vertical-align: middle;\n",
       "    }\n",
       "\n",
       "    .dataframe tbody tr th {\n",
       "        vertical-align: top;\n",
       "    }\n",
       "\n",
       "    .dataframe thead th {\n",
       "        text-align: right;\n",
       "    }\n",
       "</style>\n",
       "<table border=\"1\" class=\"dataframe\">\n",
       "  <thead>\n",
       "    <tr style=\"text-align: right;\">\n",
       "      <th></th>\n",
       "      <th>Column Name</th>\n",
       "      <th>Non-null Count</th>\n",
       "      <th>Percent Non-null</th>\n",
       "      <th>Min Value</th>\n",
       "      <th>Max Value</th>\n",
       "      <th>Max Repeats</th>\n",
       "      <th>Sample</th>\n",
       "      <th>Data Type</th>\n",
       "      <th>most_frequent_value</th>\n",
       "      <th>max_repeats</th>\n",
       "    </tr>\n",
       "  </thead>\n",
       "  <tbody>\n",
       "    <tr>\n",
       "      <th>14</th>\n",
       "      <td>claim_total_charge_amount</td>\n",
       "      <td>246797</td>\n",
       "      <td>99.782885</td>\n",
       "      <td>-203.160004</td>\n",
       "      <td>924144.125</td>\n",
       "      <td>3212.0</td>\n",
       "      <td>23135.0</td>\n",
       "      <td>float</td>\n",
       "      <td>150.0</td>\n",
       "      <td>3212.0</td>\n",
       "    </tr>\n",
       "  </tbody>\n",
       "</table>\n",
       "</div>"
      ],
      "text/plain": [
       "                  Column Name  Non-null Count  Percent Non-null   Min Value  \\\n",
       "14  claim_total_charge_amount          246797         99.782885 -203.160004   \n",
       "\n",
       "     Max Value  Max Repeats   Sample Data Type most_frequent_value  \\\n",
       "14  924144.125       3212.0  23135.0     float               150.0   \n",
       "\n",
       "    max_repeats  \n",
       "14       3212.0  "
      ]
     },
     "execution_count": 10,
     "metadata": {},
     "output_type": "execute_result"
    }
   ],
   "source": [
    "column_info_submits[column_info_submits[\"Column Name\"]==\"claim_total_charge_amount\"]"
   ]
  },
  {
   "cell_type": "code",
   "execution_count": 11,
   "id": "1d9cf75f-069a-43db-9cb9-3785a3920c06",
   "metadata": {},
   "outputs": [
    {
     "data": {
      "image/png": "[encoded data removed]",
      "text/plain": [
       "<Figure size 1000x600 with 1 Axes>"
      ]
     },
     "metadata": {},
     "output_type": "display_data"
    }
   ],
   "source": [
    "mx_submits_eda.plot_percentile_based_cutoff(\"claim_all_diagnosis_codes\",90,cutoff_length=5)"
   ]
  },
  {
   "cell_type": "code",
   "execution_count": 12,
   "id": "8bf354c7-c025-4547-84fa-0a15819df784",
   "metadata": {},
   "outputs": [
    {
     "data": {
      "text/html": [
       "<div>\n",
       "<style scoped>\n",
       "    .dataframe tbody tr th:only-of-type {\n",
       "        vertical-align: middle;\n",
       "    }\n",
       "\n",
       "    .dataframe tbody tr th {\n",
       "        vertical-align: top;\n",
       "    }\n",
       "\n",
       "    .dataframe thead th {\n",
       "        text-align: right;\n",
       "    }\n",
       "</style>\n",
       "<table border=\"1\" class=\"dataframe\">\n",
       "  <thead>\n",
       "    <tr style=\"text-align: right;\">\n",
       "      <th></th>\n",
       "      <th>claim_all_diagnosis_codes</th>\n",
       "      <th>count</th>\n",
       "      <th>diagnosis_code</th>\n",
       "      <th>diagnosis_code_length</th>\n",
       "    </tr>\n",
       "  </thead>\n",
       "  <tbody>\n",
       "    <tr>\n",
       "      <th>0</th>\n",
       "      <td>(ICD10, G4733, 1)</td>\n",
       "      <td>4880</td>\n",
       "      <td>G4733</td>\n",
       "      <td>5.0</td>\n",
       "    </tr>\n",
       "    <tr>\n",
       "      <th>1</th>\n",
       "      <td>(ICD10, I10, 1)</td>\n",
       "      <td>4651</td>\n",
       "      <td>I10</td>\n",
       "      <td>3.0</td>\n",
       "    </tr>\n",
       "    <tr>\n",
       "      <th>2</th>\n",
       "      <td>(ICD10, I10, 2)</td>\n",
       "      <td>4584</td>\n",
       "      <td>I10</td>\n",
       "      <td>3.0</td>\n",
       "    </tr>\n",
       "    <tr>\n",
       "      <th>3</th>\n",
       "      <td>(ICD10, Z0000, 1)</td>\n",
       "      <td>3802</td>\n",
       "      <td>Z0000</td>\n",
       "      <td>5.0</td>\n",
       "    </tr>\n",
       "    <tr>\n",
       "      <th>4</th>\n",
       "      <td>(ICD10, I10, 3)</td>\n",
       "      <td>3740</td>\n",
       "      <td>I10</td>\n",
       "      <td>3.0</td>\n",
       "    </tr>\n",
       "    <tr>\n",
       "      <th>...</th>\n",
       "      <td>...</td>\n",
       "      <td>...</td>\n",
       "      <td>...</td>\n",
       "      <td>...</td>\n",
       "    </tr>\n",
       "    <tr>\n",
       "      <th>46888</th>\n",
       "      <td>(None, 79902, 14)</td>\n",
       "      <td>1</td>\n",
       "      <td>79902</td>\n",
       "      <td>5.0</td>\n",
       "    </tr>\n",
       "    <tr>\n",
       "      <th>46889</th>\n",
       "      <td>(ICD10, L919, 1)</td>\n",
       "      <td>1</td>\n",
       "      <td>L919</td>\n",
       "      <td>4.0</td>\n",
       "    </tr>\n",
       "    <tr>\n",
       "      <th>46890</th>\n",
       "      <td>(ICD10, R32, 13)</td>\n",
       "      <td>1</td>\n",
       "      <td>R32</td>\n",
       "      <td>3.0</td>\n",
       "    </tr>\n",
       "    <tr>\n",
       "      <th>46891</th>\n",
       "      <td>(ICD10, F429, 10)</td>\n",
       "      <td>1</td>\n",
       "      <td>F429</td>\n",
       "      <td>4.0</td>\n",
       "    </tr>\n",
       "    <tr>\n",
       "      <th>46892</th>\n",
       "      <td>(ICD10, S272XXA, 4)</td>\n",
       "      <td>1</td>\n",
       "      <td>S272XXA</td>\n",
       "      <td>7.0</td>\n",
       "    </tr>\n",
       "  </tbody>\n",
       "</table>\n",
       "<p>46893 rows × 4 columns</p>\n",
       "</div>"
      ],
      "text/plain": [
       "      claim_all_diagnosis_codes  count diagnosis_code  diagnosis_code_length\n",
       "0             (ICD10, G4733, 1)   4880          G4733                    5.0\n",
       "1               (ICD10, I10, 1)   4651            I10                    3.0\n",
       "2               (ICD10, I10, 2)   4584            I10                    3.0\n",
       "3             (ICD10, Z0000, 1)   3802          Z0000                    5.0\n",
       "4               (ICD10, I10, 3)   3740            I10                    3.0\n",
       "...                         ...    ...            ...                    ...\n",
       "46888         (None, 79902, 14)      1          79902                    5.0\n",
       "46889          (ICD10, L919, 1)      1           L919                    4.0\n",
       "46890          (ICD10, R32, 13)      1            R32                    3.0\n",
       "46891         (ICD10, F429, 10)      1           F429                    4.0\n",
       "46892       (ICD10, S272XXA, 4)      1        S272XXA                    7.0\n",
       "\n",
       "[46893 rows x 4 columns]"
      ]
     },
     "execution_count": 12,
     "metadata": {},
     "output_type": "execute_result"
    }
   ],
   "source": [
    "mx_submits_claim_all_diagnosis_codes_repeat_count = mx_submits_eda.get_top_n_repeated_values(\"claim_all_diagnosis_codes\")\n",
    "mx_submits_claim_all_diagnosis_codes_repeat_count"
   ]
  },
  {
   "cell_type": "code",
   "execution_count": 13,
   "id": "ff7aaef8-e9de-487d-98e0-4c110f787e27",
   "metadata": {},
   "outputs": [
    {
     "data": {
      "text/html": [
       "<div>\n",
       "<style scoped>\n",
       "    .dataframe tbody tr th:only-of-type {\n",
       "        vertical-align: middle;\n",
       "    }\n",
       "\n",
       "    .dataframe tbody tr th {\n",
       "        vertical-align: top;\n",
       "    }\n",
       "\n",
       "    .dataframe thead th {\n",
       "        text-align: right;\n",
       "    }\n",
       "</style>\n",
       "<table border=\"1\" class=\"dataframe\">\n",
       "  <thead>\n",
       "    <tr style=\"text-align: right;\">\n",
       "      <th></th>\n",
       "      <th>claim_all_diagnosis_codes</th>\n",
       "      <th>count</th>\n",
       "      <th>diagnosis_code</th>\n",
       "      <th>diagnosis_code_length</th>\n",
       "    </tr>\n",
       "  </thead>\n",
       "  <tbody>\n",
       "    <tr>\n",
       "      <th>0</th>\n",
       "      <td>(ICD10, G4733, 1)</td>\n",
       "      <td>4880</td>\n",
       "      <td>G4733</td>\n",
       "      <td>5.0</td>\n",
       "    </tr>\n",
       "    <tr>\n",
       "      <th>3</th>\n",
       "      <td>(ICD10, Z0000, 1)</td>\n",
       "      <td>3802</td>\n",
       "      <td>Z0000</td>\n",
       "      <td>5.0</td>\n",
       "    </tr>\n",
       "    <tr>\n",
       "      <th>5</th>\n",
       "      <td>(ICD10, F1120, 1)</td>\n",
       "      <td>3573</td>\n",
       "      <td>F1120</td>\n",
       "      <td>5.0</td>\n",
       "    </tr>\n",
       "    <tr>\n",
       "      <th>13</th>\n",
       "      <td>(ICD10, Z1231, 1)</td>\n",
       "      <td>1944</td>\n",
       "      <td>Z1231</td>\n",
       "      <td>5.0</td>\n",
       "    </tr>\n",
       "    <tr>\n",
       "      <th>14</th>\n",
       "      <td>(ICD10, R6889, 1)</td>\n",
       "      <td>1935</td>\n",
       "      <td>R6889</td>\n",
       "      <td>5.0</td>\n",
       "    </tr>\n",
       "    <tr>\n",
       "      <th>28</th>\n",
       "      <td>(ICD10, Z1211, 1)</td>\n",
       "      <td>1202</td>\n",
       "      <td>Z1211</td>\n",
       "      <td>5.0</td>\n",
       "    </tr>\n",
       "    <tr>\n",
       "      <th>29</th>\n",
       "      <td>(ICD10, I2510, 1)</td>\n",
       "      <td>1152</td>\n",
       "      <td>I2510</td>\n",
       "      <td>5.0</td>\n",
       "    </tr>\n",
       "    <tr>\n",
       "      <th>43</th>\n",
       "      <td>(ICD10, R0602, 1)</td>\n",
       "      <td>956</td>\n",
       "      <td>R0602</td>\n",
       "      <td>5.0</td>\n",
       "    </tr>\n",
       "    <tr>\n",
       "      <th>48</th>\n",
       "      <td>(ICD10, M6281, 2)</td>\n",
       "      <td>889</td>\n",
       "      <td>M6281</td>\n",
       "      <td>5.0</td>\n",
       "    </tr>\n",
       "    <tr>\n",
       "      <th>57</th>\n",
       "      <td>(ICD10, R0789, 1)</td>\n",
       "      <td>800</td>\n",
       "      <td>R0789</td>\n",
       "      <td>5.0</td>\n",
       "    </tr>\n",
       "    <tr>\n",
       "      <th>58</th>\n",
       "      <td>(ICD10, I2510, 2)</td>\n",
       "      <td>782</td>\n",
       "      <td>I2510</td>\n",
       "      <td>5.0</td>\n",
       "    </tr>\n",
       "    <tr>\n",
       "      <th>62</th>\n",
       "      <td>(ICD10, E1165, 1)</td>\n",
       "      <td>735</td>\n",
       "      <td>E1165</td>\n",
       "      <td>5.0</td>\n",
       "    </tr>\n",
       "    <tr>\n",
       "      <th>66</th>\n",
       "      <td>(ICD10, M1711, 1)</td>\n",
       "      <td>695</td>\n",
       "      <td>M1711</td>\n",
       "      <td>5.0</td>\n",
       "    </tr>\n",
       "    <tr>\n",
       "      <th>71</th>\n",
       "      <td>(ICD10, I4891, 1)</td>\n",
       "      <td>668</td>\n",
       "      <td>I4891</td>\n",
       "      <td>5.0</td>\n",
       "    </tr>\n",
       "    <tr>\n",
       "      <th>75</th>\n",
       "      <td>(ICD10, F1220, 2)</td>\n",
       "      <td>650</td>\n",
       "      <td>F1220</td>\n",
       "      <td>5.0</td>\n",
       "    </tr>\n",
       "    <tr>\n",
       "      <th>80</th>\n",
       "      <td>(ICD10, M6281, 1)</td>\n",
       "      <td>625</td>\n",
       "      <td>M6281</td>\n",
       "      <td>5.0</td>\n",
       "    </tr>\n",
       "    <tr>\n",
       "      <th>82</th>\n",
       "      <td>(ICD10, M5416, 1)</td>\n",
       "      <td>613</td>\n",
       "      <td>M5416</td>\n",
       "      <td>5.0</td>\n",
       "    </tr>\n",
       "    <tr>\n",
       "      <th>88</th>\n",
       "      <td>(ICD10, I2510, 3)</td>\n",
       "      <td>571</td>\n",
       "      <td>I2510</td>\n",
       "      <td>5.0</td>\n",
       "    </tr>\n",
       "    <tr>\n",
       "      <th>90</th>\n",
       "      <td>(ICD10, I2510, 4)</td>\n",
       "      <td>563</td>\n",
       "      <td>I2510</td>\n",
       "      <td>5.0</td>\n",
       "    </tr>\n",
       "    <tr>\n",
       "      <th>94</th>\n",
       "      <td>(ICD10, M9901, 1)</td>\n",
       "      <td>549</td>\n",
       "      <td>M9901</td>\n",
       "      <td>5.0</td>\n",
       "    </tr>\n",
       "    <tr>\n",
       "      <th>101</th>\n",
       "      <td>(ICD10, F4323, 1)</td>\n",
       "      <td>534</td>\n",
       "      <td>F4323</td>\n",
       "      <td>5.0</td>\n",
       "    </tr>\n",
       "    <tr>\n",
       "      <th>102</th>\n",
       "      <td>(ICD10, Z0001, 1)</td>\n",
       "      <td>532</td>\n",
       "      <td>Z0001</td>\n",
       "      <td>5.0</td>\n",
       "    </tr>\n",
       "    <tr>\n",
       "      <th>104</th>\n",
       "      <td>(ICD10, M5450, 1)</td>\n",
       "      <td>526</td>\n",
       "      <td>M5450</td>\n",
       "      <td>5.0</td>\n",
       "    </tr>\n",
       "    <tr>\n",
       "      <th>105</th>\n",
       "      <td>(ICD10, Z7901, 1)</td>\n",
       "      <td>520</td>\n",
       "      <td>Z7901</td>\n",
       "      <td>5.0</td>\n",
       "    </tr>\n",
       "    <tr>\n",
       "      <th>108</th>\n",
       "      <td>(ICD10, R0602, 2)</td>\n",
       "      <td>519</td>\n",
       "      <td>R0602</td>\n",
       "      <td>5.0</td>\n",
       "    </tr>\n",
       "    <tr>\n",
       "      <th>109</th>\n",
       "      <td>(ICD10, M6281, 3)</td>\n",
       "      <td>516</td>\n",
       "      <td>M6281</td>\n",
       "      <td>5.0</td>\n",
       "    </tr>\n",
       "    <tr>\n",
       "      <th>110</th>\n",
       "      <td>(ICD10, J9601, 1)</td>\n",
       "      <td>509</td>\n",
       "      <td>J9601</td>\n",
       "      <td>5.0</td>\n",
       "    </tr>\n",
       "    <tr>\n",
       "      <th>112</th>\n",
       "      <td>(ICD10, F1020, 1)</td>\n",
       "      <td>509</td>\n",
       "      <td>F1020</td>\n",
       "      <td>5.0</td>\n",
       "    </tr>\n",
       "    <tr>\n",
       "      <th>115</th>\n",
       "      <td>(ICD10, R5383, 1)</td>\n",
       "      <td>496</td>\n",
       "      <td>R5383</td>\n",
       "      <td>5.0</td>\n",
       "    </tr>\n",
       "    <tr>\n",
       "      <th>116</th>\n",
       "      <td>(ICD10, M5412, 1)</td>\n",
       "      <td>495</td>\n",
       "      <td>M5412</td>\n",
       "      <td>5.0</td>\n",
       "    </tr>\n",
       "  </tbody>\n",
       "</table>\n",
       "</div>"
      ],
      "text/plain": [
       "    claim_all_diagnosis_codes  count diagnosis_code  diagnosis_code_length\n",
       "0           (ICD10, G4733, 1)   4880          G4733                    5.0\n",
       "3           (ICD10, Z0000, 1)   3802          Z0000                    5.0\n",
       "5           (ICD10, F1120, 1)   3573          F1120                    5.0\n",
       "13          (ICD10, Z1231, 1)   1944          Z1231                    5.0\n",
       "14          (ICD10, R6889, 1)   1935          R6889                    5.0\n",
       "28          (ICD10, Z1211, 1)   1202          Z1211                    5.0\n",
       "29          (ICD10, I2510, 1)   1152          I2510                    5.0\n",
       "43          (ICD10, R0602, 1)    956          R0602                    5.0\n",
       "48          (ICD10, M6281, 2)    889          M6281                    5.0\n",
       "57          (ICD10, R0789, 1)    800          R0789                    5.0\n",
       "58          (ICD10, I2510, 2)    782          I2510                    5.0\n",
       "62          (ICD10, E1165, 1)    735          E1165                    5.0\n",
       "66          (ICD10, M1711, 1)    695          M1711                    5.0\n",
       "71          (ICD10, I4891, 1)    668          I4891                    5.0\n",
       "75          (ICD10, F1220, 2)    650          F1220                    5.0\n",
       "80          (ICD10, M6281, 1)    625          M6281                    5.0\n",
       "82          (ICD10, M5416, 1)    613          M5416                    5.0\n",
       "88          (ICD10, I2510, 3)    571          I2510                    5.0\n",
       "90          (ICD10, I2510, 4)    563          I2510                    5.0\n",
       "94          (ICD10, M9901, 1)    549          M9901                    5.0\n",
       "101         (ICD10, F4323, 1)    534          F4323                    5.0\n",
       "102         (ICD10, Z0001, 1)    532          Z0001                    5.0\n",
       "104         (ICD10, M5450, 1)    526          M5450                    5.0\n",
       "105         (ICD10, Z7901, 1)    520          Z7901                    5.0\n",
       "108         (ICD10, R0602, 2)    519          R0602                    5.0\n",
       "109         (ICD10, M6281, 3)    516          M6281                    5.0\n",
       "110         (ICD10, J9601, 1)    509          J9601                    5.0\n",
       "112         (ICD10, F1020, 1)    509          F1020                    5.0\n",
       "115         (ICD10, R5383, 1)    496          R5383                    5.0\n",
       "116         (ICD10, M5412, 1)    495          M5412                    5.0"
      ]
     },
     "execution_count": 13,
     "metadata": {},
     "output_type": "execute_result"
    }
   ],
   "source": [
    "most_repeated_diagnosis = mx_submits_claim_all_diagnosis_codes_repeat_count[\n",
    "    (mx_submits_claim_all_diagnosis_codes_repeat_count[\"diagnosis_code_length\"] == 5) & \n",
    "    (mx_submits_claim_all_diagnosis_codes_repeat_count[\"count\"] > 461)\n",
    "]\n",
    "most_repeated_diagnosis_list = most_repeated_diagnosis['diagnosis_code'].tolist()\n",
    "most_repeated_diagnosis"
   ]
  },
  {
   "cell_type": "code",
   "execution_count": 14,
   "id": "67c1e1f3-2107-4415-a959-35e314e6799c",
   "metadata": {},
   "outputs": [
    {
     "data": {
      "text/html": [
       "<div>\n",
       "<style scoped>\n",
       "    .dataframe tbody tr th:only-of-type {\n",
       "        vertical-align: middle;\n",
       "    }\n",
       "\n",
       "    .dataframe tbody tr th {\n",
       "        vertical-align: top;\n",
       "    }\n",
       "\n",
       "    .dataframe thead th {\n",
       "        text-align: right;\n",
       "    }\n",
       "</style>\n",
       "<table border=\"1\" class=\"dataframe\">\n",
       "  <thead>\n",
       "    <tr style=\"text-align: right;\">\n",
       "      <th></th>\n",
       "      <th>claim_all_diagnosis_codes</th>\n",
       "      <th>count</th>\n",
       "      <th>diagnosis_code</th>\n",
       "      <th>diagnosis_code_length</th>\n",
       "    </tr>\n",
       "  </thead>\n",
       "  <tbody>\n",
       "    <tr>\n",
       "      <th>0</th>\n",
       "      <td>(ICD10, G4733, 1)</td>\n",
       "      <td>4880</td>\n",
       "      <td>G4733</td>\n",
       "      <td>5.0</td>\n",
       "    </tr>\n",
       "    <tr>\n",
       "      <th>1</th>\n",
       "      <td>(ICD10, I10, 1)</td>\n",
       "      <td>4651</td>\n",
       "      <td>I10</td>\n",
       "      <td>3.0</td>\n",
       "    </tr>\n",
       "    <tr>\n",
       "      <th>2</th>\n",
       "      <td>(ICD10, I10, 2)</td>\n",
       "      <td>4584</td>\n",
       "      <td>I10</td>\n",
       "      <td>3.0</td>\n",
       "    </tr>\n",
       "    <tr>\n",
       "      <th>3</th>\n",
       "      <td>(ICD10, Z0000, 1)</td>\n",
       "      <td>3802</td>\n",
       "      <td>Z0000</td>\n",
       "      <td>5.0</td>\n",
       "    </tr>\n",
       "    <tr>\n",
       "      <th>4</th>\n",
       "      <td>(ICD10, I10, 3)</td>\n",
       "      <td>3740</td>\n",
       "      <td>I10</td>\n",
       "      <td>3.0</td>\n",
       "    </tr>\n",
       "    <tr>\n",
       "      <th>...</th>\n",
       "      <td>...</td>\n",
       "      <td>...</td>\n",
       "      <td>...</td>\n",
       "      <td>...</td>\n",
       "    </tr>\n",
       "    <tr>\n",
       "      <th>98</th>\n",
       "      <td>(ICD10, J441, 1)</td>\n",
       "      <td>544</td>\n",
       "      <td>J441</td>\n",
       "      <td>4.0</td>\n",
       "    </tr>\n",
       "    <tr>\n",
       "      <th>99</th>\n",
       "      <td>(ICD10, J189, 1)</td>\n",
       "      <td>540</td>\n",
       "      <td>J189</td>\n",
       "      <td>4.0</td>\n",
       "    </tr>\n",
       "    <tr>\n",
       "      <th>100</th>\n",
       "      <td>(ICD10, Z452, 1)</td>\n",
       "      <td>539</td>\n",
       "      <td>Z452</td>\n",
       "      <td>4.0</td>\n",
       "    </tr>\n",
       "    <tr>\n",
       "      <th>101</th>\n",
       "      <td>(ICD10, F4323, 1)</td>\n",
       "      <td>534</td>\n",
       "      <td>F4323</td>\n",
       "      <td>5.0</td>\n",
       "    </tr>\n",
       "    <tr>\n",
       "      <th>102</th>\n",
       "      <td>(ICD10, Z0001, 1)</td>\n",
       "      <td>532</td>\n",
       "      <td>Z0001</td>\n",
       "      <td>5.0</td>\n",
       "    </tr>\n",
       "  </tbody>\n",
       "</table>\n",
       "<p>103 rows × 4 columns</p>\n",
       "</div>"
      ],
      "text/plain": [
       "    claim_all_diagnosis_codes  count diagnosis_code  diagnosis_code_length\n",
       "0           (ICD10, G4733, 1)   4880          G4733                    5.0\n",
       "1             (ICD10, I10, 1)   4651            I10                    3.0\n",
       "2             (ICD10, I10, 2)   4584            I10                    3.0\n",
       "3           (ICD10, Z0000, 1)   3802          Z0000                    5.0\n",
       "4             (ICD10, I10, 3)   3740            I10                    3.0\n",
       "..                        ...    ...            ...                    ...\n",
       "98           (ICD10, J441, 1)    544           J441                    4.0\n",
       "99           (ICD10, J189, 1)    540           J189                    4.0\n",
       "100          (ICD10, Z452, 1)    539           Z452                    4.0\n",
       "101         (ICD10, F4323, 1)    534          F4323                    5.0\n",
       "102         (ICD10, Z0001, 1)    532          Z0001                    5.0\n",
       "\n",
       "[103 rows x 4 columns]"
      ]
     },
     "execution_count": 14,
     "metadata": {},
     "output_type": "execute_result"
    }
   ],
   "source": [
    "most_repeated_diagnosis = mx_submits_claim_all_diagnosis_codes_repeat_count[mx_submits_claim_all_diagnosis_codes_repeat_count[\"count\"]>=531]\n",
    "most_repeated_diagnosis"
   ]
  },
  {
   "cell_type": "markdown",
   "id": "99b771eb-5d8d-48b9-9019-0dc6ef1b5fed",
   "metadata": {},
   "source": [
    " - (ICD10, Z0001, 1): Encounter for general adult medical examination with abnormal findings\n",
    " - (ICD10, F4323, 1): Adjustment disorder with depressed mood\n",
    " - (ICD10, Z452, 1)\t: Pneumonia, unspecified organism\n",
    " - (ICD10, J441, 1)\t: Chronic obstructive pulmonary disease with acute exacerbation"
   ]
  },
  {
   "cell_type": "code",
   "execution_count": 15,
   "id": "c80035aa-ab5f-481b-9889-e656b0ab5629",
   "metadata": {},
   "outputs": [
    {
     "data": {
      "text/html": [
       "<div>\n",
       "<style scoped>\n",
       "    .dataframe tbody tr th:only-of-type {\n",
       "        vertical-align: middle;\n",
       "    }\n",
       "\n",
       "    .dataframe tbody tr th {\n",
       "        vertical-align: top;\n",
       "    }\n",
       "\n",
       "    .dataframe thead th {\n",
       "        text-align: right;\n",
       "    }\n",
       "</style>\n",
       "<table border=\"1\" class=\"dataframe\">\n",
       "  <thead>\n",
       "    <tr style=\"text-align: right;\">\n",
       "      <th></th>\n",
       "      <th>claim_all_diagnosis_codes</th>\n",
       "      <th>count</th>\n",
       "      <th>diagnosis_code</th>\n",
       "      <th>diagnosis_code_length</th>\n",
       "    </tr>\n",
       "  </thead>\n",
       "  <tbody>\n",
       "    <tr>\n",
       "      <th>0</th>\n",
       "      <td>(ICD10, G4733, 1)</td>\n",
       "      <td>4880</td>\n",
       "      <td>G4733</td>\n",
       "      <td>5</td>\n",
       "    </tr>\n",
       "    <tr>\n",
       "      <th>1</th>\n",
       "      <td>(ICD10, I10, 1)</td>\n",
       "      <td>4651</td>\n",
       "      <td>I10</td>\n",
       "      <td>3</td>\n",
       "    </tr>\n",
       "    <tr>\n",
       "      <th>2</th>\n",
       "      <td>(ICD10, I10, 2)</td>\n",
       "      <td>4584</td>\n",
       "      <td>I10</td>\n",
       "      <td>3</td>\n",
       "    </tr>\n",
       "    <tr>\n",
       "      <th>3</th>\n",
       "      <td>(ICD10, Z0000, 1)</td>\n",
       "      <td>3802</td>\n",
       "      <td>Z0000</td>\n",
       "      <td>5</td>\n",
       "    </tr>\n",
       "    <tr>\n",
       "      <th>4</th>\n",
       "      <td>(ICD10, I10, 3)</td>\n",
       "      <td>3740</td>\n",
       "      <td>I10</td>\n",
       "      <td>3</td>\n",
       "    </tr>\n",
       "  </tbody>\n",
       "</table>\n",
       "</div>"
      ],
      "text/plain": [
       "  claim_all_diagnosis_codes  count diagnosis_code  diagnosis_code_length\n",
       "0         (ICD10, G4733, 1)   4880          G4733                      5\n",
       "1           (ICD10, I10, 1)   4651            I10                      3\n",
       "2           (ICD10, I10, 2)   4584            I10                      3\n",
       "3         (ICD10, Z0000, 1)   3802          Z0000                      5\n",
       "4           (ICD10, I10, 3)   3740            I10                      3"
      ]
     },
     "execution_count": 15,
     "metadata": {},
     "output_type": "execute_result"
    }
   ],
   "source": [
    "mx_submits_eda.get_top_n_repeated_values(\"claim_all_diagnosis_codes\",5)"
   ]
  },
  {
   "cell_type": "code",
   "execution_count": 16,
   "id": "e7f395b9-47fd-41b7-9905-50f3cea5d58a",
   "metadata": {},
   "outputs": [
    {
     "data": {
      "text/html": [
       "<div>\n",
       "<style scoped>\n",
       "    .dataframe tbody tr th:only-of-type {\n",
       "        vertical-align: middle;\n",
       "    }\n",
       "\n",
       "    .dataframe tbody tr th {\n",
       "        vertical-align: top;\n",
       "    }\n",
       "\n",
       "    .dataframe thead th {\n",
       "        text-align: right;\n",
       "    }\n",
       "</style>\n",
       "<table border=\"1\" class=\"dataframe\">\n",
       "  <thead>\n",
       "    <tr style=\"text-align: right;\">\n",
       "      <th></th>\n",
       "      <th>Unique Value</th>\n",
       "      <th>Column</th>\n",
       "      <th>type_count</th>\n",
       "      <th>Non-null Count</th>\n",
       "      <th>Percent Non-null</th>\n",
       "    </tr>\n",
       "  </thead>\n",
       "  <tbody>\n",
       "    <tr>\n",
       "      <th>0</th>\n",
       "      <td>Skilled Nursing</td>\n",
       "      <td>claim_number</td>\n",
       "      <td>721</td>\n",
       "      <td>721</td>\n",
       "      <td>100.000000</td>\n",
       "    </tr>\n",
       "    <tr>\n",
       "      <th>1</th>\n",
       "      <td>Skilled Nursing</td>\n",
       "      <td>cohort_key</td>\n",
       "      <td>721</td>\n",
       "      <td>721</td>\n",
       "      <td>100.000000</td>\n",
       "    </tr>\n",
       "    <tr>\n",
       "      <th>2</th>\n",
       "      <td>Skilled Nursing</td>\n",
       "      <td>cohort_record_id</td>\n",
       "      <td>721</td>\n",
       "      <td>721</td>\n",
       "      <td>100.000000</td>\n",
       "    </tr>\n",
       "    <tr>\n",
       "      <th>3</th>\n",
       "      <td>Skilled Nursing</td>\n",
       "      <td>attending_provider_npi</td>\n",
       "      <td>721</td>\n",
       "      <td>112</td>\n",
       "      <td>15.533981</td>\n",
       "    </tr>\n",
       "    <tr>\n",
       "      <th>4</th>\n",
       "      <td>Skilled Nursing</td>\n",
       "      <td>billing_provider_address_cbsa_name</td>\n",
       "      <td>721</td>\n",
       "      <td>465</td>\n",
       "      <td>64.493759</td>\n",
       "    </tr>\n",
       "    <tr>\n",
       "      <th>...</th>\n",
       "      <td>...</td>\n",
       "      <td>...</td>\n",
       "      <td>...</td>\n",
       "      <td>...</td>\n",
       "      <td>...</td>\n",
       "    </tr>\n",
       "    <tr>\n",
       "      <th>877</th>\n",
       "      <td>None</td>\n",
       "      <td>patient_id</td>\n",
       "      <td>213257</td>\n",
       "      <td>213244</td>\n",
       "      <td>99.993904</td>\n",
       "    </tr>\n",
       "    <tr>\n",
       "      <th>878</th>\n",
       "      <td>None</td>\n",
       "      <td>patient_location_preferred_latitude</td>\n",
       "      <td>213257</td>\n",
       "      <td>188763</td>\n",
       "      <td>88.514328</td>\n",
       "    </tr>\n",
       "    <tr>\n",
       "      <th>879</th>\n",
       "      <td>None</td>\n",
       "      <td>patient_location_preferred_longitude</td>\n",
       "      <td>213257</td>\n",
       "      <td>188763</td>\n",
       "      <td>88.514328</td>\n",
       "    </tr>\n",
       "    <tr>\n",
       "      <th>880</th>\n",
       "      <td>None</td>\n",
       "      <td>patient_location_preferred_zipcode</td>\n",
       "      <td>213257</td>\n",
       "      <td>188763</td>\n",
       "      <td>88.514328</td>\n",
       "    </tr>\n",
       "    <tr>\n",
       "      <th>881</th>\n",
       "      <td>None</td>\n",
       "      <td>patient_location_preferred_type</td>\n",
       "      <td>213257</td>\n",
       "      <td>188763</td>\n",
       "      <td>88.514328</td>\n",
       "    </tr>\n",
       "  </tbody>\n",
       "</table>\n",
       "<p>882 rows × 5 columns</p>\n",
       "</div>"
      ],
      "text/plain": [
       "        Unique Value                                Column  type_count  \\\n",
       "0    Skilled Nursing                          claim_number         721   \n",
       "1    Skilled Nursing                            cohort_key         721   \n",
       "2    Skilled Nursing                      cohort_record_id         721   \n",
       "3    Skilled Nursing                attending_provider_npi         721   \n",
       "4    Skilled Nursing    billing_provider_address_cbsa_name         721   \n",
       "..               ...                                   ...         ...   \n",
       "877             None                            patient_id      213257   \n",
       "878             None   patient_location_preferred_latitude      213257   \n",
       "879             None  patient_location_preferred_longitude      213257   \n",
       "880             None    patient_location_preferred_zipcode      213257   \n",
       "881             None       patient_location_preferred_type      213257   \n",
       "\n",
       "     Non-null Count  Percent Non-null  \n",
       "0               721        100.000000  \n",
       "1               721        100.000000  \n",
       "2               721        100.000000  \n",
       "3               112         15.533981  \n",
       "4               465         64.493759  \n",
       "..              ...               ...  \n",
       "877          213244         99.993904  \n",
       "878          188763         88.514328  \n",
       "879          188763         88.514328  \n",
       "880          188763         88.514328  \n",
       "881          188763         88.514328  \n",
       "\n",
       "[882 rows x 5 columns]"
      ]
     },
     "execution_count": 16,
     "metadata": {},
     "output_type": "execute_result"
    }
   ],
   "source": [
    "type_of_bill_facility_description_eda = mx_submits_eda.get_fill_counts_for_unique_values(\"type_of_bill_facility_description\")\n",
    "type_of_bill_facility_description_eda"
   ]
  },
  {
   "cell_type": "code",
   "execution_count": 17,
   "id": "4b6607d5-686f-47de-9c83-1751db7a66ad",
   "metadata": {},
   "outputs": [
    {
     "data": {
      "text/html": [
       "<div>\n",
       "<style scoped>\n",
       "    .dataframe tbody tr th:only-of-type {\n",
       "        vertical-align: middle;\n",
       "    }\n",
       "\n",
       "    .dataframe tbody tr th {\n",
       "        vertical-align: top;\n",
       "    }\n",
       "\n",
       "    .dataframe thead th {\n",
       "        text-align: right;\n",
       "    }\n",
       "</style>\n",
       "<table border=\"1\" class=\"dataframe\">\n",
       "  <thead>\n",
       "    <tr style=\"text-align: right;\">\n",
       "      <th></th>\n",
       "      <th>Unique Value</th>\n",
       "      <th>Column</th>\n",
       "      <th>type_count</th>\n",
       "      <th>Non-null Count</th>\n",
       "      <th>Percent Non-null</th>\n",
       "    </tr>\n",
       "  </thead>\n",
       "  <tbody>\n",
       "    <tr>\n",
       "      <th>37</th>\n",
       "      <td>Skilled Nursing</td>\n",
       "      <td>facility_provider_address_city</td>\n",
       "      <td>721</td>\n",
       "      <td>5</td>\n",
       "      <td>0.693481</td>\n",
       "    </tr>\n",
       "    <tr>\n",
       "      <th>163</th>\n",
       "      <td>Intermediate Care</td>\n",
       "      <td>facility_provider_address_city</td>\n",
       "      <td>10</td>\n",
       "      <td>0</td>\n",
       "      <td>0.000000</td>\n",
       "    </tr>\n",
       "    <tr>\n",
       "      <th>289</th>\n",
       "      <td>Hospital</td>\n",
       "      <td>facility_provider_address_city</td>\n",
       "      <td>23494</td>\n",
       "      <td>457</td>\n",
       "      <td>1.945177</td>\n",
       "    </tr>\n",
       "    <tr>\n",
       "      <th>415</th>\n",
       "      <td>Home Health</td>\n",
       "      <td>facility_provider_address_city</td>\n",
       "      <td>2873</td>\n",
       "      <td>0</td>\n",
       "      <td>0.000000</td>\n",
       "    </tr>\n",
       "    <tr>\n",
       "      <th>541</th>\n",
       "      <td>Specialty Facility, Hospital ASC Surgery</td>\n",
       "      <td>facility_provider_address_city</td>\n",
       "      <td>2196</td>\n",
       "      <td>202</td>\n",
       "      <td>9.198543</td>\n",
       "    </tr>\n",
       "    <tr>\n",
       "      <th>667</th>\n",
       "      <td>Clinic</td>\n",
       "      <td>facility_provider_address_city</td>\n",
       "      <td>4783</td>\n",
       "      <td>651</td>\n",
       "      <td>13.610705</td>\n",
       "    </tr>\n",
       "    <tr>\n",
       "      <th>793</th>\n",
       "      <td>None</td>\n",
       "      <td>facility_provider_address_city</td>\n",
       "      <td>213257</td>\n",
       "      <td>78679</td>\n",
       "      <td>36.893982</td>\n",
       "    </tr>\n",
       "  </tbody>\n",
       "</table>\n",
       "</div>"
      ],
      "text/plain": [
       "                                 Unique Value                          Column  \\\n",
       "37                            Skilled Nursing  facility_provider_address_city   \n",
       "163                         Intermediate Care  facility_provider_address_city   \n",
       "289                                  Hospital  facility_provider_address_city   \n",
       "415                               Home Health  facility_provider_address_city   \n",
       "541  Specialty Facility, Hospital ASC Surgery  facility_provider_address_city   \n",
       "667                                    Clinic  facility_provider_address_city   \n",
       "793                                      None  facility_provider_address_city   \n",
       "\n",
       "     type_count  Non-null Count  Percent Non-null  \n",
       "37          721               5          0.693481  \n",
       "163          10               0          0.000000  \n",
       "289       23494             457          1.945177  \n",
       "415        2873               0          0.000000  \n",
       "541        2196             202          9.198543  \n",
       "667        4783             651         13.610705  \n",
       "793      213257           78679         36.893982  "
      ]
     },
     "execution_count": 17,
     "metadata": {},
     "output_type": "execute_result"
    }
   ],
   "source": [
    "type_of_bill_facility_description_eda[type_of_bill_facility_description_eda[\"Column\"]=='facility_provider_address_city']"
   ]
  },
  {
   "cell_type": "markdown",
   "id": "063585f3-dbe1-402e-aeb1-ee92176803b7",
   "metadata": {},
   "source": [
    "### MX SUBMITS LINE"
   ]
  },
  {
   "cell_type": "markdown",
   "id": "0012c0b6-43ad-4b4b-ad9c-001ddef51a7f",
   "metadata": {},
   "source": [
    "#### EDA"
   ]
  },
  {
   "cell_type": "code",
   "execution_count": 5,
   "id": "4fe88a0e-c486-4f91-932b-6bf490549fb8",
   "metadata": {},
   "outputs": [],
   "source": [
    "mx_submits_line_eda = EDAAnalyzer(mx_submits_line_spark_manager)"
   ]
  },
  {
   "cell_type": "code",
   "execution_count": 6,
   "id": "bbb1b845-80df-44f2-98c8-cb1793ae6076",
   "metadata": {},
   "outputs": [
    {
     "name": "stderr",
     "output_type": "stream",
     "text": [
      "24/10/02 21:09:08 WARN SparkStringUtils: Truncated the string representation of a plan since it was too large. This behavior can be adjusted by setting 'spark.sql.debug.maxToStringFields'.\n",
      "                                                                                \r"
     ]
    },
    {
     "data": {
      "text/html": [
       "<div>\n",
       "<style scoped>\n",
       "    .dataframe tbody tr th:only-of-type {\n",
       "        vertical-align: middle;\n",
       "    }\n",
       "\n",
       "    .dataframe tbody tr th {\n",
       "        vertical-align: top;\n",
       "    }\n",
       "\n",
       "    .dataframe thead th {\n",
       "        text-align: right;\n",
       "    }\n",
       "</style>\n",
       "<table border=\"1\" class=\"dataframe\">\n",
       "  <thead>\n",
       "    <tr style=\"text-align: right;\">\n",
       "      <th></th>\n",
       "      <th>attending_provider_npi</th>\n",
       "      <th>billing_provider_address_cbsa_name</th>\n",
       "      <th>billing_provider_address_city</th>\n",
       "      <th>billing_provider_address_county</th>\n",
       "      <th>billing_provider_address_key</th>\n",
       "      <th>billing_provider_address_latitude</th>\n",
       "      <th>billing_provider_address_longitude</th>\n",
       "      <th>billing_provider_address_precision</th>\n",
       "      <th>billing_provider_address_region</th>\n",
       "      <th>billing_provider_address_state</th>\n",
       "      <th>...</th>\n",
       "      <th>line_level_procedure_modifier_1</th>\n",
       "      <th>line_level_procedure_modifier_2</th>\n",
       "      <th>line_level_procedure_modifier_3</th>\n",
       "      <th>line_level_procedure_modifier_4</th>\n",
       "      <th>line_level_procedure_category</th>\n",
       "      <th>line_level_revenue_code</th>\n",
       "      <th>line_level_revenue_description</th>\n",
       "      <th>line_level_from_date</th>\n",
       "      <th>line_level_to_date</th>\n",
       "      <th>line_level_units_billed</th>\n",
       "    </tr>\n",
       "  </thead>\n",
       "  <tbody>\n",
       "    <tr>\n",
       "      <th>0</th>\n",
       "      <td>None</td>\n",
       "      <td>ELKHART-GOSHEN, IN</td>\n",
       "      <td>Goshen</td>\n",
       "      <td>Elkhart</td>\n",
       "      <td>200HIGHPARKAVEGOSHENIN46526</td>\n",
       "      <td>41.563358</td>\n",
       "      <td>-85.830498</td>\n",
       "      <td>Rooftop</td>\n",
       "      <td>Midwest</td>\n",
       "      <td>IN</td>\n",
       "      <td>...</td>\n",
       "      <td>None</td>\n",
       "      <td>None</td>\n",
       "      <td>None</td>\n",
       "      <td>None</td>\n",
       "      <td>PATHOLOGY AND LABORATORY - ORGAN OR DISEASE-OR...</td>\n",
       "      <td>0301</td>\n",
       "      <td>Laboratory</td>\n",
       "      <td>2023-12-29</td>\n",
       "      <td>2023-12-29</td>\n",
       "      <td>1.00</td>\n",
       "    </tr>\n",
       "    <tr>\n",
       "      <th>1</th>\n",
       "      <td>None</td>\n",
       "      <td>None</td>\n",
       "      <td>None</td>\n",
       "      <td>None</td>\n",
       "      <td>None</td>\n",
       "      <td>None</td>\n",
       "      <td>None</td>\n",
       "      <td>None</td>\n",
       "      <td>None</td>\n",
       "      <td>None</td>\n",
       "      <td>...</td>\n",
       "      <td>None</td>\n",
       "      <td>None</td>\n",
       "      <td>None</td>\n",
       "      <td>None</td>\n",
       "      <td>SUPPLEMENTAL TRACKING(CATEGORY II) - PATIENT H...</td>\n",
       "      <td>0572</td>\n",
       "      <td>None</td>\n",
       "      <td>2021-07-01</td>\n",
       "      <td>2021-07-01</td>\n",
       "      <td>1.00</td>\n",
       "    </tr>\n",
       "    <tr>\n",
       "      <th>2</th>\n",
       "      <td>None</td>\n",
       "      <td>NEW YORK-NEWARK-JERSEY CITY, NY-NJ-PA</td>\n",
       "      <td>Raritan</td>\n",
       "      <td>Somerset</td>\n",
       "      <td>691STAVERARITANNJ08869</td>\n",
       "      <td>40.56961</td>\n",
       "      <td>-74.63822</td>\n",
       "      <td>Zip9</td>\n",
       "      <td>Northeast</td>\n",
       "      <td>NJ</td>\n",
       "      <td>...</td>\n",
       "      <td>None</td>\n",
       "      <td>None</td>\n",
       "      <td>None</td>\n",
       "      <td>None</td>\n",
       "      <td>None</td>\n",
       "      <td>None</td>\n",
       "      <td>None</td>\n",
       "      <td>2016-02-25</td>\n",
       "      <td>2016-02-25</td>\n",
       "      <td>1.00</td>\n",
       "    </tr>\n",
       "    <tr>\n",
       "      <th>3</th>\n",
       "      <td>None</td>\n",
       "      <td>None</td>\n",
       "      <td>Stowe</td>\n",
       "      <td>Lamoille</td>\n",
       "      <td>1878MOUNTAINRDSTOWEVT05672</td>\n",
       "      <td>44.474545</td>\n",
       "      <td>-72.713554</td>\n",
       "      <td>Rooftop</td>\n",
       "      <td>Northeast</td>\n",
       "      <td>VT</td>\n",
       "      <td>...</td>\n",
       "      <td>None</td>\n",
       "      <td>None</td>\n",
       "      <td>None</td>\n",
       "      <td>None</td>\n",
       "      <td>EVALUATION AND MANAGEMENT - PROLONGED SERVICES</td>\n",
       "      <td>None</td>\n",
       "      <td>None</td>\n",
       "      <td>2021-07-26</td>\n",
       "      <td>2021-07-26</td>\n",
       "      <td>1.00</td>\n",
       "    </tr>\n",
       "    <tr>\n",
       "      <th>4</th>\n",
       "      <td>None</td>\n",
       "      <td>PHOENIX-MESA-CHANDLER, AZ</td>\n",
       "      <td>Chandler</td>\n",
       "      <td>Maricopa</td>\n",
       "      <td>3960ERIGGSRDCHANDLERAZ85249</td>\n",
       "      <td>33.219654</td>\n",
       "      <td>-111.774361</td>\n",
       "      <td>Rooftop</td>\n",
       "      <td>West</td>\n",
       "      <td>AZ</td>\n",
       "      <td>...</td>\n",
       "      <td>None</td>\n",
       "      <td>None</td>\n",
       "      <td>None</td>\n",
       "      <td>None</td>\n",
       "      <td>SUPPLEMENTAL TRACKING(CATEGORY II) - PATIENT H...</td>\n",
       "      <td>None</td>\n",
       "      <td>None</td>\n",
       "      <td>2024-08-06</td>\n",
       "      <td>2024-08-06</td>\n",
       "      <td>1.00</td>\n",
       "    </tr>\n",
       "  </tbody>\n",
       "</table>\n",
       "<p>5 rows × 150 columns</p>\n",
       "</div>"
      ],
      "text/plain": [
       "  attending_provider_npi     billing_provider_address_cbsa_name  \\\n",
       "0                   None                     ELKHART-GOSHEN, IN   \n",
       "1                   None                                   None   \n",
       "2                   None  NEW YORK-NEWARK-JERSEY CITY, NY-NJ-PA   \n",
       "3                   None                                   None   \n",
       "4                   None              PHOENIX-MESA-CHANDLER, AZ   \n",
       "\n",
       "  billing_provider_address_city billing_provider_address_county  \\\n",
       "0                        Goshen                         Elkhart   \n",
       "1                          None                            None   \n",
       "2                       Raritan                        Somerset   \n",
       "3                         Stowe                        Lamoille   \n",
       "4                      Chandler                        Maricopa   \n",
       "\n",
       "  billing_provider_address_key billing_provider_address_latitude  \\\n",
       "0  200HIGHPARKAVEGOSHENIN46526                         41.563358   \n",
       "1                         None                              None   \n",
       "2       691STAVERARITANNJ08869                          40.56961   \n",
       "3   1878MOUNTAINRDSTOWEVT05672                         44.474545   \n",
       "4  3960ERIGGSRDCHANDLERAZ85249                         33.219654   \n",
       "\n",
       "  billing_provider_address_longitude billing_provider_address_precision  \\\n",
       "0                         -85.830498                            Rooftop   \n",
       "1                               None                               None   \n",
       "2                          -74.63822                               Zip9   \n",
       "3                         -72.713554                            Rooftop   \n",
       "4                        -111.774361                            Rooftop   \n",
       "\n",
       "  billing_provider_address_region billing_provider_address_state  ...  \\\n",
       "0                         Midwest                             IN  ...   \n",
       "1                            None                           None  ...   \n",
       "2                       Northeast                             NJ  ...   \n",
       "3                       Northeast                             VT  ...   \n",
       "4                            West                             AZ  ...   \n",
       "\n",
       "  line_level_procedure_modifier_1 line_level_procedure_modifier_2  \\\n",
       "0                            None                            None   \n",
       "1                            None                            None   \n",
       "2                            None                            None   \n",
       "3                            None                            None   \n",
       "4                            None                            None   \n",
       "\n",
       "  line_level_procedure_modifier_3 line_level_procedure_modifier_4  \\\n",
       "0                            None                            None   \n",
       "1                            None                            None   \n",
       "2                            None                            None   \n",
       "3                            None                            None   \n",
       "4                            None                            None   \n",
       "\n",
       "                       line_level_procedure_category line_level_revenue_code  \\\n",
       "0  PATHOLOGY AND LABORATORY - ORGAN OR DISEASE-OR...                    0301   \n",
       "1  SUPPLEMENTAL TRACKING(CATEGORY II) - PATIENT H...                    0572   \n",
       "2                                               None                    None   \n",
       "3     EVALUATION AND MANAGEMENT - PROLONGED SERVICES                    None   \n",
       "4  SUPPLEMENTAL TRACKING(CATEGORY II) - PATIENT H...                    None   \n",
       "\n",
       "  line_level_revenue_description line_level_from_date line_level_to_date  \\\n",
       "0                     Laboratory           2023-12-29         2023-12-29   \n",
       "1                           None           2021-07-01         2021-07-01   \n",
       "2                           None           2016-02-25         2016-02-25   \n",
       "3                           None           2021-07-26         2021-07-26   \n",
       "4                           None           2024-08-06         2024-08-06   \n",
       "\n",
       "  line_level_units_billed  \n",
       "0                    1.00  \n",
       "1                    1.00  \n",
       "2                    1.00  \n",
       "3                    1.00  \n",
       "4                    1.00  \n",
       "\n",
       "[5 rows x 150 columns]"
      ]
     },
     "execution_count": 6,
     "metadata": {},
     "output_type": "execute_result"
    }
   ],
   "source": [
    "mx_submits_line_eda.display_head()"
   ]
  },
  {
   "cell_type": "code",
   "execution_count": 7,
   "id": "48b3dc26-0d08-4f8a-802f-f18e192755af",
   "metadata": {},
   "outputs": [
    {
     "name": "stderr",
     "output_type": "stream",
     "text": [
      "                                                                                \r"
     ]
    },
    {
     "data": {
      "text/plain": [
       "'Shape of data: rows: 649030, cols: 150'"
      ]
     },
     "execution_count": 7,
     "metadata": {},
     "output_type": "execute_result"
    }
   ],
   "source": [
    "mx_submits_line_eda.display_shape()"
   ]
  },
  {
   "cell_type": "code",
   "execution_count": null,
   "id": "82211de5-7ee0-414d-bb78-a9292603bfd6",
   "metadata": {},
   "outputs": [],
   "source": [
    "column_info_submits_line = mx_submits_line_eda.display_column_info()\n",
    "column_info_submits_line.to_csv(\"../output/column_info_submits_line.csv\")\n",
    "column_info_submits_line"
   ]
  },
  {
   "cell_type": "markdown",
   "id": "96a1d402-ba46-4874-b516-5dbe21385f62",
   "metadata": {},
   "source": [
    "### Feature Engineering"
   ]
  },
  {
   "cell_type": "code",
   "execution_count": 5,
   "id": "ef5ae469-0056-4677-b2cc-714b13e71f81",
   "metadata": {},
   "outputs": [],
   "source": [
    "mx_submits_fe=FeatureEngineer(mx_submits_spark_manager)"
   ]
  },
  {
   "cell_type": "code",
   "execution_count": 6,
   "id": "63397024-8523-46d3-ba36-0b197b04cf16",
   "metadata": {},
   "outputs": [
    {
     "name": "stderr",
     "output_type": "stream",
     "text": [
      "                                                                                \r"
     ]
    },
    {
     "data": {
      "text/html": [
       "<div>\n",
       "<style scoped>\n",
       "    .dataframe tbody tr th:only-of-type {\n",
       "        vertical-align: middle;\n",
       "    }\n",
       "\n",
       "    .dataframe tbody tr th {\n",
       "        vertical-align: top;\n",
       "    }\n",
       "\n",
       "    .dataframe thead th {\n",
       "        text-align: right;\n",
       "    }\n",
       "</style>\n",
       "<table border=\"1\" class=\"dataframe\">\n",
       "  <thead>\n",
       "    <tr style=\"text-align: right;\">\n",
       "      <th></th>\n",
       "      <th>claim_all_diagnosis_ohe</th>\n",
       "    </tr>\n",
       "  </thead>\n",
       "  <tbody>\n",
       "    <tr>\n",
       "      <th>0</th>\n",
       "      <td>(0.0, 0.0, 0.0, 0.0, 0.0, 0.0, 0.0, 0.0, 0.0, ...</td>\n",
       "    </tr>\n",
       "    <tr>\n",
       "      <th>1</th>\n",
       "      <td>(0.0, 0.0, 0.0, 0.0, 0.0, 0.0, 0.0, 0.0, 0.0, ...</td>\n",
       "    </tr>\n",
       "    <tr>\n",
       "      <th>2</th>\n",
       "      <td>(0.0, 0.0, 0.0, 0.0, 0.0, 0.0, 0.0, 0.0, 0.0, ...</td>\n",
       "    </tr>\n",
       "    <tr>\n",
       "      <th>3</th>\n",
       "      <td>(0.0, 0.0, 0.0, 0.0, 0.0, 0.0, 0.0, 0.0, 0.0, ...</td>\n",
       "    </tr>\n",
       "    <tr>\n",
       "      <th>4</th>\n",
       "      <td>(0.0, 0.0, 0.0, 0.0, 1.0, 0.0, 0.0, 0.0, 0.0, ...</td>\n",
       "    </tr>\n",
       "  </tbody>\n",
       "</table>\n",
       "</div>"
      ],
      "text/plain": [
       "                             claim_all_diagnosis_ohe\n",
       "0  (0.0, 0.0, 0.0, 0.0, 0.0, 0.0, 0.0, 0.0, 0.0, ...\n",
       "1  (0.0, 0.0, 0.0, 0.0, 0.0, 0.0, 0.0, 0.0, 0.0, ...\n",
       "2  (0.0, 0.0, 0.0, 0.0, 0.0, 0.0, 0.0, 0.0, 0.0, ...\n",
       "3  (0.0, 0.0, 0.0, 0.0, 0.0, 0.0, 0.0, 0.0, 0.0, ...\n",
       "4  (0.0, 0.0, 0.0, 0.0, 1.0, 0.0, 0.0, 0.0, 0.0, ..."
      ]
     },
     "execution_count": 6,
     "metadata": {},
     "output_type": "execute_result"
    }
   ],
   "source": [
    "mx_submits_fe.transform_claim_all_diagnosis_codes()"
   ]
  },
  {
   "cell_type": "code",
   "execution_count": 7,
   "id": "477490e0-f3a8-45e3-9849-0ac51e3b6424",
   "metadata": {},
   "outputs": [
    {
     "name": "stderr",
     "output_type": "stream",
     "text": [
      "                                                                                \r"
     ]
    },
    {
     "data": {
      "text/html": [
       "<div>\n",
       "<style scoped>\n",
       "    .dataframe tbody tr th:only-of-type {\n",
       "        vertical-align: middle;\n",
       "    }\n",
       "\n",
       "    .dataframe tbody tr th {\n",
       "        vertical-align: top;\n",
       "    }\n",
       "\n",
       "    .dataframe thead th {\n",
       "        text-align: right;\n",
       "    }\n",
       "</style>\n",
       "<table border=\"1\" class=\"dataframe\">\n",
       "  <thead>\n",
       "    <tr style=\"text-align: right;\">\n",
       "      <th></th>\n",
       "      <th>previous_diagnosis_ohe</th>\n",
       "    </tr>\n",
       "  </thead>\n",
       "  <tbody>\n",
       "    <tr>\n",
       "      <th>0</th>\n",
       "      <td>(0.0, 0.0, 0.0, 0.0, 0.0, 0.0, 0.0, 0.0, 0.0, ...</td>\n",
       "    </tr>\n",
       "    <tr>\n",
       "      <th>1</th>\n",
       "      <td>(0.0, 0.0, 0.0, 0.0, 0.0, 0.0, 0.0, 0.0, 0.0, ...</td>\n",
       "    </tr>\n",
       "    <tr>\n",
       "      <th>2</th>\n",
       "      <td>(0.0, 0.0, 0.0, 0.0, 0.0, 0.0, 0.0, 0.0, 0.0, ...</td>\n",
       "    </tr>\n",
       "    <tr>\n",
       "      <th>3</th>\n",
       "      <td>(0.0, 0.0, 0.0, 0.0, 0.0, 0.0, 0.0, 0.0, 0.0, ...</td>\n",
       "    </tr>\n",
       "    <tr>\n",
       "      <th>4</th>\n",
       "      <td>(0.0, 0.0, 0.0, 0.0, 0.0, 0.0, 0.0, 0.0, 0.0, ...</td>\n",
       "    </tr>\n",
       "  </tbody>\n",
       "</table>\n",
       "</div>"
      ],
      "text/plain": [
       "                              previous_diagnosis_ohe\n",
       "0  (0.0, 0.0, 0.0, 0.0, 0.0, 0.0, 0.0, 0.0, 0.0, ...\n",
       "1  (0.0, 0.0, 0.0, 0.0, 0.0, 0.0, 0.0, 0.0, 0.0, ...\n",
       "2  (0.0, 0.0, 0.0, 0.0, 0.0, 0.0, 0.0, 0.0, 0.0, ...\n",
       "3  (0.0, 0.0, 0.0, 0.0, 0.0, 0.0, 0.0, 0.0, 0.0, ...\n",
       "4  (0.0, 0.0, 0.0, 0.0, 0.0, 0.0, 0.0, 0.0, 0.0, ..."
      ]
     },
     "execution_count": 7,
     "metadata": {},
     "output_type": "execute_result"
    }
   ],
   "source": [
    "mx_submits_fe.add_comorbidities_with_exponential_decay_sparse_vector()"
   ]
  },
  {
   "cell_type": "code",
   "execution_count": 8,
   "id": "d7bd6bfc-7ba8-4eaf-9d65-b167128422d4",
   "metadata": {},
   "outputs": [
    {
     "name": "stderr",
     "output_type": "stream",
     "text": [
      "                                                                                \r"
     ]
    },
    {
     "data": {
      "text/html": [
       "<div>\n",
       "<style scoped>\n",
       "    .dataframe tbody tr th:only-of-type {\n",
       "        vertical-align: middle;\n",
       "    }\n",
       "\n",
       "    .dataframe tbody tr th {\n",
       "        vertical-align: top;\n",
       "    }\n",
       "\n",
       "    .dataframe thead th {\n",
       "        text-align: right;\n",
       "    }\n",
       "</style>\n",
       "<table border=\"1\" class=\"dataframe\">\n",
       "  <thead>\n",
       "    <tr style=\"text-align: right;\">\n",
       "      <th></th>\n",
       "      <th>continuous_visit_years</th>\n",
       "    </tr>\n",
       "  </thead>\n",
       "  <tbody>\n",
       "    <tr>\n",
       "      <th>0</th>\n",
       "      <td>1</td>\n",
       "    </tr>\n",
       "    <tr>\n",
       "      <th>1</th>\n",
       "      <td>1</td>\n",
       "    </tr>\n",
       "    <tr>\n",
       "      <th>2</th>\n",
       "      <td>1</td>\n",
       "    </tr>\n",
       "    <tr>\n",
       "      <th>3</th>\n",
       "      <td>2</td>\n",
       "    </tr>\n",
       "    <tr>\n",
       "      <th>4</th>\n",
       "      <td>1</td>\n",
       "    </tr>\n",
       "  </tbody>\n",
       "</table>\n",
       "</div>"
      ],
      "text/plain": [
       "   continuous_visit_years\n",
       "0                       1\n",
       "1                       1\n",
       "2                       1\n",
       "3                       2\n",
       "4                       1"
      ]
     },
     "execution_count": 8,
     "metadata": {},
     "output_type": "execute_result"
    }
   ],
   "source": [
    "mx_submits_fe.add_continuous_visit_years()\n",
    "mx_submits_fe.display_top_rows_as_pandas(\"continuous_visit_years\")"
   ]
  },
  {
   "cell_type": "code",
   "execution_count": 9,
   "id": "87ced775-f31a-44fe-b5a4-c8317251809f",
   "metadata": {},
   "outputs": [],
   "source": [
    "# mx_submits_fe.remove_diagnosis_codes(most_repeated_diagnosis_list)"
   ]
  },
  {
   "cell_type": "code",
   "execution_count": 10,
   "id": "9bbe9522-5198-42ee-be39-1b27c94f5cf9",
   "metadata": {},
   "outputs": [],
   "source": [
    "mx_submits_fe.retain_columns(features_cols)"
   ]
  },
  {
   "cell_type": "code",
   "execution_count": 11,
   "id": "ca80b70f-cedf-444c-a466-d033056054be",
   "metadata": {},
   "outputs": [
    {
     "name": "stdout",
     "output_type": "stream",
     "text": [
      "Casted claim_total_charge_amount to float\n"
     ]
    },
    {
     "name": "stderr",
     "output_type": "stream",
     "text": [
      "                                                                                \r"
     ]
    },
    {
     "name": "stdout",
     "output_type": "stream",
     "text": [
      "One-Hot Encoding applied successfully to column: secondary_payer_state\n",
      "One-Hot Encoding applied successfully to column: billing_provider_address_precision\n",
      "One-Hot Encoding applied successfully to column: billing_provider_address_region\n",
      "One-Hot Encoding applied successfully to column: claim_filing_indicator_pay_type\n",
      "One-Hot Encoding applied successfully to column: claim_institutional_or_professional\n",
      "One-Hot Encoding applied successfully to column: facility_provider_address_precision\n",
      "One-Hot Encoding applied successfully to column: facility_provider_address_region\n",
      "One-Hot Encoding applied successfully to column: inpatient_discharge_status_code\n",
      "One-Hot Encoding applied successfully to column: organization_npi_type_code\n",
      "One-Hot Encoding applied successfully to column: organization_sourced_from\n",
      "One-Hot Encoding applied successfully to column: organization_taxonomy_group\n",
      "One-Hot Encoding applied successfully to column: patient_gender\n",
      "One-Hot Encoding applied successfully to column: patient_location_residential_region\n",
      "One-Hot Encoding applied successfully to column: primary_payer_pay_type\n",
      "One-Hot Encoding applied successfully to column: primary_payer_plan_type\n",
      "One-Hot Encoding applied successfully to column: principal_diagnosis_body_part\n",
      "One-Hot Encoding applied successfully to column: principal_diagnosis_category\n",
      "One-Hot Encoding applied successfully to column: principal_diagnosis_code_set\n",
      "One-Hot Encoding applied successfully to column: principal_procedure_code_set\n",
      "One-Hot Encoding applied successfully to column: referring_provider_taxonomy_group\n",
      "One-Hot Encoding applied successfully to column: rendering_provider_npi_type_code\n",
      "One-Hot Encoding applied successfully to column: rendering_provider_taxonomy_group\n",
      "One-Hot Encoding applied successfully to column: secondary_payer_claim_filing_indicator_code\n",
      "One-Hot Encoding applied successfully to column: secondary_payer_pay_type\n",
      "One-Hot Encoding applied successfully to column: secondary_payer_plan_type\n",
      "Assembling all features into a vector with 27 columns.\n"
     ]
    },
    {
     "name": "stderr",
     "output_type": "stream",
     "text": [
      "[Stage 186:===============================================>     (179 + 8) / 200]\r"
     ]
    },
    {
     "name": "stdout",
     "output_type": "stream",
     "text": [
      "Preprocessing complete. Feature vector created.\n"
     ]
    },
    {
     "name": "stderr",
     "output_type": "stream",
     "text": [
      "                                                                                \r"
     ]
    }
   ],
   "source": [
    "mx_submits_fe.convert_columns_to_float([\"claim_total_charge_amount\"])\n",
    "preprocess_data = mx_submits_fe.preprocess_data(exclude_cols=exclude_cols)\n",
    "preprocess_data"
   ]
  },
  {
   "cell_type": "code",
   "execution_count": 12,
   "id": "64912392-2304-42ef-9ae0-47b74201b22b",
   "metadata": {},
   "outputs": [
    {
     "data": {
      "text/plain": [
       "['secondary_payer_state_ohe',\n",
       " 'billing_provider_address_precision_ohe',\n",
       " 'billing_provider_address_region_ohe',\n",
       " 'claim_filing_indicator_pay_type_ohe',\n",
       " 'claim_institutional_or_professional_ohe',\n",
       " 'facility_provider_address_precision_ohe',\n",
       " 'facility_provider_address_region_ohe',\n",
       " 'inpatient_discharge_status_code_ohe',\n",
       " 'organization_npi_type_code_ohe',\n",
       " 'organization_sourced_from_ohe',\n",
       " 'organization_taxonomy_group_ohe',\n",
       " 'patient_gender_ohe',\n",
       " 'patient_location_residential_region_ohe',\n",
       " 'primary_payer_pay_type_ohe',\n",
       " 'primary_payer_plan_type_ohe',\n",
       " 'principal_diagnosis_body_part_ohe',\n",
       " 'principal_diagnosis_category_ohe',\n",
       " 'principal_diagnosis_code_set_ohe',\n",
       " 'principal_procedure_code_set_ohe',\n",
       " 'referring_provider_taxonomy_group_ohe',\n",
       " 'rendering_provider_npi_type_code_ohe',\n",
       " 'rendering_provider_taxonomy_group_ohe',\n",
       " 'secondary_payer_claim_filing_indicator_code_ohe',\n",
       " 'secondary_payer_pay_type_ohe',\n",
       " 'secondary_payer_plan_type_ohe',\n",
       " 'claim_total_charge_amount',\n",
       " 'previous_diagnosis_ohe']"
      ]
     },
     "execution_count": 12,
     "metadata": {},
     "output_type": "execute_result"
    }
   ],
   "source": [
    "columns_df = mx_submits_fe.get_columns_as_pandas_df()\n",
    "columns_df['Column Names'].to_list()\n",
    "feature_cols = mx_submits_fe.get_feature_columns()\n",
    "feature_cols"
   ]
  },
  {
   "cell_type": "code",
   "execution_count": 13,
   "id": "e1ef4864-a4eb-4c69-9c66-d2b529bf9052",
   "metadata": {},
   "outputs": [],
   "source": [
    "# mx_submits_fe.display_head()"
   ]
  },
  {
   "cell_type": "code",
   "execution_count": 14,
   "id": "91cf9a64-d2cd-4d7e-a94a-3bb40e4e5946",
   "metadata": {
    "scrolled": true
   },
   "outputs": [
    {
     "name": "stderr",
     "output_type": "stream",
     "text": [
      "24/10/04 01:38:37 WARN SparkStringUtils: Truncated the string representation of a plan since it was too large. This behavior can be adjusted by setting 'spark.sql.debug.maxToStringFields'.\n",
      "                                                                                \r"
     ]
    },
    {
     "name": "stdout",
     "output_type": "stream",
     "text": [
      "input_features : 14007\n",
      "Approximate distinct count: 247334\n",
      "Steps per epoch: 966\n"
     ]
    },
    {
     "name": "stderr",
     "output_type": "stream",
     "text": [
      "24/10/04 01:38:53 WARN DAGScheduler: Broadcasting large task binary with size 1739.8 KiB\n",
      "24/10/04 02:05:51 WARN DAGScheduler: Broadcasting large task binary with size 1755.6 KiB\n",
      "24/10/04 02:06:07 WARN DAGScheduler: Broadcasting large task binary with size 1751.0 KiB\n",
      "[Stage 205:>                                                        (0 + 1) / 1]\r"
     ]
    },
    {
     "name": "stdout",
     "output_type": "stream",
     "text": [
      "Epoch 1/50\n"
     ]
    },
    {
     "name": "stderr",
     "output_type": "stream",
     "text": [
      "24/10/04 02:06:13 WARN DAGScheduler: Broadcasting large task binary with size 1755.6 KiB\n",
      "24/10/04 02:06:27 WARN DAGScheduler: Broadcasting large task binary with size 1751.0 KiB\n",
      "24/10/04 02:06:30 WARN DAGScheduler: Broadcasting large task binary with size 1755.6 KiB\n",
      "24/10/04 02:06:45 WARN DAGScheduler: Broadcasting large task binary with size 1751.0 KiB\n",
      "24/10/04 02:06:48 WARN DAGScheduler: Broadcasting large task binary with size 1755.6 KiB\n",
      "24/10/04 02:06:59 WARN DAGScheduler: Broadcasting large task binary with size 1751.0 KiB\n",
      "[Stage 217:>                                                        (0 + 1) / 1]\r"
     ]
    },
    {
     "name": "stdout",
     "output_type": "stream",
     "text": [
      "966/966 - 51s - loss: 0.2152 - 51s/epoch - 53ms/step\n",
      "Epoch 2/50\n"
     ]
    },
    {
     "name": "stderr",
     "output_type": "stream",
     "text": [
      "24/10/04 02:07:01 WARN DAGScheduler: Broadcasting large task binary with size 1755.6 KiB\n",
      "24/10/04 02:07:11 WARN DAGScheduler: Broadcasting large task binary with size 1751.0 KiB\n",
      "24/10/04 02:07:14 WARN DAGScheduler: Broadcasting large task binary with size 1755.6 KiB\n",
      "24/10/04 02:07:25 WARN DAGScheduler: Broadcasting large task binary with size 1751.0 KiB\n",
      "24/10/04 02:07:27 WARN DAGScheduler: Broadcasting large task binary with size 1755.6 KiB\n",
      "24/10/04 02:07:39 WARN DAGScheduler: Broadcasting large task binary with size 1751.0 KiB\n",
      "24/10/04 02:07:41 WARN DAGScheduler: Broadcasting large task binary with size 1755.6 KiB\n",
      "24/10/04 02:07:54 WARN DAGScheduler: Broadcasting large task binary with size 1751.0 KiB\n",
      "[Stage 233:>                                                        (0 + 1) / 1]\r"
     ]
    },
    {
     "name": "stdout",
     "output_type": "stream",
     "text": [
      "966/966 - 56s - loss: 0.1757 - 56s/epoch - 58ms/step\n",
      "Epoch 3/50\n"
     ]
    },
    {
     "name": "stderr",
     "output_type": "stream",
     "text": [
      "24/10/04 02:07:56 WARN DAGScheduler: Broadcasting large task binary with size 1755.6 KiB\n",
      "24/10/04 02:08:17 WARN DAGScheduler: Broadcasting large task binary with size 1751.0 KiB\n",
      "24/10/04 02:08:23 WARN DAGScheduler: Broadcasting large task binary with size 1755.6 KiB\n",
      "24/10/04 02:08:34 WARN DAGScheduler: Broadcasting large task binary with size 1751.0 KiB\n",
      "24/10/04 02:08:36 WARN DAGScheduler: Broadcasting large task binary with size 1755.6 KiB\n",
      "24/10/04 02:08:46 WARN DAGScheduler: Broadcasting large task binary with size 1751.0 KiB\n",
      "24/10/04 02:08:47 WARN DAGScheduler: Broadcasting large task binary with size 1755.6 KiB\n",
      "24/10/04 02:08:57 WARN DAGScheduler: Broadcasting large task binary with size 1751.0 KiB\n"
     ]
    },
    {
     "name": "stdout",
     "output_type": "stream",
     "text": [
      "966/966 - 62s - loss: 0.2105 - 62s/epoch - 64ms/step\n",
      "Epoch 4/50\n"
     ]
    },
    {
     "name": "stderr",
     "output_type": "stream",
     "text": [
      "24/10/04 02:08:58 WARN DAGScheduler: Broadcasting large task binary with size 1755.6 KiB\n",
      "24/10/04 02:09:07 WARN DAGScheduler: Broadcasting large task binary with size 1751.0 KiB\n",
      "24/10/04 02:09:08 WARN DAGScheduler: Broadcasting large task binary with size 1755.6 KiB\n",
      "24/10/04 02:09:19 WARN DAGScheduler: Broadcasting large task binary with size 1751.0 KiB\n",
      "24/10/04 02:09:20 WARN DAGScheduler: Broadcasting large task binary with size 1755.6 KiB\n",
      "24/10/04 02:09:29 WARN DAGScheduler: Broadcasting large task binary with size 1751.0 KiB\n",
      "24/10/04 02:09:31 WARN DAGScheduler: Broadcasting large task binary with size 1755.6 KiB\n",
      "24/10/04 02:09:40 WARN DAGScheduler: Broadcasting large task binary with size 1751.0 KiB\n",
      "[Stage 265:>                                                        (0 + 1) / 1]\r"
     ]
    },
    {
     "name": "stdout",
     "output_type": "stream",
     "text": [
      "966/966 - 43s - loss: 0.2137 - 43s/epoch - 44ms/step\n",
      "Epoch 5/50\n"
     ]
    },
    {
     "name": "stderr",
     "output_type": "stream",
     "text": [
      "24/10/04 02:09:41 WARN DAGScheduler: Broadcasting large task binary with size 1755.6 KiB\n",
      "24/10/04 02:09:52 WARN DAGScheduler: Broadcasting large task binary with size 1751.0 KiB\n",
      "24/10/04 02:09:53 WARN DAGScheduler: Broadcasting large task binary with size 1755.6 KiB\n",
      "24/10/04 02:10:03 WARN DAGScheduler: Broadcasting large task binary with size 1751.0 KiB\n",
      "24/10/04 02:10:04 WARN DAGScheduler: Broadcasting large task binary with size 1755.6 KiB\n",
      "24/10/04 02:10:15 WARN DAGScheduler: Broadcasting large task binary with size 1751.0 KiB\n",
      "24/10/04 02:10:17 WARN DAGScheduler: Broadcasting large task binary with size 1755.6 KiB\n",
      "[Stage 280:>                                                       (0 + 8) / 16]\r"
     ]
    },
    {
     "name": "stdout",
     "output_type": "stream",
     "text": [
      "966/966 - 37s - loss: 0.2152 - 37s/epoch - 39ms/step\n",
      "Epoch 6/50\n"
     ]
    },
    {
     "name": "stderr",
     "output_type": "stream",
     "text": [
      "24/10/04 02:10:26 WARN DAGScheduler: Broadcasting large task binary with size 1751.0 KiB\n",
      "24/10/04 02:10:27 WARN DAGScheduler: Broadcasting large task binary with size 1755.6 KiB\n",
      "24/10/04 02:10:36 WARN DAGScheduler: Broadcasting large task binary with size 1751.0 KiB\n",
      "24/10/04 02:10:38 WARN DAGScheduler: Broadcasting large task binary with size 1755.6 KiB\n",
      "24/10/04 02:10:47 WARN DAGScheduler: Broadcasting large task binary with size 1751.0 KiB\n",
      "24/10/04 02:10:48 WARN DAGScheduler: Broadcasting large task binary with size 1755.6 KiB\n",
      "24/10/04 02:10:58 WARN DAGScheduler: Broadcasting large task binary with size 1751.0 KiB\n",
      "24/10/04 02:10:59 WARN DAGScheduler: Broadcasting large task binary with size 1755.6 KiB\n"
     ]
    },
    {
     "name": "stdout",
     "output_type": "stream",
     "text": [
      "966/966 - 42s - loss: 0.2093 - 42s/epoch - 43ms/step\n",
      "Epoch 7/50\n"
     ]
    },
    {
     "name": "stderr",
     "output_type": "stream",
     "text": [
      "24/10/04 02:11:09 WARN DAGScheduler: Broadcasting large task binary with size 1751.0 KiB\n",
      "24/10/04 02:11:10 WARN DAGScheduler: Broadcasting large task binary with size 1755.6 KiB\n",
      "24/10/04 02:11:20 WARN DAGScheduler: Broadcasting large task binary with size 1751.0 KiB\n",
      "24/10/04 02:11:21 WARN DAGScheduler: Broadcasting large task binary with size 1755.6 KiB\n",
      "24/10/04 02:11:30 WARN DAGScheduler: Broadcasting large task binary with size 1751.0 KiB\n",
      "24/10/04 02:11:31 WARN DAGScheduler: Broadcasting large task binary with size 1755.6 KiB\n",
      "24/10/04 02:11:39 WARN DAGScheduler: Broadcasting large task binary with size 1751.0 KiB\n",
      "[Stage 309:>                                                        (0 + 1) / 1]\r"
     ]
    },
    {
     "name": "stdout",
     "output_type": "stream",
     "text": [
      "966/966 - 41s - loss: 0.1792 - 41s/epoch - 42ms/step\n",
      "Epoch 8/50\n"
     ]
    },
    {
     "name": "stderr",
     "output_type": "stream",
     "text": [
      "24/10/04 02:11:41 WARN DAGScheduler: Broadcasting large task binary with size 1755.6 KiB\n",
      "24/10/04 02:11:50 WARN DAGScheduler: Broadcasting large task binary with size 1751.0 KiB\n",
      "24/10/04 02:11:51 WARN DAGScheduler: Broadcasting large task binary with size 1755.6 KiB\n",
      "24/10/04 02:12:00 WARN DAGScheduler: Broadcasting large task binary with size 1751.0 KiB\n",
      "24/10/04 02:12:02 WARN DAGScheduler: Broadcasting large task binary with size 1755.6 KiB\n",
      "24/10/04 02:12:11 WARN DAGScheduler: Broadcasting large task binary with size 1751.0 KiB\n",
      "24/10/04 02:12:12 WARN DAGScheduler: Broadcasting large task binary with size 1755.6 KiB\n",
      "24/10/04 02:12:21 WARN DAGScheduler: Broadcasting large task binary with size 1751.0 KiB\n",
      "[Stage 325:>                                                        (0 + 1) / 1]\r"
     ]
    },
    {
     "name": "stdout",
     "output_type": "stream",
     "text": [
      "966/966 - 41s - loss: 0.2092 - 41s/epoch - 42ms/step\n",
      "Epoch 9/50\n"
     ]
    },
    {
     "name": "stderr",
     "output_type": "stream",
     "text": [
      "24/10/04 02:12:22 WARN DAGScheduler: Broadcasting large task binary with size 1755.6 KiB\n",
      "24/10/04 02:12:31 WARN DAGScheduler: Broadcasting large task binary with size 1751.0 KiB\n",
      "24/10/04 02:12:32 WARN DAGScheduler: Broadcasting large task binary with size 1755.6 KiB\n",
      "24/10/04 02:12:41 WARN DAGScheduler: Broadcasting large task binary with size 1751.0 KiB\n",
      "24/10/04 02:12:42 WARN DAGScheduler: Broadcasting large task binary with size 1755.6 KiB\n",
      "24/10/04 02:12:51 WARN DAGScheduler: Broadcasting large task binary with size 1751.0 KiB\n",
      "24/10/04 02:12:52 WARN DAGScheduler: Broadcasting large task binary with size 1755.6 KiB\n",
      "[Stage 340:>                                                       (0 + 8) / 16]\r"
     ]
    },
    {
     "name": "stdout",
     "output_type": "stream",
     "text": [
      "966/966 - 33s - loss: 0.2155 - 33s/epoch - 34ms/step\n",
      "Epoch 10/50\n"
     ]
    },
    {
     "name": "stderr",
     "output_type": "stream",
     "text": [
      "24/10/04 02:13:02 WARN DAGScheduler: Broadcasting large task binary with size 1751.0 KiB\n",
      "24/10/04 02:13:03 WARN DAGScheduler: Broadcasting large task binary with size 1755.6 KiB\n",
      "24/10/04 02:13:13 WARN DAGScheduler: Broadcasting large task binary with size 1751.0 KiB\n",
      "24/10/04 02:13:14 WARN DAGScheduler: Broadcasting large task binary with size 1755.6 KiB\n",
      "24/10/04 02:13:24 WARN DAGScheduler: Broadcasting large task binary with size 1751.0 KiB\n",
      "24/10/04 02:13:25 WARN DAGScheduler: Broadcasting large task binary with size 1755.6 KiB\n",
      "24/10/04 02:13:35 WARN DAGScheduler: Broadcasting large task binary with size 1751.0 KiB\n",
      "24/10/04 02:13:37 WARN DAGScheduler: Broadcasting large task binary with size 1755.6 KiB\n"
     ]
    },
    {
     "name": "stdout",
     "output_type": "stream",
     "text": [
      "966/966 - 43s - loss: 0.2138 - 43s/epoch - 45ms/step\n",
      "Epoch 11/50\n"
     ]
    },
    {
     "name": "stderr",
     "output_type": "stream",
     "text": [
      "24/10/04 02:13:46 WARN DAGScheduler: Broadcasting large task binary with size 1751.0 KiB\n",
      "24/10/04 02:13:47 WARN DAGScheduler: Broadcasting large task binary with size 1755.6 KiB\n",
      "24/10/04 02:13:57 WARN DAGScheduler: Broadcasting large task binary with size 1751.0 KiB\n",
      "24/10/04 02:13:58 WARN DAGScheduler: Broadcasting large task binary with size 1755.6 KiB\n",
      "24/10/04 02:14:08 WARN DAGScheduler: Broadcasting large task binary with size 1751.0 KiB\n",
      "24/10/04 02:14:09 WARN DAGScheduler: Broadcasting large task binary with size 1755.6 KiB\n",
      "24/10/04 02:14:19 WARN DAGScheduler: Broadcasting large task binary with size 1751.0 KiB\n",
      "24/10/04 02:14:20 WARN DAGScheduler: Broadcasting large task binary with size 1755.6 KiB\n"
     ]
    },
    {
     "name": "stdout",
     "output_type": "stream",
     "text": [
      "966/966 - 43s - loss: 0.1754 - 43s/epoch - 44ms/step\n",
      "Epoch 12/50\n"
     ]
    },
    {
     "name": "stderr",
     "output_type": "stream",
     "text": [
      "24/10/04 02:14:29 WARN DAGScheduler: Broadcasting large task binary with size 1751.0 KiB\n",
      "24/10/04 02:14:31 WARN DAGScheduler: Broadcasting large task binary with size 1755.6 KiB\n",
      "24/10/04 02:14:40 WARN DAGScheduler: Broadcasting large task binary with size 1751.0 KiB\n",
      "24/10/04 02:14:42 WARN DAGScheduler: Broadcasting large task binary with size 1755.6 KiB\n",
      "24/10/04 02:14:52 WARN DAGScheduler: Broadcasting large task binary with size 1751.0 KiB\n",
      "24/10/04 02:14:55 WARN DAGScheduler: Broadcasting large task binary with size 1755.6 KiB\n",
      "24/10/04 02:15:05 WARN DAGScheduler: Broadcasting large task binary with size 1751.0 KiB\n",
      "[Stage 385:>                                                        (0 + 1) / 1]\r"
     ]
    },
    {
     "name": "stdout",
     "output_type": "stream",
     "text": [
      "966/966 - 46s - loss: 0.2086 - 46s/epoch - 48ms/step\n",
      "Epoch 13/50\n"
     ]
    },
    {
     "name": "stderr",
     "output_type": "stream",
     "text": [
      "24/10/04 02:15:06 WARN DAGScheduler: Broadcasting large task binary with size 1755.6 KiB\n",
      "24/10/04 02:15:16 WARN DAGScheduler: Broadcasting large task binary with size 1751.0 KiB\n",
      "24/10/04 02:15:18 WARN DAGScheduler: Broadcasting large task binary with size 1755.6 KiB\n",
      "24/10/04 02:15:27 WARN DAGScheduler: Broadcasting large task binary with size 1751.0 KiB\n",
      "24/10/04 02:15:29 WARN DAGScheduler: Broadcasting large task binary with size 1755.6 KiB\n",
      "24/10/04 02:15:39 WARN DAGScheduler: Broadcasting large task binary with size 1751.0 KiB\n",
      "24/10/04 02:15:41 WARN DAGScheduler: Broadcasting large task binary with size 1755.6 KiB\n",
      "24/10/04 02:15:50 WARN DAGScheduler: Broadcasting large task binary with size 1751.0 KiB\n",
      "[Stage 401:>                                                        (0 + 1) / 1]\r"
     ]
    },
    {
     "name": "stdout",
     "output_type": "stream",
     "text": [
      "966/966 - 45s - loss: 0.2151 - 45s/epoch - 46ms/step\n",
      "Epoch 14/50\n"
     ]
    },
    {
     "name": "stderr",
     "output_type": "stream",
     "text": [
      "24/10/04 02:15:52 WARN DAGScheduler: Broadcasting large task binary with size 1755.6 KiB\n",
      "24/10/04 02:16:01 WARN DAGScheduler: Broadcasting large task binary with size 1751.0 KiB\n",
      "24/10/04 02:16:02 WARN DAGScheduler: Broadcasting large task binary with size 1755.6 KiB\n",
      "24/10/04 02:16:12 WARN DAGScheduler: Broadcasting large task binary with size 1751.0 KiB\n",
      "24/10/04 02:16:13 WARN DAGScheduler: Broadcasting large task binary with size 1755.6 KiB\n",
      "24/10/04 02:16:22 WARN DAGScheduler: Broadcasting large task binary with size 1751.0 KiB\n",
      "24/10/04 02:16:23 WARN DAGScheduler: Broadcasting large task binary with size 1755.6 KiB\n",
      "[Stage 416:>                                                       (0 + 8) / 16]\r"
     ]
    },
    {
     "name": "stdout",
     "output_type": "stream",
     "text": [
      "966/966 - 33s - loss: 0.2147 - 33s/epoch - 35ms/step\n",
      "Epoch 15/50\n"
     ]
    },
    {
     "name": "stderr",
     "output_type": "stream",
     "text": [
      "24/10/04 02:16:33 WARN DAGScheduler: Broadcasting large task binary with size 1751.0 KiB\n",
      "24/10/04 02:16:34 WARN DAGScheduler: Broadcasting large task binary with size 1755.6 KiB\n",
      "24/10/04 02:16:45 WARN DAGScheduler: Broadcasting large task binary with size 1751.0 KiB\n",
      "24/10/04 02:16:46 WARN DAGScheduler: Broadcasting large task binary with size 1755.6 KiB\n",
      "24/10/04 02:16:55 WARN DAGScheduler: Broadcasting large task binary with size 1751.0 KiB\n",
      "24/10/04 02:16:56 WARN DAGScheduler: Broadcasting large task binary with size 1755.6 KiB\n",
      "24/10/04 02:17:05 WARN DAGScheduler: Broadcasting large task binary with size 1751.0 KiB\n",
      "24/10/04 02:17:06 WARN DAGScheduler: Broadcasting large task binary with size 1755.6 KiB\n"
     ]
    },
    {
     "name": "stdout",
     "output_type": "stream",
     "text": [
      "966/966 - 42s - loss: 0.1743 - 42s/epoch - 44ms/step\n",
      "Epoch 16/50\n"
     ]
    },
    {
     "name": "stderr",
     "output_type": "stream",
     "text": [
      "24/10/04 02:17:16 WARN DAGScheduler: Broadcasting large task binary with size 1751.0 KiB\n",
      "24/10/04 02:17:17 WARN DAGScheduler: Broadcasting large task binary with size 1755.6 KiB\n",
      "24/10/04 02:17:26 WARN DAGScheduler: Broadcasting large task binary with size 1751.0 KiB\n",
      "24/10/04 02:17:27 WARN DAGScheduler: Broadcasting large task binary with size 1755.6 KiB\n",
      "24/10/04 02:17:37 WARN DAGScheduler: Broadcasting large task binary with size 1751.0 KiB\n",
      "24/10/04 02:17:38 WARN DAGScheduler: Broadcasting large task binary with size 1755.6 KiB\n",
      "24/10/04 02:17:47 WARN DAGScheduler: Broadcasting large task binary with size 1751.0 KiB\n",
      "[Stage 445:>                                                        (0 + 1) / 1]\r"
     ]
    },
    {
     "name": "stdout",
     "output_type": "stream",
     "text": [
      "966/966 - 42s - loss: 0.2114 - 42s/epoch - 43ms/step\n",
      "Epoch 17/50\n"
     ]
    },
    {
     "name": "stderr",
     "output_type": "stream",
     "text": [
      "24/10/04 02:17:48 WARN DAGScheduler: Broadcasting large task binary with size 1755.6 KiB\n",
      "24/10/04 02:17:57 WARN DAGScheduler: Broadcasting large task binary with size 1751.0 KiB\n",
      "24/10/04 02:17:58 WARN DAGScheduler: Broadcasting large task binary with size 1755.6 KiB\n",
      "24/10/04 02:18:07 WARN DAGScheduler: Broadcasting large task binary with size 1751.0 KiB\n",
      "24/10/04 02:18:09 WARN DAGScheduler: Broadcasting large task binary with size 1755.6 KiB\n",
      "24/10/04 02:18:17 WARN DAGScheduler: Broadcasting large task binary with size 1751.0 KiB\n",
      "24/10/04 02:18:18 WARN DAGScheduler: Broadcasting large task binary with size 1755.6 KiB\n",
      "24/10/04 02:18:27 WARN DAGScheduler: Broadcasting large task binary with size 1751.0 KiB\n",
      "[Stage 461:>                                                        (0 + 1) / 1]\r"
     ]
    },
    {
     "name": "stdout",
     "output_type": "stream",
     "text": [
      "966/966 - 40s - loss: 0.2118 - 40s/epoch - 41ms/step\n",
      "Epoch 18/50\n"
     ]
    },
    {
     "name": "stderr",
     "output_type": "stream",
     "text": [
      "24/10/04 02:18:29 WARN DAGScheduler: Broadcasting large task binary with size 1755.6 KiB\n",
      "24/10/04 02:18:38 WARN DAGScheduler: Broadcasting large task binary with size 1751.0 KiB\n",
      "24/10/04 02:18:39 WARN DAGScheduler: Broadcasting large task binary with size 1755.6 KiB\n",
      "24/10/04 02:18:49 WARN DAGScheduler: Broadcasting large task binary with size 1751.0 KiB\n",
      "24/10/04 02:18:50 WARN DAGScheduler: Broadcasting large task binary with size 1755.6 KiB\n",
      "24/10/04 02:18:59 WARN DAGScheduler: Broadcasting large task binary with size 1751.0 KiB\n",
      "24/10/04 02:19:01 WARN DAGScheduler: Broadcasting large task binary with size 1755.6 KiB\n",
      "[Stage 476:>                                                       (0 + 8) / 16]\r"
     ]
    },
    {
     "name": "stdout",
     "output_type": "stream",
     "text": [
      "966/966 - 34s - loss: 0.2153 - 34s/epoch - 35ms/step\n",
      "Epoch 19/50\n"
     ]
    },
    {
     "name": "stderr",
     "output_type": "stream",
     "text": [
      "24/10/04 02:19:09 WARN DAGScheduler: Broadcasting large task binary with size 1751.0 KiB\n",
      "24/10/04 02:19:10 WARN DAGScheduler: Broadcasting large task binary with size 1755.6 KiB\n",
      "24/10/04 02:19:20 WARN DAGScheduler: Broadcasting large task binary with size 1751.0 KiB\n",
      "24/10/04 02:19:21 WARN DAGScheduler: Broadcasting large task binary with size 1755.6 KiB\n",
      "24/10/04 02:19:31 WARN DAGScheduler: Broadcasting large task binary with size 1751.0 KiB\n",
      "24/10/04 02:19:32 WARN DAGScheduler: Broadcasting large task binary with size 1755.6 KiB\n",
      "24/10/04 02:19:41 WARN DAGScheduler: Broadcasting large task binary with size 1751.0 KiB\n",
      "24/10/04 02:19:43 WARN DAGScheduler: Broadcasting large task binary with size 1755.6 KiB\n",
      "[Stage 492:>                                                       (0 + 8) / 16]\r"
     ]
    },
    {
     "name": "stdout",
     "output_type": "stream",
     "text": [
      "966/966 - 41s - loss: 0.2133 - 41s/epoch - 43ms/step\n",
      "Epoch 20/50\n"
     ]
    },
    {
     "name": "stderr",
     "output_type": "stream",
     "text": [
      "24/10/04 02:19:52 WARN DAGScheduler: Broadcasting large task binary with size 1751.0 KiB\n",
      "24/10/04 02:19:53 WARN DAGScheduler: Broadcasting large task binary with size 1755.6 KiB\n",
      "24/10/04 02:20:02 WARN DAGScheduler: Broadcasting large task binary with size 1751.0 KiB\n",
      "24/10/04 02:20:04 WARN DAGScheduler: Broadcasting large task binary with size 1755.6 KiB\n",
      "24/10/04 02:20:13 WARN DAGScheduler: Broadcasting large task binary with size 1751.0 KiB\n",
      "24/10/04 02:20:14 WARN DAGScheduler: Broadcasting large task binary with size 1755.6 KiB\n",
      "24/10/04 02:20:23 WARN DAGScheduler: Broadcasting large task binary with size 1751.0 KiB\n",
      "[Stage 505:>                                                        (0 + 1) / 1]\r"
     ]
    },
    {
     "name": "stdout",
     "output_type": "stream",
     "text": [
      "966/966 - 41s - loss: 0.1748 - 41s/epoch - 42ms/step\n",
      "Epoch 21/50\n"
     ]
    },
    {
     "name": "stderr",
     "output_type": "stream",
     "text": [
      "24/10/04 02:20:24 WARN DAGScheduler: Broadcasting large task binary with size 1755.6 KiB\n",
      "24/10/04 02:20:33 WARN DAGScheduler: Broadcasting large task binary with size 1751.0 KiB\n",
      "24/10/04 02:20:35 WARN DAGScheduler: Broadcasting large task binary with size 1755.6 KiB\n",
      "24/10/04 02:20:44 WARN DAGScheduler: Broadcasting large task binary with size 1751.0 KiB\n",
      "24/10/04 02:20:45 WARN DAGScheduler: Broadcasting large task binary with size 1755.6 KiB\n",
      "24/10/04 02:20:55 WARN DAGScheduler: Broadcasting large task binary with size 1751.0 KiB\n",
      "24/10/04 02:20:56 WARN DAGScheduler: Broadcasting large task binary with size 1755.6 KiB\n",
      "24/10/04 02:21:07 WARN DAGScheduler: Broadcasting large task binary with size 1751.0 KiB\n",
      "[Stage 521:>                                                        (0 + 1) / 1]\r"
     ]
    },
    {
     "name": "stdout",
     "output_type": "stream",
     "text": [
      "966/966 - 44s - loss: 0.2096 - 44s/epoch - 45ms/step\n",
      "Epoch 22/50\n"
     ]
    },
    {
     "name": "stderr",
     "output_type": "stream",
     "text": [
      "24/10/04 02:21:08 WARN DAGScheduler: Broadcasting large task binary with size 1755.6 KiB\n",
      "24/10/04 02:21:17 WARN DAGScheduler: Broadcasting large task binary with size 1751.0 KiB\n",
      "24/10/04 02:21:18 WARN DAGScheduler: Broadcasting large task binary with size 1755.6 KiB\n",
      "24/10/04 02:21:26 WARN DAGScheduler: Broadcasting large task binary with size 1751.0 KiB\n",
      "24/10/04 02:21:28 WARN DAGScheduler: Broadcasting large task binary with size 1755.6 KiB\n",
      "24/10/04 02:21:37 WARN DAGScheduler: Broadcasting large task binary with size 1751.0 KiB\n",
      "24/10/04 02:21:38 WARN DAGScheduler: Broadcasting large task binary with size 1755.6 KiB\n",
      "24/10/04 02:21:47 WARN DAGScheduler: Broadcasting large task binary with size 1751.0 KiB\n",
      "[Stage 537:>                                                        (0 + 1) / 1]\r"
     ]
    },
    {
     "name": "stdout",
     "output_type": "stream",
     "text": [
      "966/966 - 40s - loss: 0.2150 - 40s/epoch - 41ms/step\n",
      "Epoch 23/50\n"
     ]
    },
    {
     "name": "stderr",
     "output_type": "stream",
     "text": [
      "24/10/04 02:21:48 WARN DAGScheduler: Broadcasting large task binary with size 1755.6 KiB\n",
      "24/10/04 02:21:57 WARN DAGScheduler: Broadcasting large task binary with size 1751.0 KiB\n",
      "24/10/04 02:21:58 WARN DAGScheduler: Broadcasting large task binary with size 1755.6 KiB\n",
      "24/10/04 02:22:07 WARN DAGScheduler: Broadcasting large task binary with size 1751.0 KiB\n",
      "24/10/04 02:22:08 WARN DAGScheduler: Broadcasting large task binary with size 1755.6 KiB\n",
      "24/10/04 02:22:17 WARN DAGScheduler: Broadcasting large task binary with size 1751.0 KiB\n",
      "24/10/04 02:22:18 WARN DAGScheduler: Broadcasting large task binary with size 1755.6 KiB\n",
      "[Stage 552:>                                                       (0 + 8) / 16]\r"
     ]
    },
    {
     "name": "stdout",
     "output_type": "stream",
     "text": [
      "966/966 - 32s - loss: 0.2143 - 32s/epoch - 33ms/step\n",
      "Epoch 24/50\n"
     ]
    },
    {
     "name": "stderr",
     "output_type": "stream",
     "text": [
      "24/10/04 02:22:28 WARN DAGScheduler: Broadcasting large task binary with size 1751.0 KiB\n",
      "24/10/04 02:22:29 WARN DAGScheduler: Broadcasting large task binary with size 1755.6 KiB\n",
      "24/10/04 02:22:39 WARN DAGScheduler: Broadcasting large task binary with size 1751.0 KiB\n",
      "24/10/04 02:22:40 WARN DAGScheduler: Broadcasting large task binary with size 1755.6 KiB\n",
      "24/10/04 02:22:49 WARN DAGScheduler: Broadcasting large task binary with size 1751.0 KiB\n",
      "24/10/04 02:22:50 WARN DAGScheduler: Broadcasting large task binary with size 1755.6 KiB\n",
      "24/10/04 02:23:00 WARN DAGScheduler: Broadcasting large task binary with size 1751.0 KiB\n",
      "24/10/04 02:23:01 WARN DAGScheduler: Broadcasting large task binary with size 1755.6 KiB\n"
     ]
    },
    {
     "name": "stdout",
     "output_type": "stream",
     "text": [
      "966/966 - 42s - loss: 0.1745 - 42s/epoch - 44ms/step\n",
      "Epoch 25/50\n"
     ]
    },
    {
     "name": "stderr",
     "output_type": "stream",
     "text": [
      "24/10/04 02:23:11 WARN DAGScheduler: Broadcasting large task binary with size 1751.0 KiB\n",
      "24/10/04 02:23:13 WARN DAGScheduler: Broadcasting large task binary with size 1755.6 KiB\n",
      "24/10/04 02:23:22 WARN DAGScheduler: Broadcasting large task binary with size 1751.0 KiB\n",
      "24/10/04 02:23:24 WARN DAGScheduler: Broadcasting large task binary with size 1755.6 KiB\n",
      "24/10/04 02:23:34 WARN DAGScheduler: Broadcasting large task binary with size 1751.0 KiB\n",
      "24/10/04 02:23:35 WARN DAGScheduler: Broadcasting large task binary with size 1755.6 KiB\n",
      "24/10/04 02:23:46 WARN DAGScheduler: Broadcasting large task binary with size 1751.0 KiB\n",
      "[Stage 581:>                                                        (0 + 1) / 1]\r"
     ]
    },
    {
     "name": "stdout",
     "output_type": "stream",
     "text": [
      "966/966 - 45s - loss: 0.2101 - 45s/epoch - 47ms/step\n",
      "Epoch 26/50\n"
     ]
    },
    {
     "name": "stderr",
     "output_type": "stream",
     "text": [
      "24/10/04 02:23:47 WARN DAGScheduler: Broadcasting large task binary with size 1755.6 KiB\n",
      "24/10/04 02:23:57 WARN DAGScheduler: Broadcasting large task binary with size 1751.0 KiB\n",
      "24/10/04 02:23:58 WARN DAGScheduler: Broadcasting large task binary with size 1755.6 KiB\n",
      "24/10/04 02:24:08 WARN DAGScheduler: Broadcasting large task binary with size 1751.0 KiB\n",
      "24/10/04 02:24:09 WARN DAGScheduler: Broadcasting large task binary with size 1755.6 KiB\n",
      "24/10/04 02:24:19 WARN DAGScheduler: Broadcasting large task binary with size 1751.0 KiB\n",
      "24/10/04 02:24:20 WARN DAGScheduler: Broadcasting large task binary with size 1755.6 KiB\n",
      "24/10/04 02:24:30 WARN DAGScheduler: Broadcasting large task binary with size 1751.0 KiB\n"
     ]
    },
    {
     "name": "stdout",
     "output_type": "stream",
     "text": [
      "966/966 - 44s - loss: 0.2133 - 44s/epoch - 45ms/step\n",
      "Epoch 27/50\n"
     ]
    },
    {
     "name": "stderr",
     "output_type": "stream",
     "text": [
      "24/10/04 02:24:31 WARN DAGScheduler: Broadcasting large task binary with size 1755.6 KiB\n",
      "24/10/04 02:24:40 WARN DAGScheduler: Broadcasting large task binary with size 1751.0 KiB\n",
      "24/10/04 02:24:42 WARN DAGScheduler: Broadcasting large task binary with size 1755.6 KiB\n",
      "24/10/04 02:24:52 WARN DAGScheduler: Broadcasting large task binary with size 1751.0 KiB\n",
      "24/10/04 02:24:54 WARN DAGScheduler: Broadcasting large task binary with size 1755.6 KiB\n",
      "24/10/04 02:25:04 WARN DAGScheduler: Broadcasting large task binary with size 1751.0 KiB\n",
      "24/10/04 02:25:05 WARN DAGScheduler: Broadcasting large task binary with size 1755.6 KiB\n",
      "[Stage 612:>                                                       (0 + 8) / 16]\r"
     ]
    },
    {
     "name": "stdout",
     "output_type": "stream",
     "text": [
      "966/966 - 35s - loss: 0.2149 - 35s/epoch - 37ms/step\n",
      "Epoch 28/50\n"
     ]
    },
    {
     "name": "stderr",
     "output_type": "stream",
     "text": [
      "24/10/04 02:25:15 WARN DAGScheduler: Broadcasting large task binary with size 1751.0 KiB\n",
      "24/10/04 02:25:17 WARN DAGScheduler: Broadcasting large task binary with size 1755.6 KiB\n",
      "24/10/04 02:25:26 WARN DAGScheduler: Broadcasting large task binary with size 1751.0 KiB\n",
      "24/10/04 02:25:27 WARN DAGScheduler: Broadcasting large task binary with size 1755.6 KiB\n",
      "24/10/04 02:25:38 WARN DAGScheduler: Broadcasting large task binary with size 1751.0 KiB\n",
      "24/10/04 02:25:39 WARN DAGScheduler: Broadcasting large task binary with size 1755.6 KiB\n",
      "24/10/04 02:25:49 WARN DAGScheduler: Broadcasting large task binary with size 1751.0 KiB\n",
      "24/10/04 02:25:50 WARN DAGScheduler: Broadcasting large task binary with size 1755.6 KiB\n"
     ]
    },
    {
     "name": "stdout",
     "output_type": "stream",
     "text": [
      "966/966 - 44s - loss: 0.2099 - 44s/epoch - 46ms/step\n",
      "Epoch 29/50\n"
     ]
    },
    {
     "name": "stderr",
     "output_type": "stream",
     "text": [
      "24/10/04 02:26:00 WARN DAGScheduler: Broadcasting large task binary with size 1751.0 KiB\n",
      "24/10/04 02:26:01 WARN DAGScheduler: Broadcasting large task binary with size 1755.6 KiB\n",
      "24/10/04 02:26:11 WARN DAGScheduler: Broadcasting large task binary with size 1751.0 KiB\n",
      "24/10/04 02:26:12 WARN DAGScheduler: Broadcasting large task binary with size 1755.6 KiB\n",
      "24/10/04 02:26:22 WARN DAGScheduler: Broadcasting large task binary with size 1751.0 KiB\n",
      "24/10/04 02:26:24 WARN DAGScheduler: Broadcasting large task binary with size 1755.6 KiB\n",
      "24/10/04 02:26:34 WARN DAGScheduler: Broadcasting large task binary with size 1751.0 KiB\n",
      "[Stage 641:>                                                        (0 + 1) / 1]\r"
     ]
    },
    {
     "name": "stdout",
     "output_type": "stream",
     "text": [
      "966/966 - 44s - loss: 0.1782 - 44s/epoch - 46ms/step\n",
      "Epoch 30/50\n"
     ]
    },
    {
     "name": "stderr",
     "output_type": "stream",
     "text": [
      "24/10/04 02:26:35 WARN DAGScheduler: Broadcasting large task binary with size 1755.6 KiB\n",
      "24/10/04 02:26:45 WARN DAGScheduler: Broadcasting large task binary with size 1751.0 KiB\n",
      "24/10/04 02:26:46 WARN DAGScheduler: Broadcasting large task binary with size 1755.6 KiB\n",
      "24/10/04 02:26:56 WARN DAGScheduler: Broadcasting large task binary with size 1751.0 KiB\n",
      "24/10/04 02:26:58 WARN DAGScheduler: Broadcasting large task binary with size 1755.6 KiB\n",
      "24/10/04 02:27:08 WARN DAGScheduler: Broadcasting large task binary with size 1751.0 KiB\n",
      "24/10/04 02:27:09 WARN DAGScheduler: Broadcasting large task binary with size 1755.6 KiB\n",
      "24/10/04 02:27:19 WARN DAGScheduler: Broadcasting large task binary with size 1751.0 KiB\n",
      "[Stage 657:>                                                        (0 + 1) / 1]\r"
     ]
    },
    {
     "name": "stdout",
     "output_type": "stream",
     "text": [
      "966/966 - 45s - loss: 0.2090 - 45s/epoch - 46ms/step\n",
      "Epoch 31/50\n"
     ]
    },
    {
     "name": "stderr",
     "output_type": "stream",
     "text": [
      "24/10/04 02:27:20 WARN DAGScheduler: Broadcasting large task binary with size 1755.6 KiB\n",
      "24/10/04 02:27:29 WARN DAGScheduler: Broadcasting large task binary with size 1751.0 KiB\n",
      "24/10/04 02:27:31 WARN DAGScheduler: Broadcasting large task binary with size 1755.6 KiB\n",
      "24/10/04 02:27:41 WARN DAGScheduler: Broadcasting large task binary with size 1751.0 KiB\n",
      "24/10/04 02:27:42 WARN DAGScheduler: Broadcasting large task binary with size 1755.6 KiB\n",
      "24/10/04 02:27:50 WARN DAGScheduler: Broadcasting large task binary with size 1751.0 KiB\n",
      "24/10/04 02:27:51 WARN DAGScheduler: Broadcasting large task binary with size 1755.6 KiB\n",
      "[Stage 672:>                                                       (0 + 8) / 16]\r"
     ]
    },
    {
     "name": "stdout",
     "output_type": "stream",
     "text": [
      "966/966 - 34s - loss: 0.2154 - 34s/epoch - 35ms/step\n",
      "Epoch 32/50\n"
     ]
    },
    {
     "name": "stderr",
     "output_type": "stream",
     "text": [
      "24/10/04 02:28:00 WARN DAGScheduler: Broadcasting large task binary with size 1751.0 KiB\n",
      "24/10/04 02:28:02 WARN DAGScheduler: Broadcasting large task binary with size 1755.6 KiB\n",
      "24/10/04 02:28:11 WARN DAGScheduler: Broadcasting large task binary with size 1751.0 KiB\n",
      "24/10/04 02:28:13 WARN DAGScheduler: Broadcasting large task binary with size 1755.6 KiB\n",
      "24/10/04 02:28:23 WARN DAGScheduler: Broadcasting large task binary with size 1751.0 KiB\n",
      "24/10/04 02:28:24 WARN DAGScheduler: Broadcasting large task binary with size 1755.6 KiB\n",
      "24/10/04 02:28:33 WARN DAGScheduler: Broadcasting large task binary with size 1751.0 KiB\n",
      "24/10/04 02:28:34 WARN DAGScheduler: Broadcasting large task binary with size 1755.6 KiB\n",
      "[Stage 688:>                                                       (0 + 8) / 16]\r"
     ]
    },
    {
     "name": "stdout",
     "output_type": "stream",
     "text": [
      "966/966 - 42s - loss: 0.2139 - 42s/epoch - 43ms/step\n",
      "Epoch 33/50\n"
     ]
    },
    {
     "name": "stderr",
     "output_type": "stream",
     "text": [
      "24/10/04 02:28:44 WARN DAGScheduler: Broadcasting large task binary with size 1751.0 KiB\n",
      "24/10/04 02:28:45 WARN DAGScheduler: Broadcasting large task binary with size 1755.6 KiB\n",
      "24/10/04 02:28:55 WARN DAGScheduler: Broadcasting large task binary with size 1751.0 KiB\n",
      "24/10/04 02:28:56 WARN DAGScheduler: Broadcasting large task binary with size 1755.6 KiB\n",
      "24/10/04 02:29:05 WARN DAGScheduler: Broadcasting large task binary with size 1751.0 KiB\n",
      "24/10/04 02:29:06 WARN DAGScheduler: Broadcasting large task binary with size 1755.6 KiB\n",
      "24/10/04 02:29:17 WARN DAGScheduler: Broadcasting large task binary with size 1751.0 KiB\n",
      "24/10/04 02:29:18 WARN DAGScheduler: Broadcasting large task binary with size 1755.6 KiB\n"
     ]
    },
    {
     "name": "stdout",
     "output_type": "stream",
     "text": [
      "966/966 - 43s - loss: 0.1753 - 43s/epoch - 44ms/step\n",
      "Epoch 34/50\n"
     ]
    },
    {
     "name": "stderr",
     "output_type": "stream",
     "text": [
      "24/10/04 02:29:27 WARN DAGScheduler: Broadcasting large task binary with size 1751.0 KiB\n",
      "24/10/04 02:29:29 WARN DAGScheduler: Broadcasting large task binary with size 1755.6 KiB\n",
      "24/10/04 02:29:38 WARN DAGScheduler: Broadcasting large task binary with size 1751.0 KiB\n",
      "24/10/04 02:29:39 WARN DAGScheduler: Broadcasting large task binary with size 1755.6 KiB\n",
      "24/10/04 02:29:48 WARN DAGScheduler: Broadcasting large task binary with size 1751.0 KiB\n",
      "24/10/04 02:29:50 WARN DAGScheduler: Broadcasting large task binary with size 1755.6 KiB\n",
      "24/10/04 02:29:59 WARN DAGScheduler: Broadcasting large task binary with size 1751.0 KiB\n",
      "[Stage 717:>                                                        (0 + 1) / 1]\r"
     ]
    },
    {
     "name": "stdout",
     "output_type": "stream",
     "text": [
      "966/966 - 42s - loss: 0.2100 - 42s/epoch - 44ms/step\n",
      "Epoch 35/50\n"
     ]
    },
    {
     "name": "stderr",
     "output_type": "stream",
     "text": [
      "24/10/04 02:30:01 WARN DAGScheduler: Broadcasting large task binary with size 1755.6 KiB\n",
      "24/10/04 02:30:11 WARN DAGScheduler: Broadcasting large task binary with size 1751.0 KiB\n",
      "24/10/04 02:30:13 WARN DAGScheduler: Broadcasting large task binary with size 1755.6 KiB\n",
      "24/10/04 02:30:23 WARN DAGScheduler: Broadcasting large task binary with size 1751.0 KiB\n",
      "24/10/04 02:30:24 WARN DAGScheduler: Broadcasting large task binary with size 1755.6 KiB\n",
      "24/10/04 02:30:33 WARN DAGScheduler: Broadcasting large task binary with size 1751.0 KiB\n",
      "24/10/04 02:30:35 WARN DAGScheduler: Broadcasting large task binary with size 1755.6 KiB\n",
      "24/10/04 02:30:44 WARN DAGScheduler: Broadcasting large task binary with size 1751.0 KiB\n"
     ]
    },
    {
     "name": "stdout",
     "output_type": "stream",
     "text": [
      "966/966 - 44s - loss: 0.2134 - 44s/epoch - 46ms/step\n",
      "Epoch 36/50\n"
     ]
    },
    {
     "name": "stderr",
     "output_type": "stream",
     "text": [
      "24/10/04 02:30:45 WARN DAGScheduler: Broadcasting large task binary with size 1755.6 KiB\n",
      "24/10/04 02:30:56 WARN DAGScheduler: Broadcasting large task binary with size 1751.0 KiB\n",
      "24/10/04 02:30:57 WARN DAGScheduler: Broadcasting large task binary with size 1755.6 KiB\n",
      "24/10/04 02:31:07 WARN DAGScheduler: Broadcasting large task binary with size 1751.0 KiB\n",
      "24/10/04 02:31:08 WARN DAGScheduler: Broadcasting large task binary with size 1755.6 KiB\n",
      "24/10/04 02:31:18 WARN DAGScheduler: Broadcasting large task binary with size 1751.0 KiB\n",
      "24/10/04 02:31:19 WARN DAGScheduler: Broadcasting large task binary with size 1755.6 KiB\n",
      "[Stage 748:>                                                       (0 + 8) / 16]\r"
     ]
    },
    {
     "name": "stdout",
     "output_type": "stream",
     "text": [
      "966/966 - 36s - loss: 0.2147 - 36s/epoch - 37ms/step\n",
      "Epoch 37/50\n"
     ]
    },
    {
     "name": "stderr",
     "output_type": "stream",
     "text": [
      "24/10/04 02:31:30 WARN DAGScheduler: Broadcasting large task binary with size 1751.0 KiB\n",
      "24/10/04 02:31:31 WARN DAGScheduler: Broadcasting large task binary with size 1755.6 KiB\n",
      "24/10/04 02:31:41 WARN DAGScheduler: Broadcasting large task binary with size 1751.0 KiB\n",
      "24/10/04 02:31:42 WARN DAGScheduler: Broadcasting large task binary with size 1755.6 KiB\n",
      "24/10/04 02:31:52 WARN DAGScheduler: Broadcasting large task binary with size 1751.0 KiB\n",
      "24/10/04 02:31:54 WARN DAGScheduler: Broadcasting large task binary with size 1755.6 KiB\n",
      "24/10/04 02:32:04 WARN DAGScheduler: Broadcasting large task binary with size 1751.0 KiB\n",
      "24/10/04 02:32:05 WARN DAGScheduler: Broadcasting large task binary with size 1755.6 KiB\n"
     ]
    },
    {
     "name": "stdout",
     "output_type": "stream",
     "text": [
      "966/966 - 45s - loss: 0.1741 - 45s/epoch - 46ms/step\n",
      "Epoch 38/50\n"
     ]
    },
    {
     "name": "stderr",
     "output_type": "stream",
     "text": [
      "24/10/04 02:32:15 WARN DAGScheduler: Broadcasting large task binary with size 1751.0 KiB\n",
      "24/10/04 02:32:17 WARN DAGScheduler: Broadcasting large task binary with size 1755.6 KiB\n",
      "24/10/04 02:32:34 WARN DAGScheduler: Broadcasting large task binary with size 1751.0 KiB\n",
      "24/10/04 02:32:35 WARN DAGScheduler: Broadcasting large task binary with size 1755.6 KiB\n",
      "24/10/04 02:32:52 WARN DAGScheduler: Broadcasting large task binary with size 1751.0 KiB\n",
      "24/10/04 02:32:53 WARN DAGScheduler: Broadcasting large task binary with size 1755.6 KiB\n",
      "24/10/04 02:33:03 WARN DAGScheduler: Broadcasting large task binary with size 1751.0 KiB\n",
      "[Stage 777:>                                                        (0 + 1) / 1]\r"
     ]
    },
    {
     "name": "stdout",
     "output_type": "stream",
     "text": [
      "966/966 - 59s - loss: 0.2127 - 59s/epoch - 61ms/step\n",
      "Epoch 39/50\n"
     ]
    },
    {
     "name": "stderr",
     "output_type": "stream",
     "text": [
      "24/10/04 02:33:05 WARN DAGScheduler: Broadcasting large task binary with size 1755.6 KiB\n",
      "24/10/04 02:33:15 WARN DAGScheduler: Broadcasting large task binary with size 1751.0 KiB\n",
      "24/10/04 02:33:17 WARN DAGScheduler: Broadcasting large task binary with size 1755.6 KiB\n",
      "24/10/04 02:33:25 WARN DAGScheduler: Broadcasting large task binary with size 1751.0 KiB\n",
      "24/10/04 02:33:27 WARN DAGScheduler: Broadcasting large task binary with size 1755.6 KiB\n",
      "24/10/04 02:33:37 WARN DAGScheduler: Broadcasting large task binary with size 1751.0 KiB\n",
      "24/10/04 02:33:38 WARN DAGScheduler: Broadcasting large task binary with size 1755.6 KiB\n",
      "24/10/04 02:33:47 WARN DAGScheduler: Broadcasting large task binary with size 1751.0 KiB\n"
     ]
    },
    {
     "name": "stdout",
     "output_type": "stream",
     "text": [
      "966/966 - 43s - loss: 0.2103 - 43s/epoch - 45ms/step\n",
      "Epoch 40/50\n"
     ]
    },
    {
     "name": "stderr",
     "output_type": "stream",
     "text": [
      "24/10/04 02:33:48 WARN DAGScheduler: Broadcasting large task binary with size 1755.6 KiB\n",
      "24/10/04 02:33:58 WARN DAGScheduler: Broadcasting large task binary with size 1751.0 KiB\n",
      "24/10/04 02:33:59 WARN DAGScheduler: Broadcasting large task binary with size 1755.6 KiB\n",
      "24/10/04 02:34:10 WARN DAGScheduler: Broadcasting large task binary with size 1751.0 KiB\n",
      "24/10/04 02:34:11 WARN DAGScheduler: Broadcasting large task binary with size 1755.6 KiB\n",
      "24/10/04 02:34:22 WARN DAGScheduler: Broadcasting large task binary with size 1751.0 KiB\n",
      "24/10/04 02:34:23 WARN DAGScheduler: Broadcasting large task binary with size 1755.6 KiB\n",
      "[Stage 808:>                                                       (0 + 8) / 16]\r"
     ]
    },
    {
     "name": "stdout",
     "output_type": "stream",
     "text": [
      "966/966 - 36s - loss: 0.2153 - 36s/epoch - 38ms/step\n",
      "Epoch 41/50\n"
     ]
    },
    {
     "name": "stderr",
     "output_type": "stream",
     "text": [
      "24/10/04 02:34:32 WARN DAGScheduler: Broadcasting large task binary with size 1751.0 KiB\n",
      "24/10/04 02:34:34 WARN DAGScheduler: Broadcasting large task binary with size 1755.6 KiB\n",
      "24/10/04 02:34:44 WARN DAGScheduler: Broadcasting large task binary with size 1751.0 KiB\n",
      "24/10/04 02:34:45 WARN DAGScheduler: Broadcasting large task binary with size 1755.6 KiB\n",
      "24/10/04 02:34:55 WARN DAGScheduler: Broadcasting large task binary with size 1751.0 KiB\n",
      "24/10/04 02:34:57 WARN DAGScheduler: Broadcasting large task binary with size 1755.6 KiB\n",
      "24/10/04 02:35:07 WARN DAGScheduler: Broadcasting large task binary with size 1751.0 KiB\n",
      "24/10/04 02:35:08 WARN DAGScheduler: Broadcasting large task binary with size 1755.6 KiB\n",
      "[Stage 824:>                                                       (0 + 8) / 16]\r"
     ]
    },
    {
     "name": "stdout",
     "output_type": "stream",
     "text": [
      "966/966 - 45s - loss: 0.2135 - 45s/epoch - 47ms/step\n",
      "Epoch 42/50\n"
     ]
    },
    {
     "name": "stderr",
     "output_type": "stream",
     "text": [
      "24/10/04 02:35:19 WARN DAGScheduler: Broadcasting large task binary with size 1751.0 KiB\n",
      "24/10/04 02:35:20 WARN DAGScheduler: Broadcasting large task binary with size 1755.6 KiB\n",
      "24/10/04 02:35:30 WARN DAGScheduler: Broadcasting large task binary with size 1751.0 KiB\n",
      "24/10/04 02:35:32 WARN DAGScheduler: Broadcasting large task binary with size 1755.6 KiB\n",
      "24/10/04 02:35:42 WARN DAGScheduler: Broadcasting large task binary with size 1751.0 KiB\n",
      "24/10/04 02:35:43 WARN DAGScheduler: Broadcasting large task binary with size 1755.6 KiB\n",
      "24/10/04 02:35:53 WARN DAGScheduler: Broadcasting large task binary with size 1751.0 KiB\n",
      "24/10/04 02:35:54 WARN DAGScheduler: Broadcasting large task binary with size 1755.6 KiB\n"
     ]
    },
    {
     "name": "stdout",
     "output_type": "stream",
     "text": [
      "966/966 - 45s - loss: 0.1754 - 45s/epoch - 46ms/step\n",
      "Epoch 43/50\n"
     ]
    },
    {
     "name": "stderr",
     "output_type": "stream",
     "text": [
      "24/10/04 02:36:04 WARN DAGScheduler: Broadcasting large task binary with size 1751.0 KiB\n",
      "24/10/04 02:36:05 WARN DAGScheduler: Broadcasting large task binary with size 1755.6 KiB\n",
      "24/10/04 02:36:14 WARN DAGScheduler: Broadcasting large task binary with size 1751.0 KiB\n",
      "24/10/04 02:36:15 WARN DAGScheduler: Broadcasting large task binary with size 1755.6 KiB\n",
      "24/10/04 02:36:25 WARN DAGScheduler: Broadcasting large task binary with size 1751.0 KiB\n",
      "24/10/04 02:36:26 WARN DAGScheduler: Broadcasting large task binary with size 1755.6 KiB\n",
      "24/10/04 02:36:36 WARN DAGScheduler: Broadcasting large task binary with size 1751.0 KiB\n",
      "[Stage 853:>                                                        (0 + 1) / 1]\r"
     ]
    },
    {
     "name": "stdout",
     "output_type": "stream",
     "text": [
      "966/966 - 43s - loss: 0.2086 - 43s/epoch - 44ms/step\n",
      "Epoch 44/50\n"
     ]
    },
    {
     "name": "stderr",
     "output_type": "stream",
     "text": [
      "24/10/04 02:36:37 WARN DAGScheduler: Broadcasting large task binary with size 1755.6 KiB\n",
      "24/10/04 02:36:47 WARN DAGScheduler: Broadcasting large task binary with size 1751.0 KiB\n",
      "24/10/04 02:36:48 WARN DAGScheduler: Broadcasting large task binary with size 1755.6 KiB\n",
      "24/10/04 02:36:58 WARN DAGScheduler: Broadcasting large task binary with size 1751.0 KiB\n",
      "24/10/04 02:36:59 WARN DAGScheduler: Broadcasting large task binary with size 1755.6 KiB\n",
      "24/10/04 02:37:09 WARN DAGScheduler: Broadcasting large task binary with size 1751.0 KiB\n",
      "24/10/04 02:37:10 WARN DAGScheduler: Broadcasting large task binary with size 1755.6 KiB\n",
      "24/10/04 02:37:19 WARN DAGScheduler: Broadcasting large task binary with size 1751.0 KiB\n"
     ]
    },
    {
     "name": "stdout",
     "output_type": "stream",
     "text": [
      "966/966 - 42s - loss: 0.2151 - 42s/epoch - 44ms/step\n",
      "Epoch 45/50\n"
     ]
    },
    {
     "name": "stderr",
     "output_type": "stream",
     "text": [
      "24/10/04 02:37:20 WARN DAGScheduler: Broadcasting large task binary with size 1755.6 KiB\n",
      "24/10/04 02:37:29 WARN DAGScheduler: Broadcasting large task binary with size 1751.0 KiB\n",
      "24/10/04 02:37:31 WARN DAGScheduler: Broadcasting large task binary with size 1755.6 KiB\n",
      "24/10/04 02:37:40 WARN DAGScheduler: Broadcasting large task binary with size 1751.0 KiB\n",
      "24/10/04 02:37:41 WARN DAGScheduler: Broadcasting large task binary with size 1755.6 KiB\n",
      "24/10/04 02:37:50 WARN DAGScheduler: Broadcasting large task binary with size 1751.0 KiB\n",
      "24/10/04 02:37:51 WARN DAGScheduler: Broadcasting large task binary with size 1755.6 KiB\n",
      "[Stage 884:>                                                       (0 + 8) / 16]\r"
     ]
    },
    {
     "name": "stdout",
     "output_type": "stream",
     "text": [
      "966/966 - 33s - loss: 0.2144 - 33s/epoch - 34ms/step\n",
      "Epoch 46/50\n"
     ]
    },
    {
     "name": "stderr",
     "output_type": "stream",
     "text": [
      "24/10/04 02:38:02 WARN DAGScheduler: Broadcasting large task binary with size 1751.0 KiB\n",
      "24/10/04 02:38:03 WARN DAGScheduler: Broadcasting large task binary with size 1755.6 KiB\n",
      "24/10/04 02:38:13 WARN DAGScheduler: Broadcasting large task binary with size 1751.0 KiB\n",
      "24/10/04 02:38:14 WARN DAGScheduler: Broadcasting large task binary with size 1755.6 KiB\n",
      "24/10/04 02:38:24 WARN DAGScheduler: Broadcasting large task binary with size 1751.0 KiB\n",
      "24/10/04 02:38:26 WARN DAGScheduler: Broadcasting large task binary with size 1755.6 KiB\n",
      "24/10/04 02:38:37 WARN DAGScheduler: Broadcasting large task binary with size 1751.0 KiB\n",
      "24/10/04 02:38:39 WARN DAGScheduler: Broadcasting large task binary with size 1755.6 KiB\n"
     ]
    },
    {
     "name": "stdout",
     "output_type": "stream",
     "text": [
      "966/966 - 47s - loss: 0.1742 - 47s/epoch - 49ms/step\n",
      "Epoch 47/50\n"
     ]
    },
    {
     "name": "stderr",
     "output_type": "stream",
     "text": [
      "24/10/04 02:38:48 WARN DAGScheduler: Broadcasting large task binary with size 1751.0 KiB\n",
      "24/10/04 02:38:50 WARN DAGScheduler: Broadcasting large task binary with size 1755.6 KiB\n",
      "24/10/04 02:39:00 WARN DAGScheduler: Broadcasting large task binary with size 1751.0 KiB\n",
      "24/10/04 02:39:01 WARN DAGScheduler: Broadcasting large task binary with size 1755.6 KiB\n",
      "24/10/04 02:39:10 WARN DAGScheduler: Broadcasting large task binary with size 1751.0 KiB\n",
      "24/10/04 02:39:12 WARN DAGScheduler: Broadcasting large task binary with size 1755.6 KiB\n",
      "24/10/04 02:39:23 WARN DAGScheduler: Broadcasting large task binary with size 1751.0 KiB\n",
      "[Stage 913:>                                                        (0 + 1) / 1]\r"
     ]
    },
    {
     "name": "stdout",
     "output_type": "stream",
     "text": [
      "966/966 - 45s - loss: 0.2104 - 45s/epoch - 46ms/step\n",
      "Epoch 48/50\n"
     ]
    },
    {
     "name": "stderr",
     "output_type": "stream",
     "text": [
      "24/10/04 02:39:24 WARN DAGScheduler: Broadcasting large task binary with size 1755.6 KiB\n",
      "24/10/04 02:39:34 WARN DAGScheduler: Broadcasting large task binary with size 1751.0 KiB\n",
      "24/10/04 02:39:36 WARN DAGScheduler: Broadcasting large task binary with size 1755.6 KiB\n",
      "24/10/04 02:39:46 WARN DAGScheduler: Broadcasting large task binary with size 1751.0 KiB\n",
      "24/10/04 02:39:48 WARN DAGScheduler: Broadcasting large task binary with size 1755.6 KiB\n",
      "24/10/04 02:39:58 WARN DAGScheduler: Broadcasting large task binary with size 1751.0 KiB\n",
      "24/10/04 02:39:59 WARN DAGScheduler: Broadcasting large task binary with size 1755.6 KiB\n",
      "24/10/04 02:40:10 WARN DAGScheduler: Broadcasting large task binary with size 1751.0 KiB\n",
      "[Stage 929:>                                                        (0 + 1) / 1]\r"
     ]
    },
    {
     "name": "stdout",
     "output_type": "stream",
     "text": [
      "966/966 - 47s - loss: 0.2128 - 47s/epoch - 49ms/step\n",
      "Epoch 49/50\n"
     ]
    },
    {
     "name": "stderr",
     "output_type": "stream",
     "text": [
      "24/10/04 02:40:12 WARN DAGScheduler: Broadcasting large task binary with size 1755.6 KiB\n",
      "24/10/04 02:40:22 WARN DAGScheduler: Broadcasting large task binary with size 1751.0 KiB\n",
      "24/10/04 02:40:23 WARN DAGScheduler: Broadcasting large task binary with size 1755.6 KiB\n",
      "24/10/04 02:40:33 WARN DAGScheduler: Broadcasting large task binary with size 1751.0 KiB\n",
      "24/10/04 02:40:35 WARN DAGScheduler: Broadcasting large task binary with size 1755.6 KiB\n",
      "24/10/04 02:40:44 WARN DAGScheduler: Broadcasting large task binary with size 1751.0 KiB\n",
      "24/10/04 02:40:46 WARN DAGScheduler: Broadcasting large task binary with size 1755.6 KiB\n",
      "[Stage 944:>                                                       (0 + 8) / 16]\r"
     ]
    },
    {
     "name": "stdout",
     "output_type": "stream",
     "text": [
      "966/966 - 35s - loss: 0.2149 - 35s/epoch - 37ms/step\n",
      "Epoch 50/50\n"
     ]
    },
    {
     "name": "stderr",
     "output_type": "stream",
     "text": [
      "24/10/04 02:40:55 WARN DAGScheduler: Broadcasting large task binary with size 1751.0 KiB\n",
      "24/10/04 02:40:56 WARN DAGScheduler: Broadcasting large task binary with size 1755.6 KiB\n",
      "24/10/04 02:41:06 WARN DAGScheduler: Broadcasting large task binary with size 1751.0 KiB\n",
      "24/10/04 02:41:07 WARN DAGScheduler: Broadcasting large task binary with size 1755.6 KiB\n",
      "24/10/04 02:41:16 WARN DAGScheduler: Broadcasting large task binary with size 1751.0 KiB\n",
      "24/10/04 02:41:18 WARN DAGScheduler: Broadcasting large task binary with size 1755.6 KiB\n",
      "24/10/04 02:41:27 WARN DAGScheduler: Broadcasting large task binary with size 1751.0 KiB\n",
      "24/10/04 02:41:29 WARN DAGScheduler: Broadcasting large task binary with size 1755.6 KiB\n"
     ]
    },
    {
     "name": "stdout",
     "output_type": "stream",
     "text": [
      "966/966 - 43s - loss: 0.2104 - 43s/epoch - 44ms/step\n"
     ]
    },
    {
     "name": "stderr",
     "output_type": "stream",
     "text": [
      "24/10/04 02:41:38 WARN DAGScheduler: Broadcasting large task binary with size 1751.0 KiB\n",
      "[Stage 961:>                                                        (0 + 1) / 1]\r"
     ]
    },
    {
     "name": "stdout",
     "output_type": "stream",
     "text": [
      "Training complete.\n"
     ]
    },
    {
     "data": {
      "text/plain": [
       "<keras.src.callbacks.History at 0x295ae9f90>"
      ]
     },
     "execution_count": 14,
     "metadata": {},
     "output_type": "execute_result"
    }
   ],
   "source": [
    "# mx_submits_fe.reduce_dataframe_size()\n",
    "mx_submits_fe.train_autoencoder()"
   ]
  },
  {
   "cell_type": "code",
   "execution_count": null,
   "id": "a31271b8-bdbb-4e28-bc06-75958134c51c",
   "metadata": {},
   "outputs": [
    {
     "name": "stderr",
     "output_type": "stream",
     "text": [
      "24/10/04 02:41:40 WARN DAGScheduler: Broadcasting large task binary with size 1742.4 KiB\n",
      "                                                                                \r"
     ]
    }
   ],
   "source": [
    "corr_features = mx_submits_fe.plot_correlation_heatmap()\n",
    "corr_features.to_csv(\"../output/feature_correlation.csv\")"
   ]
  },
  {
   "cell_type": "code",
   "execution_count": null,
   "id": "3c5f98fc-f477-49b0-900c-6917783d555b",
   "metadata": {},
   "outputs": [],
   "source": [
    "mx_submits_fe.get_sorted_feature_correlations().head(20)"
   ]
  },
  {
   "cell_type": "code",
   "execution_count": 16,
   "id": "7b69905b-8455-4ec0-9f6c-f7e0341a3f7a",
   "metadata": {},
   "outputs": [
    {
     "name": "stderr",
     "output_type": "stream",
     "text": [
      "24/10/04 01:11:54 WARN DAGScheduler: Broadcasting large task binary with size 1527.7 KiB\n"
     ]
    },
    {
     "name": "stdout",
     "output_type": "stream",
     "text": [
      "32/32 [==============================] - 0s 1ms/step\n"
     ]
    },
    {
     "data": {
      "text/html": [
       "<div>\n",
       "<style scoped>\n",
       "    .dataframe tbody tr th:only-of-type {\n",
       "        vertical-align: middle;\n",
       "    }\n",
       "\n",
       "    .dataframe tbody tr th {\n",
       "        vertical-align: top;\n",
       "    }\n",
       "\n",
       "    .dataframe thead th {\n",
       "        text-align: right;\n",
       "    }\n",
       "</style>\n",
       "<table border=\"1\" class=\"dataframe\">\n",
       "  <thead>\n",
       "    <tr style=\"text-align: right;\">\n",
       "      <th></th>\n",
       "      <th>Feature</th>\n",
       "      <th>Average Correlation with Dense Layer</th>\n",
       "    </tr>\n",
       "  </thead>\n",
       "  <tbody>\n",
       "    <tr>\n",
       "      <th>347</th>\n",
       "      <td>347</td>\n",
       "      <td>0.438613</td>\n",
       "    </tr>\n",
       "    <tr>\n",
       "      <th>86</th>\n",
       "      <td>86</td>\n",
       "      <td>0.295317</td>\n",
       "    </tr>\n",
       "    <tr>\n",
       "      <th>120</th>\n",
       "      <td>120</td>\n",
       "      <td>0.222609</td>\n",
       "    </tr>\n",
       "    <tr>\n",
       "      <th>90</th>\n",
       "      <td>90</td>\n",
       "      <td>0.156396</td>\n",
       "    </tr>\n",
       "    <tr>\n",
       "      <th>240</th>\n",
       "      <td>240</td>\n",
       "      <td>0.147496</td>\n",
       "    </tr>\n",
       "    <tr>\n",
       "      <th>11242</th>\n",
       "      <td>11242</td>\n",
       "      <td>0.115945</td>\n",
       "    </tr>\n",
       "    <tr>\n",
       "      <th>281</th>\n",
       "      <td>281</td>\n",
       "      <td>0.112414</td>\n",
       "    </tr>\n",
       "    <tr>\n",
       "      <th>239</th>\n",
       "      <td>239</td>\n",
       "      <td>0.110201</td>\n",
       "    </tr>\n",
       "    <tr>\n",
       "      <th>112</th>\n",
       "      <td>112</td>\n",
       "      <td>0.108094</td>\n",
       "    </tr>\n",
       "    <tr>\n",
       "      <th>14</th>\n",
       "      <td>14</td>\n",
       "      <td>0.105733</td>\n",
       "    </tr>\n",
       "    <tr>\n",
       "      <th>303</th>\n",
       "      <td>303</td>\n",
       "      <td>0.099944</td>\n",
       "    </tr>\n",
       "    <tr>\n",
       "      <th>66</th>\n",
       "      <td>66</td>\n",
       "      <td>0.092792</td>\n",
       "    </tr>\n",
       "    <tr>\n",
       "      <th>128</th>\n",
       "      <td>128</td>\n",
       "      <td>0.089634</td>\n",
       "    </tr>\n",
       "    <tr>\n",
       "      <th>199</th>\n",
       "      <td>199</td>\n",
       "      <td>0.086606</td>\n",
       "    </tr>\n",
       "    <tr>\n",
       "      <th>116</th>\n",
       "      <td>116</td>\n",
       "      <td>0.078367</td>\n",
       "    </tr>\n",
       "    <tr>\n",
       "      <th>113</th>\n",
       "      <td>113</td>\n",
       "      <td>0.078367</td>\n",
       "    </tr>\n",
       "    <tr>\n",
       "      <th>124</th>\n",
       "      <td>124</td>\n",
       "      <td>0.078367</td>\n",
       "    </tr>\n",
       "    <tr>\n",
       "      <th>272</th>\n",
       "      <td>272</td>\n",
       "      <td>0.074622</td>\n",
       "    </tr>\n",
       "    <tr>\n",
       "      <th>275</th>\n",
       "      <td>275</td>\n",
       "      <td>0.074622</td>\n",
       "    </tr>\n",
       "    <tr>\n",
       "      <th>68</th>\n",
       "      <td>68</td>\n",
       "      <td>0.071142</td>\n",
       "    </tr>\n",
       "  </tbody>\n",
       "</table>\n",
       "</div>"
      ],
      "text/plain": [
       "       Feature  Average Correlation with Dense Layer\n",
       "347        347                              0.438613\n",
       "86          86                              0.295317\n",
       "120        120                              0.222609\n",
       "90          90                              0.156396\n",
       "240        240                              0.147496\n",
       "11242    11242                              0.115945\n",
       "281        281                              0.112414\n",
       "239        239                              0.110201\n",
       "112        112                              0.108094\n",
       "14          14                              0.105733\n",
       "303        303                              0.099944\n",
       "66          66                              0.092792\n",
       "128        128                              0.089634\n",
       "199        199                              0.086606\n",
       "116        116                              0.078367\n",
       "113        113                              0.078367\n",
       "124        124                              0.078367\n",
       "272        272                              0.074622\n",
       "275        275                              0.074622\n",
       "68          68                              0.071142"
      ]
     },
     "execution_count": 16,
     "metadata": {},
     "output_type": "execute_result"
    }
   ],
   "source": [
    "mx_submits_fe.get_sorted_feature_correlations().head(20)"
   ]
  },
  {
   "cell_type": "code",
   "execution_count": 17,
   "id": "9754e414-a15e-40e6-96f3-4aaea28d2f0d",
   "metadata": {},
   "outputs": [
    {
     "name": "stderr",
     "output_type": "stream",
     "text": [
      "24/10/04 01:17:46 WARN DAGScheduler: Broadcasting large task binary with size 1535.5 KiB\n"
     ]
    },
    {
     "data": {
      "text/html": [
       "<div>\n",
       "<style scoped>\n",
       "    .dataframe tbody tr th:only-of-type {\n",
       "        vertical-align: middle;\n",
       "    }\n",
       "\n",
       "    .dataframe tbody tr th {\n",
       "        vertical-align: top;\n",
       "    }\n",
       "\n",
       "    .dataframe thead th {\n",
       "        text-align: right;\n",
       "    }\n",
       "</style>\n",
       "<table border=\"1\" class=\"dataframe\">\n",
       "  <thead>\n",
       "    <tr style=\"text-align: right;\">\n",
       "      <th></th>\n",
       "      <th>secondary_payer_state</th>\n",
       "      <th>billing_provider_address_precision</th>\n",
       "      <th>billing_provider_address_region</th>\n",
       "      <th>claim_filing_indicator_pay_type</th>\n",
       "      <th>claim_institutional_or_professional</th>\n",
       "      <th>facility_provider_address_precision</th>\n",
       "      <th>facility_provider_address_region</th>\n",
       "      <th>inpatient_discharge_status_code</th>\n",
       "      <th>organization_npi_type_code</th>\n",
       "      <th>organization_sourced_from</th>\n",
       "      <th>...</th>\n",
       "      <th>principal_diagnosis_code_set_ohe</th>\n",
       "      <th>principal_procedure_code_set_ohe</th>\n",
       "      <th>referring_provider_taxonomy_group_ohe</th>\n",
       "      <th>rendering_provider_npi_type_code_ohe</th>\n",
       "      <th>rendering_provider_taxonomy_group_ohe</th>\n",
       "      <th>secondary_payer_claim_filing_indicator_code_ohe</th>\n",
       "      <th>secondary_payer_pay_type_ohe</th>\n",
       "      <th>secondary_payer_plan_type_ohe</th>\n",
       "      <th>features</th>\n",
       "      <th>features_array</th>\n",
       "    </tr>\n",
       "  </thead>\n",
       "  <tbody>\n",
       "  </tbody>\n",
       "</table>\n",
       "<p>0 rows × 82 columns</p>\n",
       "</div>"
      ],
      "text/plain": [
       "Empty DataFrame\n",
       "Columns: [secondary_payer_state, billing_provider_address_precision, billing_provider_address_region, claim_filing_indicator_pay_type, claim_institutional_or_professional, facility_provider_address_precision, facility_provider_address_region, inpatient_discharge_status_code, organization_npi_type_code, organization_sourced_from, organization_taxonomy_group, patient_gender, patient_id, patient_location_residential_region, primary_payer_pay_type, primary_payer_plan_type, principal_diagnosis_body_part, principal_diagnosis_category, principal_diagnosis_code_set, principal_procedure_code_set, referring_provider_taxonomy_group, rendering_provider_npi_type_code, rendering_provider_taxonomy_group, secondary_payer_claim_filing_indicator_code, secondary_payer_pay_type, secondary_payer_plan_type, claim_all_diagnosis_codes, claim_total_charge_amount, previous_diagnosis_ohe, claim_all_diagnosis_ohe, secondary_payer_state_index, billing_provider_address_precision_index, billing_provider_address_region_index, claim_filing_indicator_pay_type_index, claim_institutional_or_professional_index, facility_provider_address_precision_index, facility_provider_address_region_index, inpatient_discharge_status_code_index, organization_npi_type_code_index, organization_sourced_from_index, organization_taxonomy_group_index, patient_gender_index, patient_location_residential_region_index, primary_payer_pay_type_index, primary_payer_plan_type_index, principal_diagnosis_body_part_index, principal_diagnosis_category_index, principal_diagnosis_code_set_index, principal_procedure_code_set_index, referring_provider_taxonomy_group_index, rendering_provider_npi_type_code_index, rendering_provider_taxonomy_group_index, secondary_payer_claim_filing_indicator_code_index, secondary_payer_pay_type_index, secondary_payer_plan_type_index, secondary_payer_state_ohe, billing_provider_address_precision_ohe, billing_provider_address_region_ohe, claim_filing_indicator_pay_type_ohe, claim_institutional_or_professional_ohe, facility_provider_address_precision_ohe, facility_provider_address_region_ohe, inpatient_discharge_status_code_ohe, organization_npi_type_code_ohe, organization_sourced_from_ohe, organization_taxonomy_group_ohe, patient_gender_ohe, patient_location_residential_region_ohe, primary_payer_pay_type_ohe, primary_payer_plan_type_ohe, principal_diagnosis_body_part_ohe, principal_diagnosis_category_ohe, principal_diagnosis_code_set_ohe, principal_procedure_code_set_ohe, referring_provider_taxonomy_group_ohe, rendering_provider_npi_type_code_ohe, rendering_provider_taxonomy_group_ohe, secondary_payer_claim_filing_indicator_code_ohe, secondary_payer_pay_type_ohe, secondary_payer_plan_type_ohe, features, features_array]\n",
       "Index: []\n",
       "\n",
       "[0 rows x 82 columns]"
      ]
     },
     "execution_count": 17,
     "metadata": {},
     "output_type": "execute_result"
    }
   ],
   "source": [
    "sample_patient_info = mx_submits_fe.get_rows_by_column_value(\"patient_id\",sample_patient_id)\n",
    "sample_patient_info.to_csv(\"../output/sample_patient_info.csv\")\n",
    "sample_patient_info"
   ]
  },
  {
   "cell_type": "code",
   "execution_count": 15,
   "id": "0094b3b0-0fc4-4b53-9d1d-632e4f5a588e",
   "metadata": {},
   "outputs": [
    {
     "name": "stderr",
     "output_type": "stream",
     "text": [
      "24/10/03 22:38:54 WARN DAGScheduler: Broadcasting large task binary with size 1745.6 KiB\n",
      "                                                                                \r"
     ]
    },
    {
     "data": {
      "text/plain": [
       "'Shape of data: rows: 247334, cols: 82'"
      ]
     },
     "execution_count": 15,
     "metadata": {},
     "output_type": "execute_result"
    }
   ],
   "source": [
    "mx_submits_fe.display_shape()"
   ]
  },
  {
   "cell_type": "code",
   "execution_count": null,
   "id": "74a62ca5-213f-42bf-bdb5-010b8aa423fd",
   "metadata": {},
   "outputs": [],
   "source": [
    "%autoreload 2"
   ]
  },
  {
   "cell_type": "code",
   "execution_count": null,
   "id": "4ab32bdd-a63c-4a62-bad0-4bd6592e0c02",
   "metadata": {},
   "outputs": [],
   "source": []
  }
 ],
 "metadata": {
  "kernelspec": {
   "display_name": "Python 3 (ipykernel)",
   "language": "python",
   "name": "python3"
  },
  "language_info": {
   "codemirror_mode": {
    "name": "ipython",
    "version": 3
   },
   "file_extension": ".py",
   "mimetype": "text/x-python",
   "name": "python",
   "nbconvert_exporter": "python",
   "pygments_lexer": "ipython3",
   "version": "3.11.4"
  }
 },
 "nbformat": 4,
 "nbformat_minor": 5
}
