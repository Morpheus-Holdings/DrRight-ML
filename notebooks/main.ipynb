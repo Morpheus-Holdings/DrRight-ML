{
 "cells": [
  {
   "cell_type": "markdown",
   "metadata": {
    "application/vnd.databricks.v1+cell": {
     "cellMetadata": {},
     "inputWidgets": {},
     "nuid": "f666527d-9db8-4b87-bc2e-a1279acc9107",
     "showTitle": false,
     "title": ""
    }
   },
   "source": [
    "## Doctor Right\n"
   ]
  },
  {
   "cell_type": "markdown",
   "metadata": {
    "application/vnd.databricks.v1+cell": {
     "cellMetadata": {},
     "inputWidgets": {},
     "nuid": "4f96cccc-fc3f-404f-9ce7-676aa09a2b23",
     "showTitle": false,
     "title": ""
    }
   },
   "source": [
    "#### Import Library"
   ]
  },
  {
   "cell_type": "code",
   "execution_count": 0,
   "metadata": {
    "application/vnd.databricks.v1+cell": {
     "cellMetadata": {
      "byteLimit": 2048000,
      "rowLimit": 10000
     },
     "inputWidgets": {},
     "nuid": "2c8b42c2-069f-4a5d-8113-a70be58525f9",
     "showTitle": false,
     "title": ""
    },
    "jupyter": {
     "outputs_hidden": true
    }
   },
   "outputs": [],
   "source": [
    "%pip install keras optree tensorflow"
   ]
  },
  {
   "cell_type": "code",
   "execution_count": 0,
   "metadata": {
    "application/vnd.databricks.v1+cell": {
     "cellMetadata": {
      "byteLimit": 2048000,
      "rowLimit": 10000
     },
     "inputWidgets": {},
     "nuid": "d718d30c-615f-4dd0-8644-54fcdf99c7a0",
     "showTitle": false,
     "title": ""
    },
    "jupyter": {
     "outputs_hidden": true
    }
   },
   "outputs": [],
   "source": [
    "import sys\n",
    "sys.path.append(\"../modules\")\n",
    "from eda import EDAAnalyzer\n",
    "from spark_session import SparkManager\n",
    "from feature_engineering import FeatureEngineer"
   ]
  },
  {
   "cell_type": "code",
   "execution_count": 0,
   "metadata": {
    "application/vnd.databricks.v1+cell": {
     "cellMetadata": {
      "byteLimit": 2048000,
      "rowLimit": 10000
     },
     "inputWidgets": {},
     "nuid": "99ea8271-ea0a-4e6a-8c4c-1082acdb7539",
     "showTitle": false,
     "title": ""
    }
   },
   "outputs": [],
   "source": [
    "# Load autoreload extension\n",
    "%load_ext autoreload\n",
    "%autoreload 2"
   ]
  },
  {
   "cell_type": "markdown",
   "metadata": {
    "application/vnd.databricks.v1+cell": {
     "cellMetadata": {},
     "inputWidgets": {},
     "nuid": "c27f9ae7-1f5a-43c0-bd74-f5a4cea00f39",
     "showTitle": false,
     "title": ""
    }
   },
   "source": [
    "#### Constants and config"
   ]
  },
  {
   "cell_type": "code",
   "execution_count": 0,
   "metadata": {
    "application/vnd.databricks.v1+cell": {
     "cellMetadata": {
      "byteLimit": 2048000,
      "rowLimit": 10000
     },
     "inputWidgets": {},
     "nuid": "d71243cf-2efb-4857-bb1b-dd35b148bd88",
     "showTitle": false,
     "title": ""
    }
   },
   "outputs": [],
   "source": [
    "mx_submits_path = \"../data_sample/mx_submits.parquet/\"\n",
    "mx_submits_line_path = \"../data_sample/mx_submitsline.parquet/\"\n",
    "cohort_key=\"767ef4cac69e8a0c77384f6e1414364b\"\n",
    "\n",
    "sample_patient_id = \"8aad41f612a7095449888c8050abaeb05fdee65643caa3033542610421d8bd1daaa2c4ce1757401003a1bbcd60948a7aa13eba507a676dea80e0cf76b77dbc95\"\n",
    "\n",
    "features_cols = ['secondary_payer_state',\n",
    "'billing_provider_address_precision',\n",
    "'billing_provider_address_region',\n",
    "'claim_filing_indicator_pay_type',\n",
    "'claim_institutional_or_professional',\n",
    "'facility_provider_address_precision',\n",
    "'facility_provider_address_region',\n",
    "'inpatient_discharge_status_code',\n",
    "'organization_npi_type_code',\n",
    "'organization_sourced_from',\n",
    "'organization_taxonomy_group',\n",
    "'patient_gender',\n",
    "'patient_id',\n",
    "'patient_location_residential_region',\n",
    "'primary_payer_pay_type',\n",
    "'primary_payer_plan_type',\n",
    "'principal_diagnosis_body_part',\n",
    "'principal_diagnosis_category',\n",
    "'principal_diagnosis_code_set',\n",
    "'principal_procedure_code_set',\n",
    "'referring_provider_taxonomy_group',\n",
    "'rendering_provider_npi_type_code',\n",
    "'rendering_provider_taxonomy_group',\n",
    "'secondary_payer_claim_filing_indicator_code',\n",
    "'secondary_payer_pay_type',\n",
    "# 'secondary_payer_plan_type',\n",
    "'claim_all_diagnosis_codes',\n",
    "'claim_total_charge_amount',\n",
    "'previous_diagnosis_ohe',\n",
    "# 'claim_all_diagnosis_ohe'\n",
    "]\n",
    "exclude_cols = ['patient_id']\n",
    "most_repeated_diagnosis_list = [] "
   ]
  },
  {
   "cell_type": "markdown",
   "metadata": {
    "application/vnd.databricks.v1+cell": {
     "cellMetadata": {},
     "inputWidgets": {},
     "nuid": "fd9473e4-20d8-4d9d-b0e9-fe494a15e84c",
     "showTitle": false,
     "title": ""
    }
   },
   "source": [
    "### Spark Session"
   ]
  },
  {
   "cell_type": "code",
   "execution_count": 0,
   "metadata": {
    "application/vnd.databricks.v1+cell": {
     "cellMetadata": {
      "byteLimit": 2048000,
      "rowLimit": 10000
     },
     "inputWidgets": {},
     "nuid": "39cadbab-7bbc-4171-b50b-05148cc57e41",
     "showTitle": false,
     "title": ""
    }
   },
   "outputs": [],
   "source": [
    "mx_submits_spark_manager = SparkManager(cohort_key=cohort_key)\n",
    "# mx_submits_line_spark_manager = SparkManager(mx_submits_line_path)"
   ]
  },
  {
   "cell_type": "markdown",
   "metadata": {
    "application/vnd.databricks.v1+cell": {
     "cellMetadata": {},
     "inputWidgets": {},
     "nuid": "826c8703-e7bb-4e23-b0b4-b38579eb9ab5",
     "showTitle": false,
     "title": ""
    }
   },
   "source": [
    "### MX SUBMITS"
   ]
  },
  {
   "cell_type": "markdown",
   "metadata": {
    "application/vnd.databricks.v1+cell": {
     "cellMetadata": {},
     "inputWidgets": {},
     "nuid": "fea67936-0dc5-4bb7-ae07-658bf5bde6e1",
     "showTitle": false,
     "title": ""
    }
   },
   "source": [
    "#### EDA"
   ]
  },
  {
   "cell_type": "code",
   "execution_count": 0,
   "metadata": {
    "application/vnd.databricks.v1+cell": {
     "cellMetadata": {},
     "inputWidgets": {},
     "nuid": "871e653c-8966-44ab-b847-bf70ec087eb7",
     "showTitle": false,
     "title": ""
    }
   },
   "outputs": [],
   "source": [
    "mx_submits_eda = EDAAnalyzer(mx_submits_spark_manager)"
   ]
  },
  {
   "cell_type": "code",
   "execution_count": 0,
   "metadata": {
    "application/vnd.databricks.v1+cell": {
     "cellMetadata": {},
     "inputWidgets": {},
     "nuid": "3bb53b85-f6f4-4f88-acff-eb5fc3744cd0",
     "showTitle": false,
     "title": ""
    }
   },
   "outputs": [],
   "source": [
    "mx_submits_eda.display_head()"
   ]
  },
  {
   "cell_type": "code",
   "execution_count": 0,
   "metadata": {
    "application/vnd.databricks.v1+cell": {
     "cellMetadata": {},
     "inputWidgets": {},
     "nuid": "a3571178-47e3-4685-86a5-1c11eede92fd",
     "showTitle": false,
     "title": ""
    }
   },
   "outputs": [],
   "source": [
    "mx_submits_eda.display_shape()"
   ]
  },
  {
   "cell_type": "markdown",
   "metadata": {
    "application/vnd.databricks.v1+cell": {
     "cellMetadata": {},
     "inputWidgets": {},
     "nuid": "555b6bbd-ea29-4f8a-a3c6-239f605eb945",
     "showTitle": false,
     "title": ""
    }
   },
   "source": [
    "#### Type conversion"
   ]
  },
  {
   "cell_type": "code",
   "execution_count": 0,
   "metadata": {
    "application/vnd.databricks.v1+cell": {
     "cellMetadata": {},
     "inputWidgets": {},
     "nuid": "437a883c-35ba-4ce7-9cb7-095a3fbfba9c",
     "showTitle": false,
     "title": ""
    }
   },
   "outputs": [],
   "source": [
    "mx_submits_eda.convert_columns_to_float([\"claim_total_charge_amount\"])"
   ]
  },
  {
   "cell_type": "code",
   "execution_count": 0,
   "metadata": {
    "application/vnd.databricks.v1+cell": {
     "cellMetadata": {},
     "inputWidgets": {},
     "nuid": "ba20169f-ddd9-4c4e-9e50-4044546124c9",
     "showTitle": false,
     "title": ""
    }
   },
   "outputs": [],
   "source": [
    "column_info_submits = mx_submits_eda.display_column_info()\n",
    "column_info_submits.to_csv(\"../output/column_info_submits.csv\")\n",
    "column_info_submits"
   ]
  },
  {
   "cell_type": "code",
   "execution_count": 0,
   "metadata": {
    "application/vnd.databricks.v1+cell": {
     "cellMetadata": {},
     "inputWidgets": {},
     "nuid": "1789e91d-9478-4894-9166-6e4bbd86dfba",
     "showTitle": false,
     "title": ""
    }
   },
   "outputs": [],
   "source": [
    "column_info_submits[column_info_submits[\"Column Name\"]==\"claim_total_charge_amount\"]"
   ]
  },
  {
   "cell_type": "code",
   "execution_count": 0,
   "metadata": {
    "application/vnd.databricks.v1+cell": {
     "cellMetadata": {},
     "inputWidgets": {},
     "nuid": "2e6b3609-c8b5-4c09-af53-6fa6e7581d47",
     "showTitle": false,
     "title": ""
    }
   },
   "outputs": [],
   "source": [
    "mx_submits_eda.plot_percentile_based_cutoff(\"claim_all_diagnosis_codes\",90,cutoff_length=5)"
   ]
  },
  {
   "cell_type": "code",
   "execution_count": 0,
   "metadata": {
    "application/vnd.databricks.v1+cell": {
     "cellMetadata": {},
     "inputWidgets": {},
     "nuid": "f0adddd0-0260-493d-9ba5-799a2eacb382",
     "showTitle": false,
     "title": ""
    }
   },
   "outputs": [],
   "source": [
    "mx_submits_claim_all_diagnosis_codes_repeat_count = mx_submits_eda.get_top_n_repeated_values(\"claim_all_diagnosis_codes\")\n",
    "mx_submits_claim_all_diagnosis_codes_repeat_count"
   ]
  },
  {
   "cell_type": "code",
   "execution_count": 0,
   "metadata": {
    "application/vnd.databricks.v1+cell": {
     "cellMetadata": {},
     "inputWidgets": {},
     "nuid": "4a7daa90-f90b-4c97-b8df-8730138a682d",
     "showTitle": false,
     "title": ""
    }
   },
   "outputs": [],
   "source": [
    "most_repeated_diagnosis = mx_submits_claim_all_diagnosis_codes_repeat_count[\n",
    "    (mx_submits_claim_all_diagnosis_codes_repeat_count[\"diagnosis_code_length\"] == 5) & \n",
    "    (mx_submits_claim_all_diagnosis_codes_repeat_count[\"count\"] > 461)\n",
    "]\n",
    "most_repeated_diagnosis_list = most_repeated_diagnosis['diagnosis_code'].tolist()\n",
    "most_repeated_diagnosis"
   ]
  },
  {
   "cell_type": "code",
   "execution_count": 0,
   "metadata": {
    "application/vnd.databricks.v1+cell": {
     "cellMetadata": {},
     "inputWidgets": {},
     "nuid": "76af5be4-92b6-4b11-a5da-36217d523ced",
     "showTitle": false,
     "title": ""
    }
   },
   "outputs": [],
   "source": [
    "most_repeated_diagnosis = mx_submits_claim_all_diagnosis_codes_repeat_count[mx_submits_claim_all_diagnosis_codes_repeat_count[\"count\"]>=531]\n",
    "most_repeated_diagnosis"
   ]
  },
  {
   "cell_type": "markdown",
   "metadata": {
    "application/vnd.databricks.v1+cell": {
     "cellMetadata": {},
     "inputWidgets": {},
     "nuid": "0d70df93-1a87-4f6c-ae5c-d97d798a8e53",
     "showTitle": false,
     "title": ""
    }
   },
   "source": [
    " - (ICD10, Z0001, 1): Encounter for general adult medical examination with abnormal findings\n",
    " - (ICD10, F4323, 1): Adjustment disorder with depressed mood\n",
    " - (ICD10, Z452, 1)\t: Pneumonia, unspecified organism\n",
    " - (ICD10, J441, 1)\t: Chronic obstructive pulmonary disease with acute exacerbation"
   ]
  },
  {
   "cell_type": "code",
   "execution_count": 0,
   "metadata": {
    "application/vnd.databricks.v1+cell": {
     "cellMetadata": {},
     "inputWidgets": {},
     "nuid": "09d07765-fe64-4b2e-a4b5-f473eb2b5150",
     "showTitle": false,
     "title": ""
    }
   },
   "outputs": [],
   "source": [
    "mx_submits_eda.get_top_n_repeated_values(\"claim_all_diagnosis_codes\",5)"
   ]
  },
  {
   "cell_type": "code",
   "execution_count": 0,
   "metadata": {
    "application/vnd.databricks.v1+cell": {
     "cellMetadata": {},
     "inputWidgets": {},
     "nuid": "064b9a6e-de96-485e-a366-d548c4d261c2",
     "showTitle": false,
     "title": ""
    }
   },
   "outputs": [],
   "source": [
    "type_of_bill_facility_description_eda = mx_submits_eda.get_fill_counts_for_unique_values(\"type_of_bill_facility_description\")\n",
    "type_of_bill_facility_description_eda"
   ]
  },
  {
   "cell_type": "code",
   "execution_count": 0,
   "metadata": {
    "application/vnd.databricks.v1+cell": {
     "cellMetadata": {},
     "inputWidgets": {},
     "nuid": "59e66ecb-2108-4665-9647-72431415c47c",
     "showTitle": false,
     "title": ""
    }
   },
   "outputs": [],
   "source": [
    "type_of_bill_facility_description_eda[type_of_bill_facility_description_eda[\"Column\"]=='facility_provider_address_city']"
   ]
  },
  {
   "cell_type": "markdown",
   "metadata": {
    "application/vnd.databricks.v1+cell": {
     "cellMetadata": {},
     "inputWidgets": {},
     "nuid": "ec4865b8-fa11-4fd6-b58e-defa4a9aaaf5",
     "showTitle": false,
     "title": ""
    }
   },
   "source": [
    "### MX SUBMITS LINE"
   ]
  },
  {
   "cell_type": "markdown",
   "metadata": {
    "application/vnd.databricks.v1+cell": {
     "cellMetadata": {},
     "inputWidgets": {},
     "nuid": "81d55000-bde9-4b55-84ab-5964ed684dab",
     "showTitle": false,
     "title": ""
    }
   },
   "source": [
    "#### EDA"
   ]
  },
  {
   "cell_type": "code",
   "execution_count": 0,
   "metadata": {
    "application/vnd.databricks.v1+cell": {
     "cellMetadata": {},
     "inputWidgets": {},
     "nuid": "3fd7a52f-0bc5-481d-901d-ffec94fa7085",
     "showTitle": false,
     "title": ""
    }
   },
   "outputs": [],
   "source": [
    "mx_submits_line_eda = EDAAnalyzer(mx_submits_line_spark_manager)"
   ]
  },
  {
   "cell_type": "code",
   "execution_count": 0,
   "metadata": {
    "application/vnd.databricks.v1+cell": {
     "cellMetadata": {},
     "inputWidgets": {},
     "nuid": "4ff1ecf9-e037-4f95-82ba-401f37149452",
     "showTitle": false,
     "title": ""
    }
   },
   "outputs": [],
   "source": [
    "mx_submits_line_eda.display_head()"
   ]
  },
  {
   "cell_type": "code",
   "execution_count": 0,
   "metadata": {
    "application/vnd.databricks.v1+cell": {
     "cellMetadata": {},
     "inputWidgets": {},
     "nuid": "5ada7502-6ccc-4172-9657-a4a9bf3ea495",
     "showTitle": false,
     "title": ""
    }
   },
   "outputs": [],
   "source": [
    "mx_submits_line_eda.display_shape()"
   ]
  },
  {
   "cell_type": "code",
   "execution_count": 0,
   "metadata": {
    "application/vnd.databricks.v1+cell": {
     "cellMetadata": {},
     "inputWidgets": {},
     "nuid": "91793e7e-b9ff-4ef7-b178-bc6f127e1001",
     "showTitle": false,
     "title": ""
    }
   },
   "outputs": [],
   "source": [
    "column_info_submits_line = mx_submits_line_eda.display_column_info()\n",
    "column_info_submits_line.to_csv(\"../output/column_info_submits_line.csv\")\n",
    "column_info_submits_line"
   ]
  },
  {
   "cell_type": "markdown",
   "metadata": {
    "application/vnd.databricks.v1+cell": {
     "cellMetadata": {},
     "inputWidgets": {},
     "nuid": "5ff49497-e4ee-489e-bb3a-afa6665f36b2",
     "showTitle": false,
     "title": ""
    }
   },
   "source": [
    "### Feature Engineering"
   ]
  },
  {
   "cell_type": "code",
   "execution_count": 0,
   "metadata": {
    "application/vnd.databricks.v1+cell": {
     "cellMetadata": {
      "byteLimit": 2048000,
      "rowLimit": 10000
     },
     "inputWidgets": {},
     "nuid": "ac422fce-ca5a-4111-9f35-e95ee27a441b",
     "showTitle": false,
     "title": ""
    }
   },
   "outputs": [],
   "source": [
    "mx_submits_fe=FeatureEngineer(mx_submits_spark_manager)"
   ]
  },
  {
   "cell_type": "code",
   "execution_count": 0,
   "metadata": {
    "application/vnd.databricks.v1+cell": {
     "cellMetadata": {
      "byteLimit": 2048000,
      "rowLimit": 10000
     },
     "inputWidgets": {},
     "nuid": "1e72fbeb-9c96-4521-ac1b-d6c9e4a02c0b",
     "showTitle": false,
     "title": ""
    }
   },
   "outputs": [],
   "source": [
    "mx_submits_fe.display_shape()"
   ]
  },
  {
   "cell_type": "code",
   "execution_count": 0,
   "metadata": {
    "application/vnd.databricks.v1+cell": {
     "cellMetadata": {
      "byteLimit": 2048000,
      "rowLimit": 10000
     },
     "inputWidgets": {},
     "nuid": "f3ac9cf6-1dea-41bf-9b50-fc8c43d96897",
     "showTitle": false,
     "title": ""
    }
   },
   "outputs": [],
   "source": [
    "mx_submits_fe.transform_claim_all_diagnosis_codes()"
   ]
  },
  {
   "cell_type": "code",
   "execution_count": 0,
   "metadata": {
    "application/vnd.databricks.v1+cell": {
     "cellMetadata": {
      "byteLimit": 2048000,
      "rowLimit": 10000
     },
     "inputWidgets": {},
     "nuid": "a3aa6da3-d582-486d-a0bd-770aae45b6e8",
     "showTitle": false,
     "title": ""
    }
   },
   "outputs": [],
   "source": [
    "mx_submits_fe.add_comorbidities_with_exponential_decay_sparse_vector()"
   ]
  },
  {
   "cell_type": "code",
   "execution_count": 0,
   "metadata": {
    "application/vnd.databricks.v1+cell": {
     "cellMetadata": {},
     "inputWidgets": {},
     "nuid": "adffb24a-4bd3-4a2f-b93f-94494a6f3be5",
     "showTitle": false,
     "title": ""
    }
   },
   "outputs": [],
   "source": [
    "mx_submits_fe.add_continuous_visit_years()\n",
    "mx_submits_fe.display_top_rows_as_pandas(\"continuous_visit_years\")"
   ]
  },
  {
   "cell_type": "code",
   "execution_count": 0,
   "metadata": {
    "application/vnd.databricks.v1+cell": {
     "cellMetadata": {},
     "inputWidgets": {},
     "nuid": "67e98274-6d41-4fe9-9c12-21e9601a06ed",
     "showTitle": false,
     "title": ""
    }
   },
   "outputs": [],
   "source": [
    "# mx_submits_fe.remove_diagnosis_codes(most_repeated_diagnosis_list)"
   ]
  },
  {
   "cell_type": "code",
   "execution_count": 0,
   "metadata": {
    "application/vnd.databricks.v1+cell": {
     "cellMetadata": {
      "byteLimit": 2048000,
      "rowLimit": 10000
     },
     "inputWidgets": {},
     "nuid": "3add5313-4766-4548-8f9d-01d1c1bacb50",
     "showTitle": false,
     "title": ""
    }
   },
   "outputs": [],
   "source": [
    "mx_submits_fe.retain_columns(features_cols)"
   ]
  },
  {
   "cell_type": "code",
   "execution_count": 0,
   "metadata": {
    "application/vnd.databricks.v1+cell": {
     "cellMetadata": {},
     "inputWidgets": {},
     "nuid": "170a6009-2f12-451b-9f0a-09d15bfa9693",
     "showTitle": false,
     "title": ""
    }
   },
   "outputs": [],
   "source": [
    "mx_submits_fe.convert_columns_to_float([\"claim_total_charge_amount\"])\n",
    "preprocess_data = mx_submits_fe.preprocess_data(exclude_cols=exclude_cols)\n",
    "preprocess_data"
   ]
  },
  {
   "cell_type": "code",
   "execution_count": 0,
   "metadata": {
    "application/vnd.databricks.v1+cell": {
     "cellMetadata": {},
     "inputWidgets": {},
     "nuid": "3c67c1ce-3aa7-4ee4-954f-fa0f21f670e9",
     "showTitle": false,
     "title": ""
    }
   },
   "outputs": [],
   "source": [
    "columns_df = mx_submits_fe.get_columns_as_pandas_df()\n",
    "columns_df['Column Names'].to_list()\n",
    "feature_cols = mx_submits_fe.get_feature_columns()\n",
    "feature_cols"
   ]
  },
  {
   "cell_type": "code",
   "execution_count": 0,
   "metadata": {
    "application/vnd.databricks.v1+cell": {
     "cellMetadata": {},
     "inputWidgets": {},
     "nuid": "d59183ff-8138-4ddd-82f5-9bd0ab4b673c",
     "showTitle": false,
     "title": ""
    }
   },
   "outputs": [],
   "source": [
    "# mx_submits_fe.display_head()"
   ]
  },
  {
   "cell_type": "code",
   "execution_count": 0,
   "metadata": {
    "application/vnd.databricks.v1+cell": {
     "cellMetadata": {},
     "inputWidgets": {},
     "nuid": "3fac519b-e856-4965-8c27-72cc42905ab1",
     "showTitle": false,
     "title": ""
    }
   },
   "outputs": [],
   "source": [
    "# mx_submits_fe.reduce_dataframe_size()\n",
    "mx_submits_fe.train_autoencoder()"
   ]
  },
  {
   "cell_type": "code",
   "execution_count": 0,
   "metadata": {
    "application/vnd.databricks.v1+cell": {
     "cellMetadata": {},
     "inputWidgets": {},
     "nuid": "c0eb7f94-06be-4cd0-bf6f-5c31a135506a",
     "showTitle": false,
     "title": ""
    }
   },
   "outputs": [],
   "source": [
    "corr_features = mx_submits_fe.plot_correlation_heatmap()\n",
    "corr_features.to_csv(\"../output/feature_correlation.csv\")"
   ]
  },
  {
   "cell_type": "code",
   "execution_count": 0,
   "metadata": {
    "application/vnd.databricks.v1+cell": {
     "cellMetadata": {},
     "inputWidgets": {},
     "nuid": "5720ef06-8b29-4959-b49a-032b4e3d259f",
     "showTitle": false,
     "title": ""
    }
   },
   "outputs": [],
   "source": [
    "mx_submits_fe.get_sorted_feature_correlations().head(20)"
   ]
  },
  {
   "cell_type": "code",
   "execution_count": 0,
   "metadata": {
    "application/vnd.databricks.v1+cell": {
     "cellMetadata": {},
     "inputWidgets": {},
     "nuid": "2c3b28bb-ce0f-4d60-87b8-f60daf80ebdb",
     "showTitle": false,
     "title": ""
    }
   },
   "outputs": [],
   "source": [
    "mx_submits_fe.get_sorted_feature_correlations().head(20)"
   ]
  },
  {
   "cell_type": "code",
   "execution_count": 0,
   "metadata": {
    "application/vnd.databricks.v1+cell": {
     "cellMetadata": {},
     "inputWidgets": {},
     "nuid": "8599d674-dfc6-4781-94c7-ad9e12fdd842",
     "showTitle": false,
     "title": ""
    }
   },
   "outputs": [],
   "source": [
    "sample_patient_info = mx_submits_fe.get_rows_by_column_value(\"patient_id\",sample_patient_id)\n",
    "sample_patient_info.to_csv(\"../output/sample_patient_info.csv\")\n",
    "sample_patient_info"
   ]
  },
  {
   "cell_type": "code",
   "execution_count": 0,
   "metadata": {
    "application/vnd.databricks.v1+cell": {
     "cellMetadata": {},
     "inputWidgets": {},
     "nuid": "0b98d001-7d0d-4b0c-a379-299fb948f362",
     "showTitle": false,
     "title": ""
    }
   },
   "outputs": [],
   "source": [
    "mx_submits_fe.display_shape()"
   ]
  },
  {
   "cell_type": "code",
   "execution_count": 0,
   "metadata": {
    "application/vnd.databricks.v1+cell": {
     "cellMetadata": {},
     "inputWidgets": {},
     "nuid": "0ca88214-30a1-48b7-96e3-e87569d3f365",
     "showTitle": false,
     "title": ""
    }
   },
   "outputs": [],
   "source": [
    "%autoreload 2"
   ]
  },
  {
   "cell_type": "code",
   "execution_count": 0,
   "metadata": {
    "application/vnd.databricks.v1+cell": {
     "cellMetadata": {},
     "inputWidgets": {},
     "nuid": "afb91b1e-85fa-4f36-bad2-f3e9e951bc42",
     "showTitle": false,
     "title": ""
    }
   },
   "outputs": [],
   "source": []
  }
 ],
 "metadata": {
  "application/vnd.databricks.v1+notebook": {
   "dashboards": [],
   "environmentMetadata": {
    "base_environment": "",
    "client": "1"
   },
   "language": "python",
   "notebookMetadata": {
    "pythonIndentUnit": 4
   },
   "notebookName": "main",
   "widgets": {}
  },
  "kernelspec": {
   "display_name": "Python 3 (ipykernel)",
   "language": "python",
   "name": "python3"
  },
  "language_info": {
   "codemirror_mode": {
    "name": "ipython",
    "version": 3
   },
   "file_extension": ".py",
   "mimetype": "text/x-python",
   "name": "python",
   "nbconvert_exporter": "python",
   "pygments_lexer": "ipython3",
   "version": "3.11.4"
  }
 },
 "nbformat": 4,
 "nbformat_minor": 0
}
