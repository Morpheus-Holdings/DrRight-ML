{
 "cells": [
  {
   "cell_type": "markdown",
   "id": "460ff0d0-14ad-40a2-9ee5-3014245234ee",
   "metadata": {},
   "source": [
    "## Doctor Right\n"
   ]
  },
  {
   "cell_type": "markdown",
   "id": "e92044fc-4ea3-4159-82ad-8a18295959d7",
   "metadata": {},
   "source": [
    "#### Import Library"
   ]
  },
  {
   "cell_type": "code",
   "execution_count": 1,
   "id": "6de45f20-dc96-4837-a6d1-cca54d802643",
   "metadata": {},
   "outputs": [],
   "source": [
    "import sys\n",
    "sys.path.append(\"../modules\")\n",
    "from eda import EDAAnalyzer\n",
    "from spark_session import SparkManager\n",
    "from feature_engineering import FeatureEngineer"
   ]
  },
  {
   "cell_type": "code",
   "execution_count": 2,
   "id": "cb2b8c66-9329-476e-b7a1-59ca9acdf719",
   "metadata": {},
   "outputs": [],
   "source": [
    "# Load autoreload extension\n",
    "%load_ext autoreload\n",
    "%autoreload 2"
   ]
  },
  {
   "cell_type": "markdown",
   "id": "0176b509-6e37-4134-86e8-6016d3b957a6",
   "metadata": {},
   "source": [
    "#### Constants and config"
   ]
  },
  {
   "cell_type": "code",
   "execution_count": 3,
   "id": "4ae7ff30-64b2-4973-9487-f63f5ac3f312",
   "metadata": {},
   "outputs": [],
   "source": [
    "mx_submits_path = \"../data_sample/mx_submits.parquet/\"\n",
    "mx_submits_line_path = \"../data_sample/mx_submitsline.parquet/\""
   ]
  },
  {
   "cell_type": "markdown",
   "id": "fba8fd95-d85c-4e71-836a-f0bb33c00ca2",
   "metadata": {},
   "source": [
    "### Spark Session"
   ]
  },
  {
   "cell_type": "code",
   "execution_count": 4,
   "id": "9b54dfbf-1276-4f46-8fd3-7e3b43bfc747",
   "metadata": {},
   "outputs": [
    {
     "name": "stderr",
     "output_type": "stream",
     "text": [
      "24/09/15 17:41:21 WARN Utils: Your hostname, Sureshs-MacBook-Air.local resolves to a loopback address: 127.0.0.1; using 172.20.9.214 instead (on interface en0)\n",
      "24/09/15 17:41:21 WARN Utils: Set SPARK_LOCAL_IP if you need to bind to another address\n",
      "Setting default log level to \"WARN\".\n",
      "To adjust logging level use sc.setLogLevel(newLevel). For SparkR, use setLogLevel(newLevel).\n",
      "24/09/15 17:41:21 WARN NativeCodeLoader: Unable to load native-hadoop library for your platform... using builtin-java classes where applicable\n",
      "                                                                                \r"
     ]
    }
   ],
   "source": [
    "mx_submits_spark_manager = SparkManager(mx_submits_path)\n",
    "mx_submits_line_spark_manager = SparkManager(mx_submits_line_path)"
   ]
  },
  {
   "cell_type": "markdown",
   "id": "8f44dbd4-52aa-43b2-a40a-70fd69c8d74d",
   "metadata": {},
   "source": [
    "### MX SUBMITS"
   ]
  },
  {
   "cell_type": "markdown",
   "id": "7a692ca3-6d85-47df-928f-ebfc185fd5e6",
   "metadata": {},
   "source": [
    "#### EDA"
   ]
  },
  {
   "cell_type": "code",
   "execution_count": 5,
   "id": "8a6ca8c1-1c8e-47a4-b7e0-6ee96c39295c",
   "metadata": {},
   "outputs": [],
   "source": [
    "mx_submits_eda = EDAAnalyzer(mx_submits_spark_manager)"
   ]
  },
  {
   "cell_type": "code",
   "execution_count": 6,
   "id": "8d3ed671-cf84-4236-b0d1-f044eb5c0ded",
   "metadata": {},
   "outputs": [
    {
     "name": "stderr",
     "output_type": "stream",
     "text": [
      "24/09/15 17:41:25 WARN SparkStringUtils: Truncated the string representation of a plan since it was too large. This behavior can be adjusted by setting 'spark.sql.debug.maxToStringFields'.\n",
      "                                                                                \r"
     ]
    },
    {
     "data": {
      "text/html": [
       "<div>\n",
       "<style scoped>\n",
       "    .dataframe tbody tr th:only-of-type {\n",
       "        vertical-align: middle;\n",
       "    }\n",
       "\n",
       "    .dataframe tbody tr th {\n",
       "        vertical-align: top;\n",
       "    }\n",
       "\n",
       "    .dataframe thead th {\n",
       "        text-align: right;\n",
       "    }\n",
       "</style>\n",
       "<table border=\"1\" class=\"dataframe\">\n",
       "  <thead>\n",
       "    <tr style=\"text-align: right;\">\n",
       "      <th></th>\n",
       "      <th>claim_number</th>\n",
       "      <th>cohort_key</th>\n",
       "      <th>cohort_record_id</th>\n",
       "      <th>attending_provider_npi</th>\n",
       "      <th>billing_provider_address_cbsa_name</th>\n",
       "      <th>billing_provider_address_city</th>\n",
       "      <th>billing_provider_address_county</th>\n",
       "      <th>billing_provider_address_key</th>\n",
       "      <th>billing_provider_address_latitude</th>\n",
       "      <th>billing_provider_address_longitude</th>\n",
       "      <th>...</th>\n",
       "      <th>type_of_bill_frequency_description</th>\n",
       "      <th>vendorname</th>\n",
       "      <th>cycle_id</th>\n",
       "      <th>patient_birth_year</th>\n",
       "      <th>patient_gender</th>\n",
       "      <th>patient_id</th>\n",
       "      <th>patient_location_preferred_latitude</th>\n",
       "      <th>patient_location_preferred_longitude</th>\n",
       "      <th>patient_location_preferred_zipcode</th>\n",
       "      <th>patient_location_preferred_type</th>\n",
       "    </tr>\n",
       "  </thead>\n",
       "  <tbody>\n",
       "    <tr>\n",
       "      <th>0</th>\n",
       "      <td>d3f3ebb5cee7ccf1b9c3876060668c99</td>\n",
       "      <td>0e6b9e4a0d9103c5a9c4f1332d38ef53</td>\n",
       "      <td>afc38aa34fb64bebe04f15507e07ba17</td>\n",
       "      <td>1376869032</td>\n",
       "      <td>None</td>\n",
       "      <td>None</td>\n",
       "      <td>None</td>\n",
       "      <td>None</td>\n",
       "      <td>None</td>\n",
       "      <td>None</td>\n",
       "      <td>...</td>\n",
       "      <td>Interim (Continuing Claims)</td>\n",
       "      <td>cyan</td>\n",
       "      <td>full_20240611</td>\n",
       "      <td>1964</td>\n",
       "      <td>F</td>\n",
       "      <td>8aad41f612a7095449888c8050abaeb05fdee65643caa3...</td>\n",
       "      <td>38.643135</td>\n",
       "      <td>-87.360331</td>\n",
       "      <td>47557</td>\n",
       "      <td>2.0</td>\n",
       "    </tr>\n",
       "    <tr>\n",
       "      <th>1</th>\n",
       "      <td>fced2c3b9dda8739b50b954b662d0e5e</td>\n",
       "      <td>0e6b9e4a0d9103c5a9c4f1332d38ef53</td>\n",
       "      <td>afc38aa34fb64bebe04f15507e07ba17</td>\n",
       "      <td>1376869032</td>\n",
       "      <td>None</td>\n",
       "      <td>None</td>\n",
       "      <td>None</td>\n",
       "      <td>None</td>\n",
       "      <td>None</td>\n",
       "      <td>None</td>\n",
       "      <td>...</td>\n",
       "      <td>Admit Through Discharge Claim</td>\n",
       "      <td>cyan</td>\n",
       "      <td>full_20240611</td>\n",
       "      <td>1964</td>\n",
       "      <td>F</td>\n",
       "      <td>8aad41f612a7095449888c8050abaeb05fdee65643caa3...</td>\n",
       "      <td>38.643135</td>\n",
       "      <td>-87.360331</td>\n",
       "      <td>47557</td>\n",
       "      <td>2.0</td>\n",
       "    </tr>\n",
       "    <tr>\n",
       "      <th>2</th>\n",
       "      <td>eeaaf85581b99f45028afa82b3c216f</td>\n",
       "      <td>0e6b9e4a0d9103c5a9c4f1332d38ef53</td>\n",
       "      <td>27c4b38fbb414c1d29231d9301214e52</td>\n",
       "      <td>None</td>\n",
       "      <td>NORTH PORT-SARASOTA-BRADENTON, FL</td>\n",
       "      <td>Sarasota</td>\n",
       "      <td>Sarasota</td>\n",
       "      <td>943SBENEVARDSARASOTAFL34232</td>\n",
       "      <td>27.325453</td>\n",
       "      <td>-82.496513</td>\n",
       "      <td>...</td>\n",
       "      <td>Admit Through Discharge Claim</td>\n",
       "      <td>cyan</td>\n",
       "      <td>full_20240611</td>\n",
       "      <td>1962</td>\n",
       "      <td>U</td>\n",
       "      <td>5f1de4e894f8384574e789503276dbf4a759b40f225744...</td>\n",
       "      <td>27.329646</td>\n",
       "      <td>-82.502262</td>\n",
       "      <td>34237</td>\n",
       "      <td>1.0</td>\n",
       "    </tr>\n",
       "    <tr>\n",
       "      <th>3</th>\n",
       "      <td>c98ecf0bd97acc704af129d551ec9b30</td>\n",
       "      <td>0e6b9e4a0d9103c5a9c4f1332d38ef53</td>\n",
       "      <td>439846c6f66dd5939caa42094e613c7b</td>\n",
       "      <td>1598100059</td>\n",
       "      <td>None</td>\n",
       "      <td>None</td>\n",
       "      <td>None</td>\n",
       "      <td>None</td>\n",
       "      <td>None</td>\n",
       "      <td>None</td>\n",
       "      <td>...</td>\n",
       "      <td>Admit Through Discharge Claim</td>\n",
       "      <td>cyan</td>\n",
       "      <td>full_20240611</td>\n",
       "      <td>1976</td>\n",
       "      <td>F</td>\n",
       "      <td>1f9d89fd6a5cd3fdfcb387fef2c005300ca79ae5fa32ef...</td>\n",
       "      <td>39.946129</td>\n",
       "      <td>-83.815872</td>\n",
       "      <td>45504</td>\n",
       "      <td>1.0</td>\n",
       "    </tr>\n",
       "    <tr>\n",
       "      <th>4</th>\n",
       "      <td>c8223c08c26ee4d491bd3b17be802641</td>\n",
       "      <td>0e6b9e4a0d9103c5a9c4f1332d38ef53</td>\n",
       "      <td>db2cf4c86c3984123bfbfaef70af9f66</td>\n",
       "      <td>1659514149</td>\n",
       "      <td>None</td>\n",
       "      <td>None</td>\n",
       "      <td>None</td>\n",
       "      <td>None</td>\n",
       "      <td>None</td>\n",
       "      <td>None</td>\n",
       "      <td>...</td>\n",
       "      <td>Admit Through Discharge Claim</td>\n",
       "      <td>cyan</td>\n",
       "      <td>full_20240611</td>\n",
       "      <td>1960</td>\n",
       "      <td>F</td>\n",
       "      <td>69643c3b36d8f6df6ca79a72251f728f5fd366007a62d3...</td>\n",
       "      <td>None</td>\n",
       "      <td>None</td>\n",
       "      <td>None</td>\n",
       "      <td>NaN</td>\n",
       "    </tr>\n",
       "  </tbody>\n",
       "</table>\n",
       "<p>5 rows × 127 columns</p>\n",
       "</div>"
      ],
      "text/plain": [
       "                       claim_number                        cohort_key  \\\n",
       "0  d3f3ebb5cee7ccf1b9c3876060668c99  0e6b9e4a0d9103c5a9c4f1332d38ef53   \n",
       "1  fced2c3b9dda8739b50b954b662d0e5e  0e6b9e4a0d9103c5a9c4f1332d38ef53   \n",
       "2   eeaaf85581b99f45028afa82b3c216f  0e6b9e4a0d9103c5a9c4f1332d38ef53   \n",
       "3  c98ecf0bd97acc704af129d551ec9b30  0e6b9e4a0d9103c5a9c4f1332d38ef53   \n",
       "4  c8223c08c26ee4d491bd3b17be802641  0e6b9e4a0d9103c5a9c4f1332d38ef53   \n",
       "\n",
       "                   cohort_record_id attending_provider_npi  \\\n",
       "0  afc38aa34fb64bebe04f15507e07ba17             1376869032   \n",
       "1  afc38aa34fb64bebe04f15507e07ba17             1376869032   \n",
       "2  27c4b38fbb414c1d29231d9301214e52                   None   \n",
       "3  439846c6f66dd5939caa42094e613c7b             1598100059   \n",
       "4  db2cf4c86c3984123bfbfaef70af9f66             1659514149   \n",
       "\n",
       "  billing_provider_address_cbsa_name billing_provider_address_city  \\\n",
       "0                               None                          None   \n",
       "1                               None                          None   \n",
       "2  NORTH PORT-SARASOTA-BRADENTON, FL                      Sarasota   \n",
       "3                               None                          None   \n",
       "4                               None                          None   \n",
       "\n",
       "  billing_provider_address_county billing_provider_address_key  \\\n",
       "0                            None                         None   \n",
       "1                            None                         None   \n",
       "2                        Sarasota  943SBENEVARDSARASOTAFL34232   \n",
       "3                            None                         None   \n",
       "4                            None                         None   \n",
       "\n",
       "  billing_provider_address_latitude billing_provider_address_longitude  ...  \\\n",
       "0                              None                               None  ...   \n",
       "1                              None                               None  ...   \n",
       "2                         27.325453                         -82.496513  ...   \n",
       "3                              None                               None  ...   \n",
       "4                              None                               None  ...   \n",
       "\n",
       "  type_of_bill_frequency_description vendorname       cycle_id  \\\n",
       "0        Interim (Continuing Claims)       cyan  full_20240611   \n",
       "1      Admit Through Discharge Claim       cyan  full_20240611   \n",
       "2      Admit Through Discharge Claim       cyan  full_20240611   \n",
       "3      Admit Through Discharge Claim       cyan  full_20240611   \n",
       "4      Admit Through Discharge Claim       cyan  full_20240611   \n",
       "\n",
       "  patient_birth_year patient_gender  \\\n",
       "0               1964              F   \n",
       "1               1964              F   \n",
       "2               1962              U   \n",
       "3               1976              F   \n",
       "4               1960              F   \n",
       "\n",
       "                                          patient_id  \\\n",
       "0  8aad41f612a7095449888c8050abaeb05fdee65643caa3...   \n",
       "1  8aad41f612a7095449888c8050abaeb05fdee65643caa3...   \n",
       "2  5f1de4e894f8384574e789503276dbf4a759b40f225744...   \n",
       "3  1f9d89fd6a5cd3fdfcb387fef2c005300ca79ae5fa32ef...   \n",
       "4  69643c3b36d8f6df6ca79a72251f728f5fd366007a62d3...   \n",
       "\n",
       "  patient_location_preferred_latitude patient_location_preferred_longitude  \\\n",
       "0                           38.643135                           -87.360331   \n",
       "1                           38.643135                           -87.360331   \n",
       "2                           27.329646                           -82.502262   \n",
       "3                           39.946129                           -83.815872   \n",
       "4                                None                                 None   \n",
       "\n",
       "  patient_location_preferred_zipcode patient_location_preferred_type  \n",
       "0                              47557                             2.0  \n",
       "1                              47557                             2.0  \n",
       "2                              34237                             1.0  \n",
       "3                              45504                             1.0  \n",
       "4                               None                             NaN  \n",
       "\n",
       "[5 rows x 127 columns]"
      ]
     },
     "execution_count": 6,
     "metadata": {},
     "output_type": "execute_result"
    }
   ],
   "source": [
    "mx_submits_eda.display_head()"
   ]
  },
  {
   "cell_type": "code",
   "execution_count": 7,
   "id": "ff677125-7173-4c16-8ada-f24963de8c42",
   "metadata": {},
   "outputs": [
    {
     "data": {
      "text/plain": [
       "'Shape of data: rows: 247334, cols: 127'"
      ]
     },
     "execution_count": 7,
     "metadata": {},
     "output_type": "execute_result"
    }
   ],
   "source": [
    "mx_submits_eda.display_shape()"
   ]
  },
  {
   "cell_type": "code",
   "execution_count": null,
   "id": "e8d9d066-ff51-427c-892b-d72adaa14481",
   "metadata": {},
   "outputs": [],
   "source": [
    "column_info_submits = mx_submits_eda.display_column_info()\n",
    "column_info_submits.to_csv(\"../output/column_info_submits.csv\")\n",
    "column_info_submits"
   ]
  },
  {
   "cell_type": "markdown",
   "id": "063585f3-dbe1-402e-aeb1-ee92176803b7",
   "metadata": {},
   "source": [
    "### MX SUBMITS LINE"
   ]
  },
  {
   "cell_type": "markdown",
   "id": "0012c0b6-43ad-4b4b-ad9c-001ddef51a7f",
   "metadata": {},
   "source": [
    "#### EDA"
   ]
  },
  {
   "cell_type": "code",
   "execution_count": null,
   "id": "4fe88a0e-c486-4f91-932b-6bf490549fb8",
   "metadata": {},
   "outputs": [],
   "source": [
    "mx_submits_line_eda = EDAAnalyzer(mx_submits_line_spark_manager)"
   ]
  },
  {
   "cell_type": "code",
   "execution_count": null,
   "id": "bbb1b845-80df-44f2-98c8-cb1793ae6076",
   "metadata": {},
   "outputs": [],
   "source": [
    "mx_submits_line_eda.display_head()"
   ]
  },
  {
   "cell_type": "code",
   "execution_count": null,
   "id": "48b3dc26-0d08-4f8a-802f-f18e192755af",
   "metadata": {},
   "outputs": [],
   "source": [
    "mx_submits_line_eda.display_shape()"
   ]
  },
  {
   "cell_type": "code",
   "execution_count": null,
   "id": "82211de5-7ee0-414d-bb78-a9292603bfd6",
   "metadata": {},
   "outputs": [],
   "source": [
    "column_info_submits_line = mx_submits_line_eda.display_column_info()\n",
    "column_info_submits_line.to_csv(\"../output/column_info_submits_line.csv\")\n",
    "column_info_submits_line"
   ]
  },
  {
   "cell_type": "markdown",
   "id": "96a1d402-ba46-4874-b516-5dbe21385f62",
   "metadata": {},
   "source": [
    "### Feature Engineering"
   ]
  },
  {
   "cell_type": "code",
   "execution_count": null,
   "id": "ef5ae469-0056-4677-b2cc-714b13e71f81",
   "metadata": {},
   "outputs": [],
   "source": [
    "mx_submits_fe = FeatureEngineer(mx_submits_spark_manager)"
   ]
  },
  {
   "cell_type": "code",
   "execution_count": null,
   "id": "1fc4d08c-a95a-4447-b177-3aa81f11580c",
   "metadata": {},
   "outputs": [],
   "source": [
    "mx_submits_fe.add_comorbidities_array()"
   ]
  },
  {
   "cell_type": "code",
   "execution_count": null,
   "id": "74a62ca5-213f-42bf-bdb5-010b8aa423fd",
   "metadata": {},
   "outputs": [],
   "source": [
    "%autoreload 2"
   ]
  }
 ],
 "metadata": {
  "kernelspec": {
   "display_name": "Python 3 (ipykernel)",
   "language": "python",
   "name": "python3"
  },
  "language_info": {
   "codemirror_mode": {
    "name": "ipython",
    "version": 3
   },
   "file_extension": ".py",
   "mimetype": "text/x-python",
   "name": "python",
   "nbconvert_exporter": "python",
   "pygments_lexer": "ipython3",
   "version": "3.11.4"
  }
 },
 "nbformat": 4,
 "nbformat_minor": 5
}
