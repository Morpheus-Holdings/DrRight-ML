{
 "cells": [
  {
   "cell_type": "markdown",
   "id": "ec74a272-f484-4629-8418-0422a8b8540a",
   "metadata": {},
   "source": [
    "import sys\n",
    "sys.path.append(\"../modules\")\n",
    "from eda import EDAAnalyzer\n",
    "from spark_session import SparkManager\n",
    "from feature_engineering import FeatureEngineer"
   ]
  },
  {
   "cell_type": "code",
   "execution_count": null,
   "id": "f47311d8-77d5-4c67-aa39-8ef3b638f315",
   "metadata": {},
   "outputs": [],
   "source": [
    "# Load autoreload extension\n",
    "%load_ext autoreload\n",
    "%autoreload 2"
   ]
  },
  {
   "cell_type": "markdown",
   "id": "5ac7f390-9dcd-4991-8527-04f23c6704af",
   "metadata": {},
   "source": [
    "#### Constants and config"
   ]
  },
  {
   "cell_type": "code",
   "execution_count": null,
   "id": "63f862d4-c9d0-4bea-8d21-be61be66342a",
   "metadata": {},
   "outputs": [],
   "source": []
  }
 ],
 "metadata": {
  "kernelspec": {
   "display_name": "Python 3 (ipykernel)",
   "language": "python",
   "name": "python3"
  },
  "language_info": {
   "codemirror_mode": {
    "name": "ipython",
    "version": 3
   },
   "file_extension": ".py",
   "mimetype": "text/x-python",
   "name": "python",
   "nbconvert_exporter": "python",
   "pygments_lexer": "ipython3",
   "version": "3.12.0"
  }
 },
 "nbformat": 4,
 "nbformat_minor": 5
}
