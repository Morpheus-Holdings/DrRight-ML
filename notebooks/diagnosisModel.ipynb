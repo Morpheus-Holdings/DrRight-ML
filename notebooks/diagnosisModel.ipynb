{
 "cells": [
  {
   "cell_type": "markdown",
   "id": "c90c66c3-5b07-4c9f-bb85-998ec002f118",
   "metadata": {},
   "source": [
    "# Doctor Right - Model building"
   ]
  },
  {
   "cell_type": "code",
   "execution_count": 1,
   "id": "342c35c0-f3c5-4f64-9286-47a0182de419",
   "metadata": {},
   "outputs": [],
   "source": [
    "import sys\n",
    "sys.path.append(\"../modules\")\n",
    "from eda import EDAAnalyzer\n",
    "from spark_session import SparkManager\n",
    "from feature_engineering import FeatureEngineer\n",
    "from ml_developer import XGBoostModelBuilder\n",
    "from ml_developer import MLPModelBuilder\n",
    "from ml_developer import KMeansBuilder"
   ]
  },
  {
   "cell_type": "code",
   "execution_count": 2,
   "id": "27623bdd-1034-461f-bb7a-84ab35f76dad",
   "metadata": {},
   "outputs": [],
   "source": [
    "# Load autoreload extension\n",
    "%load_ext autoreload\n",
    "%autoreload 2"
   ]
  },
  {
   "cell_type": "markdown",
   "id": "dbf7193c-f1f1-4ffb-93e9-e8aa43fa4238",
   "metadata": {},
   "source": [
    "#### Constants and config"
   ]
  },
  {
   "cell_type": "code",
   "execution_count": 3,
   "id": "70a5500e-8955-4948-9dc6-cab851ca7572",
   "metadata": {},
   "outputs": [],
   "source": [
    "# mx_submits_path = \"../data_sample/mx_submits_all/\"\n",
    "mx_submits_path = \"../data_sample/mx_submits.parquet/\"\n",
    "mx_submits_line_path = \"../data_sample/mx_submitsline.parquet/\"\n",
    "cohort_key=\"767ef4cac69e8a0c77384f6e1414364b\"\n",
    "\n",
    "sample_patient_id = \"8aad41f612a7095449888c8050abaeb05fdee65643caa3033542610421d8bd1daaa2c4ce1757401003a1bbcd60948a7aa13eba507a676dea80e0cf76b77dbc95\"\n",
    "features_cols = [\n",
    "'facility_provider_address_region',\n",
    "'patient_gender',\n",
    "'principal_diagnosis_body_part',\n",
    "'principal_diagnosis_category',\n",
    "'claim_all_diagnosis_codes',\n",
    "'previous_diagnosis_ohe']\n",
    "label_column = 'claim_total_charge_amount'\n",
    "exclude_cols = ['patient_id']\n",
    "most_repeated_diagnosis_list = [] "
   ]
  },
  {
   "cell_type": "code",
   "execution_count": 4,
   "id": "f25ea38c-5ee9-402a-aa3b-a0c02ba723c2",
   "metadata": {},
   "outputs": [
    {
     "name": "stderr",
     "output_type": "stream",
     "text": [
      "24/10/21 02:28:14 WARN Utils: Your hostname, Sureshs-MacBook-Air.local resolves to a loopback address: 127.0.0.1; using 172.20.9.214 instead (on interface en0)\n",
      "24/10/21 02:28:14 WARN Utils: Set SPARK_LOCAL_IP if you need to bind to another address\n",
      "Setting default log level to \"WARN\".\n",
      "To adjust logging level use sc.setLogLevel(newLevel). For SparkR, use setLogLevel(newLevel).\n",
      "24/10/21 02:28:14 WARN NativeCodeLoader: Unable to load native-hadoop library for your platform... using builtin-java classes where applicable\n"
     ]
    }
   ],
   "source": [
    "mx_submits_spark_manager = SparkManager(mx_submits_path)"
   ]
  },
  {
   "cell_type": "markdown",
   "id": "3035d81a-c437-4e47-83df-f50064c5d335",
   "metadata": {},
   "source": [
    "### Feature Engineering"
   ]
  },
  {
   "cell_type": "code",
   "execution_count": 5,
   "id": "5e5fb4d2-36e5-4b4a-a89d-8ba1c96c7c53",
   "metadata": {},
   "outputs": [],
   "source": [
    "mx_submits_fe=FeatureEngineer(mx_submits_spark_manager)"
   ]
  },
  {
   "cell_type": "code",
   "execution_count": 6,
   "id": "4de087c3-d694-4d97-bc1c-a9627a5d2984",
   "metadata": {},
   "outputs": [
    {
     "name": "stderr",
     "output_type": "stream",
     "text": [
      "                                                                                \r"
     ]
    },
    {
     "name": "stdout",
     "output_type": "stream",
     "text": [
      "+----------------------+------+--------------------+\n",
      "|continuous_visit_years| count|          percentage|\n",
      "+----------------------+------+--------------------+\n",
      "|                     1|224597|   90.80716763566676|\n",
      "|                     2| 19491|   7.880436979954232|\n",
      "|                     3|  2506|  1.0132048161595253|\n",
      "|                     4|   530| 0.21428513669774474|\n",
      "|                     5|   115|0.046495831547623864|\n",
      "|                     6|    35|0.014150905253624654|\n",
      "|                     7|    16|0.006468985258799842|\n",
      "|                     9|     8|0.003234492629399921|\n",
      "|                     8|     8|0.003234492629399921|\n",
      "|                    10|     6|0.002425869472049...|\n",
      "|                    11|     5| 0.00202155789337495|\n",
      "|                    12|     4|0.001617246314699...|\n",
      "|                    13|     4|0.001617246314699...|\n",
      "|                    14|     3|0.001212934736024...|\n",
      "|                    15|     3|0.001212934736024...|\n",
      "|                    18|     1|4.043115786749901E-4|\n",
      "|                    16|     1|4.043115786749901E-4|\n",
      "|                    17|     1|4.043115786749901E-4|\n",
      "+----------------------+------+--------------------+\n",
      "\n"
     ]
    }
   ],
   "source": [
    "mx_submits_fe.add_continuous_visit_years()\n",
    "mx_submits_fe.get_unique_value_counts(\"continuous_visit_years\")"
   ]
  },
  {
   "cell_type": "code",
   "execution_count": 7,
   "id": "fd694285-ca72-4216-b735-9beee05fa838",
   "metadata": {},
   "outputs": [
    {
     "name": "stdout",
     "output_type": "stream",
     "text": [
      "Dataframe post removing less than 2 continuous visits - Shape: 22737 rows, 131 columns\n"
     ]
    }
   ],
   "source": [
    "mx_submits_fe.filter_by_continuous_visit_years(2)"
   ]
  },
  {
   "cell_type": "code",
   "execution_count": 8,
   "id": "9e301e1a-c5dd-46a4-8bf6-e505071cc845",
   "metadata": {},
   "outputs": [
    {
     "name": "stderr",
     "output_type": "stream",
     "text": [
      "                                                                                \r"
     ]
    },
    {
     "data": {
      "text/html": [
       "<div>\n",
       "<style scoped>\n",
       "    .dataframe tbody tr th:only-of-type {\n",
       "        vertical-align: middle;\n",
       "    }\n",
       "\n",
       "    .dataframe tbody tr th {\n",
       "        vertical-align: top;\n",
       "    }\n",
       "\n",
       "    .dataframe thead th {\n",
       "        text-align: right;\n",
       "    }\n",
       "</style>\n",
       "<table border=\"1\" class=\"dataframe\">\n",
       "  <thead>\n",
       "    <tr style=\"text-align: right;\">\n",
       "      <th></th>\n",
       "      <th>previous_diagnosis_ohe</th>\n",
       "    </tr>\n",
       "  </thead>\n",
       "  <tbody>\n",
       "    <tr>\n",
       "      <th>0</th>\n",
       "      <td>(0.0, 0.0, 0.0, 0.0, 0.0, 0.0, 0.0, 0.0, 0.0, ...</td>\n",
       "    </tr>\n",
       "    <tr>\n",
       "      <th>1</th>\n",
       "      <td>(0.0, 0.0, 0.0, 0.0, 0.0, 0.0, 0.0, 0.0, 0.0, ...</td>\n",
       "    </tr>\n",
       "    <tr>\n",
       "      <th>2</th>\n",
       "      <td>(0.0, 0.0, 0.0, 0.0, 0.0, 0.0, 0.0, 0.0, 0.0, ...</td>\n",
       "    </tr>\n",
       "    <tr>\n",
       "      <th>3</th>\n",
       "      <td>(0.0, 0.0, 0.0, 0.0, 0.0, 0.0, 0.0, 0.0, 0.0, ...</td>\n",
       "    </tr>\n",
       "    <tr>\n",
       "      <th>4</th>\n",
       "      <td>(0.0, 0.0, 0.0, 0.0, 0.0, 0.0, 0.0, 0.0, 0.0, ...</td>\n",
       "    </tr>\n",
       "  </tbody>\n",
       "</table>\n",
       "</div>"
      ],
      "text/plain": [
       "                              previous_diagnosis_ohe\n",
       "0  (0.0, 0.0, 0.0, 0.0, 0.0, 0.0, 0.0, 0.0, 0.0, ...\n",
       "1  (0.0, 0.0, 0.0, 0.0, 0.0, 0.0, 0.0, 0.0, 0.0, ...\n",
       "2  (0.0, 0.0, 0.0, 0.0, 0.0, 0.0, 0.0, 0.0, 0.0, ...\n",
       "3  (0.0, 0.0, 0.0, 0.0, 0.0, 0.0, 0.0, 0.0, 0.0, ...\n",
       "4  (0.0, 0.0, 0.0, 0.0, 0.0, 0.0, 0.0, 0.0, 0.0, ..."
      ]
     },
     "execution_count": 8,
     "metadata": {},
     "output_type": "execute_result"
    }
   ],
   "source": [
    "mx_submits_fe.add_comorbidities_with_exponential_decay_sparse_vector()"
   ]
  },
  {
   "cell_type": "code",
   "execution_count": 9,
   "id": "c7c5ab68-d535-41bf-88b7-438d700a0c8e",
   "metadata": {},
   "outputs": [],
   "source": [
    "mx_submits_fe.retain_columns(features_cols+[label_column])"
   ]
  },
  {
   "cell_type": "code",
   "execution_count": 10,
   "id": "b209ce9e-9e46-420e-ab28-9b40e723e9bf",
   "metadata": {},
   "outputs": [
    {
     "name": "stdout",
     "output_type": "stream",
     "text": [
      "Casted claim_total_charge_amount to float\n"
     ]
    },
    {
     "name": "stderr",
     "output_type": "stream",
     "text": [
      "                                                                                \r"
     ]
    },
    {
     "name": "stdout",
     "output_type": "stream",
     "text": [
      "One-Hot Encoding applied successfully to column: facility_provider_address_region\n",
      "One-Hot Encoding applied successfully to column: patient_gender\n",
      "One-Hot Encoding applied successfully to column: principal_diagnosis_body_part\n",
      "One-Hot Encoding applied successfully to column: principal_diagnosis_category\n",
      "Assembling all features into a vector with 6 columns.\n"
     ]
    },
    {
     "name": "stderr",
     "output_type": "stream",
     "text": [
      "[Stage 95:=================================================>    (183 + 8) / 200]\r"
     ]
    },
    {
     "name": "stdout",
     "output_type": "stream",
     "text": [
      "Preprocessing complete. Feature vector created.\n"
     ]
    },
    {
     "name": "stderr",
     "output_type": "stream",
     "text": [
      "                                                                                \r"
     ]
    }
   ],
   "source": [
    "mx_submits_fe.convert_columns_to_float([\"claim_total_charge_amount\"])\n",
    "preprocess_data = mx_submits_fe.preprocess_data(exclude_cols=exclude_cols)\n",
    "preprocess_data"
   ]
  },
  {
   "cell_type": "code",
   "execution_count": 11,
   "id": "a389fca2-7a0a-478e-8541-a90d338a539b",
   "metadata": {},
   "outputs": [],
   "source": [
    "model_feature_col = [\n",
    "    'principal_diagnosis_category_Factors influencing health status and contact with health services',\n",
    "    # 'patient_location_residential_region_Northeast',\n",
    "    'principal_diagnosis_category_Diseases of the circulatory system',\n",
    "    'principal_diagnosis_category_Diseases of the respiratory system',\n",
    "    'principal_diagnosis_category_Diseases of the musculoskeletal system and connective tissue',\n",
    "    # 'principal_diagnosis_category_unknown',\n",
    "    # 'patient_location_residential_region_West',\n",
    "    'patient_gender_F',\n",
    "    'principal_diagnosis_category_Endocrine nutritional and metabolic diseases',\n",
    "    # 'principal_diagnosis_body_part_unknown',\n",
    "    'principal_diagnosis_body_part_Spine',\n",
    "    'principal_diagnosis_category_Diseases of the eye and adnexa',\n",
    "    'principal_diagnosis_category_Diseases of the genitourinary system',\n",
    "    'principal_diagnosis_category_Injury poisoning and certain other consequences of external causes',\n",
    "    # 'patient_location_residential_region_South',\n",
    "    # 'patient_location_residential_region_unknown',\n",
    "    # 'facility_provider_address_region_unknown',\n",
    "    'patient_gender_M',\n",
    "    'principal_diagnosis_category_Symptoms signs and abnormal clinical laboratory findings not elsewhere classified',\n",
    "    'principal_diagnosis_category_Mental Behavioral and Neurodevelopmental disorders',\n",
    "    # 'patient_gender_U',\n",
    "    # 'secondary_payer_state_unknown',\n",
    "    'principal_diagnosis_category_Diseases of the nervous system',\n",
    "    'Diagnosis_I10',\n",
    "    # 'patient_location_residential_region_Midwest',\n",
    "    'principal_diagnosis_body_part_Knee',\n",
    "    'principal_diagnosis_category_Diseases of the skin and subcutaneous tissue',\n",
    "    'principal_diagnosis_category_Diseases of the ear and mastoid process',\n",
    "    'facility_provider_address_region_Northeast',\n",
    "    'principal_diagnosis_body_part_Eye',\n",
    "    'principal_diagnosis_category_Neoplasms',\n",
    "    'facility_provider_address_region_South',\n",
    "    'principal_diagnosis_body_part_Heart',\n",
    "    'principal_diagnosis_body_part_Ear',\n",
    "    'principal_diagnosis_body_part_Shoulder',\n",
    "    'Diagnosis_E785',\n",
    "    'principal_diagnosis_category_External causes of morbidity',\n",
    "    'principal_diagnosis_category_Diseases of the digestive system',\n",
    "    'facility_provider_address_region_West',\n",
    "    'principal_diagnosis_body_part_Lung',\n",
    "    'facility_provider_address_region_Midwest',\n",
    "    'Diagnosis_N179',\n",
    "    'Diagnosis_E119',\n",
    "    'Diagnosis_R079',\n",
    "    'Diagnosis_Z23',\n",
    "    'principal_diagnosis_body_part_Hip',\n",
    "    'Diagnosis_F200',\n",
    "    'principal_diagnosis_category_Pregnancy childbirth and puerperium',\n",
    "    'Diagnosis_Z87891',\n",
    "    'principal_diagnosis_body_part_Foot',\n",
    "    'Diagnosis_I129',\n",
    "    'Diagnosis_F331',\n",
    "    'Diagnosis_M109',\n",
    "    'principal_diagnosis_category_Certain infections and parasitic diseases',\n",
    "    'Diagnosis_J90',\n",
    "    'principal_diagnosis_body_part_Leg non-joint',\n",
    "    'Diagnosis_R000',\n",
    "    'Diagnosis_R739',\n",
    "    'Diagnosis_K219',\n",
    "    'Diagnosis_Z951',\n",
    "    'Diagnosis_R32',\n",
    "    'principal_diagnosis_body_part_Foot and ankle',\n",
    "    'Diagnosis_I509',\n",
    "    'Diagnosis_E875',\n",
    "    'Diagnosis_N281',\n",
    "    # 'Diagnosis_S2242XA',\n",
    "    'Diagnosis_I130',\n",
    "    'principal_diagnosis_category_Diseases of the blood and blood-forming organs and certain disorders involving the immune mechanism',\n",
    "    'principal_diagnosis_body_part_Hand',\n",
    "    'Diagnosis_F17210',\n",
    "    'Diagnosis_I214',\n",
    "    'Diagnosis_Z931',\n",
    "    'Diagnosis_Q909',\n",
    "    'Diagnosis_I739',\n",
    "    'Diagnosis_Z743',\n",
    "    'Diagnosis_F418',\n",
    "    'Diagnosis_F329',\n",
    "    # 'secondary_payer_state_UT',\n",
    "    'principal_diagnosis_body_part_Wrist',\n",
    "    'Diagnosis_F17200',\n",
    "    'Diagnosis_F209',\n",
    "    'Diagnosis_M545',\n",
    "    # 'secondary_payer_state_KY',\n",
    "    'Diagnosis_E872',\n",
    "    # 'secondary_payer_state_TX',\n",
    "    'Diagnosis_A419',\n",
    "    'principal_diagnosis_body_part_Finger',\n",
    "    'Diagnosis_J189',\n",
    "    'Diagnosis_Z794',\n",
    "    'Diagnosis_I252',\n",
    "    'Diagnosis_R262',\n",
    "    'Diagnosis_D631',\n",
    "    'Diagnosis_I82411',\n",
    "    'Diagnosis_D638',\n",
    "    'Diagnosis_R918',\n",
    "    # 'secondary_payer_state_MO',\n",
    "    'Diagnosis_N189',\n",
    "    'Diagnosis_N186',\n",
    "    'principal_diagnosis_category_Congenital malformations deformations and chromosomal abnormalities',\n",
    "    'principal_diagnosis_body_part_Elbow',\n",
    "    'Diagnosis_Z955',\n",
    "    'Diagnosis_J810',\n",
    "    'Diagnosis_I69322',\n",
    "    'Diagnosis_I69351',\n",
    "    'Diagnosis_R278',\n",
    "    # 'Diagnosis_M479',\n",
    "    # 'secondary_payer_state_GA',\n",
    "    'Diagnosis_R279',\n",
    "    # 'Diagnosis_S0101XA',\n",
    "    # 'Diagnosis_S130XXA',\n",
    "    'Diagnosis_F10229',\n",
    "    'Diagnosis_I69959',\n",
    "    'Diagnosis_D509',\n",
    "    'Diagnosis_I361',\n",
    "    'Diagnosis_N184',\n",
    "    'Diagnosis_I110',\n",
    "    'Diagnosis_M542',\n",
    "    'Diagnosis_E669',\n",
    "    'Diagnosis_G894',\n",
    "    # 'Diagnosis_R578',\n",
    "    # 'Diagnosis_S01112A',\n",
    "    'Diagnosis_F840',\n",
    "    'Diagnosis_Z00129',\n",
    "    'Diagnosis_G309',\n",
    "    'Diagnosis_G319',\n",
    "    'Diagnosis_J441',\n",
    "    # 'Diagnosis_S14125A',\n",
    "    'Diagnosis_I712',\n",
    "    # 'Diagnosis_S12500A',\n",
    "    # 'Diagnosis_S240XXA',\n",
    "    # 'Diagnosis_S12400A',\n",
    "    # 'Diagnosis_S14123A',\n",
    "    'Diagnosis_R202',\n",
    "    'Diagnosis_K222',\n",
    "    'Diagnosis_D649',\n",
    "    'Diagnosis_Z452',\n",
    "    # 'Diagnosis_V784XXA',\n",
    "    'principal_diagnosis_category_Certain conditions originating in the perinatal period',\n",
    "    'Diagnosis_K743',\n",
    "    # 'Diagnosis_G904',\n",
    "    'Diagnosis_J449',\n",
    "    # 'Diagnosis_S0990XA',\n",
    "    'Diagnosis_R620',\n",
    "    'Diagnosis_Z789',\n",
    "    # 'Diagnosis_S0191XA',\n",
    "    'Diagnosis_E861',\n",
    "    'Diagnosis_Z992',\n",
    "    'Diagnosis_M549',\n",
    "    'Diagnosis_I469',\n",
    "    # 'Diagnosis_S1093XA',\n",
    "    'Diagnosis_Z713',\n",
    "    'Diagnosis_D72829',\n",
    "    'Diagnosis_D62',\n",
    "    # 'Diagnosis_M341',\n",
    "    'Diagnosis_Z20822',\n",
    "    'Diagnosis_R569',\n",
    "    'Diagnosis_Z113',\n",
    "    'Diagnosis_I447',\n",
    "    'Diagnosis_E871',\n",
    "    'Diagnosis_I480',\n",
    "    'Diagnosis_N390',\n",
    "    'principal_diagnosis_body_part_Arm non-joint',\n",
    "    'principal_diagnosis_body_part_Ankle',\n",
    "    'principal_diagnosis_body_part_Head',\n",
    "    'Diagnosis_E440',\n",
    "    # 'Diagnosis_R579',\n",
    "    'Diagnosis_Z79899',\n",
    "    'Diagnosis_M25551',\n",
    "    'Diagnosis_R64',\n",
    "    'Diagnosis_F251',\n",
    "    'Diagnosis_H524',\n",
    "    'principal_diagnosis_body_part_Toe',\n",
    "    'Diagnosis_R55',\n",
    "    'Diagnosis_Z993',\n",
    "    'Diagnosis_Z95810',\n",
    "    'Diagnosis_R634',\n",
    "    'principal_diagnosis_body_part_Stomach',\n",
    "    'Diagnosis_D508',\n",
    "    'Diagnosis_R531',\n",
    "    'principal_diagnosis_body_part_Various',\n",
    "    'Diagnosis_H903',\n",
    "    'Diagnosis_F39',\n",
    "    # 'Diagnosis_S2191XA',\n",
    "    'Diagnosis_X58XXXA',\n",
    "    'Diagnosis_I120',\n",
    "    'Diagnosis_M329',\n",
    "    'Diagnosis_R54',\n",
    "    'Diagnosis_Z139',\n",
    "    'Diagnosis_J431',\n",
    "    'Diagnosis_F250',\n",
    "    'Diagnosis_C50511',\n",
    "    # 'Diagnosis_S1091XA',\n",
    "    # 'Diagnosis_L89310',\n",
    "    'Diagnosis_F419',\n",
    "    'Diagnosis_I959',\n",
    "    'principal_diagnosis_body_part_Leg',\n",
    "    # 'Diagnosis_S31119A',\n",
    "    'Diagnosis_J309',\n",
    "    'Diagnosis_E11621',\n",
    "    'Diagnosis_N529',\n",
    "    # 'Diagnosis_R402432',\n",
    "    'Diagnosis_M25571',\n",
    "    'Diagnosis_I253',\n",
    "    'Diagnosis_N939',\n",
    "    'Diagnosis_S31020A',\n",
    "    'Diagnosis_N401',\n",
    "    'Diagnosis_R69',\n",
    "    'Diagnosis_Z95828',\n",
    "    # 'secondary_payer_state_MA',\n",
    "    'Diagnosis_R410',\n",
    "    'Diagnosis_R600',\n",
    "    'Diagnosis_E782',\n",
    "    'Diagnosis_R52',\n",
    "    'Diagnosis_M546',\n",
    "    'Diagnosis_Z888'\n",
    "]\n"
   ]
  },
  {
   "cell_type": "code",
   "execution_count": 12,
   "id": "68ba72b2-9645-4863-b4ba-6b46a893de7c",
   "metadata": {},
   "outputs": [
    {
     "data": {
      "text/plain": [
       "176"
      ]
     },
     "execution_count": 12,
     "metadata": {},
     "output_type": "execute_result"
    }
   ],
   "source": [
    "len(model_feature_col)"
   ]
  },
  {
   "cell_type": "code",
   "execution_count": 13,
   "id": "9aedaca4-f1dd-48e7-9731-688868f0ed3f",
   "metadata": {},
   "outputs": [
    {
     "name": "stdout",
     "output_type": "stream",
     "text": [
      "Created OHE column: facility_provider_address_region_Northeast (index: 1)\n",
      "Created OHE column: facility_provider_address_region_South (index: 2)\n",
      "Created OHE column: facility_provider_address_region_Midwest (index: 3)\n",
      "Created OHE column: facility_provider_address_region_West (index: 4)\n",
      "Created OHE column: patient_gender_F (index: 0)\n",
      "Created OHE column: patient_gender_M (index: 1)\n",
      "Created OHE column: principal_diagnosis_body_part_Spine (index: 1)\n",
      "Created OHE column: principal_diagnosis_body_part_Eye (index: 2)\n",
      "Created OHE column: principal_diagnosis_body_part_Knee (index: 3)\n",
      "Created OHE column: principal_diagnosis_body_part_Ear (index: 4)\n",
      "Created OHE column: principal_diagnosis_body_part_Shoulder (index: 5)\n",
      "Created OHE column: principal_diagnosis_body_part_Heart (index: 6)\n",
      "Created OHE column: principal_diagnosis_body_part_Hip (index: 7)\n",
      "Created OHE column: principal_diagnosis_body_part_Foot (index: 8)\n",
      "Created OHE column: principal_diagnosis_body_part_Foot and ankle (index: 9)\n",
      "Created OHE column: principal_diagnosis_body_part_Leg non-joint (index: 10)\n",
      "Created OHE column: principal_diagnosis_body_part_Lung (index: 11)\n",
      "Created OHE column: principal_diagnosis_body_part_Hand (index: 12)\n",
      "Created OHE column: principal_diagnosis_body_part_Wrist (index: 13)\n",
      "Created OHE column: principal_diagnosis_body_part_Elbow (index: 14)\n",
      "Created OHE column: principal_diagnosis_body_part_Finger (index: 15)\n",
      "Created OHE column: principal_diagnosis_body_part_Arm non-joint (index: 16)\n",
      "Created OHE column: principal_diagnosis_body_part_Toe (index: 17)\n",
      "Created OHE column: principal_diagnosis_body_part_Ankle (index: 19)\n",
      "Created OHE column: principal_diagnosis_body_part_Stomach (index: 21)\n",
      "Created OHE column: principal_diagnosis_body_part_Head (index: 22)\n",
      "Created OHE column: principal_diagnosis_body_part_Various (index: 25)\n",
      "Created OHE column: principal_diagnosis_body_part_Leg (index: 28)\n",
      "Created OHE column: principal_diagnosis_category_Factors influencing health status and contact with health services (index: 0)\n",
      "Created OHE column: principal_diagnosis_category_Symptoms signs and abnormal clinical laboratory findings not elsewhere classified (index: 1)\n",
      "Created OHE column: principal_diagnosis_category_Diseases of the musculoskeletal system and connective tissue (index: 2)\n",
      "Created OHE column: principal_diagnosis_category_Diseases of the respiratory system (index: 3)\n",
      "Created OHE column: principal_diagnosis_category_Mental Behavioral and Neurodevelopmental disorders (index: 4)\n",
      "Created OHE column: principal_diagnosis_category_Diseases of the circulatory system (index: 5)\n",
      "Created OHE column: principal_diagnosis_category_Endocrine nutritional and metabolic diseases (index: 6)\n",
      "Created OHE column: principal_diagnosis_category_Injury poisoning and certain other consequences of external causes (index: 7)\n",
      "Created OHE column: principal_diagnosis_category_Diseases of the eye and adnexa (index: 8)\n",
      "Created OHE column: principal_diagnosis_category_Diseases of the genitourinary system (index: 9)\n",
      "Created OHE column: principal_diagnosis_category_Diseases of the nervous system (index: 10)\n",
      "Created OHE column: principal_diagnosis_category_Diseases of the skin and subcutaneous tissue (index: 11)\n",
      "Created OHE column: principal_diagnosis_category_Diseases of the digestive system (index: 12)\n",
      "Created OHE column: principal_diagnosis_category_Neoplasms (index: 13)\n",
      "Created OHE column: principal_diagnosis_category_Diseases of the ear and mastoid process (index: 14)\n",
      "Created OHE column: principal_diagnosis_category_Certain infections and parasitic diseases (index: 15)\n",
      "Created OHE column: principal_diagnosis_category_Pregnancy childbirth and puerperium (index: 17)\n",
      "ohe_col : principal_diagnosis_category_Diseases of the blood and blood-forming organs and certain disorders involving the immune mechanism\n",
      "Created OHE column: principal_diagnosis_category_Diseases of the blood and blood-forming organs and certain disorders involving the immune mechanism (index: 18)\n",
      "Created OHE column: principal_diagnosis_category_Congenital malformations deformations and chromosomal abnormalities (index: 19)\n",
      "Created OHE column: principal_diagnosis_category_Certain conditions originating in the perinatal period (index: 20)\n",
      "Created OHE column: principal_diagnosis_category_External causes of morbidity (index: 21)\n",
      "Created column for diagnosis code: F331 (index: 0)\n",
      "Created column for diagnosis code: N179 (index: 16)\n",
      "Created column for diagnosis code: E782 (index: 29)\n",
      "Created column for diagnosis code: I739 (index: 36)\n",
      "Created column for diagnosis code: R569 (index: 37)\n",
      "Created column for diagnosis code: D72829 (index: 42)\n",
      "Created column for diagnosis code: Z951 (index: 66)\n",
      "Created column for diagnosis code: D638 (index: 77)\n",
      "Created column for diagnosis code: M109 (index: 109)\n",
      "Created column for diagnosis code: Z23 (index: 119)\n",
      "Created column for diagnosis code: R52 (index: 126)\n",
      "Created column for diagnosis code: N189 (index: 157)\n",
      "Created column for diagnosis code: I214 (index: 161)\n",
      "Created column for diagnosis code: R69 (index: 164)\n",
      "Created column for diagnosis code: R278 (index: 196)\n",
      "Created column for diagnosis code: I959 (index: 211)\n",
      "Created column for diagnosis code: K219 (index: 224)\n",
      "Created column for diagnosis code: E785 (index: 227)\n",
      "Created column for diagnosis code: N184 (index: 231)\n",
      "Created column for diagnosis code: Z113 (index: 238)\n",
      "Created column for diagnosis code: Z79899 (index: 258)\n",
      "Created column for diagnosis code: Z95810 (index: 266)\n",
      "Created column for diagnosis code: N939 (index: 274)\n",
      "Created column for diagnosis code: F17200 (index: 341)\n",
      "Created column for diagnosis code: F329 (index: 345)\n",
      "Created column for diagnosis code: D649 (index: 348)\n",
      "Created column for diagnosis code: M549 (index: 352)\n",
      "Created column for diagnosis code: R079 (index: 353)\n",
      "Created column for diagnosis code: I129 (index: 368)\n",
      "Created column for diagnosis code: G309 (index: 376)\n",
      "Created column for diagnosis code: R531 (index: 384)\n",
      "Created column for diagnosis code: R202 (index: 385)\n",
      "Created column for diagnosis code: A419 (index: 399)\n",
      "Created column for diagnosis code: I130 (index: 407)\n",
      "Created column for diagnosis code: F200 (index: 422)\n",
      "Created column for diagnosis code: I10 (index: 435)\n",
      "Created column for diagnosis code: R55 (index: 449)\n",
      "Created column for diagnosis code: R634 (index: 451)\n",
      "Created column for diagnosis code: F840 (index: 454)\n",
      "Created column for diagnosis code: G894 (index: 462)\n",
      "Created column for diagnosis code: J309 (index: 531)\n",
      "Created column for diagnosis code: M542 (index: 545)\n",
      "Created column for diagnosis code: R918 (index: 582)\n",
      "Created column for diagnosis code: R620 (index: 600)\n",
      "Created column for diagnosis code: E861 (index: 621)\n",
      "Created column for diagnosis code: Q909 (index: 637)\n",
      "Created column for diagnosis code: I120 (index: 644)\n",
      "Created column for diagnosis code: M545 (index: 664)\n",
      "Created column for diagnosis code: M25551 (index: 704)\n",
      "Created column for diagnosis code: R410 (index: 706)\n",
      "Created column for diagnosis code: E871 (index: 720)\n",
      "Created column for diagnosis code: Z139 (index: 788)\n",
      "Created column for diagnosis code: Z955 (index: 828)\n",
      "Created column for diagnosis code: E119 (index: 852)\n",
      "Created column for diagnosis code: D62 (index: 866)\n",
      "Created column for diagnosis code: N401 (index: 888)\n",
      "Created column for diagnosis code: E875 (index: 902)\n",
      "Created column for diagnosis code: F209 (index: 961)\n",
      "Created column for diagnosis code: Z20822 (index: 977)\n",
      "Created column for diagnosis code: N390 (index: 982)\n",
      "Created column for diagnosis code: N281 (index: 991)\n",
      "Created column for diagnosis code: M25571 (index: 1029)\n",
      "Created column for diagnosis code: Z452 (index: 1049)\n",
      "Created column for diagnosis code: Z743 (index: 1071)\n",
      "Created column for diagnosis code: Z888 (index: 1080)\n",
      "Created column for diagnosis code: D631 (index: 1100)\n",
      "Created column for diagnosis code: E669 (index: 1101)\n",
      "Created column for diagnosis code: I509 (index: 1142)\n",
      "Created column for diagnosis code: J189 (index: 1148)\n",
      "Created column for diagnosis code: Z87891 (index: 1150)\n",
      "Created column for diagnosis code: D509 (index: 1211)\n",
      "Created column for diagnosis code: H524 (index: 1254)\n",
      "Created column for diagnosis code: I469 (index: 1271)\n",
      "Created column for diagnosis code: R600 (index: 1272)\n",
      "Created column for diagnosis code: Z993 (index: 1273)\n",
      "Created column for diagnosis code: N529 (index: 1275)\n",
      "Created column for diagnosis code: I252 (index: 1283)\n",
      "Created column for diagnosis code: F419 (index: 1306)\n",
      "Created column for diagnosis code: Z713 (index: 1324)\n",
      "Created column for diagnosis code: Z794 (index: 1340)\n",
      "Created column for diagnosis code: F17210 (index: 1342)\n",
      "Created column for diagnosis code: I480 (index: 1351)\n",
      "Created column for diagnosis code: Z789 (index: 1363)\n",
      "Created column for diagnosis code: F418 (index: 1380)\n",
      "Created column for diagnosis code: F10229 (index: 1382)\n",
      "Created column for diagnosis code: R739 (index: 1452)\n",
      "Created column for diagnosis code: F251 (index: 1522)\n",
      "Created column for diagnosis code: R000 (index: 1556)\n",
      "Created column for diagnosis code: M546 (index: 1558)\n",
      "Created column for diagnosis code: R262 (index: 1566)\n",
      "Created column for diagnosis code: J449 (index: 1570)\n",
      "Created column for diagnosis code: J441 (index: 1611)\n",
      "Created column for diagnosis code: N186 (index: 1641)\n",
      "Created column for diagnosis code: R32 (index: 1656)\n",
      "Created column for diagnosis code: H903 (index: 1660)\n",
      "Created column for diagnosis code: Z00129 (index: 1661)\n",
      "Created column for diagnosis code: F250 (index: 1703)\n",
      "Created column for diagnosis code: R54 (index: 1724)\n",
      "Created column for diagnosis code: X58XXXA (index: 1759)\n",
      "Created column for diagnosis code: Z95828 (index: 1811)\n",
      "Created column for diagnosis code: I361 (index: 1846)\n",
      "Created column for diagnosis code: J431 (index: 1862)\n",
      "Created column for diagnosis code: I712 (index: 1863)\n",
      "Created column for diagnosis code: D508 (index: 1871)\n",
      "Created column for diagnosis code: C50511 (index: 1935)\n",
      "Created column for diagnosis code: E440 (index: 1969)\n",
      "Created column for diagnosis code: F39 (index: 2001)\n",
      "Created column for diagnosis code: R279 (index: 2118)\n",
      "Created column for diagnosis code: I110 (index: 2186)\n",
      "Created column for diagnosis code: Z931 (index: 2359)\n",
      "Created column for diagnosis code: K222 (index: 2367)\n",
      "Created column for diagnosis code: J90 (index: 2499)\n",
      "Created column for diagnosis code: E872 (index: 2524)\n",
      "Created column for diagnosis code: E11621 (index: 2532)\n",
      "Created column for diagnosis code: I447 (index: 2594)\n",
      "Created column for diagnosis code: G319 (index: 2738)\n",
      "Created column for diagnosis code: J810 (index: 2956)\n",
      "Created column for diagnosis code: Z992 (index: 3295)\n",
      "Created column for diagnosis code: M329 (index: 3642)\n",
      "Created column for diagnosis code: I69351 (index: 3801)\n",
      "Created column for diagnosis code: S31020A (index: 3825)\n",
      "Created column for diagnosis code: I69959 (index: 4267)\n",
      "Created column for diagnosis code: I253 (index: 4678)\n",
      "Created column for diagnosis code: I82411 (index: 4738)\n",
      "Created column for diagnosis code: I69322 (index: 4914)\n",
      "Created column for diagnosis code: K743 (index: 5030)\n",
      "Created column for diagnosis code: R64 (index: 5354)\n"
     ]
    }
   ],
   "source": [
    "mx_submits_fe.expand_features(model_feature_col)"
   ]
  },
  {
   "cell_type": "code",
   "execution_count": 14,
   "id": "7d94424f-5305-46be-8d1a-c8a032eb4234",
   "metadata": {},
   "outputs": [],
   "source": [
    "mx_submits_fe.retain_columns(model_feature_col+[label_column])"
   ]
  },
  {
   "cell_type": "code",
   "execution_count": 15,
   "id": "9db91c65-5aa7-4da9-8187-6cdcc64e0e16",
   "metadata": {},
   "outputs": [
    {
     "data": {
      "text/plain": [
       "['principal_diagnosis_category_Factors influencing health status and contact with health services',\n",
       " 'principal_diagnosis_category_Diseases of the circulatory system',\n",
       " 'principal_diagnosis_category_Diseases of the respiratory system',\n",
       " 'principal_diagnosis_category_Diseases of the musculoskeletal system and connective tissue',\n",
       " 'patient_gender_F',\n",
       " 'principal_diagnosis_category_Endocrine nutritional and metabolic diseases',\n",
       " 'principal_diagnosis_body_part_Spine',\n",
       " 'principal_diagnosis_category_Diseases of the eye and adnexa',\n",
       " 'principal_diagnosis_category_Diseases of the genitourinary system',\n",
       " 'principal_diagnosis_category_Injury poisoning and certain other consequences of external causes',\n",
       " 'patient_gender_M',\n",
       " 'principal_diagnosis_category_Symptoms signs and abnormal clinical laboratory findings not elsewhere classified',\n",
       " 'principal_diagnosis_category_Mental Behavioral and Neurodevelopmental disorders',\n",
       " 'principal_diagnosis_category_Diseases of the nervous system',\n",
       " 'Diagnosis_I10',\n",
       " 'principal_diagnosis_body_part_Knee',\n",
       " 'principal_diagnosis_category_Diseases of the skin and subcutaneous tissue',\n",
       " 'principal_diagnosis_category_Diseases of the ear and mastoid process',\n",
       " 'facility_provider_address_region_Northeast',\n",
       " 'principal_diagnosis_body_part_Eye',\n",
       " 'principal_diagnosis_category_Neoplasms',\n",
       " 'facility_provider_address_region_South',\n",
       " 'principal_diagnosis_body_part_Heart',\n",
       " 'principal_diagnosis_body_part_Ear',\n",
       " 'principal_diagnosis_body_part_Shoulder',\n",
       " 'Diagnosis_E785',\n",
       " 'principal_diagnosis_category_External causes of morbidity',\n",
       " 'principal_diagnosis_category_Diseases of the digestive system',\n",
       " 'facility_provider_address_region_West',\n",
       " 'principal_diagnosis_body_part_Lung',\n",
       " 'facility_provider_address_region_Midwest',\n",
       " 'Diagnosis_N179',\n",
       " 'Diagnosis_E119',\n",
       " 'Diagnosis_R079',\n",
       " 'Diagnosis_Z23',\n",
       " 'principal_diagnosis_body_part_Hip',\n",
       " 'Diagnosis_F200',\n",
       " 'principal_diagnosis_category_Pregnancy childbirth and puerperium',\n",
       " 'Diagnosis_Z87891',\n",
       " 'principal_diagnosis_body_part_Foot',\n",
       " 'Diagnosis_I129',\n",
       " 'Diagnosis_F331',\n",
       " 'Diagnosis_M109',\n",
       " 'principal_diagnosis_category_Certain infections and parasitic diseases',\n",
       " 'Diagnosis_J90',\n",
       " 'principal_diagnosis_body_part_Leg non-joint',\n",
       " 'Diagnosis_R000',\n",
       " 'Diagnosis_R739',\n",
       " 'Diagnosis_K219',\n",
       " 'Diagnosis_Z951',\n",
       " 'Diagnosis_R32',\n",
       " 'principal_diagnosis_body_part_Foot and ankle',\n",
       " 'Diagnosis_I509',\n",
       " 'Diagnosis_E875',\n",
       " 'Diagnosis_N281',\n",
       " 'Diagnosis_I130',\n",
       " 'principal_diagnosis_category_Diseases of the blood and blood-forming organs and certain disorders involving the immune mechanism',\n",
       " 'principal_diagnosis_body_part_Hand',\n",
       " 'Diagnosis_F17210',\n",
       " 'Diagnosis_I214',\n",
       " 'Diagnosis_Z931',\n",
       " 'Diagnosis_Q909',\n",
       " 'Diagnosis_I739',\n",
       " 'Diagnosis_Z743',\n",
       " 'Diagnosis_F418',\n",
       " 'Diagnosis_F329',\n",
       " 'principal_diagnosis_body_part_Wrist',\n",
       " 'Diagnosis_F17200',\n",
       " 'Diagnosis_F209',\n",
       " 'Diagnosis_M545',\n",
       " 'Diagnosis_E872',\n",
       " 'Diagnosis_A419',\n",
       " 'principal_diagnosis_body_part_Finger',\n",
       " 'Diagnosis_J189',\n",
       " 'Diagnosis_Z794',\n",
       " 'Diagnosis_I252',\n",
       " 'Diagnosis_R262',\n",
       " 'Diagnosis_D631',\n",
       " 'Diagnosis_I82411',\n",
       " 'Diagnosis_D638',\n",
       " 'Diagnosis_R918',\n",
       " 'Diagnosis_N189',\n",
       " 'Diagnosis_N186',\n",
       " 'principal_diagnosis_category_Congenital malformations deformations and chromosomal abnormalities',\n",
       " 'principal_diagnosis_body_part_Elbow',\n",
       " 'Diagnosis_Z955',\n",
       " 'Diagnosis_J810',\n",
       " 'Diagnosis_I69322',\n",
       " 'Diagnosis_I69351',\n",
       " 'Diagnosis_R278',\n",
       " 'Diagnosis_R279',\n",
       " 'Diagnosis_F10229',\n",
       " 'Diagnosis_I69959',\n",
       " 'Diagnosis_D509',\n",
       " 'Diagnosis_I361',\n",
       " 'Diagnosis_N184',\n",
       " 'Diagnosis_I110',\n",
       " 'Diagnosis_M542',\n",
       " 'Diagnosis_E669',\n",
       " 'Diagnosis_G894',\n",
       " 'Diagnosis_F840',\n",
       " 'Diagnosis_Z00129',\n",
       " 'Diagnosis_G309',\n",
       " 'Diagnosis_G319',\n",
       " 'Diagnosis_J441',\n",
       " 'Diagnosis_I712',\n",
       " 'Diagnosis_R202',\n",
       " 'Diagnosis_K222',\n",
       " 'Diagnosis_D649',\n",
       " 'Diagnosis_Z452',\n",
       " 'principal_diagnosis_category_Certain conditions originating in the perinatal period',\n",
       " 'Diagnosis_K743',\n",
       " 'Diagnosis_J449',\n",
       " 'Diagnosis_R620',\n",
       " 'Diagnosis_Z789',\n",
       " 'Diagnosis_E861',\n",
       " 'Diagnosis_Z992',\n",
       " 'Diagnosis_M549',\n",
       " 'Diagnosis_I469',\n",
       " 'Diagnosis_Z713',\n",
       " 'Diagnosis_D72829',\n",
       " 'Diagnosis_D62',\n",
       " 'Diagnosis_Z20822',\n",
       " 'Diagnosis_R569',\n",
       " 'Diagnosis_Z113',\n",
       " 'Diagnosis_I447',\n",
       " 'Diagnosis_E871',\n",
       " 'Diagnosis_I480',\n",
       " 'Diagnosis_N390',\n",
       " 'principal_diagnosis_body_part_Arm non-joint',\n",
       " 'principal_diagnosis_body_part_Ankle',\n",
       " 'principal_diagnosis_body_part_Head',\n",
       " 'Diagnosis_E440',\n",
       " 'Diagnosis_Z79899',\n",
       " 'Diagnosis_M25551',\n",
       " 'Diagnosis_R64',\n",
       " 'Diagnosis_F251',\n",
       " 'Diagnosis_H524',\n",
       " 'principal_diagnosis_body_part_Toe',\n",
       " 'Diagnosis_R55',\n",
       " 'Diagnosis_Z993',\n",
       " 'Diagnosis_Z95810',\n",
       " 'Diagnosis_R634',\n",
       " 'principal_diagnosis_body_part_Stomach',\n",
       " 'Diagnosis_D508',\n",
       " 'Diagnosis_R531',\n",
       " 'principal_diagnosis_body_part_Various',\n",
       " 'Diagnosis_H903',\n",
       " 'Diagnosis_F39',\n",
       " 'Diagnosis_X58XXXA',\n",
       " 'Diagnosis_I120',\n",
       " 'Diagnosis_M329',\n",
       " 'Diagnosis_R54',\n",
       " 'Diagnosis_Z139',\n",
       " 'Diagnosis_J431',\n",
       " 'Diagnosis_F250',\n",
       " 'Diagnosis_C50511',\n",
       " 'Diagnosis_F419',\n",
       " 'Diagnosis_I959',\n",
       " 'principal_diagnosis_body_part_Leg',\n",
       " 'Diagnosis_J309',\n",
       " 'Diagnosis_E11621',\n",
       " 'Diagnosis_N529',\n",
       " 'Diagnosis_M25571',\n",
       " 'Diagnosis_I253',\n",
       " 'Diagnosis_N939',\n",
       " 'Diagnosis_S31020A',\n",
       " 'Diagnosis_N401',\n",
       " 'Diagnosis_R69',\n",
       " 'Diagnosis_Z95828',\n",
       " 'Diagnosis_R410',\n",
       " 'Diagnosis_R600',\n",
       " 'Diagnosis_E782',\n",
       " 'Diagnosis_R52',\n",
       " 'Diagnosis_M546',\n",
       " 'Diagnosis_Z888',\n",
       " 'claim_total_charge_amount']"
      ]
     },
     "execution_count": 15,
     "metadata": {},
     "output_type": "execute_result"
    }
   ],
   "source": [
    "mx_submits_fe.dataframe.columns"
   ]
  },
  {
   "cell_type": "code",
   "execution_count": 16,
   "id": "683b94a6-fe12-4a58-a8f0-35062c3c2c62",
   "metadata": {},
   "outputs": [
    {
     "data": {
      "text/plain": [
       "DataFrame[features: vector, claim_total_charge_amount: float]"
      ]
     },
     "execution_count": 16,
     "metadata": {},
     "output_type": "execute_result"
    }
   ],
   "source": [
    "model_data = mx_submits_fe.preprocess_features(model_feature_col, label_column)\n",
    "model_data"
   ]
  },
  {
   "cell_type": "code",
   "execution_count": null,
   "id": "8146adff-138d-4d40-a0d9-9d1afab2af15",
   "metadata": {},
   "outputs": [],
   "source": []
  },
  {
   "cell_type": "markdown",
   "id": "6710cba8-d99e-4f23-86a6-ef339142291f",
   "metadata": {},
   "source": [
    "# Model Training"
   ]
  },
  {
   "cell_type": "markdown",
   "id": "39a02153-5f25-491d-a2b6-05a1cce635d8",
   "metadata": {},
   "source": [
    "## XGB Model"
   ]
  },
  {
   "cell_type": "code",
   "execution_count": 17,
   "id": "67b3e4a4-5ae4-4af8-9a39-c62ac602ce84",
   "metadata": {},
   "outputs": [],
   "source": [
    "xgb_model = XGBoostModelBuilder(model_data, model_feature_col, label_column)"
   ]
  },
  {
   "cell_type": "code",
   "execution_count": 18,
   "id": "23946385-15d7-48a6-a255-8c2c6e5c9d7b",
   "metadata": {},
   "outputs": [],
   "source": [
    "train_df, test_df = xgb_model.split_data()"
   ]
  },
  {
   "cell_type": "code",
   "execution_count": 19,
   "id": "1e656012-a7bd-46a6-9311-78a8f631b633",
   "metadata": {},
   "outputs": [
    {
     "name": "stderr",
     "output_type": "stream",
     "text": [
      "24/10/18 02:52:49 WARN SparkStringUtils: Truncated the string representation of a plan since it was too large. This behavior can be adjusted by setting 'spark.sql.debug.maxToStringFields'.\n",
      "2024-10-18 02:52:49,585 INFO XGBoost-PySpark: _fit Running xgboost-2.0.3 on 1 workers with\n",
      "\tbooster params: {'objective': 'reg:squarederror', 'device': 'cpu', 'max_depth': 3, 'eta': 0.1, 'num_round': 100, 'nthread': 1}\n",
      "\ttrain_call_kwargs_params: {'verbose_eval': True, 'num_boost_round': 100}\n",
      "\tdmatrix_kwargs: {'nthread': 1, 'missing': nan}\n",
      "[02:52:59] task 0 got new rank 0                                    (0 + 1) / 1]\n",
      "/Library/Frameworks/Python.framework/Versions/3.11/lib/python3.11/site-packages/xgboost/core.py:160: UserWarning: [02:52:59] WARNING: /Users/runner/work/xgboost/xgboost/src/learner.cc:742: \n",
      "Parameters: { \"num_round\" } are not used.\n",
      "\n",
      "  warnings.warn(smsg, UserWarning)\n",
      "2024-10-18 02:53:01,123 INFO XGBoost-PySpark: _fit Finished xgboost training!   \n"
     ]
    },
    {
     "name": "stdout",
     "output_type": "stream",
     "text": [
      "Model 'XGB_model' saved to ../output/model/XGB_model_cont_2\n"
     ]
    }
   ],
   "source": [
    "xgb_model.train_model()\n",
    "xgb_model.save_model(\"../output/model/XGB_model_cont_2\")"
   ]
  },
  {
   "cell_type": "code",
   "execution_count": 20,
   "id": "35186894-7b48-4fc0-b5e1-c90a6caf1dad",
   "metadata": {},
   "outputs": [],
   "source": [
    "# xgb_model = xgb_model.load_model(model_data, model_feature_col, label_column, xgb_model.model_name,path=\"../output/model/XGB_model\")"
   ]
  },
  {
   "cell_type": "code",
   "execution_count": 21,
   "id": "b264381e-a386-4e1e-ac28-c805647e4524",
   "metadata": {},
   "outputs": [
    {
     "name": "stderr",
     "output_type": "stream",
     "text": [
      "24/10/18 02:53:03 WARN DAGScheduler: Broadcasting large task binary with size 1094.4 KiB\n",
      "INFO:XGBoost-PySpark:Do the inference on the CPUs                  (0 + 8) / 12]\n",
      "2024-10-18 02:53:06,515 INFO XGBoost-PySpark: predict_udf Do the inference on the CPUs\n",
      "2024-10-18 02:53:07,259 INFO XGBoost-PySpark: predict_udf Do the inference on the CPUs\n",
      "2024-10-18 02:53:07,359 INFO XGBoost-PySpark: predict_udf Do the inference on the CPUs\n",
      "2024-10-18 02:53:07,508 INFO XGBoost-PySpark: predict_udf Do the inference on the CPUs\n",
      "2024-10-18 02:53:07,648 INFO XGBoost-PySpark: predict_udf Do the inference on the CPUs\n",
      "2024-10-18 02:53:07,932 INFO XGBoost-PySpark: predict_udf Do the inference on the CPUs\n",
      "2024-10-18 02:53:08,366 INFO XGBoost-PySpark: predict_udf Do the inference on the CPUs\n",
      "2024-10-18 02:53:09,013 INFO XGBoost-PySpark: predict_udf Do the inference on the CPUs\n",
      "2024-10-18 02:53:09,638 INFO XGBoost-PySpark: predict_udf Do the inference on the CPUs\n",
      "2024-10-18 02:53:09,740 INFO XGBoost-PySpark: predict_udf Do the inference on the CPUs\n",
      "2024-10-18 02:53:09,740 INFO XGBoost-PySpark: predict_udf Do the inference on the CPUs\n",
      "24/10/18 02:53:10 WARN DAGScheduler: Broadcasting large task binary with size 1095.5 KiB\n",
      "                                                                                \r"
     ]
    },
    {
     "data": {
      "text/plain": [
       "8378.840657194729"
      ]
     },
     "execution_count": 21,
     "metadata": {},
     "output_type": "execute_result"
    }
   ],
   "source": [
    "xgb_model.evaluate_model(type=\"Train\")"
   ]
  },
  {
   "cell_type": "code",
   "execution_count": 22,
   "id": "ce96a17d-4ce5-47eb-a1e8-327707e32698",
   "metadata": {},
   "outputs": [
    {
     "name": "stderr",
     "output_type": "stream",
     "text": [
      "24/10/18 02:53:13 WARN DAGScheduler: Broadcasting large task binary with size 1094.4 KiB\n",
      "2024-10-18 02:53:14,651 INFO XGBoost-PySpark: predict_udf Do the inference on the CPUs\n",
      "2024-10-18 02:53:14,832 INFO XGBoost-PySpark: predict_udf Do the inference on the CPUs\n",
      "2024-10-18 02:53:16,715 INFO XGBoost-PySpark: predict_udf Do the inference on the CPUs\n",
      "2024-10-18 02:53:17,647 INFO XGBoost-PySpark: predict_udf Do the inference on the CPUs\n",
      "2024-10-18 02:53:18,192 INFO XGBoost-PySpark: predict_udf Do the inference on the CPUs\n",
      "INFO:XGBoost-PySpark:Do the inference on the CPUs                  (5 + 7) / 12]\n",
      "2024-10-18 02:53:19,097 INFO XGBoost-PySpark: predict_udf Do the inference on the CPUs\n",
      "2024-10-18 02:53:20,259 INFO XGBoost-PySpark: predict_udf Do the inference on the CPUs\n",
      "2024-10-18 02:53:20,474 INFO XGBoost-PySpark: predict_udf Do the inference on the CPUs\n",
      "2024-10-18 02:53:20,658 INFO XGBoost-PySpark: predict_udf Do the inference on the CPUs\n",
      "2024-10-18 02:53:21,181 INFO XGBoost-PySpark: predict_udf Do the inference on the CPUs\n",
      "2024-10-18 02:53:21,184 INFO XGBoost-PySpark: predict_udf Do the inference on the CPUs\n",
      "24/10/18 02:53:21 WARN DAGScheduler: Broadcasting large task binary with size 1095.5 KiB\n",
      "                                                                                \r"
     ]
    },
    {
     "data": {
      "text/plain": [
       "6872.892209855708"
      ]
     },
     "execution_count": 22,
     "metadata": {},
     "output_type": "execute_result"
    }
   ],
   "source": [
    "xgb_model.evaluate_model(type=\"Test\")"
   ]
  },
  {
   "cell_type": "code",
   "execution_count": 23,
   "id": "1efd6f4e-ddc1-42ed-9d3c-5716ec89e891",
   "metadata": {},
   "outputs": [
    {
     "name": "stderr",
     "output_type": "stream",
     "text": [
      "24/10/18 02:53:24 WARN DAGScheduler: Broadcasting large task binary with size 1089.2 KiB\n",
      "2024-10-18 02:53:25,594 INFO XGBoost-PySpark: predict_udf Do the inference on the CPUs\n",
      "2024-10-18 02:53:25,626 INFO XGBoost-PySpark: predict_udf Do the inference on the CPUs\n",
      "2024-10-18 02:53:25,832 INFO XGBoost-PySpark: predict_udf Do the inference on the CPUs\n",
      "2024-10-18 02:53:26,132 INFO XGBoost-PySpark: predict_udf Do the inference on the CPUs\n",
      "2024-10-18 02:53:26,347 INFO XGBoost-PySpark: predict_udf Do the inference on the CPUs\n",
      "2024-10-18 02:53:26,545 INFO XGBoost-PySpark: predict_udf Do the inference on the CPUs\n",
      "2024-10-18 02:53:26,740 INFO XGBoost-PySpark: predict_udf Do the inference on the CPUs\n",
      "2024-10-18 02:53:28,045 INFO XGBoost-PySpark: predict_udf Do the inference on the CPUs\n",
      "2024-10-18 02:53:29,190 INFO XGBoost-PySpark: predict_udf Do the inference on the CPUs\n",
      "2024-10-18 02:53:29,446 INFO XGBoost-PySpark: predict_udf Do the inference on the CPUs\n",
      "2024-10-18 02:53:29,452 INFO XGBoost-PySpark: predict_udf Do the inference on the CPUs\n",
      "2024-10-18 02:53:29,578 INFO XGBoost-PySpark: predict_udf Do the inference on the CPUs\n",
      "                                                                                \r"
     ]
    },
    {
     "data": {
      "text/plain": [
       "12575.212458085285"
      ]
     },
     "execution_count": 23,
     "metadata": {},
     "output_type": "execute_result"
    }
   ],
   "source": [
    "xgb_model.calculate_mape(type=\"Train\")"
   ]
  },
  {
   "cell_type": "code",
   "execution_count": 24,
   "id": "2335622d-4519-4b63-8cbe-f1e3c2e79991",
   "metadata": {},
   "outputs": [
    {
     "data": {
      "text/plain": [
       "[('Diagnosis_F331', 83.0),\n",
       " ('patient_gender_F', 54.0),\n",
       " ('Diagnosis_X58XXXA', 39.0),\n",
       " ('Diagnosis_D638', 32.0),\n",
       " ('principal_diagnosis_category_Diseases of the circulatory system', 28.0),\n",
       " ('patient_gender_M', 27.0),\n",
       " ('principal_diagnosis_category_Factors influencing health status and contact with health services',\n",
       "  25.0),\n",
       " ('principal_diagnosis_category_Pregnancy childbirth and puerperium', 18.0),\n",
       " ('principal_diagnosis_body_part_Leg non-joint', 17.0),\n",
       " ('Diagnosis_I739', 17.0),\n",
       " ('Diagnosis_N189', 14.0),\n",
       " ('principal_diagnosis_category_Endocrine nutritional and metabolic diseases',\n",
       "  13.0),\n",
       " ('principal_diagnosis_category_Diseases of the skin and subcutaneous tissue',\n",
       "  13.0),\n",
       " ('principal_diagnosis_category_Mental Behavioral and Neurodevelopmental disorders',\n",
       "  12.0),\n",
       " ('principal_diagnosis_category_Diseases of the respiratory system', 11.0),\n",
       " ('principal_diagnosis_category_Diseases of the genitourinary system', 11.0),\n",
       " ('facility_provider_address_region_Midwest', 11.0),\n",
       " ('principal_diagnosis_category_Injury poisoning and certain other consequences of external causes',\n",
       "  10.0),\n",
       " ('principal_diagnosis_category_Diseases of the nervous system', 9.0),\n",
       " ('facility_provider_address_region_South', 9.0),\n",
       " ('principal_diagnosis_category_Diseases of the digestive system', 9.0),\n",
       " ('principal_diagnosis_category_Diseases of the eye and adnexa', 7.0),\n",
       " ('principal_diagnosis_body_part_Eye', 7.0),\n",
       " ('principal_diagnosis_body_part_Heart', 7.0),\n",
       " ('principal_diagnosis_body_part_Knee', 6.0),\n",
       " ('principal_diagnosis_category_Diseases of the ear and mastoid process', 6.0),\n",
       " ('principal_diagnosis_category_Neoplasms', 6.0),\n",
       " ('facility_provider_address_region_Northeast', 5.0),\n",
       " ('principal_diagnosis_body_part_Head', 5.0),\n",
       " ('principal_diagnosis_body_part_Hip', 4.0),\n",
       " ('principal_diagnosis_category_Certain infections and parasitic diseases',\n",
       "  4.0),\n",
       " ('Diagnosis_R279', 4.0),\n",
       " ('principal_diagnosis_body_part_Ear', 3.0),\n",
       " ('facility_provider_address_region_West', 3.0),\n",
       " ('Diagnosis_D509', 2.0),\n",
       " ('Diagnosis_I469', 2.0)]"
      ]
     },
     "execution_count": 24,
     "metadata": {},
     "output_type": "execute_result"
    }
   ],
   "source": [
    "xgb_model.feature_importance()"
   ]
  },
  {
   "cell_type": "markdown",
   "id": "fd501873-281c-4ef6-b990-9d265aa2b1a7",
   "metadata": {},
   "source": [
    "## KMeans"
   ]
  },
  {
   "cell_type": "code",
   "execution_count": 17,
   "id": "d81033d2-5d8f-4c4d-92d9-66911083590b",
   "metadata": {},
   "outputs": [],
   "source": [
    "kmeans_builder = KMeansBuilder(model_data=model_data)"
   ]
  },
  {
   "cell_type": "code",
   "execution_count": 18,
   "id": "76d7e5ec-3131-484f-8c78-6745a0804012",
   "metadata": {},
   "outputs": [
    {
     "name": "stderr",
     "output_type": "stream",
     "text": [
      "24/10/21 02:28:59 WARN SparkStringUtils: Truncated the string representation of a plan since it was too large. This behavior can be adjusted by setting 'spark.sql.debug.maxToStringFields'.\n",
      "24/10/21 02:29:21 WARN InstanceBuilder: Failed to load implementation from:dev.ludovic.netlib.blas.JNIBLAS\n",
      "24/10/21 02:29:21 WARN InstanceBuilder: Failed to load implementation from:dev.ludovic.netlib.blas.VectorBLAS\n",
      "24/10/21 02:29:26 WARN DAGScheduler: Broadcasting large task binary with size 1394.9 KiB\n",
      "24/10/21 02:29:30 WARN DAGScheduler: Broadcasting large task binary with size 1364.1 KiB\n",
      "24/10/21 02:30:02 WARN DAGScheduler: Broadcasting large task binary with size 1880.2 KiB\n",
      "24/10/21 02:30:09 WARN DAGScheduler: Broadcasting large task binary with size 1849.4 KiB\n",
      "24/10/21 02:30:49 WARN DAGScheduler: Broadcasting large task binary with size 1976.2 KiB\n",
      "[Stage 269:==================================================>    (11 + 1) / 12]\r"
     ]
    },
    {
     "name": "stdout",
     "output_type": "stream",
     "text": [
      "Optimal k  : 300\n"
     ]
    },
    {
     "name": "stderr",
     "output_type": "stream",
     "text": [
      "24/10/21 02:30:54 WARN DAGScheduler: Broadcasting large task binary with size 1945.4 KiB\n",
      "                                                                                \r"
     ]
    },
    {
     "data": {
      "text/plain": [
       "[1173.8905668725401, 71.6404543466004, 0.0005893665601544039]"
      ]
     },
     "execution_count": 18,
     "metadata": {},
     "output_type": "execute_result"
    }
   ],
   "source": [
    "wcss_values = kmeans_builder.optimal_k(clusters=[300, 700, 1000])\n",
    "wcss_values"
   ]
  },
  {
   "cell_type": "code",
   "execution_count": null,
   "id": "1facdc88-78a8-46f4-9631-05894d4bac4d",
   "metadata": {},
   "outputs": [],
   "source": [
    "kmeans_builder.fit_model(k = 500)"
   ]
  },
  {
   "cell_type": "code",
   "execution_count": null,
   "id": "876b62d3-e743-4d71-adf5-e4fb23c72dd7",
   "metadata": {},
   "outputs": [],
   "source": [
    "kmeans_builder.get_model_summary()"
   ]
  },
  {
   "cell_type": "code",
   "execution_count": null,
   "id": "e1452d73-6a9c-4ef6-a2d2-d6c46fbae0eb",
   "metadata": {},
   "outputs": [],
   "source": [
    "kmeans_builder.evaluate_model(type=\"Test\")"
   ]
  },
  {
   "cell_type": "code",
   "execution_count": null,
   "id": "18a57327-51f0-499b-97f2-c7589c775c88",
   "metadata": {},
   "outputs": [],
   "source": [
    "kmeans_builder.get_cluster_averages(column=\"claim_total_charge_amount\", dataset_type=\"train\")"
   ]
  },
  {
   "cell_type": "code",
   "execution_count": null,
   "id": "4d671fb8-002a-4235-80fd-1e1651a8e9ca",
   "metadata": {},
   "outputs": [],
   "source": [
    "kmeans_builder.get_cluster_averages(column=\"claim_total_charge_amount\", dataset_type=\"test\")"
   ]
  },
  {
   "cell_type": "code",
   "execution_count": null,
   "id": "2a06fbbd-e242-42d1-9561-c8b546c26c94",
   "metadata": {},
   "outputs": [],
   "source": []
  },
  {
   "cell_type": "code",
   "execution_count": null,
   "id": "529314e4-67b6-46fd-aac9-c3c523c3d6b7",
   "metadata": {},
   "outputs": [],
   "source": []
  },
  {
   "cell_type": "markdown",
   "id": "777eaa68-3b9c-42bd-b8a8-48c73303912a",
   "metadata": {},
   "source": [
    "## MLP Classifier"
   ]
  },
  {
   "cell_type": "code",
   "execution_count": 14,
   "id": "28cddb4b-6607-414a-b910-a8fe99bd970a",
   "metadata": {},
   "outputs": [],
   "source": [
    "mlp_builder = MLPModelBuilder(model_data, model_feature_col, label_column)"
   ]
  },
  {
   "cell_type": "code",
   "execution_count": 15,
   "id": "1b340421-63ce-4aa5-b86e-6726133122d3",
   "metadata": {},
   "outputs": [
    {
     "data": {
      "text/plain": [
       "['principal_diagnosis_category_Factors influencing health status and contact with health services',\n",
       " 'patient_location_residential_region_Northeast',\n",
       " 'principal_diagnosis_category_Diseases of the circulatory system',\n",
       " 'principal_diagnosis_category_Diseases of the respiratory system',\n",
       " 'principal_diagnosis_category_Diseases of the musculoskeletal system and connective tissue',\n",
       " 'principal_diagnosis_category_unknown',\n",
       " 'patient_location_residential_region_West',\n",
       " 'patient_gender_F',\n",
       " 'principal_diagnosis_category_Endocrine nutritional and metabolic diseases',\n",
       " 'principal_diagnosis_body_part_unknown',\n",
       " 'principal_diagnosis_body_part_Spine',\n",
       " 'principal_diagnosis_category_Diseases of the eye and adnexa',\n",
       " 'principal_diagnosis_category_Diseases of the genitourinary system',\n",
       " 'principal_diagnosis_category_Injury poisoning and certain other consequences of external causes',\n",
       " 'patient_location_residential_region_South',\n",
       " 'patient_location_residential_region_unknown',\n",
       " 'facility_provider_address_region_unknown',\n",
       " 'patient_gender_M',\n",
       " 'principal_diagnosis_category_Symptoms signs and abnormal clinical laboratory findings not elsewhere classified',\n",
       " 'principal_diagnosis_category_Mental Behavioral and Neurodevelopmental disorders',\n",
       " 'patient_gender_U',\n",
       " 'secondary_payer_state_unknown',\n",
       " 'principal_diagnosis_category_Diseases of the nervous system',\n",
       " 'Diagnosis_I10',\n",
       " 'patient_location_residential_region_Midwest',\n",
       " 'principal_diagnosis_body_part_Knee',\n",
       " 'principal_diagnosis_category_Diseases of the skin and subcutaneous tissue',\n",
       " 'principal_diagnosis_category_Diseases of the ear and mastoid process',\n",
       " 'facility_provider_address_region_Northeast',\n",
       " 'principal_diagnosis_body_part_Eye',\n",
       " 'principal_diagnosis_category_Neoplasms',\n",
       " 'facility_provider_address_region_South',\n",
       " 'principal_diagnosis_body_part_Heart',\n",
       " 'principal_diagnosis_body_part_Ear',\n",
       " 'principal_diagnosis_body_part_Shoulder',\n",
       " 'Diagnosis_E785',\n",
       " 'principal_diagnosis_category_External causes of morbidity',\n",
       " 'principal_diagnosis_category_Diseases of the digestive system',\n",
       " 'facility_provider_address_region_West',\n",
       " 'principal_diagnosis_body_part_Lung',\n",
       " 'facility_provider_address_region_Midwest',\n",
       " 'Diagnosis_N179',\n",
       " 'Diagnosis_E119',\n",
       " 'Diagnosis_R079',\n",
       " 'Diagnosis_Z23',\n",
       " 'principal_diagnosis_body_part_Hip',\n",
       " 'Diagnosis_F200',\n",
       " 'principal_diagnosis_category_Pregnancy childbirth and puerperium',\n",
       " 'Diagnosis_Z87891',\n",
       " 'principal_diagnosis_body_part_Foot',\n",
       " 'Diagnosis_I129',\n",
       " 'Diagnosis_F331',\n",
       " 'Diagnosis_M109',\n",
       " 'principal_diagnosis_category_Certain infections and parasitic diseases',\n",
       " 'Diagnosis_J90',\n",
       " 'principal_diagnosis_body_part_Leg non-joint',\n",
       " 'Diagnosis_R000',\n",
       " 'Diagnosis_R739',\n",
       " 'Diagnosis_K219',\n",
       " 'Diagnosis_Z951',\n",
       " 'Diagnosis_R32',\n",
       " 'principal_diagnosis_body_part_Foot and ankle',\n",
       " 'Diagnosis_I509',\n",
       " 'Diagnosis_E875',\n",
       " 'Diagnosis_N281',\n",
       " 'Diagnosis_S2242XA',\n",
       " 'Diagnosis_I130',\n",
       " 'principal_diagnosis_category_Diseases of the blood and blood-forming organs and certain disorders involving the immune mechanism',\n",
       " 'principal_diagnosis_body_part_Hand',\n",
       " 'Diagnosis_F17210',\n",
       " 'Diagnosis_I214',\n",
       " 'Diagnosis_Z931',\n",
       " 'Diagnosis_Q909',\n",
       " 'Diagnosis_I739',\n",
       " 'Diagnosis_Z743',\n",
       " 'Diagnosis_F418',\n",
       " 'Diagnosis_F329',\n",
       " 'secondary_payer_state_UT',\n",
       " 'principal_diagnosis_body_part_Wrist',\n",
       " 'Diagnosis_F17200',\n",
       " 'Diagnosis_F209',\n",
       " 'Diagnosis_M545',\n",
       " 'secondary_payer_state_KY',\n",
       " 'Diagnosis_E872',\n",
       " 'secondary_payer_state_TX',\n",
       " 'Diagnosis_A419',\n",
       " 'principal_diagnosis_body_part_Finger',\n",
       " 'Diagnosis_J189',\n",
       " 'Diagnosis_Z794',\n",
       " 'Diagnosis_I252',\n",
       " 'Diagnosis_R262',\n",
       " 'Diagnosis_D631',\n",
       " 'Diagnosis_I82411',\n",
       " 'Diagnosis_D638',\n",
       " 'Diagnosis_R918',\n",
       " 'secondary_payer_state_MO',\n",
       " 'Diagnosis_N189',\n",
       " 'Diagnosis_N186',\n",
       " 'principal_diagnosis_category_Congenital malformations deformations and chromosomal abnormalities',\n",
       " 'principal_diagnosis_body_part_Elbow',\n",
       " 'Diagnosis_Z955',\n",
       " 'Diagnosis_J810',\n",
       " 'Diagnosis_I69322',\n",
       " 'Diagnosis_I69351',\n",
       " 'Diagnosis_R278',\n",
       " 'Diagnosis_M479',\n",
       " 'secondary_payer_state_GA',\n",
       " 'Diagnosis_R279',\n",
       " 'Diagnosis_S0101XA',\n",
       " 'Diagnosis_S130XXA',\n",
       " 'Diagnosis_F10229',\n",
       " 'Diagnosis_I69959',\n",
       " 'Diagnosis_D509',\n",
       " 'Diagnosis_I361',\n",
       " 'Diagnosis_N184',\n",
       " 'Diagnosis_I110',\n",
       " 'Diagnosis_M542',\n",
       " 'Diagnosis_E669',\n",
       " 'Diagnosis_G894',\n",
       " 'Diagnosis_R578',\n",
       " 'Diagnosis_S01112A',\n",
       " 'Diagnosis_F840',\n",
       " 'Diagnosis_Z00129',\n",
       " 'Diagnosis_G309',\n",
       " 'Diagnosis_G319',\n",
       " 'Diagnosis_J441',\n",
       " 'Diagnosis_S14125A',\n",
       " 'Diagnosis_I712',\n",
       " 'Diagnosis_S12500A',\n",
       " 'Diagnosis_S240XXA',\n",
       " 'Diagnosis_S12400A',\n",
       " 'Diagnosis_S14123A',\n",
       " 'Diagnosis_R202',\n",
       " 'Diagnosis_K222',\n",
       " 'Diagnosis_D649',\n",
       " 'Diagnosis_Z452',\n",
       " 'Diagnosis_V784XXA',\n",
       " 'principal_diagnosis_category_Certain conditions originating in the perinatal period',\n",
       " 'Diagnosis_K743',\n",
       " 'Diagnosis_G904',\n",
       " 'Diagnosis_J449',\n",
       " 'Diagnosis_S0990XA',\n",
       " 'Diagnosis_R620',\n",
       " 'Diagnosis_Z789',\n",
       " 'Diagnosis_S0191XA',\n",
       " 'Diagnosis_E861',\n",
       " 'Diagnosis_Z992',\n",
       " 'Diagnosis_M549',\n",
       " 'Diagnosis_I469',\n",
       " 'Diagnosis_S1093XA',\n",
       " 'Diagnosis_Z713',\n",
       " 'Diagnosis_D72829',\n",
       " 'Diagnosis_D62',\n",
       " 'Diagnosis_M341',\n",
       " 'Diagnosis_Z20822',\n",
       " 'Diagnosis_R569',\n",
       " 'Diagnosis_Z113',\n",
       " 'Diagnosis_I447',\n",
       " 'Diagnosis_E871',\n",
       " 'Diagnosis_I480',\n",
       " 'Diagnosis_N390',\n",
       " 'principal_diagnosis_body_part_Arm non-joint',\n",
       " 'principal_diagnosis_body_part_Ankle',\n",
       " 'principal_diagnosis_body_part_Head',\n",
       " 'Diagnosis_E440',\n",
       " 'Diagnosis_R579',\n",
       " 'Diagnosis_Z79899',\n",
       " 'Diagnosis_M25551',\n",
       " 'Diagnosis_R64',\n",
       " 'Diagnosis_F251',\n",
       " 'Diagnosis_H524',\n",
       " 'principal_diagnosis_body_part_Toe',\n",
       " 'Diagnosis_R55',\n",
       " 'Diagnosis_Z993',\n",
       " 'Diagnosis_Z95810',\n",
       " 'Diagnosis_R634',\n",
       " 'principal_diagnosis_body_part_Stomach',\n",
       " 'Diagnosis_D508',\n",
       " 'Diagnosis_R531',\n",
       " 'principal_diagnosis_body_part_Various',\n",
       " 'Diagnosis_H903',\n",
       " 'Diagnosis_F39',\n",
       " 'Diagnosis_S2191XA',\n",
       " 'Diagnosis_X58XXXA',\n",
       " 'Diagnosis_I120',\n",
       " 'Diagnosis_M329',\n",
       " 'Diagnosis_R54',\n",
       " 'Diagnosis_Z139',\n",
       " 'Diagnosis_J431',\n",
       " 'Diagnosis_F250',\n",
       " 'Diagnosis_C50511',\n",
       " 'Diagnosis_S1091XA',\n",
       " 'Diagnosis_L89310',\n",
       " 'Diagnosis_F419',\n",
       " 'Diagnosis_I959',\n",
       " 'principal_diagnosis_body_part_Leg',\n",
       " 'Diagnosis_S31119A',\n",
       " 'Diagnosis_J309',\n",
       " 'Diagnosis_E11621',\n",
       " 'Diagnosis_N529',\n",
       " 'Diagnosis_R402432',\n",
       " 'Diagnosis_M25571',\n",
       " 'Diagnosis_I253',\n",
       " 'Diagnosis_N939',\n",
       " 'Diagnosis_S31020A',\n",
       " 'Diagnosis_N401',\n",
       " 'Diagnosis_R69',\n",
       " 'Diagnosis_Z95828',\n",
       " 'secondary_payer_state_MA',\n",
       " 'Diagnosis_R410',\n",
       " 'Diagnosis_R600',\n",
       " 'Diagnosis_E782',\n",
       " 'Diagnosis_R52',\n",
       " 'Diagnosis_M546',\n",
       " 'Diagnosis_Z888']"
      ]
     },
     "execution_count": 15,
     "metadata": {},
     "output_type": "execute_result"
    }
   ],
   "source": [
    "model_feature_col"
   ]
  },
  {
   "cell_type": "code",
   "execution_count": 23,
   "id": "7e377f89-868a-4847-bbf6-8b6c0756e911",
   "metadata": {},
   "outputs": [],
   "source": [
    "mlp_builder.train_df, mlp_builder.test_df = mlp_builder.split_data()"
   ]
  },
  {
   "cell_type": "code",
   "execution_count": 17,
   "id": "18af4689-e3cf-4c82-9fec-611c64047ac7",
   "metadata": {},
   "outputs": [
    {
     "name": "stderr",
     "output_type": "stream",
     "text": [
      "                                                                                \r"
     ]
    }
   ],
   "source": [
    "mlp_builder.bin_labels(num_bins=3)"
   ]
  },
  {
   "cell_type": "code",
   "execution_count": 18,
   "id": "4c838a18-2861-4db2-932d-a5c8dff73e67",
   "metadata": {},
   "outputs": [
    {
     "name": "stderr",
     "output_type": "stream",
     "text": [
      "24/10/15 01:25:50 WARN DAGScheduler: Broadcasting large task binary with size 1733.4 KiB\n",
      "24/10/15 01:50:03 WARN DAGScheduler: Broadcasting large task binary with size 1736.4 KiB\n",
      "24/10/15 01:50:04 WARN InstanceBuilder: Failed to load implementation from:dev.ludovic.netlib.blas.JNIBLAS\n",
      "24/10/15 01:50:04 WARN InstanceBuilder: Failed to load implementation from:dev.ludovic.netlib.blas.VectorBLAS\n",
      "24/10/15 01:50:04 WARN DAGScheduler: Broadcasting large task binary with size 1737.4 KiB\n",
      "24/10/15 01:50:05 WARN DAGScheduler: Broadcasting large task binary with size 1736.4 KiB\n",
      "24/10/15 01:50:05 WARN DAGScheduler: Broadcasting large task binary with size 1737.4 KiB\n",
      "24/10/15 01:50:05 WARN DAGScheduler: Broadcasting large task binary with size 1736.4 KiB\n",
      "24/10/15 01:50:05 WARN DAGScheduler: Broadcasting large task binary with size 1737.4 KiB\n",
      "24/10/15 01:50:06 WARN DAGScheduler: Broadcasting large task binary with size 1736.4 KiB\n",
      "24/10/15 01:50:06 WARN DAGScheduler: Broadcasting large task binary with size 1737.4 KiB\n",
      "24/10/15 01:50:06 WARN DAGScheduler: Broadcasting large task binary with size 1736.4 KiB\n",
      "24/10/15 01:50:06 WARN DAGScheduler: Broadcasting large task binary with size 1737.4 KiB\n",
      "24/10/15 01:50:06 WARN DAGScheduler: Broadcasting large task binary with size 1736.4 KiB\n",
      "24/10/15 01:50:07 WARN DAGScheduler: Broadcasting large task binary with size 1737.4 KiB\n",
      "24/10/15 01:50:07 WARN DAGScheduler: Broadcasting large task binary with size 1736.4 KiB\n",
      "24/10/15 01:50:07 WARN DAGScheduler: Broadcasting large task binary with size 1737.4 KiB\n",
      "24/10/15 01:50:07 WARN DAGScheduler: Broadcasting large task binary with size 1736.4 KiB\n",
      "24/10/15 01:50:07 WARN DAGScheduler: Broadcasting large task binary with size 1737.4 KiB\n",
      "24/10/15 01:50:07 WARN DAGScheduler: Broadcasting large task binary with size 1736.4 KiB\n",
      "24/10/15 01:50:08 WARN DAGScheduler: Broadcasting large task binary with size 1737.4 KiB\n",
      "24/10/15 01:50:08 WARN DAGScheduler: Broadcasting large task binary with size 1736.4 KiB\n",
      "24/10/15 01:50:08 WARN DAGScheduler: Broadcasting large task binary with size 1737.4 KiB\n",
      "24/10/15 01:50:08 WARN DAGScheduler: Broadcasting large task binary with size 1736.4 KiB\n",
      "24/10/15 01:50:08 WARN DAGScheduler: Broadcasting large task binary with size 1737.4 KiB\n",
      "24/10/15 01:50:08 WARN DAGScheduler: Broadcasting large task binary with size 1736.4 KiB\n",
      "24/10/15 01:50:09 WARN DAGScheduler: Broadcasting large task binary with size 1737.4 KiB\n",
      "24/10/15 01:50:09 WARN DAGScheduler: Broadcasting large task binary with size 1736.4 KiB\n",
      "24/10/15 01:50:09 WARN DAGScheduler: Broadcasting large task binary with size 1737.4 KiB\n",
      "24/10/15 01:50:09 WARN DAGScheduler: Broadcasting large task binary with size 1736.4 KiB\n",
      "24/10/15 01:50:10 WARN DAGScheduler: Broadcasting large task binary with size 1737.4 KiB\n",
      "24/10/15 01:50:10 WARN DAGScheduler: Broadcasting large task binary with size 1736.4 KiB\n",
      "24/10/15 01:50:10 WARN DAGScheduler: Broadcasting large task binary with size 1737.4 KiB\n",
      "24/10/15 01:50:10 WARN DAGScheduler: Broadcasting large task binary with size 1736.4 KiB\n",
      "24/10/15 01:50:10 WARN DAGScheduler: Broadcasting large task binary with size 1737.4 KiB\n",
      "24/10/15 01:50:10 WARN DAGScheduler: Broadcasting large task binary with size 1736.4 KiB\n",
      "24/10/15 01:50:10 WARN DAGScheduler: Broadcasting large task binary with size 1737.4 KiB\n",
      "24/10/15 01:50:11 WARN DAGScheduler: Broadcasting large task binary with size 1736.4 KiB\n",
      "24/10/15 01:50:11 WARN DAGScheduler: Broadcasting large task binary with size 1737.4 KiB\n",
      "24/10/15 01:50:11 WARN DAGScheduler: Broadcasting large task binary with size 1736.4 KiB\n",
      "24/10/15 01:50:11 WARN DAGScheduler: Broadcasting large task binary with size 1737.4 KiB\n",
      "24/10/15 01:50:11 WARN DAGScheduler: Broadcasting large task binary with size 1736.4 KiB\n",
      "24/10/15 01:50:11 WARN DAGScheduler: Broadcasting large task binary with size 1737.4 KiB\n",
      "24/10/15 01:50:12 WARN DAGScheduler: Broadcasting large task binary with size 1736.4 KiB\n",
      "24/10/15 01:50:12 WARN DAGScheduler: Broadcasting large task binary with size 1737.4 KiB\n",
      "24/10/15 01:50:12 WARN DAGScheduler: Broadcasting large task binary with size 1736.4 KiB\n",
      "24/10/15 01:50:12 WARN DAGScheduler: Broadcasting large task binary with size 1737.4 KiB\n",
      "24/10/15 01:50:12 WARN DAGScheduler: Broadcasting large task binary with size 1736.4 KiB\n",
      "24/10/15 01:50:13 WARN DAGScheduler: Broadcasting large task binary with size 1737.4 KiB\n",
      "24/10/15 01:50:13 WARN DAGScheduler: Broadcasting large task binary with size 1736.4 KiB\n",
      "24/10/15 01:50:13 WARN DAGScheduler: Broadcasting large task binary with size 1737.4 KiB\n",
      "24/10/15 01:50:13 WARN DAGScheduler: Broadcasting large task binary with size 1736.4 KiB\n",
      "24/10/15 01:50:13 WARN DAGScheduler: Broadcasting large task binary with size 1737.4 KiB\n",
      "24/10/15 01:50:13 WARN DAGScheduler: Broadcasting large task binary with size 1736.4 KiB\n",
      "24/10/15 01:50:14 WARN DAGScheduler: Broadcasting large task binary with size 1737.4 KiB\n",
      "24/10/15 01:50:14 WARN DAGScheduler: Broadcasting large task binary with size 1736.4 KiB\n",
      "24/10/15 01:50:14 WARN DAGScheduler: Broadcasting large task binary with size 1737.4 KiB\n",
      "24/10/15 01:50:14 WARN DAGScheduler: Broadcasting large task binary with size 1736.4 KiB\n",
      "24/10/15 01:50:14 WARN DAGScheduler: Broadcasting large task binary with size 1737.4 KiB\n",
      "24/10/15 01:50:14 WARN DAGScheduler: Broadcasting large task binary with size 1736.4 KiB\n",
      "24/10/15 01:50:15 WARN DAGScheduler: Broadcasting large task binary with size 1737.4 KiB\n",
      "24/10/15 01:50:15 WARN DAGScheduler: Broadcasting large task binary with size 1736.4 KiB\n",
      "24/10/15 01:50:15 WARN DAGScheduler: Broadcasting large task binary with size 1737.4 KiB\n",
      "24/10/15 01:50:15 WARN DAGScheduler: Broadcasting large task binary with size 1736.4 KiB\n",
      "24/10/15 01:50:15 WARN DAGScheduler: Broadcasting large task binary with size 1737.4 KiB\n",
      "24/10/15 01:50:15 WARN DAGScheduler: Broadcasting large task binary with size 1736.4 KiB\n",
      "24/10/15 01:50:16 WARN DAGScheduler: Broadcasting large task binary with size 1737.4 KiB\n",
      "24/10/15 01:50:16 WARN DAGScheduler: Broadcasting large task binary with size 1736.4 KiB\n",
      "24/10/15 01:50:16 WARN DAGScheduler: Broadcasting large task binary with size 1737.4 KiB\n",
      "24/10/15 01:50:16 WARN DAGScheduler: Broadcasting large task binary with size 1736.4 KiB\n",
      "24/10/15 01:50:16 WARN DAGScheduler: Broadcasting large task binary with size 1737.4 KiB\n",
      "24/10/15 01:50:16 WARN DAGScheduler: Broadcasting large task binary with size 1736.4 KiB\n",
      "24/10/15 01:50:16 WARN DAGScheduler: Broadcasting large task binary with size 1737.4 KiB\n",
      "24/10/15 01:50:17 WARN DAGScheduler: Broadcasting large task binary with size 1736.4 KiB\n",
      "24/10/15 01:50:17 WARN DAGScheduler: Broadcasting large task binary with size 1737.4 KiB\n",
      "24/10/15 01:50:17 WARN DAGScheduler: Broadcasting large task binary with size 1736.4 KiB\n",
      "24/10/15 01:50:17 WARN DAGScheduler: Broadcasting large task binary with size 1737.4 KiB\n",
      "24/10/15 01:50:17 WARN DAGScheduler: Broadcasting large task binary with size 1736.4 KiB\n",
      "24/10/15 01:50:17 WARN DAGScheduler: Broadcasting large task binary with size 1737.4 KiB\n",
      "24/10/15 01:50:18 WARN DAGScheduler: Broadcasting large task binary with size 1736.4 KiB\n",
      "24/10/15 01:50:18 WARN DAGScheduler: Broadcasting large task binary with size 1737.4 KiB\n",
      "24/10/15 01:50:18 WARN DAGScheduler: Broadcasting large task binary with size 1736.4 KiB\n",
      "24/10/15 01:50:18 WARN DAGScheduler: Broadcasting large task binary with size 1737.4 KiB\n",
      "24/10/15 01:50:18 WARN DAGScheduler: Broadcasting large task binary with size 1736.4 KiB\n",
      "24/10/15 01:50:18 WARN DAGScheduler: Broadcasting large task binary with size 1737.4 KiB\n",
      "24/10/15 01:50:19 WARN DAGScheduler: Broadcasting large task binary with size 1736.4 KiB\n",
      "24/10/15 01:50:19 WARN DAGScheduler: Broadcasting large task binary with size 1737.4 KiB\n",
      "24/10/15 01:50:19 WARN DAGScheduler: Broadcasting large task binary with size 1736.4 KiB\n",
      "24/10/15 01:50:19 WARN DAGScheduler: Broadcasting large task binary with size 1737.4 KiB\n",
      "24/10/15 01:50:19 WARN DAGScheduler: Broadcasting large task binary with size 1736.4 KiB\n",
      "24/10/15 01:50:19 WARN DAGScheduler: Broadcasting large task binary with size 1737.4 KiB\n",
      "24/10/15 01:50:19 WARN DAGScheduler: Broadcasting large task binary with size 1736.4 KiB\n",
      "24/10/15 01:50:20 WARN DAGScheduler: Broadcasting large task binary with size 1737.4 KiB\n",
      "24/10/15 01:50:20 WARN DAGScheduler: Broadcasting large task binary with size 1736.4 KiB\n",
      "24/10/15 01:50:20 WARN DAGScheduler: Broadcasting large task binary with size 1737.4 KiB\n",
      "24/10/15 01:50:20 WARN DAGScheduler: Broadcasting large task binary with size 1736.4 KiB\n",
      "24/10/15 01:50:20 WARN DAGScheduler: Broadcasting large task binary with size 1737.4 KiB\n",
      "24/10/15 01:50:21 WARN DAGScheduler: Broadcasting large task binary with size 1736.4 KiB\n",
      "24/10/15 01:50:21 WARN DAGScheduler: Broadcasting large task binary with size 1737.4 KiB\n",
      "24/10/15 01:50:21 WARN DAGScheduler: Broadcasting large task binary with size 1736.4 KiB\n",
      "24/10/15 01:50:21 WARN DAGScheduler: Broadcasting large task binary with size 1737.4 KiB\n",
      "24/10/15 01:50:21 WARN DAGScheduler: Broadcasting large task binary with size 1736.4 KiB\n",
      "24/10/15 01:50:21 WARN DAGScheduler: Broadcasting large task binary with size 1737.4 KiB\n",
      "24/10/15 01:50:21 WARN DAGScheduler: Broadcasting large task binary with size 1736.4 KiB\n",
      "24/10/15 01:50:22 WARN DAGScheduler: Broadcasting large task binary with size 1737.4 KiB\n",
      "24/10/15 01:50:22 WARN DAGScheduler: Broadcasting large task binary with size 1736.4 KiB\n",
      "24/10/15 01:50:22 WARN DAGScheduler: Broadcasting large task binary with size 1737.4 KiB\n",
      "24/10/15 01:50:22 WARN DAGScheduler: Broadcasting large task binary with size 1736.4 KiB\n",
      "24/10/15 01:50:22 WARN DAGScheduler: Broadcasting large task binary with size 1737.4 KiB\n",
      "24/10/15 01:50:22 WARN DAGScheduler: Broadcasting large task binary with size 1736.4 KiB\n",
      "24/10/15 01:50:23 WARN DAGScheduler: Broadcasting large task binary with size 1737.4 KiB\n",
      "24/10/15 01:50:23 WARN DAGScheduler: Broadcasting large task binary with size 1736.4 KiB\n",
      "24/10/15 01:50:23 WARN DAGScheduler: Broadcasting large task binary with size 1737.4 KiB\n",
      "24/10/15 01:50:23 WARN DAGScheduler: Broadcasting large task binary with size 1736.4 KiB\n",
      "24/10/15 01:50:23 WARN DAGScheduler: Broadcasting large task binary with size 1737.4 KiB\n",
      "24/10/15 01:50:23 WARN DAGScheduler: Broadcasting large task binary with size 1736.4 KiB\n",
      "24/10/15 01:50:24 WARN DAGScheduler: Broadcasting large task binary with size 1737.4 KiB\n",
      "24/10/15 01:50:24 WARN DAGScheduler: Broadcasting large task binary with size 1736.4 KiB\n",
      "24/10/15 01:50:24 WARN DAGScheduler: Broadcasting large task binary with size 1737.4 KiB\n",
      "24/10/15 01:50:24 WARN DAGScheduler: Broadcasting large task binary with size 1736.4 KiB\n",
      "24/10/15 01:50:24 WARN DAGScheduler: Broadcasting large task binary with size 1737.4 KiB\n",
      "24/10/15 01:50:24 WARN DAGScheduler: Broadcasting large task binary with size 1736.4 KiB\n",
      "24/10/15 01:50:25 WARN DAGScheduler: Broadcasting large task binary with size 1737.4 KiB\n",
      "24/10/15 01:50:25 WARN DAGScheduler: Broadcasting large task binary with size 1736.4 KiB\n",
      "24/10/15 01:50:25 WARN DAGScheduler: Broadcasting large task binary with size 1737.4 KiB\n",
      "24/10/15 01:50:25 WARN DAGScheduler: Broadcasting large task binary with size 1736.4 KiB\n",
      "24/10/15 01:50:25 WARN DAGScheduler: Broadcasting large task binary with size 1737.4 KiB\n",
      "24/10/15 01:50:25 WARN DAGScheduler: Broadcasting large task binary with size 1736.4 KiB\n",
      "24/10/15 01:50:26 WARN DAGScheduler: Broadcasting large task binary with size 1737.4 KiB\n",
      "24/10/15 01:50:26 WARN DAGScheduler: Broadcasting large task binary with size 1736.4 KiB\n",
      "24/10/15 01:50:26 WARN DAGScheduler: Broadcasting large task binary with size 1737.4 KiB\n",
      "24/10/15 01:50:26 WARN DAGScheduler: Broadcasting large task binary with size 1736.4 KiB\n",
      "24/10/15 01:50:26 WARN DAGScheduler: Broadcasting large task binary with size 1737.4 KiB\n",
      "24/10/15 01:50:26 WARN DAGScheduler: Broadcasting large task binary with size 1736.4 KiB\n",
      "24/10/15 01:50:27 WARN DAGScheduler: Broadcasting large task binary with size 1737.4 KiB\n",
      "24/10/15 01:50:27 WARN DAGScheduler: Broadcasting large task binary with size 1736.4 KiB\n",
      "24/10/15 01:50:27 WARN DAGScheduler: Broadcasting large task binary with size 1737.4 KiB\n",
      "24/10/15 01:50:27 WARN DAGScheduler: Broadcasting large task binary with size 1736.4 KiB\n",
      "24/10/15 01:50:27 WARN DAGScheduler: Broadcasting large task binary with size 1737.4 KiB\n",
      "24/10/15 01:50:27 WARN DAGScheduler: Broadcasting large task binary with size 1736.4 KiB\n",
      "24/10/15 01:50:28 WARN DAGScheduler: Broadcasting large task binary with size 1737.4 KiB\n",
      "24/10/15 01:50:28 WARN DAGScheduler: Broadcasting large task binary with size 1736.4 KiB\n",
      "24/10/15 01:50:28 WARN DAGScheduler: Broadcasting large task binary with size 1737.4 KiB\n",
      "24/10/15 01:50:28 WARN DAGScheduler: Broadcasting large task binary with size 1736.4 KiB\n",
      "24/10/15 01:50:28 WARN DAGScheduler: Broadcasting large task binary with size 1737.4 KiB\n",
      "24/10/15 01:50:28 WARN DAGScheduler: Broadcasting large task binary with size 1736.4 KiB\n",
      "24/10/15 01:50:29 WARN DAGScheduler: Broadcasting large task binary with size 1737.4 KiB\n",
      "24/10/15 01:50:29 WARN DAGScheduler: Broadcasting large task binary with size 1736.4 KiB\n",
      "24/10/15 01:50:29 WARN DAGScheduler: Broadcasting large task binary with size 1737.4 KiB\n",
      "24/10/15 01:50:29 WARN DAGScheduler: Broadcasting large task binary with size 1736.4 KiB\n",
      "24/10/15 01:50:29 WARN DAGScheduler: Broadcasting large task binary with size 1737.4 KiB\n",
      "24/10/15 01:50:29 WARN DAGScheduler: Broadcasting large task binary with size 1736.4 KiB\n",
      "24/10/15 01:50:30 WARN DAGScheduler: Broadcasting large task binary with size 1737.4 KiB\n",
      "24/10/15 01:50:30 WARN DAGScheduler: Broadcasting large task binary with size 1736.4 KiB\n",
      "24/10/15 01:50:30 WARN DAGScheduler: Broadcasting large task binary with size 1737.4 KiB\n",
      "24/10/15 01:50:30 WARN DAGScheduler: Broadcasting large task binary with size 1736.4 KiB\n",
      "24/10/15 01:50:30 WARN DAGScheduler: Broadcasting large task binary with size 1737.4 KiB\n",
      "24/10/15 01:50:30 WARN DAGScheduler: Broadcasting large task binary with size 1736.4 KiB\n",
      "24/10/15 01:50:31 WARN DAGScheduler: Broadcasting large task binary with size 1737.4 KiB\n",
      "24/10/15 01:50:31 WARN DAGScheduler: Broadcasting large task binary with size 1736.4 KiB\n",
      "24/10/15 01:50:31 WARN DAGScheduler: Broadcasting large task binary with size 1737.4 KiB\n",
      "24/10/15 01:50:31 WARN DAGScheduler: Broadcasting large task binary with size 1736.4 KiB\n",
      "24/10/15 01:50:31 WARN DAGScheduler: Broadcasting large task binary with size 1737.4 KiB\n",
      "24/10/15 01:50:31 WARN DAGScheduler: Broadcasting large task binary with size 1736.4 KiB\n",
      "24/10/15 01:50:31 WARN DAGScheduler: Broadcasting large task binary with size 1737.4 KiB\n",
      "24/10/15 01:50:32 WARN DAGScheduler: Broadcasting large task binary with size 1736.4 KiB\n",
      "24/10/15 01:50:32 WARN DAGScheduler: Broadcasting large task binary with size 1737.4 KiB\n",
      "24/10/15 01:50:32 WARN DAGScheduler: Broadcasting large task binary with size 1736.4 KiB\n",
      "24/10/15 01:50:32 WARN DAGScheduler: Broadcasting large task binary with size 1737.4 KiB\n",
      "24/10/15 01:50:32 WARN DAGScheduler: Broadcasting large task binary with size 1736.4 KiB\n",
      "24/10/15 01:50:33 WARN DAGScheduler: Broadcasting large task binary with size 1737.4 KiB\n",
      "24/10/15 01:50:33 WARN DAGScheduler: Broadcasting large task binary with size 1736.4 KiB\n",
      "24/10/15 01:50:33 WARN DAGScheduler: Broadcasting large task binary with size 1737.4 KiB\n",
      "24/10/15 01:50:33 WARN DAGScheduler: Broadcasting large task binary with size 1736.4 KiB\n",
      "24/10/15 01:50:33 WARN DAGScheduler: Broadcasting large task binary with size 1737.4 KiB\n",
      "24/10/15 01:50:33 WARN DAGScheduler: Broadcasting large task binary with size 1736.4 KiB\n",
      "24/10/15 01:50:34 WARN DAGScheduler: Broadcasting large task binary with size 1737.4 KiB\n",
      "24/10/15 01:50:34 WARN DAGScheduler: Broadcasting large task binary with size 1736.4 KiB\n",
      "24/10/15 01:50:34 WARN DAGScheduler: Broadcasting large task binary with size 1737.4 KiB\n",
      "24/10/15 01:50:34 WARN DAGScheduler: Broadcasting large task binary with size 1736.4 KiB\n",
      "24/10/15 01:50:34 WARN DAGScheduler: Broadcasting large task binary with size 1737.4 KiB\n",
      "24/10/15 01:50:34 WARN DAGScheduler: Broadcasting large task binary with size 1736.4 KiB\n",
      "24/10/15 01:50:34 WARN DAGScheduler: Broadcasting large task binary with size 1737.4 KiB\n",
      "24/10/15 01:50:35 WARN DAGScheduler: Broadcasting large task binary with size 1736.4 KiB\n",
      "24/10/15 01:50:35 WARN DAGScheduler: Broadcasting large task binary with size 1737.4 KiB\n",
      "24/10/15 01:50:35 WARN DAGScheduler: Broadcasting large task binary with size 1736.4 KiB\n",
      "24/10/15 01:50:35 WARN DAGScheduler: Broadcasting large task binary with size 1737.4 KiB\n",
      "24/10/15 01:50:35 WARN DAGScheduler: Broadcasting large task binary with size 1736.4 KiB\n",
      "24/10/15 01:50:36 WARN DAGScheduler: Broadcasting large task binary with size 1737.4 KiB\n",
      "24/10/15 01:50:36 WARN DAGScheduler: Broadcasting large task binary with size 1736.4 KiB\n",
      "24/10/15 01:50:36 WARN DAGScheduler: Broadcasting large task binary with size 1737.4 KiB\n",
      "24/10/15 01:50:36 WARN DAGScheduler: Broadcasting large task binary with size 1736.4 KiB\n",
      "24/10/15 01:50:36 WARN DAGScheduler: Broadcasting large task binary with size 1737.4 KiB\n",
      "24/10/15 01:50:36 WARN DAGScheduler: Broadcasting large task binary with size 1736.4 KiB\n",
      "24/10/15 01:50:36 WARN DAGScheduler: Broadcasting large task binary with size 1737.4 KiB\n",
      "24/10/15 01:50:37 WARN DAGScheduler: Broadcasting large task binary with size 1736.4 KiB\n",
      "24/10/15 01:50:37 WARN DAGScheduler: Broadcasting large task binary with size 1737.4 KiB\n",
      "24/10/15 01:50:37 WARN DAGScheduler: Broadcasting large task binary with size 1736.4 KiB\n",
      "24/10/15 01:50:37 WARN DAGScheduler: Broadcasting large task binary with size 1737.4 KiB\n",
      "24/10/15 01:50:37 WARN DAGScheduler: Broadcasting large task binary with size 1736.4 KiB\n",
      "24/10/15 01:50:37 WARN DAGScheduler: Broadcasting large task binary with size 1737.4 KiB\n",
      "24/10/15 01:50:38 WARN DAGScheduler: Broadcasting large task binary with size 1736.4 KiB\n",
      "24/10/15 01:50:38 WARN DAGScheduler: Broadcasting large task binary with size 1737.4 KiB\n",
      "24/10/15 01:50:38 WARN DAGScheduler: Broadcasting large task binary with size 1736.4 KiB\n",
      "24/10/15 01:50:38 WARN DAGScheduler: Broadcasting large task binary with size 1737.4 KiB\n",
      "24/10/15 01:50:38 WARN DAGScheduler: Broadcasting large task binary with size 1736.4 KiB\n",
      "24/10/15 01:50:38 WARN DAGScheduler: Broadcasting large task binary with size 1737.4 KiB\n",
      "24/10/15 01:50:39 WARN DAGScheduler: Broadcasting large task binary with size 1736.4 KiB\n",
      "24/10/15 01:50:39 WARN DAGScheduler: Broadcasting large task binary with size 1737.4 KiB\n",
      "24/10/15 01:50:39 WARN DAGScheduler: Broadcasting large task binary with size 1736.4 KiB\n",
      "24/10/15 01:50:39 WARN DAGScheduler: Broadcasting large task binary with size 1737.4 KiB\n",
      "24/10/15 01:50:39 WARN DAGScheduler: Broadcasting large task binary with size 1736.4 KiB\n",
      "24/10/15 01:50:39 WARN DAGScheduler: Broadcasting large task binary with size 1737.4 KiB\n",
      "24/10/15 01:50:39 WARN DAGScheduler: Broadcasting large task binary with size 1736.4 KiB\n",
      "24/10/15 01:50:40 WARN DAGScheduler: Broadcasting large task binary with size 1737.4 KiB\n",
      "24/10/15 01:50:40 WARN DAGScheduler: Broadcasting large task binary with size 1736.4 KiB\n",
      "24/10/15 01:50:40 WARN DAGScheduler: Broadcasting large task binary with size 1737.4 KiB\n",
      "24/10/15 01:50:40 WARN DAGScheduler: Broadcasting large task binary with size 1736.4 KiB\n",
      "24/10/15 01:50:40 WARN DAGScheduler: Broadcasting large task binary with size 1737.4 KiB\n",
      "24/10/15 01:50:41 WARN DAGScheduler: Broadcasting large task binary with size 1736.4 KiB\n",
      "24/10/15 01:50:41 WARN DAGScheduler: Broadcasting large task binary with size 1737.4 KiB\n",
      "24/10/15 01:50:41 WARN DAGScheduler: Broadcasting large task binary with size 1736.4 KiB\n",
      "24/10/15 01:50:41 WARN DAGScheduler: Broadcasting large task binary with size 1737.4 KiB\n",
      "24/10/15 01:50:41 WARN DAGScheduler: Broadcasting large task binary with size 1736.4 KiB\n",
      "24/10/15 01:50:41 WARN DAGScheduler: Broadcasting large task binary with size 1737.4 KiB\n",
      "24/10/15 01:50:42 WARN DAGScheduler: Broadcasting large task binary with size 1736.4 KiB\n",
      "24/10/15 01:50:42 WARN DAGScheduler: Broadcasting large task binary with size 1737.4 KiB\n",
      "24/10/15 01:50:42 WARN DAGScheduler: Broadcasting large task binary with size 1736.4 KiB\n",
      "24/10/15 01:50:42 WARN DAGScheduler: Broadcasting large task binary with size 1737.4 KiB\n",
      "24/10/15 01:50:42 WARN DAGScheduler: Broadcasting large task binary with size 1736.4 KiB\n",
      "24/10/15 01:50:43 WARN DAGScheduler: Broadcasting large task binary with size 1737.4 KiB\n",
      "24/10/15 01:50:43 WARN DAGScheduler: Broadcasting large task binary with size 1736.4 KiB\n",
      "24/10/15 01:50:43 WARN DAGScheduler: Broadcasting large task binary with size 1737.4 KiB\n",
      "24/10/15 01:50:43 WARN DAGScheduler: Broadcasting large task binary with size 1736.4 KiB\n",
      "24/10/15 01:50:43 WARN DAGScheduler: Broadcasting large task binary with size 1737.4 KiB\n",
      "24/10/15 01:50:43 WARN DAGScheduler: Broadcasting large task binary with size 1736.4 KiB\n",
      "24/10/15 01:50:43 WARN DAGScheduler: Broadcasting large task binary with size 1737.4 KiB\n",
      "24/10/15 01:50:44 WARN DAGScheduler: Broadcasting large task binary with size 1736.4 KiB\n",
      "24/10/15 01:50:44 WARN DAGScheduler: Broadcasting large task binary with size 1737.4 KiB\n",
      "24/10/15 01:50:44 WARN DAGScheduler: Broadcasting large task binary with size 1736.4 KiB\n",
      "24/10/15 01:50:44 WARN DAGScheduler: Broadcasting large task binary with size 1737.4 KiB\n",
      "24/10/15 01:50:44 WARN DAGScheduler: Broadcasting large task binary with size 1736.4 KiB\n",
      "24/10/15 01:50:44 WARN DAGScheduler: Broadcasting large task binary with size 1737.4 KiB\n",
      "24/10/15 01:50:44 WARN DAGScheduler: Broadcasting large task binary with size 1736.4 KiB\n",
      "24/10/15 01:50:45 WARN DAGScheduler: Broadcasting large task binary with size 1737.4 KiB\n",
      "24/10/15 01:50:45 WARN DAGScheduler: Broadcasting large task binary with size 1736.4 KiB\n",
      "24/10/15 01:50:45 WARN DAGScheduler: Broadcasting large task binary with size 1737.4 KiB\n",
      "24/10/15 01:50:45 WARN DAGScheduler: Broadcasting large task binary with size 1736.4 KiB\n",
      "24/10/15 01:50:45 WARN DAGScheduler: Broadcasting large task binary with size 1737.4 KiB\n",
      "[Stage 574:=============================================>       (172 + 8) / 200]\r"
     ]
    },
    {
     "data": {
      "text/plain": [
       "MultilayerPerceptronClassificationModel: uid=MultilayerPerceptronClassifier_1d369a285971, numLayers=4, numClasses=3, numFeatures=215"
      ]
     },
     "execution_count": 18,
     "metadata": {},
     "output_type": "execute_result"
    }
   ],
   "source": [
    "# layers = [len(mlp_builder.feature_columns), 5, 4, 3] \n",
    "# mlp_builder.train_model(layers)"
   ]
  },
  {
   "cell_type": "code",
   "execution_count": 20,
   "id": "04008e97-44d2-4303-b207-479720758e22",
   "metadata": {},
   "outputs": [],
   "source": [
    "# mlp_builder.save_model(\"../output/model/MLPModel\")"
   ]
  },
  {
   "cell_type": "code",
   "execution_count": 20,
   "id": "d6a9b106-2e78-4cf0-ab1b-37ced61e481d",
   "metadata": {},
   "outputs": [],
   "source": [
    "mlp_builder = mlp_builder.load_model(model_data, model_feature_col, label_column,path = \"../output/model/MLPModel\")"
   ]
  },
  {
   "cell_type": "code",
   "execution_count": 21,
   "id": "b7f0ff7e-8566-43bf-95ce-91953421430c",
   "metadata": {},
   "outputs": [
    {
     "name": "stderr",
     "output_type": "stream",
     "text": [
      "24/10/15 05:11:58 WARN DAGScheduler: Broadcasting large task binary with size 1732.4 KiB\n",
      "                                                                                \r"
     ]
    },
    {
     "data": {
      "text/plain": [
       "0.4183189785586058"
      ]
     },
     "execution_count": 21,
     "metadata": {},
     "output_type": "execute_result"
    }
   ],
   "source": [
    "mlp_builder.evaluate_model(type=\"Train\")"
   ]
  },
  {
   "cell_type": "code",
   "execution_count": 22,
   "id": "44a0e5ff-06ea-4875-9064-863eeb0b4723",
   "metadata": {},
   "outputs": [
    {
     "name": "stderr",
     "output_type": "stream",
     "text": [
      "24/10/15 05:33:57 WARN DAGScheduler: Broadcasting large task binary with size 1732.4 KiB\n",
      "                                                                                \r"
     ]
    },
    {
     "data": {
      "text/plain": [
       "0.41645249459470485"
      ]
     },
     "execution_count": 22,
     "metadata": {},
     "output_type": "execute_result"
    }
   ],
   "source": [
    "mlp_builder.evaluate_model(type=\"Test\")"
   ]
  },
  {
   "cell_type": "code",
   "execution_count": 23,
   "id": "eb60577a-4680-465c-ad40-5cb2c3984fd5",
   "metadata": {},
   "outputs": [
    {
     "name": "stderr",
     "output_type": "stream",
     "text": [
      "24/10/15 05:57:04 WARN SparkStringUtils: Truncated the string representation of a plan since it was too large. This behavior can be adjusted by setting 'spark.sql.debug.maxToStringFields'.\n",
      "24/10/15 05:57:05 WARN DAGScheduler: Broadcasting large task binary with size 1707.3 KiB\n",
      "24/10/15 06:22:22 WARN DAGScheduler: Broadcasting large task binary with size 1675.8 KiB\n",
      "                                                                                \r"
     ]
    },
    {
     "name": "stdout",
     "output_type": "stream",
     "text": [
      "+------------+--------------------+\n",
      "|label_binned|average_claim_amount|\n",
      "+------------+--------------------+\n",
      "|         1.0|  242.79556904862184|\n",
      "|         0.0|    83.5966601299861|\n",
      "|         2.0|  3583.0215044044608|\n",
      "+------------+--------------------+\n",
      "\n"
     ]
    }
   ],
   "source": [
    "avg_claim_train = mlp_builder.average_claim_by_bin_train()\n",
    "avg_claim_train.show()"
   ]
  },
  {
   "cell_type": "code",
   "execution_count": 25,
   "id": "5c33b132-eeba-493b-b25d-303f2bc2f135",
   "metadata": {},
   "outputs": [
    {
     "name": "stderr",
     "output_type": "stream",
     "text": [
      "24/10/15 09:31:15 WARN DAGScheduler: Broadcasting large task binary with size 1707.3 KiB\n",
      "[Stage 604:==================================================>    (11 + 1) / 12]\r"
     ]
    },
    {
     "name": "stdout",
     "output_type": "stream",
     "text": [
      "+------------+--------------------+\n",
      "|label_binned|average_claim_amount|\n",
      "+------------+--------------------+\n",
      "|         1.0|  242.14374536013332|\n",
      "|         0.0|    84.0827847817373|\n",
      "|         2.0|  3487.9150747244967|\n",
      "+------------+--------------------+\n",
      "\n"
     ]
    },
    {
     "name": "stderr",
     "output_type": "stream",
     "text": [
      "24/10/15 09:57:26 WARN DAGScheduler: Broadcasting large task binary with size 1675.8 KiB\n",
      "                                                                                \r"
     ]
    }
   ],
   "source": [
    "avg_claim_test = mlp_builder.average_claim_by_bin_test()\n",
    "avg_claim_test.show()"
   ]
  },
  {
   "cell_type": "code",
   "execution_count": 27,
   "id": "0f158715-b919-4711-9a1d-ce31d82dc4d5",
   "metadata": {},
   "outputs": [
    {
     "name": "stderr",
     "output_type": "stream",
     "text": [
      "24/10/15 14:16:42 WARN SparkStringUtils: Truncated the string representation of a plan since it was too large. This behavior can be adjusted by setting 'spark.sql.debug.maxToStringFields'.\n",
      "24/10/15 14:16:45 WARN DAGScheduler: Broadcasting large task binary with size 1757.2 KiB\n",
      "24/10/15 14:22:45 WARN InstanceBuilder: Failed to load implementation from:dev.ludovic.netlib.blas.JNIBLAS\n",
      "24/10/15 14:22:46 WARN InstanceBuilder: Failed to load implementation from:dev.ludovic.netlib.blas.VectorBLAS\n",
      "24/10/15 14:45:45 WARN DAGScheduler: Broadcasting large task binary with size 1723.9 KiB\n",
      "                                                                                \r"
     ]
    },
    {
     "name": "stdout",
     "output_type": "stream",
     "text": [
      "+-------------+--------------------+\n",
      "|predicted_bin|average_claim_amount|\n",
      "+-------------+--------------------+\n",
      "|            0|  1307.2307887574923|\n",
      "+-------------+--------------------+\n",
      "\n"
     ]
    }
   ],
   "source": [
    "avg_claim_pred_train = mlp_builder.average_claim_by_predicted_bin_train(num_bins=3)\n",
    "avg_claim_pred_train.show()"
   ]
  },
  {
   "cell_type": "code",
   "execution_count": 28,
   "id": "63520415-e799-43ee-a74c-4147eef88001",
   "metadata": {},
   "outputs": [
    {
     "name": "stderr",
     "output_type": "stream",
     "text": [
      "24/10/15 14:45:51 WARN DAGScheduler: Broadcasting large task binary with size 1756.9 KiB\n",
      "24/10/15 15:09:33 WARN DAGScheduler: Broadcasting large task binary with size 1722.1 KiB\n",
      "                                                                                \r"
     ]
    },
    {
     "name": "stdout",
     "output_type": "stream",
     "text": [
      "+-------------+--------------------+\n",
      "|predicted_bin|average_claim_amount|\n",
      "+-------------+--------------------+\n",
      "|            0|  1272.9569344277793|\n",
      "+-------------+--------------------+\n",
      "\n"
     ]
    }
   ],
   "source": [
    "avg_claim_pred_test = mlp_builder.average_claim_by_predicted_bin_test(num_bins=3)\n",
    "avg_claim_pred_test.show()"
   ]
  },
  {
   "cell_type": "code",
   "execution_count": null,
   "id": "2cf1f6e7-5ffb-4c09-9ccc-64fc6b55f03f",
   "metadata": {},
   "outputs": [],
   "source": []
  }
 ],
 "metadata": {
  "kernelspec": {
   "display_name": "Python 3 (ipykernel)",
   "language": "python",
   "name": "python3"
  },
  "language_info": {
   "codemirror_mode": {
    "name": "ipython",
    "version": 3
   },
   "file_extension": ".py",
   "mimetype": "text/x-python",
   "name": "python",
   "nbconvert_exporter": "python",
   "pygments_lexer": "ipython3",
   "version": "3.11.4"
  }
 },
 "nbformat": 4,
 "nbformat_minor": 5
}
