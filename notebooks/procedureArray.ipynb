{
 "cells": [
  {
   "cell_type": "markdown",
   "id": "4d7cb7e0-cc34-4ee4-be94-1846097f833d",
   "metadata": {},
   "source": [
    "#### Import Library"
   ]
  },
  {
   "cell_type": "code",
   "execution_count": 1,
   "id": "a27fd75c-b984-46cf-a3b4-e2784f23a7ed",
   "metadata": {},
   "outputs": [],
   "source": [
    "import sys\n",
    "sys.path.append(\"../modules\")\n",
    "from eda import EDAAnalyzer\n",
    "from spark_session import SparkManager\n",
    "from feature_engineering import FeatureEngineer\n",
    "from pyspark import StorageLevel"
   ]
  },
  {
   "cell_type": "code",
   "execution_count": 2,
   "id": "29b876fb-56fb-4306-89ce-19cbbe40e266",
   "metadata": {},
   "outputs": [],
   "source": [
    "# Load autoreload extension\n",
    "%load_ext autoreload\n",
    "%autoreload 2"
   ]
  },
  {
   "cell_type": "markdown",
   "id": "08c60764-9f3e-4122-afd7-312b178d897a",
   "metadata": {},
   "source": [
    "#### Constants and config"
   ]
  },
  {
   "cell_type": "code",
   "execution_count": 3,
   "id": "87d9cdb3-8992-4c10-a3ff-eaa2e0567a01",
   "metadata": {},
   "outputs": [],
   "source": [
    "mx_submits_path = \"../data_sample/mx_submits.parquet/\"\n",
    "mx_submits_line_path = \"../data_sample/mx_submitsline.parquet/\"\n",
    "\n",
    "\n",
    "sample_patient_id = \"8aad41f612a7095449888c8050abaeb05fdee65643caa3033542610421d8bd1daaa2c4ce1757401003a1bbcd60948a7aa13eba507a676dea80e0cf76b77dbc95\"\n",
    "features_cols = ['secondary_payer_state',\n",
    "'patient_gender',\n",
    "'patient_location_residential_region',\n",
    "'previous_line_level_procedure_ohe']\n",
    "exclude_cols = ['patient_id']\n",
    "label_column = 'claim_total_charge_amount'\n",
    "most_repeated_diagnosis_list = [] "
   ]
  },
  {
   "cell_type": "markdown",
   "id": "1f4d083d-35d2-4ec0-ae27-db9c8399b677",
   "metadata": {},
   "source": [
    "### Spark Session"
   ]
  },
  {
   "cell_type": "code",
   "execution_count": 4,
   "id": "462508b7-201b-4ed7-9e68-d5abd6367f71",
   "metadata": {},
   "outputs": [
    {
     "name": "stderr",
     "output_type": "stream",
     "text": [
      "24/10/17 23:19:13 WARN Utils: Your hostname, Chaopings-MacBook-Air.local resolves to a loopback address: 127.0.0.1; using 10.0.0.231 instead (on interface en0)\n",
      "24/10/17 23:19:13 WARN Utils: Set SPARK_LOCAL_IP if you need to bind to another address\n",
      "Setting default log level to \"WARN\".\n",
      "To adjust logging level use sc.setLogLevel(newLevel). For SparkR, use setLogLevel(newLevel).\n",
      "24/10/17 23:19:13 WARN NativeCodeLoader: Unable to load native-hadoop library for your platform... using builtin-java classes where applicable\n",
      "----------------------------------------\n",
      "Exception occurred during processing of request from ('127.0.0.1', 63220)\n",
      "Traceback (most recent call last):\n",
      "  File \"/Library/Frameworks/Python.framework/Versions/3.12/lib/python3.12/socketserver.py\", line 318, in _handle_request_noblock\n",
      "    self.process_request(request, client_address)\n",
      "  File \"/Library/Frameworks/Python.framework/Versions/3.12/lib/python3.12/socketserver.py\", line 349, in process_request\n",
      "    self.finish_request(request, client_address)\n",
      "  File \"/Library/Frameworks/Python.framework/Versions/3.12/lib/python3.12/socketserver.py\", line 362, in finish_request\n",
      "    self.RequestHandlerClass(request, client_address, self)\n",
      "  File \"/Library/Frameworks/Python.framework/Versions/3.12/lib/python3.12/socketserver.py\", line 761, in __init__\n",
      "    self.handle()\n",
      "  File \"/Library/Frameworks/Python.framework/Versions/3.12/lib/python3.12/site-packages/pyspark/accumulators.py\", line 295, in handle\n",
      "    poll(accum_updates)\n",
      "  File \"/Library/Frameworks/Python.framework/Versions/3.12/lib/python3.12/site-packages/pyspark/accumulators.py\", line 267, in poll\n",
      "    if self.rfile in r and func():\n",
      "                           ^^^^^^\n",
      "  File \"/Library/Frameworks/Python.framework/Versions/3.12/lib/python3.12/site-packages/pyspark/accumulators.py\", line 271, in accum_updates\n",
      "    num_updates = read_int(self.rfile)\n",
      "                  ^^^^^^^^^^^^^^^^^^^^\n",
      "  File \"/Library/Frameworks/Python.framework/Versions/3.12/lib/python3.12/site-packages/pyspark/serializers.py\", line 596, in read_int\n",
      "    raise EOFError\n",
      "EOFError\n",
      "----------------------------------------\n"
     ]
    }
   ],
   "source": [
    "mx_submits_spark_manager = SparkManager(mx_submits_path)\n",
    "mx_submits_line_spark_manager = SparkManager(mx_submits_line_path)"
   ]
  },
  {
   "cell_type": "markdown",
   "id": "58805a3f-6671-4eb4-92c1-9c24b38b6cb7",
   "metadata": {},
   "source": [
    "### Mx submits"
   ]
  },
  {
   "cell_type": "markdown",
   "id": "955fd657-fdce-4224-b6c2-736f756f0bcb",
   "metadata": {},
   "source": [
    "#### EDA"
   ]
  },
  {
   "cell_type": "code",
   "execution_count": 5,
   "id": "ff8e852a-b5ce-4c3f-92a9-278060279ed1",
   "metadata": {},
   "outputs": [],
   "source": [
    "mx_submits_eda = EDAAnalyzer(mx_submits_spark_manager)"
   ]
  },
  {
   "cell_type": "code",
   "execution_count": 6,
   "id": "767f8d5a-8220-4a24-b08e-dac00135d556",
   "metadata": {},
   "outputs": [
    {
     "name": "stderr",
     "output_type": "stream",
     "text": [
      "24/10/17 23:19:15 WARN SparkStringUtils: Truncated the string representation of a plan since it was too large. This behavior can be adjusted by setting 'spark.sql.debug.maxToStringFields'.\n",
      "                                                                                \r"
     ]
    },
    {
     "data": {
      "text/html": [
       "<div>\n",
       "<style scoped>\n",
       "    .dataframe tbody tr th:only-of-type {\n",
       "        vertical-align: middle;\n",
       "    }\n",
       "\n",
       "    .dataframe tbody tr th {\n",
       "        vertical-align: top;\n",
       "    }\n",
       "\n",
       "    .dataframe thead th {\n",
       "        text-align: right;\n",
       "    }\n",
       "</style>\n",
       "<table border=\"1\" class=\"dataframe\">\n",
       "  <thead>\n",
       "    <tr style=\"text-align: right;\">\n",
       "      <th></th>\n",
       "      <th>claim_number</th>\n",
       "      <th>cohort_key</th>\n",
       "      <th>cohort_record_id</th>\n",
       "      <th>attending_provider_npi</th>\n",
       "      <th>billing_provider_address_cbsa_name</th>\n",
       "      <th>billing_provider_address_city</th>\n",
       "      <th>billing_provider_address_county</th>\n",
       "      <th>billing_provider_address_key</th>\n",
       "      <th>billing_provider_address_latitude</th>\n",
       "      <th>billing_provider_address_longitude</th>\n",
       "      <th>...</th>\n",
       "      <th>type_of_bill_frequency_description</th>\n",
       "      <th>vendorname</th>\n",
       "      <th>cycle_id</th>\n",
       "      <th>patient_birth_year</th>\n",
       "      <th>patient_gender</th>\n",
       "      <th>patient_id</th>\n",
       "      <th>patient_location_preferred_latitude</th>\n",
       "      <th>patient_location_preferred_longitude</th>\n",
       "      <th>patient_location_preferred_zipcode</th>\n",
       "      <th>patient_location_preferred_type</th>\n",
       "    </tr>\n",
       "  </thead>\n",
       "  <tbody>\n",
       "    <tr>\n",
       "      <th>0</th>\n",
       "      <td>d15bd78f4275d493fa9c2d862fb24863</td>\n",
       "      <td>767ef4cac69e8a0c77384f6e1414364b</td>\n",
       "      <td>6645d6e8ede891a875ae96bc91188fa5</td>\n",
       "      <td>None</td>\n",
       "      <td>MIAMI-FORT LAUDERDALE-POMPANO BEACH, FL</td>\n",
       "      <td>Pembroke Pines</td>\n",
       "      <td>Broward</td>\n",
       "      <td>703NFLAMINGORDPEMBROKEPINESFL33028</td>\n",
       "      <td>26.012682</td>\n",
       "      <td>-80.310287</td>\n",
       "      <td>...</td>\n",
       "      <td>None</td>\n",
       "      <td>cyan</td>\n",
       "      <td>full_20240611</td>\n",
       "      <td>2016</td>\n",
       "      <td>F</td>\n",
       "      <td>cbed99ab51c5c26aadb1c69fef5cb48e15be94c0c16004...</td>\n",
       "      <td>26.012682</td>\n",
       "      <td>-80.310287</td>\n",
       "      <td>33026</td>\n",
       "      <td>1</td>\n",
       "    </tr>\n",
       "    <tr>\n",
       "      <th>1</th>\n",
       "      <td>135e6c968a8d39fc4c406d5c51a02f1e</td>\n",
       "      <td>0e6b9e4a0d9103c5a9c4f1332d38ef53</td>\n",
       "      <td>8080db10ebbe9960957f86b4c1e32c74</td>\n",
       "      <td>None</td>\n",
       "      <td>MIAMI-FORT LAUDERDALE-POMPANO BEACH, FL</td>\n",
       "      <td>Miami</td>\n",
       "      <td>Miami-Dade</td>\n",
       "      <td>2600SDOUGLASRDMIAMIFL33134</td>\n",
       "      <td>25.742325</td>\n",
       "      <td>-80.254471</td>\n",
       "      <td>...</td>\n",
       "      <td>Admit Through Discharge Claim</td>\n",
       "      <td>cyan</td>\n",
       "      <td>full_20240611</td>\n",
       "      <td>1964</td>\n",
       "      <td>F</td>\n",
       "      <td>64bf25c773a8078105e391d5074923304156b5dc6460a3...</td>\n",
       "      <td>28.05644</td>\n",
       "      <td>-82.451753</td>\n",
       "      <td>33612</td>\n",
       "      <td>1</td>\n",
       "    </tr>\n",
       "    <tr>\n",
       "      <th>2</th>\n",
       "      <td>c8e11f355938d80212d189e9a0d0d7dc</td>\n",
       "      <td>f74909ace68e51891440e4da0b65a70c</td>\n",
       "      <td>9daf9e9e56d51c24c3cce85e815cdba6</td>\n",
       "      <td>None</td>\n",
       "      <td>VINCENNES, IN</td>\n",
       "      <td>Vincennes</td>\n",
       "      <td>Knox</td>\n",
       "      <td>1160ESAINTCLAIRSTVINCENNESIN47591</td>\n",
       "      <td>38.680187</td>\n",
       "      <td>-87.510361</td>\n",
       "      <td>...</td>\n",
       "      <td>None</td>\n",
       "      <td>cyan</td>\n",
       "      <td>full_20240611</td>\n",
       "      <td>1963</td>\n",
       "      <td>F</td>\n",
       "      <td>d5f343e39f9abc8e1745ca0aecea3d36767894f91b642d...</td>\n",
       "      <td>38.242580</td>\n",
       "      <td>-87.513318</td>\n",
       "      <td>47648</td>\n",
       "      <td>2</td>\n",
       "    </tr>\n",
       "    <tr>\n",
       "      <th>3</th>\n",
       "      <td>f355cc2efcb05a35300b17d9d21d0c48</td>\n",
       "      <td>f74909ace68e51891440e4da0b65a70c</td>\n",
       "      <td>e9927f4874d77b12e469424fb2ff2b44</td>\n",
       "      <td>1790224699</td>\n",
       "      <td>None</td>\n",
       "      <td>None</td>\n",
       "      <td>None</td>\n",
       "      <td>None</td>\n",
       "      <td>None</td>\n",
       "      <td>None</td>\n",
       "      <td>...</td>\n",
       "      <td>Admit Through Discharge Claim</td>\n",
       "      <td>cyan</td>\n",
       "      <td>full_20240611</td>\n",
       "      <td>1932</td>\n",
       "      <td>M</td>\n",
       "      <td>fc5cd962003e6f173cf70c2d1917a5cc163823d6dd9be8...</td>\n",
       "      <td>35.170105</td>\n",
       "      <td>-89.751358</td>\n",
       "      <td>38016</td>\n",
       "      <td>1</td>\n",
       "    </tr>\n",
       "    <tr>\n",
       "      <th>4</th>\n",
       "      <td>5b2f2a5f5145af513cf79e43c36053ef</td>\n",
       "      <td>0e6b9e4a0d9103c5a9c4f1332d38ef53</td>\n",
       "      <td>9f35dd46aeed03cf4017e0cb9b0d93ee</td>\n",
       "      <td>None</td>\n",
       "      <td>BALTIMORE-COLUMBIA-TOWSON, MD</td>\n",
       "      <td>Rosedale</td>\n",
       "      <td>Baltimore</td>\n",
       "      <td>9000FRANKLINSQUAREDRROSEDALEMD21237</td>\n",
       "      <td>39.351406</td>\n",
       "      <td>-76.480293</td>\n",
       "      <td>...</td>\n",
       "      <td>Admit Through Discharge Claim</td>\n",
       "      <td>cyan</td>\n",
       "      <td>full_20240611</td>\n",
       "      <td>1986</td>\n",
       "      <td>F</td>\n",
       "      <td>d29bb1d24b6ad3d5ca22c0f74f36d069119228227e8e02...</td>\n",
       "      <td>39.287311</td>\n",
       "      <td>-76.491821</td>\n",
       "      <td>21224</td>\n",
       "      <td>1</td>\n",
       "    </tr>\n",
       "  </tbody>\n",
       "</table>\n",
       "<p>5 rows × 127 columns</p>\n",
       "</div>"
      ],
      "text/plain": [
       "                       claim_number                        cohort_key  \\\n",
       "0  d15bd78f4275d493fa9c2d862fb24863  767ef4cac69e8a0c77384f6e1414364b   \n",
       "1  135e6c968a8d39fc4c406d5c51a02f1e  0e6b9e4a0d9103c5a9c4f1332d38ef53   \n",
       "2  c8e11f355938d80212d189e9a0d0d7dc  f74909ace68e51891440e4da0b65a70c   \n",
       "3  f355cc2efcb05a35300b17d9d21d0c48  f74909ace68e51891440e4da0b65a70c   \n",
       "4  5b2f2a5f5145af513cf79e43c36053ef  0e6b9e4a0d9103c5a9c4f1332d38ef53   \n",
       "\n",
       "                   cohort_record_id attending_provider_npi  \\\n",
       "0  6645d6e8ede891a875ae96bc91188fa5                   None   \n",
       "1  8080db10ebbe9960957f86b4c1e32c74                   None   \n",
       "2  9daf9e9e56d51c24c3cce85e815cdba6                   None   \n",
       "3  e9927f4874d77b12e469424fb2ff2b44             1790224699   \n",
       "4  9f35dd46aeed03cf4017e0cb9b0d93ee                   None   \n",
       "\n",
       "        billing_provider_address_cbsa_name billing_provider_address_city  \\\n",
       "0  MIAMI-FORT LAUDERDALE-POMPANO BEACH, FL                Pembroke Pines   \n",
       "1  MIAMI-FORT LAUDERDALE-POMPANO BEACH, FL                         Miami   \n",
       "2                            VINCENNES, IN                     Vincennes   \n",
       "3                                     None                          None   \n",
       "4            BALTIMORE-COLUMBIA-TOWSON, MD                      Rosedale   \n",
       "\n",
       "  billing_provider_address_county         billing_provider_address_key  \\\n",
       "0                         Broward   703NFLAMINGORDPEMBROKEPINESFL33028   \n",
       "1                      Miami-Dade           2600SDOUGLASRDMIAMIFL33134   \n",
       "2                            Knox    1160ESAINTCLAIRSTVINCENNESIN47591   \n",
       "3                            None                                 None   \n",
       "4                       Baltimore  9000FRANKLINSQUAREDRROSEDALEMD21237   \n",
       "\n",
       "  billing_provider_address_latitude billing_provider_address_longitude  ...  \\\n",
       "0                         26.012682                         -80.310287  ...   \n",
       "1                         25.742325                         -80.254471  ...   \n",
       "2                         38.680187                         -87.510361  ...   \n",
       "3                              None                               None  ...   \n",
       "4                         39.351406                         -76.480293  ...   \n",
       "\n",
       "  type_of_bill_frequency_description vendorname       cycle_id  \\\n",
       "0                               None       cyan  full_20240611   \n",
       "1      Admit Through Discharge Claim       cyan  full_20240611   \n",
       "2                               None       cyan  full_20240611   \n",
       "3      Admit Through Discharge Claim       cyan  full_20240611   \n",
       "4      Admit Through Discharge Claim       cyan  full_20240611   \n",
       "\n",
       "  patient_birth_year patient_gender  \\\n",
       "0               2016              F   \n",
       "1               1964              F   \n",
       "2               1963              F   \n",
       "3               1932              M   \n",
       "4               1986              F   \n",
       "\n",
       "                                          patient_id  \\\n",
       "0  cbed99ab51c5c26aadb1c69fef5cb48e15be94c0c16004...   \n",
       "1  64bf25c773a8078105e391d5074923304156b5dc6460a3...   \n",
       "2  d5f343e39f9abc8e1745ca0aecea3d36767894f91b642d...   \n",
       "3  fc5cd962003e6f173cf70c2d1917a5cc163823d6dd9be8...   \n",
       "4  d29bb1d24b6ad3d5ca22c0f74f36d069119228227e8e02...   \n",
       "\n",
       "  patient_location_preferred_latitude patient_location_preferred_longitude  \\\n",
       "0                           26.012682                           -80.310287   \n",
       "1                            28.05644                           -82.451753   \n",
       "2                           38.242580                           -87.513318   \n",
       "3                           35.170105                           -89.751358   \n",
       "4                           39.287311                           -76.491821   \n",
       "\n",
       "  patient_location_preferred_zipcode patient_location_preferred_type  \n",
       "0                              33026                               1  \n",
       "1                              33612                               1  \n",
       "2                              47648                               2  \n",
       "3                              38016                               1  \n",
       "4                              21224                               1  \n",
       "\n",
       "[5 rows x 127 columns]"
      ]
     },
     "execution_count": 6,
     "metadata": {},
     "output_type": "execute_result"
    }
   ],
   "source": [
    "mx_submits_eda.display_head()"
   ]
  },
  {
   "cell_type": "code",
   "execution_count": 7,
   "id": "cb0c76c0-a286-4d36-a14c-f7527dfc0de4",
   "metadata": {},
   "outputs": [
    {
     "data": {
      "text/plain": [
       "'Shape of data: rows: 124217, cols: 127'"
      ]
     },
     "execution_count": 7,
     "metadata": {},
     "output_type": "execute_result"
    }
   ],
   "source": [
    "mx_submits_eda.display_shape()"
   ]
  },
  {
   "cell_type": "markdown",
   "id": "e41c9739-bef8-4792-b51c-d8192bcc3530",
   "metadata": {},
   "source": [
    "#### Type conversion"
   ]
  },
  {
   "cell_type": "code",
   "execution_count": 8,
   "id": "4800201f-c491-4102-a483-f3c8f82125c5",
   "metadata": {},
   "outputs": [
    {
     "name": "stdout",
     "output_type": "stream",
     "text": [
      "Casted claim_total_charge_amount to float\n"
     ]
    }
   ],
   "source": [
    "mx_submits_eda.convert_columns_to_float([\"claim_total_charge_amount\"])"
   ]
  },
  {
   "cell_type": "markdown",
   "id": "e2d41c78-dfe0-4c3d-a8e2-acb2b04ffc0a",
   "metadata": {
    "scrolled": true
   },
   "source": [
    "column_info_submits = mx_submits_eda.display_column_info()\n",
    "column_info_submits.to_csv(\"../output/column_info_submits.csv\")\n",
    "column_info_submits"
   ]
  },
  {
   "cell_type": "markdown",
   "id": "83128b56-7ed9-49ca-a1b9-b53faa0e6dcc",
   "metadata": {},
   "source": [
    "column_info_submits[column_info_submits[\"Column Name\"]==\"claim_total_charge_amount\"]"
   ]
  },
  {
   "cell_type": "code",
   "execution_count": 9,
   "id": "ca3083d6-dc6a-4508-937c-8de69b2e18c2",
   "metadata": {},
   "outputs": [
    {
     "name": "stderr",
     "output_type": "stream",
     "text": [
      "                                                                                \r"
     ]
    },
    {
     "data": {
      "image/png": "[encoded data removed]",
      "text/plain": [
       "<Figure size 1000x600 with 1 Axes>"
      ]
     },
     "metadata": {},
     "output_type": "display_data"
    }
   ],
   "source": [
    "mx_submits_eda.plot_percentile_based_procedure_cutoff(\"servicelines\",90, per_patient= True)"
   ]
  },
  {
   "cell_type": "code",
   "execution_count": 10,
   "id": "524b99f6-affe-4d5b-ace8-2080acdc5f80",
   "metadata": {},
   "outputs": [
    {
     "name": "stderr",
     "output_type": "stream",
     "text": [
      "                                                                                \r"
     ]
    }
   ],
   "source": [
    "mx_submits_line_level_procedure_codes_repeat_count = mx_submits_eda.get_top_n_repeated_procedures_unique_per_patient(\"servicelines\")"
   ]
  },
  {
   "cell_type": "code",
   "execution_count": 11,
   "id": "ce52c3fb-0ff7-43b1-bfbd-a632ac43fdf6",
   "metadata": {},
   "outputs": [
    {
     "data": {
      "text/html": [
       "<div>\n",
       "<style scoped>\n",
       "    .dataframe tbody tr th:only-of-type {\n",
       "        vertical-align: middle;\n",
       "    }\n",
       "\n",
       "    .dataframe tbody tr th {\n",
       "        vertical-align: top;\n",
       "    }\n",
       "\n",
       "    .dataframe thead th {\n",
       "        text-align: right;\n",
       "    }\n",
       "</style>\n",
       "<table border=\"1\" class=\"dataframe\">\n",
       "  <thead>\n",
       "    <tr style=\"text-align: right;\">\n",
       "      <th></th>\n",
       "      <th>line_level_procedure_code</th>\n",
       "      <th>count</th>\n",
       "      <th>line_level_procedure_code_length</th>\n",
       "    </tr>\n",
       "  </thead>\n",
       "  <tbody>\n",
       "    <tr>\n",
       "      <th>0</th>\n",
       "      <td>99213</td>\n",
       "      <td>1648</td>\n",
       "      <td>5.0</td>\n",
       "    </tr>\n",
       "    <tr>\n",
       "      <th>1</th>\n",
       "      <td>99214</td>\n",
       "      <td>1381</td>\n",
       "      <td>5.0</td>\n",
       "    </tr>\n",
       "    <tr>\n",
       "      <th>2</th>\n",
       "      <td>99203</td>\n",
       "      <td>1100</td>\n",
       "      <td>5.0</td>\n",
       "    </tr>\n",
       "    <tr>\n",
       "      <th>3</th>\n",
       "      <td>36415</td>\n",
       "      <td>1010</td>\n",
       "      <td>5.0</td>\n",
       "    </tr>\n",
       "    <tr>\n",
       "      <th>4</th>\n",
       "      <td>85025</td>\n",
       "      <td>952</td>\n",
       "      <td>5.0</td>\n",
       "    </tr>\n",
       "    <tr>\n",
       "      <th>...</th>\n",
       "      <td>...</td>\n",
       "      <td>...</td>\n",
       "      <td>...</td>\n",
       "    </tr>\n",
       "    <tr>\n",
       "      <th>5611</th>\n",
       "      <td>67500</td>\n",
       "      <td>1</td>\n",
       "      <td>5.0</td>\n",
       "    </tr>\n",
       "    <tr>\n",
       "      <th>5612</th>\n",
       "      <td>93662</td>\n",
       "      <td>1</td>\n",
       "      <td>5.0</td>\n",
       "    </tr>\n",
       "    <tr>\n",
       "      <th>5613</th>\n",
       "      <td>A9558</td>\n",
       "      <td>1</td>\n",
       "      <td>5.0</td>\n",
       "    </tr>\n",
       "    <tr>\n",
       "      <th>5614</th>\n",
       "      <td>95970</td>\n",
       "      <td>1</td>\n",
       "      <td>5.0</td>\n",
       "    </tr>\n",
       "    <tr>\n",
       "      <th>5615</th>\n",
       "      <td>0FBG8ZZ</td>\n",
       "      <td>1</td>\n",
       "      <td>7.0</td>\n",
       "    </tr>\n",
       "  </tbody>\n",
       "</table>\n",
       "<p>5616 rows × 3 columns</p>\n",
       "</div>"
      ],
      "text/plain": [
       "     line_level_procedure_code  count  line_level_procedure_code_length\n",
       "0                        99213   1648                               5.0\n",
       "1                        99214   1381                               5.0\n",
       "2                        99203   1100                               5.0\n",
       "3                        36415   1010                               5.0\n",
       "4                        85025    952                               5.0\n",
       "...                        ...    ...                               ...\n",
       "5611                     67500      1                               5.0\n",
       "5612                     93662      1                               5.0\n",
       "5613                     A9558      1                               5.0\n",
       "5614                     95970      1                               5.0\n",
       "5615                   0FBG8ZZ      1                               7.0\n",
       "\n",
       "[5616 rows x 3 columns]"
      ]
     },
     "execution_count": 11,
     "metadata": {},
     "output_type": "execute_result"
    }
   ],
   "source": [
    "mx_submits_line_level_procedure_codes_repeat_count"
   ]
  },
  {
   "cell_type": "code",
   "execution_count": 12,
   "id": "393068e9-42ea-440b-bead-e4d75f472fca",
   "metadata": {},
   "outputs": [
    {
     "data": {
      "text/html": [
       "<div>\n",
       "<style scoped>\n",
       "    .dataframe tbody tr th:only-of-type {\n",
       "        vertical-align: middle;\n",
       "    }\n",
       "\n",
       "    .dataframe tbody tr th {\n",
       "        vertical-align: top;\n",
       "    }\n",
       "\n",
       "    .dataframe thead th {\n",
       "        text-align: right;\n",
       "    }\n",
       "</style>\n",
       "<table border=\"1\" class=\"dataframe\">\n",
       "  <thead>\n",
       "    <tr style=\"text-align: right;\">\n",
       "      <th></th>\n",
       "      <th>line_level_procedure_code</th>\n",
       "      <th>count</th>\n",
       "      <th>line_level_procedure_code_length</th>\n",
       "    </tr>\n",
       "  </thead>\n",
       "  <tbody>\n",
       "    <tr>\n",
       "      <th>0</th>\n",
       "      <td>99213</td>\n",
       "      <td>1648</td>\n",
       "      <td>5.0</td>\n",
       "    </tr>\n",
       "    <tr>\n",
       "      <th>1</th>\n",
       "      <td>99214</td>\n",
       "      <td>1381</td>\n",
       "      <td>5.0</td>\n",
       "    </tr>\n",
       "    <tr>\n",
       "      <th>2</th>\n",
       "      <td>99203</td>\n",
       "      <td>1100</td>\n",
       "      <td>5.0</td>\n",
       "    </tr>\n",
       "    <tr>\n",
       "      <th>3</th>\n",
       "      <td>36415</td>\n",
       "      <td>1010</td>\n",
       "      <td>5.0</td>\n",
       "    </tr>\n",
       "    <tr>\n",
       "      <th>4</th>\n",
       "      <td>85025</td>\n",
       "      <td>952</td>\n",
       "      <td>5.0</td>\n",
       "    </tr>\n",
       "    <tr>\n",
       "      <th>...</th>\n",
       "      <td>...</td>\n",
       "      <td>...</td>\n",
       "      <td>...</td>\n",
       "    </tr>\n",
       "    <tr>\n",
       "      <th>95</th>\n",
       "      <td>G0008</td>\n",
       "      <td>175</td>\n",
       "      <td>5.0</td>\n",
       "    </tr>\n",
       "    <tr>\n",
       "      <th>96</th>\n",
       "      <td>99238</td>\n",
       "      <td>175</td>\n",
       "      <td>5.0</td>\n",
       "    </tr>\n",
       "    <tr>\n",
       "      <th>97</th>\n",
       "      <td>96375</td>\n",
       "      <td>175</td>\n",
       "      <td>5.0</td>\n",
       "    </tr>\n",
       "    <tr>\n",
       "      <th>98</th>\n",
       "      <td>J2704</td>\n",
       "      <td>170</td>\n",
       "      <td>5.0</td>\n",
       "    </tr>\n",
       "    <tr>\n",
       "      <th>99</th>\n",
       "      <td>99239</td>\n",
       "      <td>169</td>\n",
       "      <td>5.0</td>\n",
       "    </tr>\n",
       "  </tbody>\n",
       "</table>\n",
       "<p>99 rows × 3 columns</p>\n",
       "</div>"
      ],
      "text/plain": [
       "   line_level_procedure_code  count  line_level_procedure_code_length\n",
       "0                      99213   1648                               5.0\n",
       "1                      99214   1381                               5.0\n",
       "2                      99203   1100                               5.0\n",
       "3                      36415   1010                               5.0\n",
       "4                      85025    952                               5.0\n",
       "..                       ...    ...                               ...\n",
       "95                     G0008    175                               5.0\n",
       "96                     99238    175                               5.0\n",
       "97                     96375    175                               5.0\n",
       "98                     J2704    170                               5.0\n",
       "99                     99239    169                               5.0\n",
       "\n",
       "[99 rows x 3 columns]"
      ]
     },
     "execution_count": 12,
     "metadata": {},
     "output_type": "execute_result"
    }
   ],
   "source": [
    "most_repeated_procedures = mx_submits_line_level_procedure_codes_repeat_count[\n",
    "    (mx_submits_line_level_procedure_codes_repeat_count[\"count\"] > 168) &\n",
    "    (mx_submits_line_level_procedure_codes_repeat_count[\"line_level_procedure_code\"].notna()) \n",
    "]\n",
    "most_repeated_procedure_list = most_repeated_procedures['line_level_procedure_code'].tolist()\n",
    "most_repeated_procedures"
   ]
  },
  {
   "cell_type": "code",
   "execution_count": 13,
   "id": "fad2b50b-704b-4f09-bb3d-fc041757a195",
   "metadata": {},
   "outputs": [
    {
     "data": {
      "text/plain": [
       "['99213',\n",
       " '99214',\n",
       " '99203',\n",
       " '36415',\n",
       " '85025',\n",
       " '99204',\n",
       " '80053',\n",
       " '99284',\n",
       " '80061',\n",
       " '99212',\n",
       " '99285',\n",
       " '90471',\n",
       " '99283',\n",
       " '84443',\n",
       " '88305',\n",
       " '83036',\n",
       " '81001',\n",
       " '81003',\n",
       " '93010',\n",
       " '80048',\n",
       " '99202',\n",
       " '97110',\n",
       " 'A0425',\n",
       " '87880',\n",
       " '93000',\n",
       " '71046',\n",
       " '90686',\n",
       " '96372',\n",
       " '82306',\n",
       " '93005',\n",
       " 'U0003',\n",
       " '97140',\n",
       " '85027',\n",
       " '99215',\n",
       " '87086',\n",
       " '99232',\n",
       " '99396',\n",
       " '81002',\n",
       " '93306',\n",
       " 'J2405',\n",
       " '92014',\n",
       " '71045',\n",
       " '87804',\n",
       " '70450',\n",
       " '84439',\n",
       " '85610',\n",
       " '3078F',\n",
       " '92015',\n",
       " 'J1100',\n",
       " '90715',\n",
       " '3074F',\n",
       " '87491',\n",
       " '99395',\n",
       " '99223',\n",
       " 'A0427',\n",
       " '87591',\n",
       " '71020',\n",
       " '81025',\n",
       " '83690',\n",
       " '84484',\n",
       " '90460',\n",
       " '82607',\n",
       " '99211',\n",
       " '96374',\n",
       " 'J3010',\n",
       " '83735',\n",
       " '97530',\n",
       " 'Q9967',\n",
       " '77067',\n",
       " 'G8427',\n",
       " 'J1885',\n",
       " '99233',\n",
       " '74177',\n",
       " '80050',\n",
       " '3008F',\n",
       " 'U0005',\n",
       " '92004',\n",
       " '99205',\n",
       " '97161',\n",
       " '90791',\n",
       " '77063',\n",
       " '1036F',\n",
       " '97112',\n",
       " '87426',\n",
       " '73630',\n",
       " '90670',\n",
       " '43239',\n",
       " '99000',\n",
       " '85730',\n",
       " 'J2250',\n",
       " '99222',\n",
       " '88175',\n",
       " '87635',\n",
       " '73030',\n",
       " 'G0008',\n",
       " '99238',\n",
       " '96375',\n",
       " 'J2704',\n",
       " '99239']"
      ]
     },
     "execution_count": 13,
     "metadata": {},
     "output_type": "execute_result"
    }
   ],
   "source": [
    "most_repeated_procedure_list"
   ]
  },
  {
   "cell_type": "markdown",
   "id": "a722772a-5f52-4a54-b35d-b2958be47ece",
   "metadata": {},
   "source": [
    "#### Feature Engineering"
   ]
  },
  {
   "cell_type": "code",
   "execution_count": 14,
   "id": "691b0b17-34ef-479a-8714-03434d16c160",
   "metadata": {},
   "outputs": [],
   "source": [
    "mx_submits_fe=FeatureEngineer(mx_submits_spark_manager)"
   ]
  },
  {
   "cell_type": "code",
   "execution_count": 15,
   "id": "46366731-6c47-4d8c-8fe6-ff0123486941",
   "metadata": {},
   "outputs": [
    {
     "name": "stderr",
     "output_type": "stream",
     "text": [
      "                                                                                \r"
     ]
    },
    {
     "data": {
      "text/html": [
       "<div>\n",
       "<style scoped>\n",
       "    .dataframe tbody tr th:only-of-type {\n",
       "        vertical-align: middle;\n",
       "    }\n",
       "\n",
       "    .dataframe tbody tr th {\n",
       "        vertical-align: top;\n",
       "    }\n",
       "\n",
       "    .dataframe thead th {\n",
       "        text-align: right;\n",
       "    }\n",
       "</style>\n",
       "<table border=\"1\" class=\"dataframe\">\n",
       "  <thead>\n",
       "    <tr style=\"text-align: right;\">\n",
       "      <th></th>\n",
       "      <th>line_level_procedures_ohe</th>\n",
       "    </tr>\n",
       "  </thead>\n",
       "  <tbody>\n",
       "    <tr>\n",
       "      <th>0</th>\n",
       "      <td>(0.0, 0.0, 0.0, 0.0, 0.0, 0.0, 0.0, 0.0, 0.0, ...</td>\n",
       "    </tr>\n",
       "    <tr>\n",
       "      <th>1</th>\n",
       "      <td>(0.0, 0.0, 0.0, 0.0, 0.0, 0.0, 0.0, 0.0, 0.0, ...</td>\n",
       "    </tr>\n",
       "    <tr>\n",
       "      <th>2</th>\n",
       "      <td>(0.0, 0.0, 0.0, 0.0, 0.0, 0.0, 0.0, 0.0, 0.0, ...</td>\n",
       "    </tr>\n",
       "    <tr>\n",
       "      <th>3</th>\n",
       "      <td>(0.0, 0.0, 0.0, 0.0, 0.0, 0.0, 0.0, 0.0, 0.0, ...</td>\n",
       "    </tr>\n",
       "    <tr>\n",
       "      <th>4</th>\n",
       "      <td>(0.0, 0.0, 0.0, 0.0, 0.0, 0.0, 0.0, 0.0, 0.0, ...</td>\n",
       "    </tr>\n",
       "  </tbody>\n",
       "</table>\n",
       "</div>"
      ],
      "text/plain": [
       "                           line_level_procedures_ohe\n",
       "0  (0.0, 0.0, 0.0, 0.0, 0.0, 0.0, 0.0, 0.0, 0.0, ...\n",
       "1  (0.0, 0.0, 0.0, 0.0, 0.0, 0.0, 0.0, 0.0, 0.0, ...\n",
       "2  (0.0, 0.0, 0.0, 0.0, 0.0, 0.0, 0.0, 0.0, 0.0, ...\n",
       "3  (0.0, 0.0, 0.0, 0.0, 0.0, 0.0, 0.0, 0.0, 0.0, ...\n",
       "4  (0.0, 0.0, 0.0, 0.0, 0.0, 0.0, 0.0, 0.0, 0.0, ..."
      ]
     },
     "execution_count": 15,
     "metadata": {},
     "output_type": "execute_result"
    }
   ],
   "source": [
    "mx_submits_fe.transform_line_level_procedure_codes()"
   ]
  },
  {
   "cell_type": "code",
   "execution_count": 16,
   "id": "ad51a02d-1833-47ea-802e-1c00caef1e69",
   "metadata": {},
   "outputs": [
    {
     "name": "stderr",
     "output_type": "stream",
     "text": [
      "                                                                                \r"
     ]
    },
    {
     "data": {
      "text/html": [
       "<div>\n",
       "<style scoped>\n",
       "    .dataframe tbody tr th:only-of-type {\n",
       "        vertical-align: middle;\n",
       "    }\n",
       "\n",
       "    .dataframe tbody tr th {\n",
       "        vertical-align: top;\n",
       "    }\n",
       "\n",
       "    .dataframe thead th {\n",
       "        text-align: right;\n",
       "    }\n",
       "</style>\n",
       "<table border=\"1\" class=\"dataframe\">\n",
       "  <thead>\n",
       "    <tr style=\"text-align: right;\">\n",
       "      <th></th>\n",
       "      <th>previous_line_level_procedure_ohe</th>\n",
       "    </tr>\n",
       "  </thead>\n",
       "  <tbody>\n",
       "    <tr>\n",
       "      <th>0</th>\n",
       "      <td>(0.0, 0.0, 0.0, 0.0, 0.0, 0.0, 0.0, 0.0, 0.0, ...</td>\n",
       "    </tr>\n",
       "    <tr>\n",
       "      <th>1</th>\n",
       "      <td>(0.0, 0.0, 0.0, 0.0, 0.0, 0.0, 0.0, 0.0, 0.0, ...</td>\n",
       "    </tr>\n",
       "    <tr>\n",
       "      <th>2</th>\n",
       "      <td>(0.0, 0.0, 0.0, 0.0, 0.0, 0.0, 0.0, 0.0, 0.0, ...</td>\n",
       "    </tr>\n",
       "    <tr>\n",
       "      <th>3</th>\n",
       "      <td>(0.0, 0.0, 0.0, 0.0, 0.0, 0.0, 0.0, 0.0, 0.0, ...</td>\n",
       "    </tr>\n",
       "    <tr>\n",
       "      <th>4</th>\n",
       "      <td>(0.0, 0.0, 0.0, 0.0, 0.0, 0.0, 0.0, 0.0, 0.0, ...</td>\n",
       "    </tr>\n",
       "  </tbody>\n",
       "</table>\n",
       "</div>"
      ],
      "text/plain": [
       "                   previous_line_level_procedure_ohe\n",
       "0  (0.0, 0.0, 0.0, 0.0, 0.0, 0.0, 0.0, 0.0, 0.0, ...\n",
       "1  (0.0, 0.0, 0.0, 0.0, 0.0, 0.0, 0.0, 0.0, 0.0, ...\n",
       "2  (0.0, 0.0, 0.0, 0.0, 0.0, 0.0, 0.0, 0.0, 0.0, ...\n",
       "3  (0.0, 0.0, 0.0, 0.0, 0.0, 0.0, 0.0, 0.0, 0.0, ...\n",
       "4  (0.0, 0.0, 0.0, 0.0, 0.0, 0.0, 0.0, 0.0, 0.0, ..."
      ]
     },
     "execution_count": 16,
     "metadata": {},
     "output_type": "execute_result"
    }
   ],
   "source": [
    "mx_submits_fe.add_procedures_with_exponential_decay_sparse_vector()"
   ]
  },
  {
   "cell_type": "code",
   "execution_count": 17,
   "id": "0186e204-f955-48e0-89d1-ceb035ad78af",
   "metadata": {},
   "outputs": [
    {
     "name": "stderr",
     "output_type": "stream",
     "text": [
      "[Stage 66:===================================================>    (12 + 1) / 13]\r"
     ]
    },
    {
     "name": "stdout",
     "output_type": "stream",
     "text": [
      "DataFrame After Removing Procedure Codes - Shape: 79740 rows, 132 columns\n"
     ]
    },
    {
     "name": "stderr",
     "output_type": "stream",
     "text": [
      "                                                                                \r"
     ]
    }
   ],
   "source": [
    " mx_submits_fe.remove_procedure_codes(most_repeated_procedure_list)"
   ]
  },
  {
   "cell_type": "code",
   "execution_count": 18,
   "id": "722770fa-b7d1-4cd2-9a8d-81259b58a14e",
   "metadata": {},
   "outputs": [],
   "source": [
    "# mx_submits_fe.add_continuous_visit_years()\n",
    "# mx_submits_fe.display_top_rows_as_pandas(\"continuous_visit_years\")"
   ]
  },
  {
   "cell_type": "code",
   "execution_count": 19,
   "id": "b5b4e84a-f5f6-4d4c-b5f4-7e3dc09dcbe9",
   "metadata": {},
   "outputs": [],
   "source": [
    "mx_submits_fe.retain_columns(features_cols)"
   ]
  },
  {
   "cell_type": "code",
   "execution_count": 20,
   "id": "06463cbb-2216-4ac6-8cb9-592db6809dfb",
   "metadata": {
    "scrolled": true
   },
   "outputs": [
    {
     "name": "stdout",
     "output_type": "stream",
     "text": [
      "Casted claim_total_charge_amount to float\n"
     ]
    }
   ],
   "source": [
    "mx_submits_fe.convert_columns_to_float([\"claim_total_charge_amount\"])"
   ]
  },
  {
   "cell_type": "code",
   "execution_count": 21,
   "id": "67abaead-5c75-42e8-a88e-5193b26841f1",
   "metadata": {},
   "outputs": [
    {
     "name": "stderr",
     "output_type": "stream",
     "text": [
      "                                                                                \r"
     ]
    },
    {
     "name": "stdout",
     "output_type": "stream",
     "text": [
      "One-Hot Encoding applied successfully to column: secondary_payer_state\n",
      "One-Hot Encoding applied successfully to column: facility_provider_address_region\n",
      "One-Hot Encoding applied successfully to column: patient_gender\n",
      "One-Hot Encoding applied successfully to column: patient_location_residential_region\n",
      "One-Hot Encoding applied successfully to column: principal_diagnosis_body_part\n",
      "One-Hot Encoding applied successfully to column: principal_diagnosis_category\n",
      "Assembling all features into a vector with 8 columns.\n"
     ]
    },
    {
     "name": "stderr",
     "output_type": "stream",
     "text": [
      "[Stage 183:============================================>        (168 + 8) / 200]\r"
     ]
    },
    {
     "name": "stdout",
     "output_type": "stream",
     "text": [
      "Preprocessing complete. Feature vector created.\n"
     ]
    },
    {
     "name": "stderr",
     "output_type": "stream",
     "text": [
      "                                                                                \r"
     ]
    }
   ],
   "source": [
    "preprocess_data = mx_submits_fe.preprocess_procedure_data(exclude_cols=exclude_cols)\n",
    "preprocess_data"
   ]
  },
  {
   "cell_type": "code",
   "execution_count": 22,
   "id": "a18e5e7e-af84-4342-8ebe-81e92d61aef8",
   "metadata": {},
   "outputs": [
    {
     "data": {
      "text/plain": [
       "['secondary_payer_state_ohe',\n",
       " 'facility_provider_address_region_ohe',\n",
       " 'patient_gender_ohe',\n",
       " 'patient_location_residential_region_ohe',\n",
       " 'principal_diagnosis_body_part_ohe',\n",
       " 'principal_diagnosis_category_ohe',\n",
       " 'claim_total_charge_amount',\n",
       " 'previous_line_level_procedure_ohe']"
      ]
     },
     "execution_count": 22,
     "metadata": {},
     "output_type": "execute_result"
    }
   ],
   "source": [
    "columns_df = mx_submits_fe.get_columns_as_pandas_df()\n",
    "columns_df['Column Names'].to_list()\n",
    "feature_cols = mx_submits_fe.get_feature_columns()\n",
    "feature_cols"
   ]
  },
  {
   "cell_type": "code",
   "execution_count": 23,
   "id": "fa9fcb9b-da3b-41e4-b378-02fc84bc35ee",
   "metadata": {
    "scrolled": true
   },
   "outputs": [
    {
     "data": {
      "text/plain": [
       "DataFrame[secondary_payer_state: string, facility_provider_address_region: string, patient_gender: string, patient_location_residential_region: string, principal_diagnosis_body_part: string, principal_diagnosis_category: string, claim_all_diagnosis_codes: array<struct<diagnosis_code_set:string,diagnosis_code:string,diagnosis_pointer:string>>, claim_total_charge_amount: float, previous_line_level_procedure_ohe: vector, secondary_payer_state_index: double, facility_provider_address_region_index: double, patient_gender_index: double, patient_location_residential_region_index: double, principal_diagnosis_body_part_index: double, principal_diagnosis_category_index: double, secondary_payer_state_ohe: vector, facility_provider_address_region_ohe: vector, patient_gender_ohe: vector, patient_location_residential_region_ohe: vector, principal_diagnosis_body_part_ohe: vector, principal_diagnosis_category_ohe: vector, features: vector]"
      ]
     },
     "execution_count": 23,
     "metadata": {},
     "output_type": "execute_result"
    }
   ],
   "source": [
    "mx_submits_fe.dataframe.persist(StorageLevel.MEMORY_AND_DISK)"
   ]
  },
  {
   "cell_type": "code",
   "execution_count": 24,
   "id": "9a750271-be29-47a1-b541-62bf6f7e4dbd",
   "metadata": {},
   "outputs": [
    {
     "name": "stdout",
     "output_type": "stream",
     "text": [
      "INFO:tensorflow:Using MirroredStrategy with devices ('/job:localhost/replica:0/task:0/device:CPU:0',)\n"
     ]
    },
    {
     "name": "stderr",
     "output_type": "stream",
     "text": [
      "24/10/17 23:47:32 WARN CacheManager: Asked to cache already cached data.\n",
      "                                                                                \r"
     ]
    },
    {
     "name": "stdout",
     "output_type": "stream",
     "text": [
      "Approximate distinct count: 79740\n",
      "Steps per epoch: 311\n"
     ]
    },
    {
     "name": "stderr",
     "output_type": "stream",
     "text": [
      "2024-10-17 23:50:51.508193: W tensorflow/core/framework/dataset.cc:993] Input of GeneratorDatasetOp::Dataset will not be optimized because the dataset does not implement the AsGraphDefInternal() method needed to apply optimizations.\n"
     ]
    },
    {
     "name": "stdout",
     "output_type": "stream",
     "text": [
      "Epoch 1/10\n",
      "311/311 - 12s - 38ms/step - loss: 0.3001\n",
      "Epoch 2/10\n",
      "311/311 - 12s - 38ms/step - loss: 0.2956\n",
      "Epoch 3/10\n",
      "311/311 - 12s - 40ms/step - loss: 0.2960\n",
      "Epoch 4/10\n",
      "311/311 - 12s - 39ms/step - loss: 0.2958\n",
      "Epoch 5/10\n",
      "311/311 - 12s - 39ms/step - loss: 0.2955\n",
      "Epoch 6/10\n",
      "311/311 - 12s - 39ms/step - loss: 0.2955\n",
      "Epoch 7/10\n",
      "311/311 - 12s - 38ms/step - loss: 0.2960\n",
      "Epoch 8/10\n",
      "311/311 - 11s - 36ms/step - loss: 0.2961\n",
      "Epoch 9/10\n",
      "311/311 - 12s - 37ms/step - loss: 0.2956\n",
      "Epoch 10/10\n",
      "311/311 - 11s - 37ms/step - loss: 0.2947\n"
     ]
    },
    {
     "name": "stderr",
     "output_type": "stream",
     "text": [
      "2024-10-17 23:52:50.191131: I tensorflow/core/framework/local_rendezvous.cc:404] Local rendezvous is aborting with status: CANCELLED: GetNextFromShard was cancelled\n",
      "\t [[{{node MultiDeviceIteratorGetNextFromShard}}]]\n"
     ]
    },
    {
     "data": {
      "text/plain": [
       "<keras.src.callbacks.history.History at 0x17692b1a0>"
      ]
     },
     "execution_count": 24,
     "metadata": {},
     "output_type": "execute_result"
    }
   ],
   "source": [
    "#mx_submits_fe.reduce_dataframe_size()\n",
    "mx_submits_fe.train_autoencoder(10)"
   ]
  },
  {
   "cell_type": "code",
   "execution_count": 25,
   "id": "34241e6c-b424-4a02-8dbc-aa9e0f9652a4",
   "metadata": {},
   "outputs": [],
   "source": [
    "#mx_submits_fe.save_autoencoder(\"../output/model\")"
   ]
  },
  {
   "cell_type": "code",
   "execution_count": 26,
   "id": "a7e0add0-60f9-438f-8054-263f902f9c15",
   "metadata": {},
   "outputs": [],
   "source": [
    "#mx_submits_fe.load_autoencoder(\"../output/model\")"
   ]
  },
  {
   "cell_type": "code",
   "execution_count": 27,
   "id": "cc6a2623-73b0-46b4-978e-93e2d18085f5",
   "metadata": {},
   "outputs": [],
   "source": [
    "mx_submits_fe.create_procedure_feature_name_map()"
   ]
  },
  {
   "cell_type": "code",
   "execution_count": 28,
   "id": "dcd82acb-f399-4387-870c-ebb60674c401",
   "metadata": {},
   "outputs": [
    {
     "name": "stdout",
     "output_type": "stream",
     "text": [
      "\u001b[1m1/1\u001b[0m \u001b[32m━━━━━━━━━━━━━━━━━━━━\u001b[0m\u001b[37m\u001b[0m \u001b[1m0s\u001b[0m 37ms/step\n",
      "\u001b[1m16/16\u001b[0m \u001b[32m━━━━━━━━━━━━━━━━━━━━\u001b[0m\u001b[37m\u001b[0m \u001b[1m0s\u001b[0m 1ms/step \n",
      "\u001b[1m16/16\u001b[0m \u001b[32m━━━━━━━━━━━━━━━━━━━━\u001b[0m\u001b[37m\u001b[0m \u001b[1m0s\u001b[0m 1ms/step \n"
     ]
    },
    {
     "name": "stderr",
     "output_type": "stream",
     "text": [
      "2024-10-17 23:52:50.445754: W tensorflow/core/framework/dataset.cc:993] Input of GeneratorDatasetOp::Dataset will not be optimized because the dataset does not implement the AsGraphDefInternal() method needed to apply optimizations.\n",
      "2024-10-17 23:52:50.452524: I tensorflow/core/framework/local_rendezvous.cc:404] Local rendezvous is aborting with status: OUT_OF_RANGE: End of sequence\n",
      "\t [[{{node MultiDeviceIteratorGetNextFromShard}}]]\n",
      "2024-10-17 23:52:50.616399: I tensorflow/core/framework/local_rendezvous.cc:404] Local rendezvous is aborting with status: OUT_OF_RANGE: End of sequence\n",
      "\t [[{{node MultiDeviceIteratorGetNextFromShard}}]]\n"
     ]
    },
    {
     "name": "stdout",
     "output_type": "stream",
     "text": [
      "\u001b[1m16/16\u001b[0m \u001b[32m━━━━━━━━━━━━━━━━━━━━\u001b[0m\u001b[37m\u001b[0m \u001b[1m0s\u001b[0m 1ms/step \n",
      "\u001b[1m16/16\u001b[0m \u001b[32m━━━━━━━━━━━━━━━━━━━━\u001b[0m\u001b[37m\u001b[0m \u001b[1m0s\u001b[0m 1ms/step \n",
      "\u001b[1m16/16\u001b[0m \u001b[32m━━━━━━━━━━━━━━━━━━━━\u001b[0m\u001b[37m\u001b[0m \u001b[1m0s\u001b[0m 1ms/step \n",
      "\u001b[1m16/16\u001b[0m \u001b[32m━━━━━━━━━━━━━━━━━━━━\u001b[0m\u001b[37m\u001b[0m \u001b[1m0s\u001b[0m 1ms/step \n",
      "\u001b[1m16/16\u001b[0m \u001b[32m━━━━━━━━━━━━━━━━━━━━\u001b[0m\u001b[37m\u001b[0m \u001b[1m0s\u001b[0m 1ms/step \n",
      "\u001b[1m16/16\u001b[0m \u001b[32m━━━━━━━━━━━━━━━━━━━━\u001b[0m\u001b[37m\u001b[0m \u001b[1m0s\u001b[0m 1ms/step \n",
      "\u001b[1m 1/16\u001b[0m \u001b[32m━\u001b[0m\u001b[37m━━━━━━━━━━━━━━━━━━━\u001b[0m \u001b[1m0s\u001b[0m 21ms/step"
     ]
    },
    {
     "name": "stderr",
     "output_type": "stream",
     "text": [
      "2024-10-17 23:52:50.899641: I tensorflow/core/framework/local_rendezvous.cc:404] Local rendezvous is aborting with status: OUT_OF_RANGE: End of sequence\n",
      "\t [[{{node MultiDeviceIteratorGetNextFromShard}}]]\n"
     ]
    },
    {
     "name": "stdout",
     "output_type": "stream",
     "text": [
      "\u001b[1m16/16\u001b[0m \u001b[32m━━━━━━━━━━━━━━━━━━━━\u001b[0m\u001b[37m\u001b[0m \u001b[1m0s\u001b[0m 1ms/step \n",
      "\u001b[1m16/16\u001b[0m \u001b[32m━━━━━━━━━━━━━━━━━━━━\u001b[0m\u001b[37m\u001b[0m \u001b[1m0s\u001b[0m 1ms/step \n",
      "\u001b[1m16/16\u001b[0m \u001b[32m━━━━━━━━━━━━━━━━━━━━\u001b[0m\u001b[37m\u001b[0m \u001b[1m0s\u001b[0m 1ms/step \n",
      "\u001b[1m7/7\u001b[0m \u001b[32m━━━━━━━━━━━━━━━━━━━━\u001b[0m\u001b[37m\u001b[0m \u001b[1m0s\u001b[0m 1ms/step \n"
     ]
    },
    {
     "data": {
      "text/html": [
       "<div>\n",
       "<style scoped>\n",
       "    .dataframe tbody tr th:only-of-type {\n",
       "        vertical-align: middle;\n",
       "    }\n",
       "\n",
       "    .dataframe tbody tr th {\n",
       "        vertical-align: top;\n",
       "    }\n",
       "\n",
       "    .dataframe thead th {\n",
       "        text-align: right;\n",
       "    }\n",
       "</style>\n",
       "<table border=\"1\" class=\"dataframe\">\n",
       "  <thead>\n",
       "    <tr style=\"text-align: right;\">\n",
       "      <th></th>\n",
       "      <th>Feature Index</th>\n",
       "      <th>Impact</th>\n",
       "      <th>Feature Name</th>\n",
       "    </tr>\n",
       "  </thead>\n",
       "  <tbody>\n",
       "    <tr>\n",
       "      <th>0</th>\n",
       "      <td>0</td>\n",
       "      <td>0.140007</td>\n",
       "      <td>claim_total_charge_amount</td>\n",
       "    </tr>\n",
       "    <tr>\n",
       "      <th>1</th>\n",
       "      <td>53</td>\n",
       "      <td>0.136336</td>\n",
       "      <td>line_level_procedure_27447</td>\n",
       "    </tr>\n",
       "    <tr>\n",
       "      <th>2</th>\n",
       "      <td>44</td>\n",
       "      <td>0.133998</td>\n",
       "      <td>line_level_procedure_72070</td>\n",
       "    </tr>\n",
       "    <tr>\n",
       "      <th>3</th>\n",
       "      <td>39</td>\n",
       "      <td>0.130532</td>\n",
       "      <td>line_level_procedure_B4152</td>\n",
       "    </tr>\n",
       "    <tr>\n",
       "      <th>4</th>\n",
       "      <td>45</td>\n",
       "      <td>0.121880</td>\n",
       "      <td>line_level_procedure_33208</td>\n",
       "    </tr>\n",
       "    <tr>\n",
       "      <th>...</th>\n",
       "      <td>...</td>\n",
       "      <td>...</td>\n",
       "      <td>...</td>\n",
       "    </tr>\n",
       "    <tr>\n",
       "      <th>5719</th>\n",
       "      <td>4607</td>\n",
       "      <td>0.000507</td>\n",
       "      <td>line_level_procedure_00702</td>\n",
       "    </tr>\n",
       "    <tr>\n",
       "      <th>5720</th>\n",
       "      <td>5163</td>\n",
       "      <td>0.000505</td>\n",
       "      <td>line_level_procedure_15275</td>\n",
       "    </tr>\n",
       "    <tr>\n",
       "      <th>5721</th>\n",
       "      <td>3333</td>\n",
       "      <td>0.000500</td>\n",
       "      <td>line_level_procedure_84228</td>\n",
       "    </tr>\n",
       "    <tr>\n",
       "      <th>5722</th>\n",
       "      <td>3292</td>\n",
       "      <td>0.000496</td>\n",
       "      <td>line_level_procedure_3EC21</td>\n",
       "    </tr>\n",
       "    <tr>\n",
       "      <th>5723</th>\n",
       "      <td>2064</td>\n",
       "      <td>0.000483</td>\n",
       "      <td>line_level_procedure_86162</td>\n",
       "    </tr>\n",
       "  </tbody>\n",
       "</table>\n",
       "<p>5724 rows × 3 columns</p>\n",
       "</div>"
      ],
      "text/plain": [
       "      Feature Index    Impact                Feature Name\n",
       "0                 0  0.140007   claim_total_charge_amount\n",
       "1                53  0.136336  line_level_procedure_27447\n",
       "2                44  0.133998  line_level_procedure_72070\n",
       "3                39  0.130532  line_level_procedure_B4152\n",
       "4                45  0.121880  line_level_procedure_33208\n",
       "...             ...       ...                         ...\n",
       "5719           4607  0.000507  line_level_procedure_00702\n",
       "5720           5163  0.000505  line_level_procedure_15275\n",
       "5721           3333  0.000500  line_level_procedure_84228\n",
       "5722           3292  0.000496  line_level_procedure_3EC21\n",
       "5723           2064  0.000483  line_level_procedure_86162\n",
       "\n",
       "[5724 rows x 3 columns]"
      ]
     },
     "execution_count": 28,
     "metadata": {},
     "output_type": "execute_result"
    }
   ],
   "source": [
    "feature_impact = mx_submits_fe.evaluate_feature_impact()\n",
    "feature_impact"
   ]
  },
  {
   "cell_type": "code",
   "execution_count": 31,
   "id": "26f633c3-1f22-484a-8a4d-c668b0e13a8b",
   "metadata": {
    "scrolled": true
   },
   "outputs": [
    {
     "data": {
      "text/plain": [
       "['claim_total_charge_amount',\n",
       " 'line_level_procedure_27447',\n",
       " 'line_level_procedure_72070',\n",
       " 'line_level_procedure_B4152',\n",
       " 'line_level_procedure_33208',\n",
       " 'line_level_procedure_1123F',\n",
       " 'line_level_procedure_J1094',\n",
       " 'line_level_procedure_95117',\n",
       " 'line_level_procedure_A4332',\n",
       " 'line_level_procedure_72100',\n",
       " 'line_level_procedure_84100',\n",
       " 'line_level_procedure_99243',\n",
       " 'line_level_procedure_97014',\n",
       " 'line_level_procedure_T1015',\n",
       " 'line_level_procedure_J1644',\n",
       " 'line_level_procedure_74360',\n",
       " 'line_level_procedure_D0274',\n",
       " 'line_level_procedure_92002',\n",
       " 'line_level_procedure_97153',\n",
       " 'line_level_procedure_83002',\n",
       " 'line_level_procedure_82435',\n",
       " 'line_level_procedure_84132',\n",
       " 'line_level_procedure_84479',\n",
       " 'line_level_procedure_84439',\n",
       " 'line_level_procedure_99214',\n",
       " 'line_level_procedure_0241U',\n",
       " 'line_level_procedure_U0003',\n",
       " 'line_level_procedure_T4522',\n",
       " 'line_level_procedure_84153',\n",
       " 'line_level_procedure_74177',\n",
       " 'line_level_procedure_99285',\n",
       " 'line_level_procedure_51702',\n",
       " 'line_level_procedure_0SRE0JZ',\n",
       " 'line_level_procedure_C9803',\n",
       " 'line_level_procedure_86334',\n",
       " 'line_level_procedure_V2100',\n",
       " 'line_level_procedure_87045',\n",
       " 'line_level_procedure_99462',\n",
       " 'line_level_procedure_1220F',\n",
       " 'line_level_procedure_76000',\n",
       " 'line_level_procedure_G0494',\n",
       " 'line_level_procedure_87506',\n",
       " 'line_level_procedure_W1793',\n",
       " 'line_level_procedure_G0153',\n",
       " 'line_level_procedure_1000F',\n",
       " 'line_level_procedure_17003',\n",
       " 'line_level_procedure_80334',\n",
       " 'line_level_procedure_80326',\n",
       " 'line_level_procedure_84133',\n",
       " 'line_level_procedure_11423',\n",
       " 'line_level_procedure_S9083',\n",
       " 'line_level_procedure_87591',\n",
       " 'line_level_procedure_80366',\n",
       " 'line_level_procedure_73630',\n",
       " nan,\n",
       " 'line_level_procedure_90715',\n",
       " 'line_level_procedure_J9206',\n",
       " 'line_level_procedure_62323',\n",
       " 'line_level_procedure_93978',\n",
       " 'line_level_procedure_93459',\n",
       " 'line_level_procedure_93971',\n",
       " 'line_level_procedure_97165',\n",
       " 'line_level_procedure_95004',\n",
       " 'line_level_procedure_G2023',\n",
       " 'line_level_procedure_00790',\n",
       " 'line_level_procedure_G0009',\n",
       " 'line_level_procedure_H0022',\n",
       " 'line_level_procedure_43245',\n",
       " 'line_level_procedure_G0204',\n",
       " 'line_level_procedure_A4424',\n",
       " 'line_level_procedure_99343',\n",
       " 'line_level_procedure_96361',\n",
       " 'line_level_procedure_G0181',\n",
       " 'line_level_procedure_11720',\n",
       " 'line_level_procedure_G0101',\n",
       " 'line_level_procedure_A4239',\n",
       " 'line_level_procedure_99177',\n",
       " 'line_level_procedure_28510',\n",
       " 'line_level_procedure_99305',\n",
       " 'line_level_procedure_59425',\n",
       " 'line_level_procedure_00910',\n",
       " 'line_level_procedure_26615',\n",
       " 'line_level_procedure_90707',\n",
       " 'line_level_procedure_86304',\n",
       " 'line_level_procedure_66985',\n",
       " 'line_level_procedure_00812',\n",
       " 'line_level_procedure_87430',\n",
       " 'line_level_procedure_99441',\n",
       " 'line_level_procedure_11200',\n",
       " 'line_level_procedure_G0008',\n",
       " 'line_level_procedure_J9035',\n",
       " 'line_level_procedure_83921',\n",
       " 'line_level_procedure_99203',\n",
       " 'line_level_procedure_99349',\n",
       " 'line_level_procedure_Q0514',\n",
       " 'line_level_procedure_85027',\n",
       " 'line_level_procedure_A0100',\n",
       " 'line_level_procedure_92507',\n",
       " 'line_level_procedure_E0601',\n",
       " 'line_level_procedure_A6530',\n",
       " 'line_level_procedure_90999',\n",
       " 'line_level_procedure_J1040',\n",
       " 'line_level_procedure_J1790',\n",
       " 'line_level_procedure_82607',\n",
       " 'line_level_procedure_87880',\n",
       " 'line_level_procedure_72157',\n",
       " 'line_level_procedure_S0209',\n",
       " 'line_level_procedure_42820',\n",
       " 'line_level_procedure_80305',\n",
       " 'line_level_procedure_00731',\n",
       " 'line_level_procedure_05UY07Z',\n",
       " 'line_level_procedure_96377',\n",
       " 'line_level_procedure_G8982',\n",
       " 'line_level_procedure_64480',\n",
       " 'line_level_procedure_K0462',\n",
       " 'line_level_procedure_83970',\n",
       " 'line_level_procedure_G8422',\n",
       " 'line_level_procedure_20550',\n",
       " 'line_level_procedure_3075F',\n",
       " 'line_level_procedure_91300',\n",
       " 'line_level_procedure_76641',\n",
       " 'line_level_procedure_A4283',\n",
       " 'line_level_procedure_J2370',\n",
       " 'line_level_procedure_E0431',\n",
       " 'line_level_procedure_71020',\n",
       " 'line_level_procedure_85379',\n",
       " 'line_level_procedure_73060',\n",
       " 'line_level_procedure_73600',\n",
       " 'line_level_procedure_H0036',\n",
       " 'line_level_procedure_98940',\n",
       " 'line_level_procedure_G8432',\n",
       " 'line_level_procedure_83631',\n",
       " 'line_level_procedure_76705',\n",
       " 'line_level_procedure_82274',\n",
       " 'line_level_procedure_97140',\n",
       " 'line_level_procedure_E1390',\n",
       " 'line_level_procedure_92550',\n",
       " 'line_level_procedure_G0279',\n",
       " 'line_level_procedure_99497',\n",
       " 'line_level_procedure_99100',\n",
       " 'line_level_procedure_88312',\n",
       " 'line_level_procedure_A7030',\n",
       " 'line_level_procedure_27590',\n",
       " 'line_level_procedure_87426',\n",
       " 'line_level_procedure_99606',\n",
       " 'line_level_procedure_76813',\n",
       " 'line_level_procedure_J3010',\n",
       " 'line_level_procedure_83690',\n",
       " 'line_level_procedure_L1902',\n",
       " 'line_level_procedure_99205',\n",
       " 'line_level_procedure_95978',\n",
       " 'line_level_procedure_J3260',\n",
       " 'line_level_procedure_1CGL1',\n",
       " 'line_level_procedure_83655',\n",
       " 'line_level_procedure_3288F',\n",
       " 'line_level_procedure_82962',\n",
       " 'line_level_procedure_90460',\n",
       " 'line_level_procedure_G8987',\n",
       " 'line_level_procedure_30233N1',\n",
       " 'line_level_procedure_20551',\n",
       " 'line_level_procedure_99211',\n",
       " 'line_level_procedure_0HPT0JZ',\n",
       " 'line_level_procedure_71100',\n",
       " 'line_level_procedure_3049F',\n",
       " 'line_level_procedure_85730',\n",
       " 'line_level_procedure_J2765',\n",
       " 'line_level_procedure_83880',\n",
       " 'line_level_procedure_99457',\n",
       " 'line_level_procedure_J7120',\n",
       " 'line_level_procedure_82330',\n",
       " 'line_level_procedure_82947',\n",
       " 'line_level_procedure_93295',\n",
       " 'line_level_procedure_W1760',\n",
       " 'line_level_procedure_94726',\n",
       " 'line_level_procedure_88104',\n",
       " 'line_level_procedure_99476',\n",
       " 'line_level_procedure_96156',\n",
       " 'line_level_procedure_3079F',\n",
       " 'line_level_procedure_G8400',\n",
       " 'line_level_procedure_01810',\n",
       " 'line_level_procedure_G0439',\n",
       " 'line_level_procedure_99213',\n",
       " 'line_level_procedure_80050',\n",
       " 'line_level_procedure_84520',\n",
       " 'line_level_procedure_71260',\n",
       " 'line_level_procedure_80076',\n",
       " 'line_level_procedure_93224',\n",
       " 'line_level_procedure_G8979',\n",
       " 'line_level_procedure_D0330',\n",
       " 'line_level_procedure_95251',\n",
       " 'line_level_procedure_E0562',\n",
       " 'line_level_procedure_31231',\n",
       " 'line_level_procedure_G6012',\n",
       " 'line_level_procedure_00630',\n",
       " 'line_level_procedure_99393',\n",
       " 'line_level_procedure_J9305',\n",
       " 'line_level_procedure_73560',\n",
       " 'line_level_procedure_H2020',\n",
       " 'line_level_procedure_G8430',\n",
       " 'line_level_procedure_87563',\n",
       " 'line_level_procedure_99468',\n",
       " 'line_level_procedure_A0428',\n",
       " 'line_level_procedure_Z7610',\n",
       " 'line_level_procedure_J9070',\n",
       " 'line_level_procedure_45385',\n",
       " 'line_level_procedure_96375',\n",
       " 'line_level_procedure_99140',\n",
       " 'line_level_procedure_0DJD8ZZ',\n",
       " 'line_level_procedure_99382',\n",
       " 'line_level_procedure_J0696',\n",
       " 'line_level_procedure_1CHM3',\n",
       " 'line_level_procedure_L3216',\n",
       " 'line_level_procedure_A0429',\n",
       " 'line_level_procedure_87088',\n",
       " 'line_level_procedure_G8998',\n",
       " 'line_level_procedure_S0612',\n",
       " 'line_level_procedure_64415',\n",
       " 'line_level_procedure_85018',\n",
       " 'line_level_procedure_99233',\n",
       " 'line_level_procedure_77014',\n",
       " 'line_level_procedure_90734',\n",
       " 'line_level_procedure_11055',\n",
       " 'line_level_procedure_80164',\n",
       " 'line_level_procedure_45380',\n",
       " 'line_level_procedure_88342',\n",
       " 'line_level_procedure_G8732',\n",
       " 'line_level_procedure_0D758DZ',\n",
       " 'line_level_procedure_00537',\n",
       " 'line_level_procedure_20605',\n",
       " 'line_level_procedure_2001F',\n",
       " 'line_level_procedure_86813',\n",
       " 'line_level_procedure_J2785',\n",
       " 'line_level_procedure_87660',\n",
       " 'line_level_procedure_92941',\n",
       " 'line_level_procedure_92700',\n",
       " 'line_level_procedure_95923',\n",
       " 'line_level_procedure_BW251ZZ',\n",
       " 'line_level_procedure_83721',\n",
       " 'line_level_procedure_00160',\n",
       " 'line_level_procedure_90672',\n",
       " 'line_level_procedure_S0316',\n",
       " 'line_level_procedure_L3982',\n",
       " 'line_level_procedure_S9124',\n",
       " 'line_level_procedure_G0180',\n",
       " 'line_level_procedure_97155',\n",
       " 'line_level_procedure_L5960',\n",
       " 'line_level_procedure_86580',\n",
       " 'line_level_procedure_13132',\n",
       " 'line_level_procedure_4400F',\n",
       " 'line_level_procedure_93227',\n",
       " 'line_level_procedure_P9604',\n",
       " 'line_level_procedure_G0127',\n",
       " 'line_level_procedure_J2919',\n",
       " 'line_level_procedure_T4521',\n",
       " 'line_level_procedure_97163',\n",
       " 'line_level_procedure_82310',\n",
       " 'line_level_procedure_74420',\n",
       " 'line_level_procedure_30300',\n",
       " 'line_level_procedure_84156',\n",
       " 'line_level_procedure_11102',\n",
       " 'line_level_procedure_82085',\n",
       " 'line_level_procedure_J1100',\n",
       " 'line_level_procedure_96161',\n",
       " 'line_level_procedure_56820',\n",
       " 'line_level_procedure_84134',\n",
       " 'line_level_procedure_93976',\n",
       " 'line_level_procedure_0BTF4ZZ',\n",
       " 'line_level_procedure_95819',\n",
       " 'line_level_procedure_72197',\n",
       " 'line_level_procedure_T1019',\n",
       " 'line_level_procedure_11900',\n",
       " 'line_level_procedure_90791',\n",
       " 'line_level_procedure_84295',\n",
       " 'line_level_procedure_81511',\n",
       " 'line_level_procedure_4013F',\n",
       " 'line_level_procedure_J7506',\n",
       " 'line_level_procedure_93926',\n",
       " 'line_level_procedure_82010',\n",
       " 'line_level_procedure_77067',\n",
       " 'line_level_procedure_98972',\n",
       " 'line_level_procedure_0FT44ZZ',\n",
       " 'line_level_procedure_74247',\n",
       " 'line_level_procedure_J7030',\n",
       " 'line_level_procedure_3060F',\n",
       " 'line_level_procedure_T4533',\n",
       " 'line_level_procedure_S9088',\n",
       " 'line_level_procedure_0TQB0ZZ',\n",
       " 'line_level_procedure_A7038',\n",
       " 'line_level_procedure_82627',\n",
       " 'line_level_procedure_A0426',\n",
       " 'line_level_procedure_G2024',\n",
       " 'line_level_procedure_G2066',\n",
       " 'line_level_procedure_G8918',\n",
       " 'line_level_procedure_99387',\n",
       " 'line_level_procedure_90473',\n",
       " 'line_level_procedure_S2900',\n",
       " 'line_level_procedure_7025F',\n",
       " 'line_level_procedure_3077F',\n",
       " 'line_level_procedure_G8417',\n",
       " 'line_level_procedure_64718',\n",
       " 'line_level_procedure_97112',\n",
       " 'line_level_procedure_96136']"
      ]
     },
     "execution_count": 31,
     "metadata": {},
     "output_type": "execute_result"
    }
   ],
   "source": [
    "feature_impact[\"Feature Name\"].to_list()[:302]"
   ]
  },
  {
   "cell_type": "code",
   "execution_count": 30,
   "id": "919bfe82-6d9f-4012-a9e4-e731efd3ea78",
   "metadata": {},
   "outputs": [],
   "source": [
    "# mx_submits_fe.retain_columns(features_cols+[label_column])"
   ]
  },
  {
   "cell_type": "code",
   "execution_count": null,
   "id": "d7a32915-4bc4-473d-b5b9-dc2450dff4c4",
   "metadata": {},
   "outputs": [],
   "source": []
  }
 ],
 "metadata": {
  "kernelspec": {
   "display_name": "Python 3 (ipykernel)",
   "language": "python",
   "name": "python3"
  },
  "language_info": {
   "codemirror_mode": {
    "name": "ipython",
    "version": 3
   },
   "file_extension": ".py",
   "mimetype": "text/x-python",
   "name": "python",
   "nbconvert_exporter": "python",
   "pygments_lexer": "ipython3",
   "version": "3.12.0"
  }
 },
 "nbformat": 4,
 "nbformat_minor": 5
}
